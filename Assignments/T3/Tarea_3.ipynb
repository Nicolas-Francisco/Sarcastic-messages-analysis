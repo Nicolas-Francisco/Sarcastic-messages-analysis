{
  "nbformat": 4,
  "nbformat_minor": 0,
  "metadata": {
    "anaconda-cloud": {},
    "colab": {
      "name": "Tarea 3.ipynb",
      "provenance": [],
      "collapsed_sections": [],
      "toc_visible": true
    },
    "hide_input": false,
    "kernelspec": {
      "display_name": "Python 3",
      "language": "python",
      "name": "python3"
    },
    "language_info": {
      "codemirror_mode": {
        "name": "ipython",
        "version": 3
      },
      "file_extension": ".py",
      "mimetype": "text/x-python",
      "name": "python",
      "nbconvert_exporter": "python",
      "pygments_lexer": "ipython3",
      "version": "3.8.3"
    },
    "toc": {
      "base_numbering": 1,
      "nav_menu": {},
      "number_sections": true,
      "sideBar": true,
      "skip_h1_title": false,
      "title_cell": "Table of Contents",
      "title_sidebar": "Contents",
      "toc_cell": false,
      "toc_position": {},
      "toc_section_display": true,
      "toc_window_display": false
    },
    "varInspector": {
      "cols": {
        "lenName": 16,
        "lenType": 16,
        "lenVar": 40
      },
      "kernels_config": {
        "python": {
          "delete_cmd_postfix": "",
          "delete_cmd_prefix": "del ",
          "library": "var_list.py",
          "varRefreshCmd": "print(var_dic_list())"
        },
        "r": {
          "delete_cmd_postfix": ") ",
          "delete_cmd_prefix": "rm(",
          "library": "var_list.r",
          "varRefreshCmd": "cat(var_dic_list()) "
        }
      },
      "types_to_exclude": [
        "module",
        "function",
        "builtin_function_or_method",
        "instance",
        "_Feature"
      ],
      "window_display": false
    }
  },
  "cells": [
    {
      "cell_type": "markdown",
      "metadata": {
        "id": "p_XcuC2rXQWb",
        "pycharm": {}
      },
      "source": [
        "# Tarea 3: Clasificacion II + Clustering\n",
        "\n",
        "**Autores:** Felipe Bravo, Bárbara Poblete, Hernan Sarmiento, Aymé Arango, Alison Fernandez, Ignacio Meza, Cinthia Mabel Sánchez, Gabriel Ramos\n",
        "\n",
        "**Fecha:** Mayo 2021"
      ]
    },
    {
      "cell_type": "code",
      "metadata": {
        "colab": {
          "base_uri": "https://localhost:8080/"
        },
        "id": "mteY74078mou",
        "outputId": "83c45472-5819-45cb-bbd5-ebee0fda86c7"
      },
      "source": [
        "%%shell\n",
        "jupyter nbconvert --to html /content/Tarea_3.ipynb"
      ],
      "execution_count": 322,
      "outputs": [
        {
          "output_type": "stream",
          "text": [
            "[NbConvertApp] Converting notebook /content/Tarea_3.ipynb to html\n",
            "[NbConvertApp] Writing 607131 bytes to /content/Tarea_3.html\n"
          ],
          "name": "stdout"
        },
        {
          "output_type": "execute_result",
          "data": {
            "text/plain": [
              ""
            ]
          },
          "metadata": {
            "tags": []
          },
          "execution_count": 322
        }
      ]
    },
    {
      "cell_type": "markdown",
      "metadata": {
        "heading_collapsed": true,
        "id": "RvarrC_jXQWe",
        "pycharm": {}
      },
      "source": [
        "## ============= Declaración de compromiso ético =============\n",
        "\n",
        "Nosotros ****Javier Lavados y Nicolas García****, declaramos que realizamos de manera grupal los pasos de la presente actividad. También declaramos no incurrir en copia, ni compartir nuestras respuestas con otras personas ni con otros grupos. Por lo que, ratificamos que las respuestas son de nuestra propia confección y reflejan nuestro propio conocimiento.\n"
      ]
    },
    {
      "cell_type": "markdown",
      "metadata": {
        "heading_collapsed": true,
        "id": "bxEPucKhXQWg",
        "pycharm": {}
      },
      "source": [
        "# Instrucciones\n",
        "\n",
        "\n",
        "1. Trabajen en equipos de dos o tres personas. Salvo excepciones, no se corregirá entregas con menos de dos integrantes.\n",
        "\n",
        "2. Modifique este archivo `.ipynb` agregando sus respuestas donde corresponda. \n",
        "\n",
        "3. Cuando finalice el laboratorio, **genere un archivo HTML** usando jupyter (ver tutorial 2) y súbalo a U-Cursos. El laboratorio debe ser entregado sólo por 1 integrante. Si se entrega por más de un integrante, se revisará cualquiera de éstos."
      ]
    },
    {
      "cell_type": "markdown",
      "metadata": {
        "heading_collapsed": true,
        "id": "SMUzxXj7XQWi",
        "pycharm": {}
      },
      "source": [
        "# Estructura de la tarea\n",
        "\n",
        "Esta tarea consiste en 3 partes. La primera son preguntas teóricas en las que no necesita escribir código y corresponden a materia vista en clases. La segunda es una sección introductoria para familiarizarse con métodos de clustering. Finalmente la tercera parte es un problema abierto de clasificación donde deberá usar todos los conocimientos que ha adquirido en el curso hasta este momento. Esos conocimientos incluyen exploración de datos, limpieza, entrenamiento de modelos, selección y evaluación."
      ]
    },
    {
      "cell_type": "markdown",
      "metadata": {
        "id": "BUK5vAG9fHXq"
      },
      "source": [
        "# Parte 1: Teoría\n"
      ]
    },
    {
      "cell_type": "markdown",
      "metadata": {
        "id": "c2stuWVkQwg4"
      },
      "source": [
        "\n",
        "\n",
        "**1.** Explique para qué se usan variables de holgura en el problema de optimización de la SVM. "
      ]
    },
    {
      "cell_type": "markdown",
      "metadata": {
        "id": "XmUHE93jQvNp"
      },
      "source": [
        ">Respuesta:\n",
        ">\n",
        ">El problema de optimización de la SVM es que el margen del límite de desición del hiperplano sea maximal. El problema es que el dataset puede contener outliers, ruido, o un márgen no trivial, por lo que exigir un margen perfecto es totalmente irreal. Para solucionar esto podemos añadir variables de holgura $\\xi$ (en la llamada SVM de márgen suave), la cuál relaje las condiciones de optimización y que permita una cantidad de errores razonable. \n"
      ]
    },
    {
      "cell_type": "markdown",
      "metadata": {
        "id": "sn0lGmALQlVT"
      },
      "source": [
        "**2.** John Doe, un consultor en minería de datos, argumenta lo siguiente: lo malo de las SVMs es que para que encuentren límites de decisión no lineales tengo que proyectarlas manualmente a más dimensiones con una función $\\phi(x)$ que tengo que diseñar de manera manual. Esto hace que todo sea mucho más caro computacionalmente pues todas las operaciones las tengo que hacer sobre el espacio transformado. Discuta el argumento de John Doe."
      ]
    },
    {
      "cell_type": "markdown",
      "metadata": {
        "id": "sdt8hUz8Qz5R"
      },
      "source": [
        ">Respuesta:\n",
        ">\n",
        ">Pese a que John Doe tiene razón respecto al costo de calcular una SVM no lineal, esto puede alivianarse usando el llamado *Kernel Trick*. La idea del *Kernel Trick* es calcular el producto punto del espacio trasformado ($\\phi (x)ϕ(z)$) inmediatamente y no por separado, con el fin de reducir el costo computacional."
      ]
    },
    {
      "cell_type": "markdown",
      "metadata": {
        "id": "YYE74-MqQnfD"
      },
      "source": [
        "\n",
        "\n",
        "**3.** Usando un clasificador Naive Bayes con Laplace Smoothing entrenado con los datos de la tabla de más abajo, clasifique el siguiente ejemplo a la clase Evade: **[Refund= YES, Marital Status = Divorced]**.\n",
        "\n",
        "Hint: Tiene que comparar P(Evade=Yes | datos) vs P(Evade=No|datos). Muestre todos sus cálculos.\n",
        "\n",
        "Refund | Marital Status | Evade\n",
        "--- | --- | ---\n",
        "YES | Single | NO\n",
        "NO | Married | NO\n",
        "NO | Single | NO\n",
        "YES | Married | NO\n",
        "NO | Divorced | YES\n",
        "NO | Married | NO\n",
        "YES | Divorced | NO\n",
        "NO | Single | YES\n",
        "NO | Married | NO\n",
        "NO | Single | YES"
      ]
    },
    {
      "cell_type": "markdown",
      "metadata": {
        "id": "r0wUrzxqRHKp"
      },
      "source": [
        ">Respuesta:\n",
        ">\n",
        ">La idea del clasificador Naive Bayes es encontrar la clase C que maximiza $P(C|A_1, A_2, ..., A_n)$. Por lo que clasificar [Refund = YES, Marital Status = Divorced] a la clase *Evade* debe verificar $P(Evade=Yes | Refund=YES, Marital Status=Divorced)$ y $P(Evade=NO | Refund=YES, Marital Status=Divorced)$:\n",
        ">Usando el Teorema de Bayes:\n",
        ">$$P(Evade=Yes | Refund=Yes, Marital Status=D) = \\frac{P(Refund=Yes, MaritalStatus=Divorced| Evade=Yes) * P(Evade=Yes)}{P(Refund=Yes, MaritalStatus=Divorced)}$$\n",
        ">\n",
        ">Asumiendo que son independientes\n",
        ">\n",
        ">$$= \\frac{P(Refund=Yes| Evade=Yes) * P(MaritalStatus=Divorced| E=Yes) * P(Evade=Yes)}{P(Refund=Yes, MaritalStatus=Divorced)}$$\n",
        ">\n",
        ">Luego tenemos que\n",
        ">\n",
        ">$$= \\frac{P(Refund=Yes| Evade=Yes) * P(MaritalStatus=Divorced| E=Yes) * P(Evade=Yes)}{P(Refund=Yes, MaritalStatus=Divorced | Evade=Yes) * P(Evade=Yes) + P(Refund=Yes, MaritalStatus=Divorced| Evade=No) * P(Evade=No)}$$\n",
        ">\n",
        ">Asumiendo que son independencia otra vez\n",
        ">\n",
        ">$$= \\frac{P(Refund=Yes| Evade=Yes) * P(MaritalStatus=Divorced| Evade=Yes) * P(Evade=Yes)}{P(Refund=Yes| Evade=Yes) * P(MaritalStatus=Divorced| Evade=Yes) * P(Evade=Yes) + P(Refund=Yes| Evade=No) * P(MaritalStatus=Divorced| Evade=No) * P(Evade=No)}$$\n",
        ">\n",
        ">Dado que hay probabilidades con valores, usaremos *Laplace Smoothing* con $\\alpha = 1$ para calcular las probabilidades:\n",
        ">$$P(A_i = b | C_k) = \\frac{Count(A_{ik} = b) + 1}{Count(C_k) + Values(A_i)}$$\n",
        ">\n",
        ">Donde se obtienen los siguientes resultados:\n",
        ">\n",
        ">$P(Evade=Yes)$ = $\\frac{4}{12}$ = $\\frac{1}{3}$\n",
        ">\n",
        ">$P(Evade=No)$ = $\\frac{8}{12}$ = $\\frac{2}{3}$\n",
        ">\n",
        ">$P(Refund=Yes|Evade=Yes)$ = $\\frac{1}{5}$\n",
        ">\n",
        ">$P(Refund=No| Evade=Yes)$ = $\\frac{4}{5}$\n",
        ">\n",
        ">$P(Refund=Yes| Evade=No)$ = $\\frac{4}{9}$\n",
        ">\n",
        ">$P(Refund=No| Evade=No)$ = $\\frac{5}{9}$\n",
        ">\n",
        ">$P(MaritalStatus=Single| Evade=Yes)$ = $\\frac{3}{6}$ = $\\frac{1}{2}$\n",
        ">\n",
        ">$P(MaritalStatus=Married| E=Yes)$ = $\\frac{1}{6}$\n",
        ">\n",
        ">$P(MaritalStatus=Divorced| Evade=Yes)$ = $\\frac{2}{6}$ = $\\frac{1}{3}$\n",
        ">\n",
        ">$P(MaritalStatus=Single| Evade=No)$ = $\\frac{3}{10}$\n",
        ">\n",
        ">$P(MaritalStatus=Married| Evade=No)$ = $\\frac{5}{10}$ = $\\frac{1}{2}$\n",
        ">\n",
        ">$P(MaritalStatus=Divorced| Evade=No)$ = $\\frac{2}{10}$ = $\\frac{1}{5}$\n",
        ">\n",
        ">Finalmente la probabilidad buscada será:\n",
        ">\n",
        ">$$= \\frac{1/5 * 1/3 * 1/3}{1/5 * 1/3 * 1/3 + 4/9 * 1/5 * 2/3}$$ \n",
        ">\n",
        ">$$= \\frac{3}{11}$$\n",
        ">\n",
        ">Y podemos calcular igualmente\n",
        ">$$P(Evade=No | Refund=Yes, MaritalStatus=Divorced) = \\frac{P(Refund=Yes, MaritalStatus=Divorced| Evade=No) * P(Evade=No)}{P(Refund=Yes, MaritalStatus=Divorced)} = \\frac{8}{11}$$\n",
        ">\n",
        ">Sigue que\n",
        ">$$P(Evade=Yes | Refund=Yes, MaritalStatus=Divorced) = \\frac{3}{11}$$\n",
        ">\n",
        ">$$P(Evade=No | Refund=Yes, MaritalStatus=Divorced) = \\frac{8}{11}$$\n"
      ]
    },
    {
      "cell_type": "markdown",
      "metadata": {
        "id": "Ilyrc9pOQo_D"
      },
      "source": [
        "**4.** Explique cómo bisecting k-mean soluciona el problema de la inicialización de centroides de k-means."
      ]
    },
    {
      "cell_type": "markdown",
      "metadata": {
        "id": "UoqOWIh-RJXP"
      },
      "source": [
        ">Respuesta:\n",
        ">\n",
        ">K-Means es muy susceptible a los errores de inicialización de los k centroides, ya que el algoritmo de *K-means* recalcula los centroides a partir de las asignaciones iniciales del mismo. Es por esto que la extensión *Bisecting k-mean* busca primero dividir el conjunto de todos los puntos en dos clusters, para luego elegir uno de los subclusters para ser dividido e iterar hasta producir los k clusters. Lo anterior garantiza una buena inicialización de clusters y reduce enormemente los errores de clasificación de clusters."
      ]
    },
    {
      "cell_type": "markdown",
      "metadata": {
        "id": "1L_jfMRXQqEI"
      },
      "source": [
        "**5.** Explique cómo encontrar outliers en los siguientes métodos de clustering:\n",
        "* K-Means\n",
        "* Clustering Jerarquico Aglomerativo"
      ]
    },
    {
      "cell_type": "markdown",
      "metadata": {
        "id": "VCaOS0kvRM9P"
      },
      "source": [
        ">Respuesta:\n",
        ">\n",
        ">Dado que *K-Means* es suceptible a outliers, es probable que un valor muy fuera de rango 'corra' el centroide de un cluster visible a un lugar fuera de este. Lo anterior tiene un alto valor de SSE, por lo que basta notar puntos muy alejados de un cluster para identificarlo como un outlier.\n",
        ">\n",
        ">Por otro lado, dado que el *Clustering Jerarquico Aglomerativo* une los clusters más cercanos para crear uno único, los outliers podrían dividir un cluster de gran tamaño hacia un outlier. Esto lleva a que la distancia promedio del cluster del outlier sea mayor a lo normal, pudiendo descartarse fácilmente."
      ]
    },
    {
      "cell_type": "markdown",
      "metadata": {
        "id": "ZyPaLTrxQsSH"
      },
      "source": [
        "**6.** Describa una ventaja y desventaja de los siguientes métodos de clustering:\n",
        "* K-Means\n",
        "* Clustering Jerarquico Aglomerativo"
      ]
    },
    {
      "cell_type": "markdown",
      "metadata": {
        "id": "MaScQlZ1RRI7"
      },
      "source": [
        ">Respuesta:\n",
        ">\n",
        ">**K-Means**\n",
        ">Una ventaja de K-Means es que es el método de clustering más sencillo e intuitivo. Pero una desventaja es que este necesita de un k dado que puede que no sea el óptimo dependiendo del dataset.\n",
        ">\n",
        ">**Clustering Jerarquico Aglomerativo**\n",
        "Una ventaja es que puede ser muy robusto a outliers si se usa el cálculo de distancia entre centroides *MAX*, y que puede reconocer grupos no esféricos si se utiliza *MIN*. Pero una desventaja es que si se usa *MAX* dejamos afuera grupos no esféricos, y si se usa *MIN* somos suceptibles a outliers."
      ]
    },
    {
      "cell_type": "markdown",
      "metadata": {
        "id": "xKpPq8w1QtQ3"
      },
      "source": [
        "**7.** En DBSCAN el parametro `eps` es crucial para obtener buenos clusters. Explique una forma de encontar el valor de `eps`."
      ]
    },
    {
      "cell_type": "markdown",
      "metadata": {
        "id": "sRASCByXRT98"
      },
      "source": [
        ">Respuesta:\n",
        ">\n",
        ">Para encontrar el valor óptimo de *esp* es necesario ver como se comporta la distancia existente entre cada punto y su k-ésimo vecino más cercano. La distancia existente entre estos se denomina *k-dist*, los cuales al graficar podremos apreciar que la curva en la gráfica aumentará su pendiente de forma drástica. Ese punto de crecimiento exponencial corresponde justamente al valor óptimo de *esp*"
      ]
    },
    {
      "cell_type": "markdown",
      "metadata": {
        "id": "zDrw4AiZQuFx"
      },
      "source": [
        "**8.** Evaluar clusters no es una tarea fácil. Qué formas de evaluar clusters conoce? Nombre 3 formas de validación y describa cómo podría determinar si los cluters son buenos o malos usando cada una de las formas nombradas."
      ]
    },
    {
      "cell_type": "markdown",
      "metadata": {
        "id": "MDJCap67RV06"
      },
      "source": [
        ">Respuesta:\n",
        ">\n",
        ">**Matriz de similitud**\n",
        ">\n",
        ">Son matrices que permiten visualizar la cercanía de los puntos pertenecientes a un mismo cluster y la lejanía de los puntos de un cluster distinto. Un clustering tiene un buen desempeño si es que en la diagonal de la matriz los valores son cercanos a 0.\n",
        ">\n",
        ">\n",
        ">**Coeficiente de Silhouette**\n",
        ">\n",
        ">Este coeficiente calcula para cada punto un valor de asignación entre -1 y 1, donde 1 significa que el punto está bien asignado, -1 que el punto está mal asignado porque hay otro cluster más similar, y 0 que hay solapamiento de clusters. Así podemos chequear con el valor del coeficiente si algoritmo para el conjunto de datos es bueno o no.\n",
        ">\n",
        ">\n",
        ">**Validación con expertos**\n",
        ">\n",
        ">Consultar con expertos es otra forma de evaluar si los clusters generados por el algoritmo de clustering producen un resultado esperado o no, ya que son capaces de identificar patrones específicos, resultados inesperados, etc."
      ]
    },
    {
      "cell_type": "markdown",
      "metadata": {
        "id": "huukwudDfS-f"
      },
      "source": [
        "# Parte 2: Clustering"
      ]
    },
    {
      "cell_type": "markdown",
      "metadata": {
        "id": "jTuloXfOjXak"
      },
      "source": [
        "Para esta parte usaremos el dataset de cantidad de denuncias por 100 mil habitantes por tipo de delito desde el año 2001 al 2016 en Chile (Fuente: http://www.seguridadpublica.gov.cl/estadisticas/tasa-de-denuncias-y-detenciones/delitos-de-mayor-connotacion-social-series-de-datos-2001-2017/).\n",
        "\n",
        "Ejecute el siguiete código para cargar el dataset:"
      ]
    },
    {
      "cell_type": "code",
      "metadata": {
        "id": "StooikhfjZLp",
        "colab": {
          "base_uri": "https://localhost:8080/",
          "height": 399
        },
        "outputId": "a53fa0fc-dc84-4071-fa31-dbc835015a9d"
      },
      "source": [
        "import pandas as pd\n",
        "import numpy as np\n",
        "\n",
        "dataframe = pd.read_csv(\"https://users.dcc.uchile.cl/~hsarmien/mineria/datasets/denuncias-2001-2016.txt\", sep=\" \")\n",
        "dataframe"
      ],
      "execution_count": 266,
      "outputs": [
        {
          "output_type": "execute_result",
          "data": {
            "text/html": [
              "<div>\n",
              "<style scoped>\n",
              "    .dataframe tbody tr th:only-of-type {\n",
              "        vertical-align: middle;\n",
              "    }\n",
              "\n",
              "    .dataframe tbody tr th {\n",
              "        vertical-align: top;\n",
              "    }\n",
              "\n",
              "    .dataframe thead th {\n",
              "        text-align: right;\n",
              "    }\n",
              "</style>\n",
              "<table border=\"1\" class=\"dataframe\">\n",
              "  <thead>\n",
              "    <tr style=\"text-align: right;\">\n",
              "      <th></th>\n",
              "      <th>comuna</th>\n",
              "      <th>anio</th>\n",
              "      <th>homicidios</th>\n",
              "      <th>hurtos</th>\n",
              "      <th>robo_lugar</th>\n",
              "      <th>robo_sorpresa</th>\n",
              "      <th>robo_vehiculo</th>\n",
              "      <th>robo_violencia</th>\n",
              "      <th>violacion</th>\n",
              "    </tr>\n",
              "  </thead>\n",
              "  <tbody>\n",
              "    <tr>\n",
              "      <th>1</th>\n",
              "      <td>Arica</td>\n",
              "      <td>2001</td>\n",
              "      <td>1.6</td>\n",
              "      <td>370.3</td>\n",
              "      <td>NaN</td>\n",
              "      <td>9.5</td>\n",
              "      <td>NaN</td>\n",
              "      <td>107.2</td>\n",
              "      <td>16.4</td>\n",
              "    </tr>\n",
              "    <tr>\n",
              "      <th>2</th>\n",
              "      <td>Arica</td>\n",
              "      <td>2002</td>\n",
              "      <td>1.1</td>\n",
              "      <td>346.7</td>\n",
              "      <td>NaN</td>\n",
              "      <td>34.0</td>\n",
              "      <td>NaN</td>\n",
              "      <td>122.8</td>\n",
              "      <td>14.9</td>\n",
              "    </tr>\n",
              "    <tr>\n",
              "      <th>3</th>\n",
              "      <td>Arica</td>\n",
              "      <td>2003</td>\n",
              "      <td>1.6</td>\n",
              "      <td>460.1</td>\n",
              "      <td>464.4</td>\n",
              "      <td>52.8</td>\n",
              "      <td>172.2</td>\n",
              "      <td>196.2</td>\n",
              "      <td>15.5</td>\n",
              "    </tr>\n",
              "    <tr>\n",
              "      <th>4</th>\n",
              "      <td>Arica</td>\n",
              "      <td>2004</td>\n",
              "      <td>1.1</td>\n",
              "      <td>452.2</td>\n",
              "      <td>395.0</td>\n",
              "      <td>64.1</td>\n",
              "      <td>203.7</td>\n",
              "      <td>143.8</td>\n",
              "      <td>13.9</td>\n",
              "    </tr>\n",
              "    <tr>\n",
              "      <th>5</th>\n",
              "      <td>Arica</td>\n",
              "      <td>2005</td>\n",
              "      <td>0.0</td>\n",
              "      <td>421.8</td>\n",
              "      <td>287.8</td>\n",
              "      <td>58.4</td>\n",
              "      <td>144.2</td>\n",
              "      <td>144.7</td>\n",
              "      <td>7.5</td>\n",
              "    </tr>\n",
              "    <tr>\n",
              "      <th>...</th>\n",
              "      <td>...</td>\n",
              "      <td>...</td>\n",
              "      <td>...</td>\n",
              "      <td>...</td>\n",
              "      <td>...</td>\n",
              "      <td>...</td>\n",
              "      <td>...</td>\n",
              "      <td>...</td>\n",
              "      <td>...</td>\n",
              "    </tr>\n",
              "    <tr>\n",
              "      <th>5532</th>\n",
              "      <td>Peñaflor</td>\n",
              "      <td>2012</td>\n",
              "      <td>1.1</td>\n",
              "      <td>375.0</td>\n",
              "      <td>436.5</td>\n",
              "      <td>78.6</td>\n",
              "      <td>59.3</td>\n",
              "      <td>191.5</td>\n",
              "      <td>14.8</td>\n",
              "    </tr>\n",
              "    <tr>\n",
              "      <th>5533</th>\n",
              "      <td>Peñaflor</td>\n",
              "      <td>2013</td>\n",
              "      <td>0.0</td>\n",
              "      <td>370.0</td>\n",
              "      <td>408.1</td>\n",
              "      <td>107.6</td>\n",
              "      <td>77.4</td>\n",
              "      <td>213.0</td>\n",
              "      <td>14.6</td>\n",
              "    </tr>\n",
              "    <tr>\n",
              "      <th>5534</th>\n",
              "      <td>Peñaflor</td>\n",
              "      <td>2014</td>\n",
              "      <td>1.1</td>\n",
              "      <td>301.3</td>\n",
              "      <td>376.3</td>\n",
              "      <td>112.6</td>\n",
              "      <td>65.1</td>\n",
              "      <td>224.0</td>\n",
              "      <td>5.5</td>\n",
              "    </tr>\n",
              "    <tr>\n",
              "      <th>5535</th>\n",
              "      <td>Peñaflor</td>\n",
              "      <td>2015</td>\n",
              "      <td>0.0</td>\n",
              "      <td>321.6</td>\n",
              "      <td>334.7</td>\n",
              "      <td>111.9</td>\n",
              "      <td>73.9</td>\n",
              "      <td>199.9</td>\n",
              "      <td>7.6</td>\n",
              "    </tr>\n",
              "    <tr>\n",
              "      <th>5536</th>\n",
              "      <td>Peñaflor</td>\n",
              "      <td>2016</td>\n",
              "      <td>2.1</td>\n",
              "      <td>331.6</td>\n",
              "      <td>259.7</td>\n",
              "      <td>99.8</td>\n",
              "      <td>49.4</td>\n",
              "      <td>151.3</td>\n",
              "      <td>11.8</td>\n",
              "    </tr>\n",
              "  </tbody>\n",
              "</table>\n",
              "<p>5536 rows × 9 columns</p>\n",
              "</div>"
            ],
            "text/plain": [
              "        comuna  anio  homicidios  ...  robo_vehiculo  robo_violencia  violacion\n",
              "1        Arica  2001         1.6  ...            NaN           107.2       16.4\n",
              "2        Arica  2002         1.1  ...            NaN           122.8       14.9\n",
              "3        Arica  2003         1.6  ...          172.2           196.2       15.5\n",
              "4        Arica  2004         1.1  ...          203.7           143.8       13.9\n",
              "5        Arica  2005         0.0  ...          144.2           144.7        7.5\n",
              "...        ...   ...         ...  ...            ...             ...        ...\n",
              "5532  Peñaflor  2012         1.1  ...           59.3           191.5       14.8\n",
              "5533  Peñaflor  2013         0.0  ...           77.4           213.0       14.6\n",
              "5534  Peñaflor  2014         1.1  ...           65.1           224.0        5.5\n",
              "5535  Peñaflor  2015         0.0  ...           73.9           199.9        7.6\n",
              "5536  Peñaflor  2016         2.1  ...           49.4           151.3       11.8\n",
              "\n",
              "[5536 rows x 9 columns]"
            ]
          },
          "metadata": {
            "tags": []
          },
          "execution_count": 266
        }
      ]
    },
    {
      "cell_type": "markdown",
      "metadata": {
        "id": "qurrGwfnjbKP"
      },
      "source": [
        "Utilizaremos sólo los datos del 2006. Ejecute las siguientes líneas de código para filtrar los datos:"
      ]
    },
    {
      "cell_type": "code",
      "metadata": {
        "id": "APsAJvb5jc0V",
        "colab": {
          "base_uri": "https://localhost:8080/",
          "height": 399
        },
        "outputId": "8cc06d46-556b-4440-cbf5-df68bd928939"
      },
      "source": [
        "X = dataframe[dataframe[\"anio\"] == 2006]\n",
        "X = X.drop(columns=[\"comuna\", \"anio\"])\n",
        "X"
      ],
      "execution_count": 267,
      "outputs": [
        {
          "output_type": "execute_result",
          "data": {
            "text/html": [
              "<div>\n",
              "<style scoped>\n",
              "    .dataframe tbody tr th:only-of-type {\n",
              "        vertical-align: middle;\n",
              "    }\n",
              "\n",
              "    .dataframe tbody tr th {\n",
              "        vertical-align: top;\n",
              "    }\n",
              "\n",
              "    .dataframe thead th {\n",
              "        text-align: right;\n",
              "    }\n",
              "</style>\n",
              "<table border=\"1\" class=\"dataframe\">\n",
              "  <thead>\n",
              "    <tr style=\"text-align: right;\">\n",
              "      <th></th>\n",
              "      <th>homicidios</th>\n",
              "      <th>hurtos</th>\n",
              "      <th>robo_lugar</th>\n",
              "      <th>robo_sorpresa</th>\n",
              "      <th>robo_vehiculo</th>\n",
              "      <th>robo_violencia</th>\n",
              "      <th>violacion</th>\n",
              "    </tr>\n",
              "  </thead>\n",
              "  <tbody>\n",
              "    <tr>\n",
              "      <th>6</th>\n",
              "      <td>1.1</td>\n",
              "      <td>507.5</td>\n",
              "      <td>320.3</td>\n",
              "      <td>60.9</td>\n",
              "      <td>89.0</td>\n",
              "      <td>161.2</td>\n",
              "      <td>8.6</td>\n",
              "    </tr>\n",
              "    <tr>\n",
              "      <th>22</th>\n",
              "      <td>0.0</td>\n",
              "      <td>68.0</td>\n",
              "      <td>0.0</td>\n",
              "      <td>0.0</td>\n",
              "      <td>0.0</td>\n",
              "      <td>0.0</td>\n",
              "      <td>0.0</td>\n",
              "    </tr>\n",
              "    <tr>\n",
              "      <th>38</th>\n",
              "      <td>0.0</td>\n",
              "      <td>834.9</td>\n",
              "      <td>256.9</td>\n",
              "      <td>0.0</td>\n",
              "      <td>0.0</td>\n",
              "      <td>0.0</td>\n",
              "      <td>64.2</td>\n",
              "    </tr>\n",
              "    <tr>\n",
              "      <th>54</th>\n",
              "      <td>0.0</td>\n",
              "      <td>81.2</td>\n",
              "      <td>81.2</td>\n",
              "      <td>0.0</td>\n",
              "      <td>0.0</td>\n",
              "      <td>0.0</td>\n",
              "      <td>0.0</td>\n",
              "    </tr>\n",
              "    <tr>\n",
              "      <th>70</th>\n",
              "      <td>0.6</td>\n",
              "      <td>680.3</td>\n",
              "      <td>327.2</td>\n",
              "      <td>211.5</td>\n",
              "      <td>169.7</td>\n",
              "      <td>287.0</td>\n",
              "      <td>18.2</td>\n",
              "    </tr>\n",
              "    <tr>\n",
              "      <th>...</th>\n",
              "      <td>...</td>\n",
              "      <td>...</td>\n",
              "      <td>...</td>\n",
              "      <td>...</td>\n",
              "      <td>...</td>\n",
              "      <td>...</td>\n",
              "      <td>...</td>\n",
              "    </tr>\n",
              "    <tr>\n",
              "      <th>5462</th>\n",
              "      <td>2.8</td>\n",
              "      <td>359.0</td>\n",
              "      <td>451.3</td>\n",
              "      <td>44.0</td>\n",
              "      <td>27.0</td>\n",
              "      <td>293.8</td>\n",
              "      <td>5.7</td>\n",
              "    </tr>\n",
              "    <tr>\n",
              "      <th>5478</th>\n",
              "      <td>3.4</td>\n",
              "      <td>233.4</td>\n",
              "      <td>375.4</td>\n",
              "      <td>27.1</td>\n",
              "      <td>6.8</td>\n",
              "      <td>60.9</td>\n",
              "      <td>6.8</td>\n",
              "    </tr>\n",
              "    <tr>\n",
              "      <th>5494</th>\n",
              "      <td>3.4</td>\n",
              "      <td>332.7</td>\n",
              "      <td>492.3</td>\n",
              "      <td>23.8</td>\n",
              "      <td>20.4</td>\n",
              "      <td>71.3</td>\n",
              "      <td>3.4</td>\n",
              "    </tr>\n",
              "    <tr>\n",
              "      <th>5510</th>\n",
              "      <td>0.0</td>\n",
              "      <td>263.6</td>\n",
              "      <td>529.3</td>\n",
              "      <td>57.1</td>\n",
              "      <td>22.0</td>\n",
              "      <td>235.0</td>\n",
              "      <td>11.0</td>\n",
              "    </tr>\n",
              "    <tr>\n",
              "      <th>5526</th>\n",
              "      <td>0.0</td>\n",
              "      <td>344.3</td>\n",
              "      <td>558.5</td>\n",
              "      <td>88.0</td>\n",
              "      <td>26.8</td>\n",
              "      <td>232.1</td>\n",
              "      <td>3.8</td>\n",
              "    </tr>\n",
              "  </tbody>\n",
              "</table>\n",
              "<p>346 rows × 7 columns</p>\n",
              "</div>"
            ],
            "text/plain": [
              "      homicidios  hurtos  robo_lugar  ...  robo_vehiculo  robo_violencia  violacion\n",
              "6            1.1   507.5       320.3  ...           89.0           161.2        8.6\n",
              "22           0.0    68.0         0.0  ...            0.0             0.0        0.0\n",
              "38           0.0   834.9       256.9  ...            0.0             0.0       64.2\n",
              "54           0.0    81.2        81.2  ...            0.0             0.0        0.0\n",
              "70           0.6   680.3       327.2  ...          169.7           287.0       18.2\n",
              "...          ...     ...         ...  ...            ...             ...        ...\n",
              "5462         2.8   359.0       451.3  ...           27.0           293.8        5.7\n",
              "5478         3.4   233.4       375.4  ...            6.8            60.9        6.8\n",
              "5494         3.4   332.7       492.3  ...           20.4            71.3        3.4\n",
              "5510         0.0   263.6       529.3  ...           22.0           235.0       11.0\n",
              "5526         0.0   344.3       558.5  ...           26.8           232.1        3.8\n",
              "\n",
              "[346 rows x 7 columns]"
            ]
          },
          "metadata": {
            "tags": []
          },
          "execution_count": 267
        }
      ]
    },
    {
      "cell_type": "markdown",
      "metadata": {
        "id": "ZH5aquJWjizK"
      },
      "source": [
        "## K-Means\n",
        "\n",
        "**1.** Cuando usamos K-Means debemos definir previamente el número de clusters que queremos generar. Teniendo en cuenta estos datos, implemente un método que nos permita determinar cuántos clusters usar."
      ]
    },
    {
      "cell_type": "code",
      "metadata": {
        "id": "tL2mOfTa3Pds",
        "colab": {
          "base_uri": "https://localhost:8080/",
          "height": 281
        },
        "outputId": "3f5fe1b7-d236-4d90-85b3-6151968bb5d0"
      },
      "source": [
        "# Respuesta\n",
        "\n",
        "from sklearn.cluster import KMeans\n",
        "from sklearn import datasets\n",
        "import matplotlib.pyplot as plt\n",
        "import numpy as np\n",
        "\n",
        "# Plotly library\n",
        "#!pip install plotly --upgrade\n",
        "import plotly.express as px\n",
        "import plotly.graph_objects as go\n",
        "import plotly.figure_factory as ff\n",
        "\n",
        "random_state = 20\n",
        "\n",
        "sse = []\n",
        "\n",
        "clusters = list(range(1,20))\n",
        "for k in clusters:\n",
        "    kmeans = KMeans(n_clusters=k).fit(X)\n",
        "    sse.append(kmeans.inertia_)\n",
        "\n",
        "plt.plot(clusters, sse, marker=\"o\")\n",
        "plt.title(\"Metodo del codo de 1 a 30 clusters\")\n",
        "plt.grid(True)\n",
        "plt.show()\n"
      ],
      "execution_count": 268,
      "outputs": [
        {
          "output_type": "display_data",
          "data": {
            "image/png": "[encoded data removed]",
            "text/plain": [
              "<Figure size 432x288 with 1 Axes>"
            ]
          },
          "metadata": {
            "tags": [],
            "needs_background": "light"
          }
        }
      ]
    },
    {
      "cell_type": "markdown",
      "metadata": {
        "id": "x1lHWlA7kqgT"
      },
      "source": [
        "**2.** Cuántos clusters propone usar para este dataset? Justifique su elección."
      ]
    },
    {
      "cell_type": "markdown",
      "metadata": {
        "id": "4m-XgeXPkzq3"
      },
      "source": [
        "\n",
        "> Respuesta: \n",
        ">\n",
        "> Proponemos usar 5 clusters para este dataset, ya que es el punto donde la métrica *SSE* comienza a estabilizarse, y por lo tanto donde nos acercamos más a la cantidad óptima."
      ]
    },
    {
      "cell_type": "markdown",
      "metadata": {
        "id": "V7ifMHUa9TQo"
      },
      "source": [
        "**3.** Entrene un modelo de K-Means usando el número de clusters que eligió en la pregunta anterior e imprima las asignaciones de clusters para cada dato."
      ]
    },
    {
      "cell_type": "code",
      "metadata": {
        "id": "W769Szoj9aSe",
        "colab": {
          "base_uri": "https://localhost:8080/"
        },
        "outputId": "736d9a0a-4805-48d3-db6a-129a18faa296"
      },
      "source": [
        "# Respuesta\n",
        "kmeans = KMeans(n_clusters=5, n_init=20, max_iter=300, random_state=random_state)\n",
        "kmeans.fit(X) # fit retorna a self\n",
        "y_pred = kmeans.predict(X)\n",
        "y_pred"
      ],
      "execution_count": 269,
      "outputs": [
        {
          "output_type": "execute_result",
          "data": {
            "text/plain": [
              "array([0, 0, 2, 0, 4, 4, 0, 0, 0, 0, 2, 0, 0, 0, 0, 4, 0, 2, 0, 2, 2, 2,\n",
              "       0, 0, 0, 0, 0, 0, 0, 2, 4, 0, 0, 2, 0, 0, 0, 2, 0, 0, 0, 0, 0, 0,\n",
              "       4, 0, 4, 0, 0, 4, 2, 2, 2, 0, 0, 0, 2, 0, 4, 0, 2, 0, 4, 0, 0, 0,\n",
              "       4, 1, 1, 1, 1, 4, 4, 2, 2, 0, 0, 0, 2, 4, 0, 0, 2, 0, 0, 0, 0, 2,\n",
              "       0, 0, 0, 0, 0, 2, 0, 0, 2, 0, 2, 2, 0, 0, 0, 0, 0, 2, 0, 0, 0, 0,\n",
              "       0, 0, 0, 0, 2, 2, 2, 0, 0, 0, 0, 0, 0, 0, 0, 0, 0, 0, 2, 0, 2, 0,\n",
              "       0, 0, 0, 0, 2, 2, 2, 0, 2, 0, 2, 0, 0, 2, 4, 0, 0, 0, 4, 0, 4, 0,\n",
              "       0, 0, 4, 0, 0, 2, 2, 2, 0, 2, 4, 0, 0, 0, 0, 0, 0, 0, 0, 0, 0, 0,\n",
              "       0, 0, 2, 0, 0, 0, 0, 0, 0, 0, 0, 0, 0, 0, 0, 0, 0, 0, 0, 0, 0, 0,\n",
              "       0, 2, 0, 0, 0, 0, 0, 2, 0, 0, 0, 2, 0, 0, 2, 2, 0, 0, 0, 0, 2, 0,\n",
              "       2, 0, 0, 0, 0, 0, 0, 0, 0, 2, 2, 2, 0, 0, 2, 0, 0, 2, 0, 0, 2, 0,\n",
              "       0, 4, 0, 0, 0, 0, 0, 0, 0, 2, 2, 2, 0, 0, 0, 0, 0, 2, 0, 0, 0, 0,\n",
              "       0, 0, 0, 0, 0, 0, 0, 0, 0, 2, 0, 0, 0, 0, 2, 2, 0, 0, 0, 0, 0, 0,\n",
              "       0, 0, 0, 0, 0, 0, 0, 0, 3, 4, 0, 4, 4, 4, 4, 4, 4, 4, 4, 4, 4, 2,\n",
              "       4, 4, 4, 4, 0, 4, 4, 4, 3, 0, 4, 4, 4, 4, 4, 4, 4, 2, 4, 0, 4, 4,\n",
              "       4, 0, 4, 0, 4, 0, 4, 0, 0, 0, 0, 4, 0, 0, 4, 4], dtype=int32)"
            ]
          },
          "metadata": {
            "tags": []
          },
          "execution_count": 269
        }
      ]
    },
    {
      "cell_type": "markdown",
      "metadata": {
        "id": "_X2V0E-8jnu7"
      },
      "source": [
        "**4.** Al ejecutar el código anterior (pregunta 3) varias veces, obtenemos resultados diferentes. Cómo podría evitar los resultados variables de K-means? Presente al menos 2 opciones para lograr esto. Puede implementarlo o describirlo.\n",
        "\n",
        "> Respuesta: \n",
        ">\n",
        ">Una opción es aumentar aún más la cantidad de ejecuciones del código de clustering e ir guardando las asignaciones de cada punto, para luego ir uno por uno y asignarle el cluster con más recurrencias en la iteración anterior. Este método aunque parezca plausible es poco práctico, eficiente, y no asegura totalmente una asignación correcta para cada punto, dado que no soluciona el problema de fondo, que es la asignación incorrecta de los centroides de los 5 clusters.\n",
        ">\n",
        ">La segunda opción es la más eficiente y que nos asegura una buena asignación para cada punto, y es cambiar el algoritmo de clustering **K-Means** por su equivalente **Bisecting K-Means**. Este último disminuye enormemente la cantidad de asignaciones erroneas de los puntos, dado que está hecho para solucionar el problema de asignación inicial de los centroides de los 5 clusters."
      ]
    },
    {
      "cell_type": "markdown",
      "metadata": {
        "id": "TwD2fgUO9uPh"
      },
      "source": [
        "**5.** Ejecute el siguiente código que bajará la dimensionalidad de los datos de 7 a 2. Grafique los datos transformados y pinte los gráficos para tener una representación visual de los clusters."
      ]
    },
    {
      "cell_type": "code",
      "metadata": {
        "id": "4HP4MLyF9_UV"
      },
      "source": [
        "from sklearn.decomposition import PCA\n",
        "\n",
        "new_X = PCA(n_components=2, random_state=0).fit_transform(X)"
      ],
      "execution_count": 270,
      "outputs": []
    },
    {
      "cell_type": "code",
      "metadata": {
        "id": "bkqt8vNP-du5",
        "colab": {
          "base_uri": "https://localhost:8080/",
          "height": 281
        },
        "outputId": "305eb836-3b51-4582-a430-67a7ea75baa6"
      },
      "source": [
        "# Respuesta\n",
        "plt.scatter(new_X[:, 0], new_X[:, 1], c=kmeans.labels_)\n",
        "plt.title(\"K-Means\")\n",
        "plt.show()"
      ],
      "execution_count": 323,
      "outputs": [
        {
          "output_type": "display_data",
          "data": {
            "image/png": "[encoded data removed]",
            "text/plain": [
              "<Figure size 432x288 with 1 Axes>"
            ]
          },
          "metadata": {
            "tags": [],
            "needs_background": "light"
          }
        }
      ]
    },
    {
      "cell_type": "markdown",
      "metadata": {
        "id": "aMeMvKgclbpe"
      },
      "source": [
        "## Clustering Jerárquico Aglomerativo"
      ]
    },
    {
      "cell_type": "markdown",
      "metadata": {
        "id": "maJ6HPXjl3_Q"
      },
      "source": [
        "**1.** Usando los datos anteriores, ejecute cada uno de los 4 métodos de clustering jerárquico: complete, single, average y ward, y visualice los dendrogramas formados. Adjunte el código necesario. No necesita generar los 4 dendrogramas en el mismo gráfico, pueden ser distintos."
      ]
    },
    {
      "cell_type": "code",
      "metadata": {
        "id": "UgV5XD4_mH9T"
      },
      "source": [
        "# Respuesta\n",
        "from scipy.cluster.hierarchy import dendrogram, linkage\n",
        "from sklearn.cluster import AgglomerativeClustering\n",
        "\n",
        "complete = linkage(X, method=\"complete\")\n",
        "single = linkage(X, method=\"single\")\n",
        "average = linkage(X, method=\"average\")\n",
        "ward = linkage(X, method=\"ward\")"
      ],
      "execution_count": 311,
      "outputs": []
    },
    {
      "cell_type": "code",
      "metadata": {
        "colab": {
          "base_uri": "https://localhost:8080/",
          "height": 281
        },
        "id": "srC9dK2ItGnT",
        "outputId": "65178c2c-707b-4c6d-bdf7-a1a2ab475305"
      },
      "source": [
        "dendrogram(complete)\n",
        "plt.title(\"Linkage: Complete\")\n",
        "plt.show()"
      ],
      "execution_count": 312,
      "outputs": [
        {
          "output_type": "display_data",
          "data": {
            "image/png": "[encoded data removed]",
            "text/plain": [
              "<Figure size 432x288 with 1 Axes>"
            ]
          },
          "metadata": {
            "tags": [],
            "needs_background": "light"
          }
        }
      ]
    },
    {
      "cell_type": "code",
      "metadata": {
        "colab": {
          "base_uri": "https://localhost:8080/",
          "height": 281
        },
        "id": "jTfC2aqntJ8T",
        "outputId": "f5fc9d98-9547-4b07-940c-88c061ed16c1"
      },
      "source": [
        "dendrogram(single)\n",
        "plt.title(\"Linkage: Single\")\n",
        "plt.show()"
      ],
      "execution_count": 314,
      "outputs": [
        {
          "output_type": "display_data",
          "data": {
            "image/png": "[encoded data removed]",
            "text/plain": [
              "<Figure size 432x288 with 1 Axes>"
            ]
          },
          "metadata": {
            "tags": [],
            "needs_background": "light"
          }
        }
      ]
    },
    {
      "cell_type": "code",
      "metadata": {
        "colab": {
          "base_uri": "https://localhost:8080/",
          "height": 281
        },
        "id": "VTuyJ1N6tKF_",
        "outputId": "47328765-c8d0-419f-f006-acf506460c12"
      },
      "source": [
        "dendrogram(average)\n",
        "plt.title(\"Linkage: Average\")\n",
        "plt.show()"
      ],
      "execution_count": 315,
      "outputs": [
        {
          "output_type": "display_data",
          "data": {
            "image/png": "[encoded data removed]",
            "text/plain": [
              "<Figure size 432x288 with 1 Axes>"
            ]
          },
          "metadata": {
            "tags": [],
            "needs_background": "light"
          }
        }
      ]
    },
    {
      "cell_type": "code",
      "metadata": {
        "colab": {
          "base_uri": "https://localhost:8080/",
          "height": 281
        },
        "id": "7atF8aWitKOF",
        "outputId": "e600eea7-11d9-430d-e57c-1931dd9c4e78"
      },
      "source": [
        "dendrogram(ward)\n",
        "plt.title(\"Linkage: Ward\")\n",
        "plt.show()"
      ],
      "execution_count": 317,
      "outputs": [
        {
          "output_type": "display_data",
          "data": {
            "image/png": "[encoded data removed]",
            "text/plain": [
              "<Figure size 432x288 with 1 Axes>"
            ]
          },
          "metadata": {
            "tags": [],
            "needs_background": "light"
          }
        }
      ]
    },
    {
      "cell_type": "markdown",
      "metadata": {
        "id": "My7CjyF18Dgd"
      },
      "source": [
        "**2.** Fijándose en el método `single`, a qué altura recomendaría cortar el árbol?"
      ]
    },
    {
      "cell_type": "markdown",
      "metadata": {
        "id": "VkDbxu1Y8HWr"
      },
      "source": [
        "> Respuesta:\n",
        ">\n",
        ">Nosotros recomendaríamos cortar el árbol a la altura 1100, ya que el resto de ramas generadas a una altura menor aumentan de forma innecesaria la cantidad de clusters, además de que abarcan probablemente outliers"
      ]
    },
    {
      "cell_type": "code",
      "metadata": {
        "colab": {
          "base_uri": "https://localhost:8080/",
          "height": 281
        },
        "id": "HlRj4J1fpFnr",
        "outputId": "93e943e8-cdf6-4ac2-df0d-d1d6655b23c1"
      },
      "source": [
        "dendrogram(single)\n",
        "plt.title(\"Linkage: Single\")\n",
        "plt.axhline(y=1100, color='r', linestyle='--')\n",
        "plt.show()"
      ],
      "execution_count": 318,
      "outputs": [
        {
          "output_type": "display_data",
          "data": {
            "image/png": "[encoded data removed]",
            "text/plain": [
              "<Figure size 432x288 with 1 Axes>"
            ]
          },
          "metadata": {
            "tags": [],
            "needs_background": "light"
          }
        }
      ]
    },
    {
      "cell_type": "markdown",
      "metadata": {
        "id": "5sSIrGgfmIGa"
      },
      "source": [
        "**3.** Ahora si miramos el método `ward`, cuántos clusters propone usar? A qué altura se debe cortar el arbol para obtener esa cantidad de clusters?"
      ]
    },
    {
      "cell_type": "markdown",
      "metadata": {
        "id": "FcDfUn6N7vrW"
      },
      "source": [
        "> Respuesta: \n",
        ">\n",
        "> Nosotros proponemos usar 3 clusters, el cuál habría que cortar a la altura 6000\n",
        "\n"
      ]
    },
    {
      "cell_type": "code",
      "metadata": {
        "colab": {
          "base_uri": "https://localhost:8080/",
          "height": 281
        },
        "id": "3Gva9JtzpKIw",
        "outputId": "37d0eb0b-5f11-4c67-e77c-4b6636e2a7ea"
      },
      "source": [
        "dendrogram(ward)\n",
        "plt.title(\"Linkage: Ward\")\n",
        "plt.axhline(y=6000, color='r', linestyle='--')\n",
        "plt.show()"
      ],
      "execution_count": 319,
      "outputs": [
        {
          "output_type": "display_data",
          "data": {
            "image/png": "[encoded data removed]",
            "text/plain": [
              "<Figure size 432x288 with 1 Axes>"
            ]
          },
          "metadata": {
            "tags": [],
            "needs_background": "light"
          }
        }
      ]
    },
    {
      "cell_type": "markdown",
      "metadata": {
        "id": "J6YULxJd7wX6"
      },
      "source": [
        "**4.** Implemente el código para asignar clusters a los datos siguiendo lo que usted propuso en la pregunta **2.** y **3.** y liste la asignación de clusters para cada punto del dataset para `single` y `ward`. Cuántos clusters se generan para el método `single` cortando a la altura que propuso en la pregunta **2.**?"
      ]
    },
    {
      "cell_type": "code",
      "metadata": {
        "colab": {
          "base_uri": "https://localhost:8080/"
        },
        "id": "_9Mryi5apMQy",
        "outputId": "f42c2ca9-0b2e-4a63-eb13-8b81bf620c2d"
      },
      "source": [
        "single_all = AgglomerativeClustering(n_clusters=None, linkage=\"single\", distance_threshold=0).fit(X)\n",
        "print(single_all.n_clusters_)\n",
        "\n",
        "single_3 = AgglomerativeClustering(n_clusters=3, linkage=\"single\").fit(X)\n",
        "print(single_3.n_clusters_)\n",
        "\n",
        "single_3.labels_"
      ],
      "execution_count": 279,
      "outputs": [
        {
          "output_type": "stream",
          "text": [
            "346\n",
            "3\n"
          ],
          "name": "stdout"
        },
        {
          "output_type": "execute_result",
          "data": {
            "text/plain": [
              "array([0, 0, 0, 0, 0, 0, 0, 0, 0, 0, 0, 0, 0, 0, 0, 0, 0, 0, 0, 0, 0, 0,\n",
              "       0, 0, 0, 0, 0, 0, 0, 0, 0, 0, 0, 0, 0, 0, 0, 0, 0, 0, 0, 0, 0, 0,\n",
              "       0, 0, 0, 0, 0, 0, 0, 0, 0, 0, 0, 0, 0, 0, 0, 0, 0, 0, 0, 0, 0, 0,\n",
              "       0, 0, 0, 0, 0, 0, 0, 0, 0, 0, 0, 0, 0, 0, 0, 0, 0, 0, 0, 0, 0, 0,\n",
              "       0, 0, 0, 0, 0, 0, 0, 0, 0, 0, 0, 0, 0, 0, 0, 0, 0, 0, 0, 0, 0, 0,\n",
              "       0, 0, 0, 0, 0, 0, 0, 0, 0, 0, 0, 0, 0, 0, 0, 0, 0, 0, 0, 0, 0, 0,\n",
              "       0, 0, 0, 0, 0, 0, 0, 0, 0, 0, 0, 0, 0, 0, 0, 0, 0, 0, 0, 0, 0, 0,\n",
              "       0, 0, 0, 0, 0, 0, 0, 0, 0, 0, 0, 0, 0, 0, 0, 0, 0, 0, 0, 0, 0, 0,\n",
              "       0, 0, 0, 0, 0, 0, 0, 0, 0, 0, 0, 0, 0, 0, 0, 0, 0, 0, 0, 0, 0, 0,\n",
              "       0, 0, 0, 0, 0, 0, 0, 0, 0, 0, 0, 0, 0, 0, 0, 0, 0, 0, 0, 0, 0, 0,\n",
              "       0, 0, 0, 0, 0, 0, 0, 0, 0, 0, 0, 0, 0, 0, 0, 0, 0, 0, 0, 0, 0, 0,\n",
              "       0, 0, 0, 0, 0, 0, 0, 0, 0, 0, 0, 0, 0, 0, 0, 0, 0, 0, 0, 0, 0, 0,\n",
              "       0, 0, 0, 0, 0, 0, 0, 0, 0, 0, 0, 0, 0, 0, 0, 0, 0, 0, 0, 0, 0, 0,\n",
              "       0, 0, 0, 0, 0, 0, 0, 0, 1, 0, 0, 0, 0, 0, 0, 0, 0, 0, 0, 0, 0, 0,\n",
              "       0, 0, 0, 0, 0, 0, 0, 0, 2, 0, 0, 0, 0, 0, 0, 0, 0, 0, 0, 0, 0, 0,\n",
              "       0, 0, 0, 0, 0, 0, 0, 0, 0, 0, 0, 0, 0, 0, 0, 0])"
            ]
          },
          "metadata": {
            "tags": []
          },
          "execution_count": 279
        }
      ]
    },
    {
      "cell_type": "code",
      "metadata": {
        "colab": {
          "base_uri": "https://localhost:8080/"
        },
        "id": "KTcL9rw2pMgN",
        "outputId": "ea65dc6c-1737-41c8-dc93-9bf5c765b96d"
      },
      "source": [
        "ward_all = AgglomerativeClustering(n_clusters=None, linkage=\"ward\", distance_threshold=0).fit(X)\n",
        "print(ward_all.n_clusters_)\n",
        "\n",
        "ward_3 = AgglomerativeClustering(n_clusters=3, linkage=\"ward\").fit(X)\n",
        "print(ward_3.n_clusters_)\n",
        "\n",
        "ward_3.labels_"
      ],
      "execution_count": 280,
      "outputs": [
        {
          "output_type": "stream",
          "text": [
            "346\n",
            "3\n"
          ],
          "name": "stdout"
        },
        {
          "output_type": "execute_result",
          "data": {
            "text/plain": [
              "array([0, 2, 0, 2, 0, 0, 2, 2, 0, 2, 0, 2, 0, 2, 0, 0, 2, 0, 0, 0, 0, 0,\n",
              "       0, 2, 2, 2, 2, 2, 2, 0, 0, 2, 2, 0, 2, 2, 2, 0, 2, 2, 2, 2, 2, 2,\n",
              "       0, 0, 0, 2, 2, 0, 0, 0, 0, 2, 2, 2, 0, 2, 0, 2, 1, 2, 0, 2, 2, 2,\n",
              "       0, 1, 1, 1, 1, 0, 0, 0, 0, 2, 2, 2, 0, 0, 0, 0, 0, 2, 0, 2, 0, 0,\n",
              "       2, 0, 0, 2, 2, 0, 2, 2, 0, 0, 0, 0, 2, 2, 2, 2, 2, 0, 2, 2, 2, 2,\n",
              "       2, 2, 2, 2, 0, 0, 0, 0, 0, 2, 2, 0, 2, 2, 2, 0, 2, 2, 0, 2, 0, 0,\n",
              "       2, 2, 2, 2, 0, 0, 0, 2, 0, 2, 0, 2, 2, 0, 0, 2, 2, 2, 0, 2, 0, 2,\n",
              "       2, 2, 0, 0, 0, 0, 0, 0, 2, 0, 0, 2, 2, 2, 2, 2, 2, 2, 2, 2, 0, 2,\n",
              "       2, 2, 0, 2, 2, 0, 2, 2, 2, 2, 2, 2, 2, 2, 2, 0, 2, 2, 2, 2, 2, 2,\n",
              "       0, 0, 0, 2, 2, 2, 2, 0, 0, 0, 2, 0, 0, 2, 0, 1, 2, 2, 2, 2, 0, 2,\n",
              "       0, 0, 2, 2, 2, 2, 2, 0, 2, 0, 0, 0, 2, 0, 0, 0, 2, 0, 0, 2, 0, 2,\n",
              "       0, 0, 0, 2, 2, 2, 2, 2, 2, 0, 0, 0, 2, 2, 2, 2, 2, 0, 2, 0, 2, 2,\n",
              "       2, 2, 2, 2, 2, 2, 2, 2, 2, 0, 2, 0, 2, 2, 0, 0, 2, 0, 2, 0, 2, 2,\n",
              "       2, 2, 2, 0, 0, 2, 0, 2, 0, 0, 2, 0, 0, 0, 0, 0, 0, 0, 0, 0, 0, 0,\n",
              "       0, 0, 0, 0, 2, 0, 0, 0, 0, 2, 0, 0, 0, 0, 0, 0, 0, 0, 0, 2, 0, 0,\n",
              "       0, 2, 0, 2, 0, 2, 0, 2, 0, 2, 2, 0, 2, 0, 0, 0])"
            ]
          },
          "metadata": {
            "tags": []
          },
          "execution_count": 280
        }
      ]
    },
    {
      "cell_type": "markdown",
      "metadata": {
        "id": "o76oGCY6EU66"
      },
      "source": [
        "**5.** Cuántos datos quedan asignados a cada cluster? Agregue el código necesario para objener esta información para los métodos `single` y `ward`."
      ]
    },
    {
      "cell_type": "markdown",
      "metadata": {
        "id": "RNLK0tkZFEU6"
      },
      "source": [
        "> Respuesta: \n",
        ">\n",
        "> Para el método *single*, este asigna el cluster 0 a 344 datos, y los otros dos clusters a un dato cada uno.\n",
        ">\n",
        "> Por otro lado, para el método *single* este asigna el primer cluster a 161 datos (al rededor de la mitad), el segundo a solo 6 y el tercero a 179.\n",
        ">\n",
        "> A continuación se adjunta el código correspondiente"
      ]
    },
    {
      "cell_type": "code",
      "metadata": {
        "colab": {
          "base_uri": "https://localhost:8080/"
        },
        "id": "no57SlowrVVd",
        "outputId": "508271a0-b5e6-4b4a-d362-3ee4c7bf56a6"
      },
      "source": [
        "import collections, numpy\n",
        "s=single_3.labels_\n",
        "cantidad_s=collections.Counter(s)\n",
        "s_0=cantidad_s[0]\n",
        "s_1=cantidad_s[1]\n",
        "s_2=cantidad_s[2]\n",
        "\n",
        "w=ward_3.labels_\n",
        "cantidad_w=collections.Counter(w)\n",
        "w_0=cantidad_w[0]\n",
        "w_1=cantidad_w[1]\n",
        "w_2=cantidad_w[2]\n",
        "\n",
        "\n",
        "print(\"Método Single, Primer Cluster:  \"+str(s_0))\n",
        "print(\"Método Single, Segundo Cluster: \"+str(s_1))\n",
        "print(\"Método Single, Tercer Cluster:  \"+str(s_2))\n",
        "print(\"\")\n",
        "print(\"Método Ward, Primer Cluster:  \"+str(w_0))\n",
        "print(\"Método Ward, Segundo Cluster: \"+str(w_1))\n",
        "print(\"Método Ward, Tercer Cluster:  \"+str(w_2))\n"
      ],
      "execution_count": 281,
      "outputs": [
        {
          "output_type": "stream",
          "text": [
            "Método Single, Primer Cluster:  344\n",
            "Método Single, Segundo Cluster: 1\n",
            "Método Single, Tercer Cluster:  1\n",
            "\n",
            "Método Ward, Primer Cluster:  161\n",
            "Método Ward, Segundo Cluster: 6\n",
            "Método Ward, Tercer Cluster:  179\n"
          ],
          "name": "stdout"
        }
      ]
    },
    {
      "cell_type": "markdown",
      "metadata": {
        "id": "ipwD-E76AEXg"
      },
      "source": [
        "**6.** Usando el dataset con dimensiones reducidas generado en la Parte 1, pregunta 5: `new_X`, grafique los datos y pinte los datos con su asignacion de cluster para los métodos `single` y `ward` para tener una representación visual de los clusters."
      ]
    },
    {
      "cell_type": "code",
      "metadata": {
        "id": "gBMTzMuxAe1H",
        "colab": {
          "base_uri": "https://localhost:8080/",
          "height": 281
        },
        "outputId": "2f27b1cc-5c65-423b-95b5-9a46a5a25267"
      },
      "source": [
        "plt.scatter(new_X[:, 0], new_X[:, 1], c=single_3.labels_)\n",
        "plt.title(\"Hierarchical: single, 3 clusters\")\n",
        "plt.show()"
      ],
      "execution_count": 320,
      "outputs": [
        {
          "output_type": "display_data",
          "data": {
            "image/png": "[encoded data removed]",
            "text/plain": [
              "<Figure size 432x288 with 1 Axes>"
            ]
          },
          "metadata": {
            "tags": [],
            "needs_background": "light"
          }
        }
      ]
    },
    {
      "cell_type": "code",
      "metadata": {
        "colab": {
          "base_uri": "https://localhost:8080/",
          "height": 281
        },
        "id": "SfwJIYC7vYGn",
        "outputId": "af026bb9-7eda-401e-d395-2186c97f27e7"
      },
      "source": [
        "plt.scatter(new_X[:, 0], new_X[:, 1], c=ward_3.labels_)\n",
        "plt.title(\"Hierarchical: ward, 3 clusters\")\n",
        "plt.show()"
      ],
      "execution_count": 321,
      "outputs": [
        {
          "output_type": "display_data",
          "data": {
            "image/png": "[encoded data removed]",
            "text/plain": [
              "<Figure size 432x288 with 1 Axes>"
            ]
          },
          "metadata": {
            "tags": [],
            "needs_background": "light"
          }
        }
      ]
    },
    {
      "cell_type": "markdown",
      "metadata": {
        "id": "UNVBq6xPfXJd"
      },
      "source": [
        "# Parte 3: Problema Abierto"
      ]
    },
    {
      "cell_type": "markdown",
      "metadata": {
        "id": "-rvQLEcLxzU7"
      },
      "source": [
        "En esta pregunta usted deberá practicar un proceso reducido de minería de datos. Con el conjunto de datos que le daremos a continuación, usted deberá hacer una exploración de datos, aplicar las técnicas correspondientes de pre procesamiento de datos respecto a lo que encuentre y entrenar modelos de clasificación. Finalmente deberá evaluar los modelos que entrenó y justificar la elección de alguno de ellos."
      ]
    },
    {
      "cell_type": "markdown",
      "metadata": {
        "id": "7PfoHIPJ8w3C"
      },
      "source": [
        "Ejecute el siguiente código para cargar los datos que usaremos en esta parte. Los datos se encuentran en el archivo `movies.csv` adjunto en el zip.\n",
        "\n",
        "**Estamos interesados en predecir la variable `imdb_score` a partir de los demas datos.** `imdb_score` es un entero y puede considerarlo como un variable categórica."
      ]
    },
    {
      "cell_type": "code",
      "metadata": {
        "id": "dP17B2bp82CA",
        "colab": {
          "base_uri": "https://localhost:8080/",
          "height": 349
        },
        "outputId": "32dcad9e-7e2f-4edd-c10f-37bb4e5406a4"
      },
      "source": [
        "# ponga aqui donde tiene el archivo\n",
        "data_file = \"movies.csv\"\n",
        "\n",
        "data = pd.read_csv(data_file)\n",
        "data.head()"
      ],
      "execution_count": 284,
      "outputs": [
        {
          "output_type": "execute_result",
          "data": {
            "text/html": [
              "<div>\n",
              "<style scoped>\n",
              "    .dataframe tbody tr th:only-of-type {\n",
              "        vertical-align: middle;\n",
              "    }\n",
              "\n",
              "    .dataframe tbody tr th {\n",
              "        vertical-align: top;\n",
              "    }\n",
              "\n",
              "    .dataframe thead th {\n",
              "        text-align: right;\n",
              "    }\n",
              "</style>\n",
              "<table border=\"1\" class=\"dataframe\">\n",
              "  <thead>\n",
              "    <tr style=\"text-align: right;\">\n",
              "      <th></th>\n",
              "      <th>movie_title</th>\n",
              "      <th>imdb_score</th>\n",
              "      <th>title_year</th>\n",
              "      <th>num_voted_users</th>\n",
              "      <th>num_critic_for_reviews</th>\n",
              "      <th>num_user_for_reviews</th>\n",
              "      <th>color</th>\n",
              "      <th>director_name</th>\n",
              "      <th>director_facebook_likes</th>\n",
              "      <th>actor_1_name</th>\n",
              "      <th>actor_1_facebook_likes</th>\n",
              "      <th>actor_2_name</th>\n",
              "      <th>actor_2_facebook_likes</th>\n",
              "      <th>actor_3_name</th>\n",
              "      <th>actor_3_facebook_likes</th>\n",
              "      <th>cast_total_facebook_likes</th>\n",
              "      <th>movie_facebook_likes</th>\n",
              "      <th>duration</th>\n",
              "      <th>gross</th>\n",
              "      <th>language</th>\n",
              "      <th>country</th>\n",
              "      <th>content_rating</th>\n",
              "      <th>budget</th>\n",
              "      <th>aspect_ratio</th>\n",
              "    </tr>\n",
              "  </thead>\n",
              "  <tbody>\n",
              "    <tr>\n",
              "      <th>0</th>\n",
              "      <td>Avatar</td>\n",
              "      <td>8</td>\n",
              "      <td>2009.0</td>\n",
              "      <td>886204</td>\n",
              "      <td>723.0</td>\n",
              "      <td>3054.0</td>\n",
              "      <td>Color</td>\n",
              "      <td>James Cameron</td>\n",
              "      <td>0.0</td>\n",
              "      <td>CCH Pounder</td>\n",
              "      <td>1000.0</td>\n",
              "      <td>Joel David Moore</td>\n",
              "      <td>936.0</td>\n",
              "      <td>Wes Studi</td>\n",
              "      <td>855.0</td>\n",
              "      <td>4834</td>\n",
              "      <td>33000</td>\n",
              "      <td>178.0</td>\n",
              "      <td>760505847.0</td>\n",
              "      <td>English</td>\n",
              "      <td>USA</td>\n",
              "      <td>PG-13</td>\n",
              "      <td>237000000.0</td>\n",
              "      <td>1.78</td>\n",
              "    </tr>\n",
              "    <tr>\n",
              "      <th>1</th>\n",
              "      <td>Pirates of the Caribbean: At World's End</td>\n",
              "      <td>7</td>\n",
              "      <td>2007.0</td>\n",
              "      <td>471220</td>\n",
              "      <td>302.0</td>\n",
              "      <td>1238.0</td>\n",
              "      <td>Color</td>\n",
              "      <td>Gore Verbinski</td>\n",
              "      <td>563.0</td>\n",
              "      <td>Johnny Depp</td>\n",
              "      <td>40000.0</td>\n",
              "      <td>Orlando Bloom</td>\n",
              "      <td>5000.0</td>\n",
              "      <td>Jack Davenport</td>\n",
              "      <td>1000.0</td>\n",
              "      <td>48350</td>\n",
              "      <td>0</td>\n",
              "      <td>169.0</td>\n",
              "      <td>309404152.0</td>\n",
              "      <td>English</td>\n",
              "      <td>USA</td>\n",
              "      <td>PG-13</td>\n",
              "      <td>300000000.0</td>\n",
              "      <td>2.35</td>\n",
              "    </tr>\n",
              "    <tr>\n",
              "      <th>2</th>\n",
              "      <td>Spectre</td>\n",
              "      <td>7</td>\n",
              "      <td>2015.0</td>\n",
              "      <td>275868</td>\n",
              "      <td>602.0</td>\n",
              "      <td>994.0</td>\n",
              "      <td>Color</td>\n",
              "      <td>Sam Mendes</td>\n",
              "      <td>0.0</td>\n",
              "      <td>Christoph Waltz</td>\n",
              "      <td>11000.0</td>\n",
              "      <td>Rory Kinnear</td>\n",
              "      <td>393.0</td>\n",
              "      <td>Stephanie Sigman</td>\n",
              "      <td>161.0</td>\n",
              "      <td>11700</td>\n",
              "      <td>85000</td>\n",
              "      <td>148.0</td>\n",
              "      <td>200074175.0</td>\n",
              "      <td>English</td>\n",
              "      <td>UK</td>\n",
              "      <td>PG-13</td>\n",
              "      <td>245000000.0</td>\n",
              "      <td>2.35</td>\n",
              "    </tr>\n",
              "    <tr>\n",
              "      <th>3</th>\n",
              "      <td>The Dark Knight Rises</td>\n",
              "      <td>8</td>\n",
              "      <td>2012.0</td>\n",
              "      <td>1144337</td>\n",
              "      <td>813.0</td>\n",
              "      <td>2701.0</td>\n",
              "      <td>Color</td>\n",
              "      <td>Christopher Nolan</td>\n",
              "      <td>22000.0</td>\n",
              "      <td>Tom Hardy</td>\n",
              "      <td>27000.0</td>\n",
              "      <td>Christian Bale</td>\n",
              "      <td>23000.0</td>\n",
              "      <td>Joseph Gordon-Levitt</td>\n",
              "      <td>23000.0</td>\n",
              "      <td>106759</td>\n",
              "      <td>164000</td>\n",
              "      <td>164.0</td>\n",
              "      <td>448130642.0</td>\n",
              "      <td>English</td>\n",
              "      <td>USA</td>\n",
              "      <td>PG-13</td>\n",
              "      <td>250000000.0</td>\n",
              "      <td>2.35</td>\n",
              "    </tr>\n",
              "    <tr>\n",
              "      <th>4</th>\n",
              "      <td>Star Wars: Episode VII - The Force Awakens    ...</td>\n",
              "      <td>7</td>\n",
              "      <td>NaN</td>\n",
              "      <td>8</td>\n",
              "      <td>NaN</td>\n",
              "      <td>NaN</td>\n",
              "      <td>NaN</td>\n",
              "      <td>Doug Walker</td>\n",
              "      <td>131.0</td>\n",
              "      <td>Doug Walker</td>\n",
              "      <td>131.0</td>\n",
              "      <td>Rob Walker</td>\n",
              "      <td>12.0</td>\n",
              "      <td>NaN</td>\n",
              "      <td>NaN</td>\n",
              "      <td>143</td>\n",
              "      <td>0</td>\n",
              "      <td>NaN</td>\n",
              "      <td>NaN</td>\n",
              "      <td>NaN</td>\n",
              "      <td>NaN</td>\n",
              "      <td>NaN</td>\n",
              "      <td>NaN</td>\n",
              "      <td>NaN</td>\n",
              "    </tr>\n",
              "  </tbody>\n",
              "</table>\n",
              "</div>"
            ],
            "text/plain": [
              "                                         movie_title  ...  aspect_ratio\n",
              "0                                            Avatar   ...          1.78\n",
              "1          Pirates of the Caribbean: At World's End   ...          2.35\n",
              "2                                           Spectre   ...          2.35\n",
              "3                             The Dark Knight Rises   ...          2.35\n",
              "4  Star Wars: Episode VII - The Force Awakens    ...  ...           NaN\n",
              "\n",
              "[5 rows x 24 columns]"
            ]
          },
          "metadata": {
            "tags": []
          },
          "execution_count": 284
        }
      ]
    },
    {
      "cell_type": "markdown",
      "metadata": {
        "id": "mE4PFXhY0Pdt"
      },
      "source": [
        "## Exploración de datos\n",
        "\n",
        "**1.** Explore el dataset y de una descripción del dataset. Algunos puntos que puede tocar son el número de datos en el dataset, número de features, tipos de cada features y rangos, datos erroneos, etc.\n",
        "Aplique el preprocesamiento necesario tal que los datos queden usables para los modelos de clasificación.\n",
        "\n",
        "Nota: Como la parte de exploración puede ser tan compleja y detallada como uno quiera, tendremos una pauta con lo mínimo que uno debería hacer en un dataset. Consideraremos análisis más detallados como un bonus a esta u otras tareas."
      ]
    },
    {
      "cell_type": "markdown",
      "metadata": {
        "id": "kgaSDThNM_Pm"
      },
      "source": [
        "Como una guía para encaminar la exploración, puede considerar los siguientes hints.\n",
        "\n",
        "**Hints generales:**\n",
        "* Los datos no vienen limpios y tienen varios problemas que usted sabe como solucionar.\n",
        "* Qué tipos de datos tiene cada columna?\n",
        "* Cómo se relacionan las features?\n",
        "\n",
        "**Hints para bonus:** (no todos los hints corresponden a un puro análisis o procesamiento que pueden hacer sobre los datos, 2 hints pueden corresponden a la misma recomendación)\n",
        "* Hay features (categóricas) que no aportan información, qué análisis le serviría para ver cómo impactan en el score?\n",
        "* Revise los nombres de actores y directores.\n",
        "* Algunas features tienen outliers, encuéntrelos y limpie el dataset. Recuerde el boxplot.\n",
        "* Qué pasa si hay features extremadamente relacionadas entre sí?\n",
        "* Temporalmente, son todos los datos representativos al escenario actual?\n",
        "* Considere el siguiente código y vea si le sirve para algún tipo de análisis:\n",
        "```python\n",
        "feature = \"...\"\n",
        "# esto cuenta las ocurrencias de cada valor en 'feature'\n",
        "count = data[feature].value_counts()\n",
        "# esto calcula el score promedio por cada valor del 'feature'\n",
        "avg_score = data.groupby(feature)[\"imdb_score\"].mean()\n",
        "# los juntamos en un mismo dataframe\n",
        "count.to_frame().join(avg_score)\n",
        "```\n"
      ]
    },
    {
      "cell_type": "markdown",
      "metadata": {
        "id": "-G_cNoQGHq29"
      },
      "source": [
        "# Respuesta"
      ]
    },
    {
      "cell_type": "markdown",
      "metadata": {
        "id": "8c1ZibNhK-UM"
      },
      "source": [
        "## Exploración inicial\n",
        "\n",
        "Empezaremos viendo las estadísticas básicas del dataset."
      ]
    },
    {
      "cell_type": "code",
      "metadata": {
        "id": "GvgATf2D_xtr",
        "colab": {
          "base_uri": "https://localhost:8080/"
        },
        "outputId": "f5ec1271-1a3e-47a5-8cd0-c176f2a843c1"
      },
      "source": [
        "# Nombre de columnas\n",
        "data.columns"
      ],
      "execution_count": 285,
      "outputs": [
        {
          "output_type": "execute_result",
          "data": {
            "text/plain": [
              "Index(['movie_title', 'imdb_score', 'title_year', 'num_voted_users',\n",
              "       'num_critic_for_reviews', 'num_user_for_reviews', 'color',\n",
              "       'director_name', 'director_facebook_likes', 'actor_1_name',\n",
              "       'actor_1_facebook_likes', 'actor_2_name', 'actor_2_facebook_likes',\n",
              "       'actor_3_name', 'actor_3_facebook_likes', 'cast_total_facebook_likes',\n",
              "       'movie_facebook_likes', 'duration', 'gross', 'language', 'country',\n",
              "       'content_rating', 'budget', 'aspect_ratio'],\n",
              "      dtype='object')"
            ]
          },
          "metadata": {
            "tags": []
          },
          "execution_count": 285
        }
      ]
    },
    {
      "cell_type": "code",
      "metadata": {
        "id": "H0mLmVanALVc",
        "colab": {
          "base_uri": "https://localhost:8080/"
        },
        "outputId": "b0541bc1-b77e-467a-c4b4-355f8c7877ba"
      },
      "source": [
        "# Dimensiones\n",
        "data.shape"
      ],
      "execution_count": 286,
      "outputs": [
        {
          "output_type": "execute_result",
          "data": {
            "text/plain": [
              "(5043, 24)"
            ]
          },
          "metadata": {
            "tags": []
          },
          "execution_count": 286
        }
      ]
    },
    {
      "cell_type": "code",
      "metadata": {
        "id": "58BMl5NpBZrR",
        "colab": {
          "base_uri": "https://localhost:8080/"
        },
        "outputId": "e2879e0e-49f5-4178-c01a-80d3aa079981"
      },
      "source": [
        "# Resumn del dataset\n",
        "data.info()"
      ],
      "execution_count": 287,
      "outputs": [
        {
          "output_type": "stream",
          "text": [
            "<class 'pandas.core.frame.DataFrame'>\n",
            "RangeIndex: 5043 entries, 0 to 5042\n",
            "Data columns (total 24 columns):\n",
            " #   Column                     Non-Null Count  Dtype  \n",
            "---  ------                     --------------  -----  \n",
            " 0   movie_title                5043 non-null   object \n",
            " 1   imdb_score                 5043 non-null   int64  \n",
            " 2   title_year                 4935 non-null   float64\n",
            " 3   num_voted_users            5043 non-null   int64  \n",
            " 4   num_critic_for_reviews     4993 non-null   float64\n",
            " 5   num_user_for_reviews       5022 non-null   float64\n",
            " 6   color                      5024 non-null   object \n",
            " 7   director_name              4939 non-null   object \n",
            " 8   director_facebook_likes    4939 non-null   float64\n",
            " 9   actor_1_name               5036 non-null   object \n",
            " 10  actor_1_facebook_likes     5036 non-null   float64\n",
            " 11  actor_2_name               5030 non-null   object \n",
            " 12  actor_2_facebook_likes     5030 non-null   float64\n",
            " 13  actor_3_name               5020 non-null   object \n",
            " 14  actor_3_facebook_likes     5020 non-null   float64\n",
            " 15  cast_total_facebook_likes  5043 non-null   int64  \n",
            " 16  movie_facebook_likes       5043 non-null   int64  \n",
            " 17  duration                   5028 non-null   float64\n",
            " 18  gross                      4159 non-null   float64\n",
            " 19  language                   5031 non-null   object \n",
            " 20  country                    5038 non-null   object \n",
            " 21  content_rating             4740 non-null   object \n",
            " 22  budget                     4551 non-null   float64\n",
            " 23  aspect_ratio               4714 non-null   float64\n",
            "dtypes: float64(11), int64(4), object(9)\n",
            "memory usage: 945.7+ KB\n"
          ],
          "name": "stdout"
        }
      ]
    },
    {
      "cell_type": "code",
      "metadata": {
        "id": "7MlIRuI5BRsV",
        "colab": {
          "base_uri": "https://localhost:8080/",
          "height": 302
        },
        "outputId": "ccf28566-749e-482e-8507-c8e63e5507e4"
      },
      "source": [
        "# Descripción\n",
        "data.describe()"
      ],
      "execution_count": 288,
      "outputs": [
        {
          "output_type": "execute_result",
          "data": {
            "text/html": [
              "<div>\n",
              "<style scoped>\n",
              "    .dataframe tbody tr th:only-of-type {\n",
              "        vertical-align: middle;\n",
              "    }\n",
              "\n",
              "    .dataframe tbody tr th {\n",
              "        vertical-align: top;\n",
              "    }\n",
              "\n",
              "    .dataframe thead th {\n",
              "        text-align: right;\n",
              "    }\n",
              "</style>\n",
              "<table border=\"1\" class=\"dataframe\">\n",
              "  <thead>\n",
              "    <tr style=\"text-align: right;\">\n",
              "      <th></th>\n",
              "      <th>imdb_score</th>\n",
              "      <th>title_year</th>\n",
              "      <th>num_voted_users</th>\n",
              "      <th>num_critic_for_reviews</th>\n",
              "      <th>num_user_for_reviews</th>\n",
              "      <th>director_facebook_likes</th>\n",
              "      <th>actor_1_facebook_likes</th>\n",
              "      <th>actor_2_facebook_likes</th>\n",
              "      <th>actor_3_facebook_likes</th>\n",
              "      <th>cast_total_facebook_likes</th>\n",
              "      <th>movie_facebook_likes</th>\n",
              "      <th>duration</th>\n",
              "      <th>gross</th>\n",
              "      <th>budget</th>\n",
              "      <th>aspect_ratio</th>\n",
              "    </tr>\n",
              "  </thead>\n",
              "  <tbody>\n",
              "    <tr>\n",
              "      <th>count</th>\n",
              "      <td>5043.000000</td>\n",
              "      <td>4935.000000</td>\n",
              "      <td>5.043000e+03</td>\n",
              "      <td>4993.000000</td>\n",
              "      <td>5022.000000</td>\n",
              "      <td>4939.000000</td>\n",
              "      <td>5036.000000</td>\n",
              "      <td>5030.000000</td>\n",
              "      <td>5020.000000</td>\n",
              "      <td>5043.000000</td>\n",
              "      <td>5043.000000</td>\n",
              "      <td>5028.000000</td>\n",
              "      <td>4.159000e+03</td>\n",
              "      <td>4.551000e+03</td>\n",
              "      <td>4714.000000</td>\n",
              "    </tr>\n",
              "    <tr>\n",
              "      <th>mean</th>\n",
              "      <td>6.439421</td>\n",
              "      <td>2002.470517</td>\n",
              "      <td>8.366816e+04</td>\n",
              "      <td>140.194272</td>\n",
              "      <td>272.770808</td>\n",
              "      <td>686.509212</td>\n",
              "      <td>6560.047061</td>\n",
              "      <td>1651.754473</td>\n",
              "      <td>645.009761</td>\n",
              "      <td>9699.063851</td>\n",
              "      <td>7525.964505</td>\n",
              "      <td>107.201074</td>\n",
              "      <td>4.846841e+07</td>\n",
              "      <td>3.975262e+07</td>\n",
              "      <td>2.220403</td>\n",
              "    </tr>\n",
              "    <tr>\n",
              "      <th>std</th>\n",
              "      <td>1.167476</td>\n",
              "      <td>12.474599</td>\n",
              "      <td>1.384853e+05</td>\n",
              "      <td>121.601675</td>\n",
              "      <td>377.982886</td>\n",
              "      <td>2813.328607</td>\n",
              "      <td>15020.759120</td>\n",
              "      <td>4042.438863</td>\n",
              "      <td>1665.041728</td>\n",
              "      <td>18163.799124</td>\n",
              "      <td>19320.445110</td>\n",
              "      <td>25.197441</td>\n",
              "      <td>6.845299e+07</td>\n",
              "      <td>2.061149e+08</td>\n",
              "      <td>1.385113</td>\n",
              "    </tr>\n",
              "    <tr>\n",
              "      <th>min</th>\n",
              "      <td>2.000000</td>\n",
              "      <td>1916.000000</td>\n",
              "      <td>5.000000e+00</td>\n",
              "      <td>1.000000</td>\n",
              "      <td>1.000000</td>\n",
              "      <td>0.000000</td>\n",
              "      <td>0.000000</td>\n",
              "      <td>0.000000</td>\n",
              "      <td>0.000000</td>\n",
              "      <td>0.000000</td>\n",
              "      <td>0.000000</td>\n",
              "      <td>7.000000</td>\n",
              "      <td>1.620000e+02</td>\n",
              "      <td>2.180000e+02</td>\n",
              "      <td>1.180000</td>\n",
              "    </tr>\n",
              "    <tr>\n",
              "      <th>25%</th>\n",
              "      <td>6.000000</td>\n",
              "      <td>1999.000000</td>\n",
              "      <td>8.593500e+03</td>\n",
              "      <td>50.000000</td>\n",
              "      <td>65.000000</td>\n",
              "      <td>7.000000</td>\n",
              "      <td>614.000000</td>\n",
              "      <td>281.000000</td>\n",
              "      <td>133.000000</td>\n",
              "      <td>1411.000000</td>\n",
              "      <td>0.000000</td>\n",
              "      <td>93.000000</td>\n",
              "      <td>5.340988e+06</td>\n",
              "      <td>6.000000e+06</td>\n",
              "      <td>1.850000</td>\n",
              "    </tr>\n",
              "    <tr>\n",
              "      <th>50%</th>\n",
              "      <td>7.000000</td>\n",
              "      <td>2005.000000</td>\n",
              "      <td>3.435900e+04</td>\n",
              "      <td>110.000000</td>\n",
              "      <td>156.000000</td>\n",
              "      <td>49.000000</td>\n",
              "      <td>988.000000</td>\n",
              "      <td>595.000000</td>\n",
              "      <td>371.500000</td>\n",
              "      <td>3090.000000</td>\n",
              "      <td>166.000000</td>\n",
              "      <td>103.000000</td>\n",
              "      <td>2.551750e+07</td>\n",
              "      <td>2.000000e+07</td>\n",
              "      <td>2.350000</td>\n",
              "    </tr>\n",
              "    <tr>\n",
              "      <th>75%</th>\n",
              "      <td>7.000000</td>\n",
              "      <td>2011.000000</td>\n",
              "      <td>9.630900e+04</td>\n",
              "      <td>195.000000</td>\n",
              "      <td>326.000000</td>\n",
              "      <td>194.500000</td>\n",
              "      <td>11000.000000</td>\n",
              "      <td>918.000000</td>\n",
              "      <td>636.000000</td>\n",
              "      <td>13756.500000</td>\n",
              "      <td>3000.000000</td>\n",
              "      <td>118.000000</td>\n",
              "      <td>6.230944e+07</td>\n",
              "      <td>4.500000e+07</td>\n",
              "      <td>2.350000</td>\n",
              "    </tr>\n",
              "    <tr>\n",
              "      <th>max</th>\n",
              "      <td>10.000000</td>\n",
              "      <td>2016.000000</td>\n",
              "      <td>1.689764e+06</td>\n",
              "      <td>813.000000</td>\n",
              "      <td>5060.000000</td>\n",
              "      <td>23000.000000</td>\n",
              "      <td>640000.000000</td>\n",
              "      <td>137000.000000</td>\n",
              "      <td>23000.000000</td>\n",
              "      <td>656730.000000</td>\n",
              "      <td>349000.000000</td>\n",
              "      <td>511.000000</td>\n",
              "      <td>7.605058e+08</td>\n",
              "      <td>1.221550e+10</td>\n",
              "      <td>16.000000</td>\n",
              "    </tr>\n",
              "  </tbody>\n",
              "</table>\n",
              "</div>"
            ],
            "text/plain": [
              "        imdb_score   title_year  ...        budget  aspect_ratio\n",
              "count  5043.000000  4935.000000  ...  4.551000e+03   4714.000000\n",
              "mean      6.439421  2002.470517  ...  3.975262e+07      2.220403\n",
              "std       1.167476    12.474599  ...  2.061149e+08      1.385113\n",
              "min       2.000000  1916.000000  ...  2.180000e+02      1.180000\n",
              "25%       6.000000  1999.000000  ...  6.000000e+06      1.850000\n",
              "50%       7.000000  2005.000000  ...  2.000000e+07      2.350000\n",
              "75%       7.000000  2011.000000  ...  4.500000e+07      2.350000\n",
              "max      10.000000  2016.000000  ...  1.221550e+10     16.000000\n",
              "\n",
              "[8 rows x 15 columns]"
            ]
          },
          "metadata": {
            "tags": []
          },
          "execution_count": 288
        }
      ]
    },
    {
      "cell_type": "markdown",
      "metadata": {
        "id": "y2woDb4cMIkJ"
      },
      "source": [
        "## Limpieza de Datos:\n",
        "\n",
        "Lo primero que haremos para limpiar los datos del dataset será buscar instancias duplicadas, las cuales eliminaremos en caso de que existan"
      ]
    },
    {
      "cell_type": "code",
      "metadata": {
        "colab": {
          "base_uri": "https://localhost:8080/",
          "height": 316
        },
        "id": "7Ej7URet6-dj",
        "outputId": "8c840e18-3936-495b-9751-75a570e95a09"
      },
      "source": [
        "print(data.duplicated().sum())\n",
        "duplicates = data[data['movie_title'].duplicated(keep=False)].sort_values('movie_title',ascending=False)\n",
        "duplicates.head()"
      ],
      "execution_count": 289,
      "outputs": [
        {
          "output_type": "stream",
          "text": [
            "45\n"
          ],
          "name": "stdout"
        },
        {
          "output_type": "execute_result",
          "data": {
            "text/html": [
              "<div>\n",
              "<style scoped>\n",
              "    .dataframe tbody tr th:only-of-type {\n",
              "        vertical-align: middle;\n",
              "    }\n",
              "\n",
              "    .dataframe tbody tr th {\n",
              "        vertical-align: top;\n",
              "    }\n",
              "\n",
              "    .dataframe thead th {\n",
              "        text-align: right;\n",
              "    }\n",
              "</style>\n",
              "<table border=\"1\" class=\"dataframe\">\n",
              "  <thead>\n",
              "    <tr style=\"text-align: right;\">\n",
              "      <th></th>\n",
              "      <th>movie_title</th>\n",
              "      <th>imdb_score</th>\n",
              "      <th>title_year</th>\n",
              "      <th>num_voted_users</th>\n",
              "      <th>num_critic_for_reviews</th>\n",
              "      <th>num_user_for_reviews</th>\n",
              "      <th>color</th>\n",
              "      <th>director_name</th>\n",
              "      <th>director_facebook_likes</th>\n",
              "      <th>actor_1_name</th>\n",
              "      <th>actor_1_facebook_likes</th>\n",
              "      <th>actor_2_name</th>\n",
              "      <th>actor_2_facebook_likes</th>\n",
              "      <th>actor_3_name</th>\n",
              "      <th>actor_3_facebook_likes</th>\n",
              "      <th>cast_total_facebook_likes</th>\n",
              "      <th>movie_facebook_likes</th>\n",
              "      <th>duration</th>\n",
              "      <th>gross</th>\n",
              "      <th>language</th>\n",
              "      <th>country</th>\n",
              "      <th>content_rating</th>\n",
              "      <th>budget</th>\n",
              "      <th>aspect_ratio</th>\n",
              "    </tr>\n",
              "  </thead>\n",
              "  <tbody>\n",
              "    <tr>\n",
              "      <th>2169</th>\n",
              "      <td>Wicker Park</td>\n",
              "      <td>7</td>\n",
              "      <td>2004.0</td>\n",
              "      <td>44979</td>\n",
              "      <td>98.0</td>\n",
              "      <td>298.0</td>\n",
              "      <td>Color</td>\n",
              "      <td>Paul McGuigan</td>\n",
              "      <td>118.0</td>\n",
              "      <td>Jessica Paré</td>\n",
              "      <td>489.0</td>\n",
              "      <td>Christopher Cousins</td>\n",
              "      <td>93.0</td>\n",
              "      <td>Mark Camacho</td>\n",
              "      <td>40.0</td>\n",
              "      <td>679</td>\n",
              "      <td>0</td>\n",
              "      <td>114.0</td>\n",
              "      <td>12831121.0</td>\n",
              "      <td>English</td>\n",
              "      <td>USA</td>\n",
              "      <td>PG-13</td>\n",
              "      <td>30000000.0</td>\n",
              "      <td>2.35</td>\n",
              "    </tr>\n",
              "    <tr>\n",
              "      <th>1697</th>\n",
              "      <td>Wicker Park</td>\n",
              "      <td>7</td>\n",
              "      <td>2004.0</td>\n",
              "      <td>44979</td>\n",
              "      <td>98.0</td>\n",
              "      <td>298.0</td>\n",
              "      <td>Color</td>\n",
              "      <td>Paul McGuigan</td>\n",
              "      <td>118.0</td>\n",
              "      <td>Jessica Paré</td>\n",
              "      <td>489.0</td>\n",
              "      <td>Christopher Cousins</td>\n",
              "      <td>93.0</td>\n",
              "      <td>Mark Camacho</td>\n",
              "      <td>40.0</td>\n",
              "      <td>679</td>\n",
              "      <td>0</td>\n",
              "      <td>114.0</td>\n",
              "      <td>12831121.0</td>\n",
              "      <td>English</td>\n",
              "      <td>USA</td>\n",
              "      <td>PG-13</td>\n",
              "      <td>30000000.0</td>\n",
              "      <td>2.35</td>\n",
              "    </tr>\n",
              "    <tr>\n",
              "      <th>1305</th>\n",
              "      <td>Victor Frankenstein</td>\n",
              "      <td>6</td>\n",
              "      <td>2015.0</td>\n",
              "      <td>28618</td>\n",
              "      <td>159.0</td>\n",
              "      <td>91.0</td>\n",
              "      <td>Color</td>\n",
              "      <td>Paul McGuigan</td>\n",
              "      <td>118.0</td>\n",
              "      <td>Daniel Radcliffe</td>\n",
              "      <td>11000.0</td>\n",
              "      <td>Spencer Wilding</td>\n",
              "      <td>1000.0</td>\n",
              "      <td>Daniel Mays</td>\n",
              "      <td>287.0</td>\n",
              "      <td>12876</td>\n",
              "      <td>11000</td>\n",
              "      <td>110.0</td>\n",
              "      <td>5773519.0</td>\n",
              "      <td>English</td>\n",
              "      <td>USA</td>\n",
              "      <td>PG-13</td>\n",
              "      <td>40000000.0</td>\n",
              "      <td>2.35</td>\n",
              "    </tr>\n",
              "    <tr>\n",
              "      <th>2099</th>\n",
              "      <td>Victor Frankenstein</td>\n",
              "      <td>6</td>\n",
              "      <td>2015.0</td>\n",
              "      <td>28621</td>\n",
              "      <td>159.0</td>\n",
              "      <td>91.0</td>\n",
              "      <td>Color</td>\n",
              "      <td>Paul McGuigan</td>\n",
              "      <td>118.0</td>\n",
              "      <td>Daniel Radcliffe</td>\n",
              "      <td>11000.0</td>\n",
              "      <td>Spencer Wilding</td>\n",
              "      <td>1000.0</td>\n",
              "      <td>Daniel Mays</td>\n",
              "      <td>287.0</td>\n",
              "      <td>12876</td>\n",
              "      <td>11000</td>\n",
              "      <td>110.0</td>\n",
              "      <td>5773519.0</td>\n",
              "      <td>English</td>\n",
              "      <td>USA</td>\n",
              "      <td>PG-13</td>\n",
              "      <td>40000000.0</td>\n",
              "      <td>2.35</td>\n",
              "    </tr>\n",
              "    <tr>\n",
              "      <th>1146</th>\n",
              "      <td>Victor Frankenstein</td>\n",
              "      <td>6</td>\n",
              "      <td>2015.0</td>\n",
              "      <td>28618</td>\n",
              "      <td>159.0</td>\n",
              "      <td>91.0</td>\n",
              "      <td>Color</td>\n",
              "      <td>Paul McGuigan</td>\n",
              "      <td>118.0</td>\n",
              "      <td>Daniel Radcliffe</td>\n",
              "      <td>11000.0</td>\n",
              "      <td>Spencer Wilding</td>\n",
              "      <td>1000.0</td>\n",
              "      <td>Daniel Mays</td>\n",
              "      <td>287.0</td>\n",
              "      <td>12876</td>\n",
              "      <td>11000</td>\n",
              "      <td>110.0</td>\n",
              "      <td>5773519.0</td>\n",
              "      <td>English</td>\n",
              "      <td>USA</td>\n",
              "      <td>PG-13</td>\n",
              "      <td>40000000.0</td>\n",
              "      <td>2.35</td>\n",
              "    </tr>\n",
              "  </tbody>\n",
              "</table>\n",
              "</div>"
            ],
            "text/plain": [
              "               movie_title  imdb_score  ...      budget  aspect_ratio\n",
              "2169          Wicker Park            7  ...  30000000.0          2.35\n",
              "1697          Wicker Park            7  ...  30000000.0          2.35\n",
              "1305  Victor Frankenstein            6  ...  40000000.0          2.35\n",
              "2099  Victor Frankenstein            6  ...  40000000.0          2.35\n",
              "1146  Victor Frankenstein            6  ...  40000000.0          2.35\n",
              "\n",
              "[5 rows x 24 columns]"
            ]
          },
          "metadata": {
            "tags": []
          },
          "execution_count": 289
        }
      ]
    },
    {
      "cell_type": "markdown",
      "metadata": {
        "id": "NGJAzRmLFS6o"
      },
      "source": [
        "Dado que encontramos datos duplicados en el dataset, procederemos a eliminarlos para limpiar la base:"
      ]
    },
    {
      "cell_type": "code",
      "metadata": {
        "colab": {
          "base_uri": "https://localhost:8080/"
        },
        "id": "brL-1qqB7g0m",
        "outputId": "8739983e-7e71-4d7b-d1e1-c0ba979539a4"
      },
      "source": [
        "data=data.drop_duplicates(subset=None, \n",
        "                          keep='first', \n",
        "                          inplace=False, \n",
        "                          ignore_index=False)\n",
        "\n",
        "print(data.duplicated().sum())"
      ],
      "execution_count": 290,
      "outputs": [
        {
          "output_type": "stream",
          "text": [
            "0\n"
          ],
          "name": "stdout"
        }
      ]
    },
    {
      "cell_type": "markdown",
      "metadata": {
        "id": "S0KqlEQLOafW"
      },
      "source": [
        "Para seguir limpiando los datos, analizaremos la correlación existente dentro de los atributos del dataset. De este modo, podremos decidir que atributos nos podrían entregar información relevante y cuales no.\n",
        "\n",
        "Por ejemplo, las columnas de facebook_likes de los actores y el director podrían resumirse usando únicamente la columna \"movie_facebook_likes\", ya que a diferencia de los otros atributos similares, este tiene una mayor correlación con imdb_score.\n",
        "\n",
        "Otros atributos que tienen poca correlación con imdb_score son \"budget\" y \"aspect_ratio\", los cuales también podríamos eliminar del dataset."
      ]
    },
    {
      "cell_type": "code",
      "metadata": {
        "id": "3ZTAgECECLpE",
        "colab": {
          "base_uri": "https://localhost:8080/",
          "height": 507
        },
        "outputId": "f0a93c5e-8630-44af-cada-e972c0de0d8e"
      },
      "source": [
        "# Correlación de atributos\n",
        "data.corr() "
      ],
      "execution_count": 291,
      "outputs": [
        {
          "output_type": "execute_result",
          "data": {
            "text/html": [
              "<div>\n",
              "<style scoped>\n",
              "    .dataframe tbody tr th:only-of-type {\n",
              "        vertical-align: middle;\n",
              "    }\n",
              "\n",
              "    .dataframe tbody tr th {\n",
              "        vertical-align: top;\n",
              "    }\n",
              "\n",
              "    .dataframe thead th {\n",
              "        text-align: right;\n",
              "    }\n",
              "</style>\n",
              "<table border=\"1\" class=\"dataframe\">\n",
              "  <thead>\n",
              "    <tr style=\"text-align: right;\">\n",
              "      <th></th>\n",
              "      <th>imdb_score</th>\n",
              "      <th>title_year</th>\n",
              "      <th>num_voted_users</th>\n",
              "      <th>num_critic_for_reviews</th>\n",
              "      <th>num_user_for_reviews</th>\n",
              "      <th>director_facebook_likes</th>\n",
              "      <th>actor_1_facebook_likes</th>\n",
              "      <th>actor_2_facebook_likes</th>\n",
              "      <th>actor_3_facebook_likes</th>\n",
              "      <th>cast_total_facebook_likes</th>\n",
              "      <th>movie_facebook_likes</th>\n",
              "      <th>duration</th>\n",
              "      <th>gross</th>\n",
              "      <th>budget</th>\n",
              "      <th>aspect_ratio</th>\n",
              "    </tr>\n",
              "  </thead>\n",
              "  <tbody>\n",
              "    <tr>\n",
              "      <th>imdb_score</th>\n",
              "      <td>1.000000</td>\n",
              "      <td>-0.203998</td>\n",
              "      <td>0.397445</td>\n",
              "      <td>0.301007</td>\n",
              "      <td>0.288638</td>\n",
              "      <td>0.163431</td>\n",
              "      <td>0.073417</td>\n",
              "      <td>0.077009</td>\n",
              "      <td>0.048115</td>\n",
              "      <td>0.081361</td>\n",
              "      <td>0.241950</td>\n",
              "      <td>0.256052</td>\n",
              "      <td>0.194029</td>\n",
              "      <td>0.030561</td>\n",
              "      <td>0.064157</td>\n",
              "    </tr>\n",
              "    <tr>\n",
              "      <th>title_year</th>\n",
              "      <td>-0.203998</td>\n",
              "      <td>1.000000</td>\n",
              "      <td>0.007232</td>\n",
              "      <td>0.276845</td>\n",
              "      <td>-0.002355</td>\n",
              "      <td>-0.064856</td>\n",
              "      <td>0.086286</td>\n",
              "      <td>0.102083</td>\n",
              "      <td>0.095383</td>\n",
              "      <td>0.109263</td>\n",
              "      <td>0.217227</td>\n",
              "      <td>-0.137076</td>\n",
              "      <td>0.029110</td>\n",
              "      <td>0.044953</td>\n",
              "      <td>0.159494</td>\n",
              "    </tr>\n",
              "    <tr>\n",
              "      <th>num_voted_users</th>\n",
              "      <td>0.397445</td>\n",
              "      <td>0.007232</td>\n",
              "      <td>1.000000</td>\n",
              "      <td>0.624255</td>\n",
              "      <td>0.798691</td>\n",
              "      <td>0.299873</td>\n",
              "      <td>0.191239</td>\n",
              "      <td>0.265317</td>\n",
              "      <td>0.277918</td>\n",
              "      <td>0.261063</td>\n",
              "      <td>0.535218</td>\n",
              "      <td>0.313935</td>\n",
              "      <td>0.635271</td>\n",
              "      <td>0.079069</td>\n",
              "      <td>-0.014510</td>\n",
              "    </tr>\n",
              "    <tr>\n",
              "      <th>num_critic_for_reviews</th>\n",
              "      <td>0.301007</td>\n",
              "      <td>0.276845</td>\n",
              "      <td>0.624255</td>\n",
              "      <td>1.000000</td>\n",
              "      <td>0.608175</td>\n",
              "      <td>0.181246</td>\n",
              "      <td>0.189533</td>\n",
              "      <td>0.280421</td>\n",
              "      <td>0.265591</td>\n",
              "      <td>0.260753</td>\n",
              "      <td>0.681723</td>\n",
              "      <td>0.257529</td>\n",
              "      <td>0.477603</td>\n",
              "      <td>0.119237</td>\n",
              "      <td>-0.050243</td>\n",
              "    </tr>\n",
              "    <tr>\n",
              "      <th>num_user_for_reviews</th>\n",
              "      <td>0.288638</td>\n",
              "      <td>-0.002355</td>\n",
              "      <td>0.798691</td>\n",
              "      <td>0.608175</td>\n",
              "      <td>1.000000</td>\n",
              "      <td>0.223519</td>\n",
              "      <td>0.144768</td>\n",
              "      <td>0.217153</td>\n",
              "      <td>0.225871</td>\n",
              "      <td>0.204547</td>\n",
              "      <td>0.398795</td>\n",
              "      <td>0.328413</td>\n",
              "      <td>0.561006</td>\n",
              "      <td>0.084149</td>\n",
              "      <td>-0.024867</td>\n",
              "    </tr>\n",
              "    <tr>\n",
              "      <th>director_facebook_likes</th>\n",
              "      <td>0.163431</td>\n",
              "      <td>-0.064856</td>\n",
              "      <td>0.299873</td>\n",
              "      <td>0.181246</td>\n",
              "      <td>0.223519</td>\n",
              "      <td>1.000000</td>\n",
              "      <td>0.091374</td>\n",
              "      <td>0.121191</td>\n",
              "      <td>0.123204</td>\n",
              "      <td>0.120781</td>\n",
              "      <td>0.162588</td>\n",
              "      <td>0.173027</td>\n",
              "      <td>0.146368</td>\n",
              "      <td>0.021015</td>\n",
              "      <td>0.001390</td>\n",
              "    </tr>\n",
              "    <tr>\n",
              "      <th>actor_1_facebook_likes</th>\n",
              "      <td>0.073417</td>\n",
              "      <td>0.086286</td>\n",
              "      <td>0.191239</td>\n",
              "      <td>0.189533</td>\n",
              "      <td>0.144768</td>\n",
              "      <td>0.091374</td>\n",
              "      <td>1.000000</td>\n",
              "      <td>0.389749</td>\n",
              "      <td>0.250000</td>\n",
              "      <td>0.952760</td>\n",
              "      <td>0.133604</td>\n",
              "      <td>0.087567</td>\n",
              "      <td>0.153083</td>\n",
              "      <td>0.022202</td>\n",
              "      <td>-0.020262</td>\n",
              "    </tr>\n",
              "    <tr>\n",
              "      <th>actor_2_facebook_likes</th>\n",
              "      <td>0.077009</td>\n",
              "      <td>0.102083</td>\n",
              "      <td>0.265317</td>\n",
              "      <td>0.280421</td>\n",
              "      <td>0.217153</td>\n",
              "      <td>0.121191</td>\n",
              "      <td>0.389749</td>\n",
              "      <td>1.000000</td>\n",
              "      <td>0.556366</td>\n",
              "      <td>0.625837</td>\n",
              "      <td>0.237699</td>\n",
              "      <td>0.129660</td>\n",
              "      <td>0.254172</td>\n",
              "      <td>0.043152</td>\n",
              "      <td>-0.007599</td>\n",
              "    </tr>\n",
              "    <tr>\n",
              "      <th>actor_3_facebook_likes</th>\n",
              "      <td>0.048115</td>\n",
              "      <td>0.095383</td>\n",
              "      <td>0.277918</td>\n",
              "      <td>0.265591</td>\n",
              "      <td>0.225871</td>\n",
              "      <td>0.123204</td>\n",
              "      <td>0.250000</td>\n",
              "      <td>0.556366</td>\n",
              "      <td>1.000000</td>\n",
              "      <td>0.470036</td>\n",
              "      <td>0.267775</td>\n",
              "      <td>0.119806</td>\n",
              "      <td>0.289965</td>\n",
              "      <td>0.045718</td>\n",
              "      <td>-0.003095</td>\n",
              "    </tr>\n",
              "    <tr>\n",
              "      <th>cast_total_facebook_likes</th>\n",
              "      <td>0.081361</td>\n",
              "      <td>0.109263</td>\n",
              "      <td>0.261063</td>\n",
              "      <td>0.260753</td>\n",
              "      <td>0.204547</td>\n",
              "      <td>0.120781</td>\n",
              "      <td>0.952760</td>\n",
              "      <td>0.625837</td>\n",
              "      <td>0.470036</td>\n",
              "      <td>1.000000</td>\n",
              "      <td>0.204378</td>\n",
              "      <td>0.120975</td>\n",
              "      <td>0.240049</td>\n",
              "      <td>0.035525</td>\n",
              "      <td>-0.017977</td>\n",
              "    </tr>\n",
              "    <tr>\n",
              "      <th>movie_facebook_likes</th>\n",
              "      <td>0.241950</td>\n",
              "      <td>0.217227</td>\n",
              "      <td>0.535218</td>\n",
              "      <td>0.681723</td>\n",
              "      <td>0.398795</td>\n",
              "      <td>0.162588</td>\n",
              "      <td>0.133604</td>\n",
              "      <td>0.237699</td>\n",
              "      <td>0.267775</td>\n",
              "      <td>0.204378</td>\n",
              "      <td>1.000000</td>\n",
              "      <td>0.194401</td>\n",
              "      <td>0.370140</td>\n",
              "      <td>0.060564</td>\n",
              "      <td>0.025752</td>\n",
              "    </tr>\n",
              "    <tr>\n",
              "      <th>duration</th>\n",
              "      <td>0.256052</td>\n",
              "      <td>-0.137076</td>\n",
              "      <td>0.313935</td>\n",
              "      <td>0.257529</td>\n",
              "      <td>0.328413</td>\n",
              "      <td>0.173027</td>\n",
              "      <td>0.087567</td>\n",
              "      <td>0.129660</td>\n",
              "      <td>0.119806</td>\n",
              "      <td>0.120975</td>\n",
              "      <td>0.194401</td>\n",
              "      <td>1.000000</td>\n",
              "      <td>0.247443</td>\n",
              "      <td>0.073586</td>\n",
              "      <td>-0.090680</td>\n",
              "    </tr>\n",
              "    <tr>\n",
              "      <th>gross</th>\n",
              "      <td>0.194029</td>\n",
              "      <td>0.029110</td>\n",
              "      <td>0.635271</td>\n",
              "      <td>0.477603</td>\n",
              "      <td>0.561006</td>\n",
              "      <td>0.146368</td>\n",
              "      <td>0.153083</td>\n",
              "      <td>0.254172</td>\n",
              "      <td>0.289965</td>\n",
              "      <td>0.240049</td>\n",
              "      <td>0.370140</td>\n",
              "      <td>0.247443</td>\n",
              "      <td>1.000000</td>\n",
              "      <td>0.101033</td>\n",
              "      <td>0.071362</td>\n",
              "    </tr>\n",
              "    <tr>\n",
              "      <th>budget</th>\n",
              "      <td>0.030561</td>\n",
              "      <td>0.044953</td>\n",
              "      <td>0.079069</td>\n",
              "      <td>0.119237</td>\n",
              "      <td>0.084149</td>\n",
              "      <td>0.021015</td>\n",
              "      <td>0.022202</td>\n",
              "      <td>0.043152</td>\n",
              "      <td>0.045718</td>\n",
              "      <td>0.035525</td>\n",
              "      <td>0.060564</td>\n",
              "      <td>0.073586</td>\n",
              "      <td>0.101033</td>\n",
              "      <td>1.000000</td>\n",
              "      <td>0.006412</td>\n",
              "    </tr>\n",
              "    <tr>\n",
              "      <th>aspect_ratio</th>\n",
              "      <td>0.064157</td>\n",
              "      <td>0.159494</td>\n",
              "      <td>-0.014510</td>\n",
              "      <td>-0.050243</td>\n",
              "      <td>-0.024867</td>\n",
              "      <td>0.001390</td>\n",
              "      <td>-0.020262</td>\n",
              "      <td>-0.007599</td>\n",
              "      <td>-0.003095</td>\n",
              "      <td>-0.017977</td>\n",
              "      <td>0.025752</td>\n",
              "      <td>-0.090680</td>\n",
              "      <td>0.071362</td>\n",
              "      <td>0.006412</td>\n",
              "      <td>1.000000</td>\n",
              "    </tr>\n",
              "  </tbody>\n",
              "</table>\n",
              "</div>"
            ],
            "text/plain": [
              "                           imdb_score  title_year  ...    budget  aspect_ratio\n",
              "imdb_score                   1.000000   -0.203998  ...  0.030561      0.064157\n",
              "title_year                  -0.203998    1.000000  ...  0.044953      0.159494\n",
              "num_voted_users              0.397445    0.007232  ...  0.079069     -0.014510\n",
              "num_critic_for_reviews       0.301007    0.276845  ...  0.119237     -0.050243\n",
              "num_user_for_reviews         0.288638   -0.002355  ...  0.084149     -0.024867\n",
              "director_facebook_likes      0.163431   -0.064856  ...  0.021015      0.001390\n",
              "actor_1_facebook_likes       0.073417    0.086286  ...  0.022202     -0.020262\n",
              "actor_2_facebook_likes       0.077009    0.102083  ...  0.043152     -0.007599\n",
              "actor_3_facebook_likes       0.048115    0.095383  ...  0.045718     -0.003095\n",
              "cast_total_facebook_likes    0.081361    0.109263  ...  0.035525     -0.017977\n",
              "movie_facebook_likes         0.241950    0.217227  ...  0.060564      0.025752\n",
              "duration                     0.256052   -0.137076  ...  0.073586     -0.090680\n",
              "gross                        0.194029    0.029110  ...  0.101033      0.071362\n",
              "budget                       0.030561    0.044953  ...  1.000000      0.006412\n",
              "aspect_ratio                 0.064157    0.159494  ...  0.006412      1.000000\n",
              "\n",
              "[15 rows x 15 columns]"
            ]
          },
          "metadata": {
            "tags": []
          },
          "execution_count": 291
        }
      ]
    },
    {
      "cell_type": "code",
      "metadata": {
        "colab": {
          "base_uri": "https://localhost:8080/",
          "height": 281
        },
        "id": "OToPt0_8QTuS",
        "outputId": "12ae14a6-a835-47c8-efa1-ea7de25802ed"
      },
      "source": [
        "data = data.drop(['director_facebook_likes', 'actor_1_facebook_likes', \n",
        "                  'actor_2_facebook_likes', 'actor_3_facebook_likes', \n",
        "                  'cast_total_facebook_likes', 'budget', 'aspect_ratio', \n",
        "                  'movie_title','num_user_for_reviews'], axis=1)\n",
        "data.head()"
      ],
      "execution_count": 292,
      "outputs": [
        {
          "output_type": "execute_result",
          "data": {
            "text/html": [
              "<div>\n",
              "<style scoped>\n",
              "    .dataframe tbody tr th:only-of-type {\n",
              "        vertical-align: middle;\n",
              "    }\n",
              "\n",
              "    .dataframe tbody tr th {\n",
              "        vertical-align: top;\n",
              "    }\n",
              "\n",
              "    .dataframe thead th {\n",
              "        text-align: right;\n",
              "    }\n",
              "</style>\n",
              "<table border=\"1\" class=\"dataframe\">\n",
              "  <thead>\n",
              "    <tr style=\"text-align: right;\">\n",
              "      <th></th>\n",
              "      <th>imdb_score</th>\n",
              "      <th>title_year</th>\n",
              "      <th>num_voted_users</th>\n",
              "      <th>num_critic_for_reviews</th>\n",
              "      <th>color</th>\n",
              "      <th>director_name</th>\n",
              "      <th>actor_1_name</th>\n",
              "      <th>actor_2_name</th>\n",
              "      <th>actor_3_name</th>\n",
              "      <th>movie_facebook_likes</th>\n",
              "      <th>duration</th>\n",
              "      <th>gross</th>\n",
              "      <th>language</th>\n",
              "      <th>country</th>\n",
              "      <th>content_rating</th>\n",
              "    </tr>\n",
              "  </thead>\n",
              "  <tbody>\n",
              "    <tr>\n",
              "      <th>0</th>\n",
              "      <td>8</td>\n",
              "      <td>2009.0</td>\n",
              "      <td>886204</td>\n",
              "      <td>723.0</td>\n",
              "      <td>Color</td>\n",
              "      <td>James Cameron</td>\n",
              "      <td>CCH Pounder</td>\n",
              "      <td>Joel David Moore</td>\n",
              "      <td>Wes Studi</td>\n",
              "      <td>33000</td>\n",
              "      <td>178.0</td>\n",
              "      <td>760505847.0</td>\n",
              "      <td>English</td>\n",
              "      <td>USA</td>\n",
              "      <td>PG-13</td>\n",
              "    </tr>\n",
              "    <tr>\n",
              "      <th>1</th>\n",
              "      <td>7</td>\n",
              "      <td>2007.0</td>\n",
              "      <td>471220</td>\n",
              "      <td>302.0</td>\n",
              "      <td>Color</td>\n",
              "      <td>Gore Verbinski</td>\n",
              "      <td>Johnny Depp</td>\n",
              "      <td>Orlando Bloom</td>\n",
              "      <td>Jack Davenport</td>\n",
              "      <td>0</td>\n",
              "      <td>169.0</td>\n",
              "      <td>309404152.0</td>\n",
              "      <td>English</td>\n",
              "      <td>USA</td>\n",
              "      <td>PG-13</td>\n",
              "    </tr>\n",
              "    <tr>\n",
              "      <th>2</th>\n",
              "      <td>7</td>\n",
              "      <td>2015.0</td>\n",
              "      <td>275868</td>\n",
              "      <td>602.0</td>\n",
              "      <td>Color</td>\n",
              "      <td>Sam Mendes</td>\n",
              "      <td>Christoph Waltz</td>\n",
              "      <td>Rory Kinnear</td>\n",
              "      <td>Stephanie Sigman</td>\n",
              "      <td>85000</td>\n",
              "      <td>148.0</td>\n",
              "      <td>200074175.0</td>\n",
              "      <td>English</td>\n",
              "      <td>UK</td>\n",
              "      <td>PG-13</td>\n",
              "    </tr>\n",
              "    <tr>\n",
              "      <th>3</th>\n",
              "      <td>8</td>\n",
              "      <td>2012.0</td>\n",
              "      <td>1144337</td>\n",
              "      <td>813.0</td>\n",
              "      <td>Color</td>\n",
              "      <td>Christopher Nolan</td>\n",
              "      <td>Tom Hardy</td>\n",
              "      <td>Christian Bale</td>\n",
              "      <td>Joseph Gordon-Levitt</td>\n",
              "      <td>164000</td>\n",
              "      <td>164.0</td>\n",
              "      <td>448130642.0</td>\n",
              "      <td>English</td>\n",
              "      <td>USA</td>\n",
              "      <td>PG-13</td>\n",
              "    </tr>\n",
              "    <tr>\n",
              "      <th>4</th>\n",
              "      <td>7</td>\n",
              "      <td>NaN</td>\n",
              "      <td>8</td>\n",
              "      <td>NaN</td>\n",
              "      <td>NaN</td>\n",
              "      <td>Doug Walker</td>\n",
              "      <td>Doug Walker</td>\n",
              "      <td>Rob Walker</td>\n",
              "      <td>NaN</td>\n",
              "      <td>0</td>\n",
              "      <td>NaN</td>\n",
              "      <td>NaN</td>\n",
              "      <td>NaN</td>\n",
              "      <td>NaN</td>\n",
              "      <td>NaN</td>\n",
              "    </tr>\n",
              "  </tbody>\n",
              "</table>\n",
              "</div>"
            ],
            "text/plain": [
              "   imdb_score  title_year  num_voted_users  ...  language country content_rating\n",
              "0           8      2009.0           886204  ...   English     USA          PG-13\n",
              "1           7      2007.0           471220  ...   English     USA          PG-13\n",
              "2           7      2015.0           275868  ...   English      UK          PG-13\n",
              "3           8      2012.0          1144337  ...   English     USA          PG-13\n",
              "4           7         NaN                8  ...       NaN     NaN            NaN\n",
              "\n",
              "[5 rows x 15 columns]"
            ]
          },
          "metadata": {
            "tags": []
          },
          "execution_count": 292
        }
      ]
    },
    {
      "cell_type": "code",
      "metadata": {
        "colab": {
          "base_uri": "https://localhost:8080/",
          "height": 286
        },
        "id": "3npGi6aQdM9L",
        "outputId": "8d627400-fe90-4b37-d7a1-f31b329c5777"
      },
      "source": [
        "data.boxplot(column='title_year')"
      ],
      "execution_count": 293,
      "outputs": [
        {
          "output_type": "execute_result",
          "data": {
            "text/plain": [
              "<matplotlib.axes._subplots.AxesSubplot at 0x7fbe677ba810>"
            ]
          },
          "metadata": {
            "tags": []
          },
          "execution_count": 293
        },
        {
          "output_type": "display_data",
          "data": {
            "image/png": "[encoded data removed]",
            "text/plain": [
              "<Figure size 432x288 with 1 Axes>"
            ]
          },
          "metadata": {
            "tags": [],
            "needs_background": "light"
          }
        }
      ]
    },
    {
      "cell_type": "code",
      "metadata": {
        "colab": {
          "base_uri": "https://localhost:8080/",
          "height": 284
        },
        "id": "ZS86zX9wdkOD",
        "outputId": "688f88f8-1760-4e00-9abc-abf9eed8ff50"
      },
      "source": [
        "data = data[data.title_year>1980]\n",
        "data.boxplot(column='title_year')"
      ],
      "execution_count": 294,
      "outputs": [
        {
          "output_type": "execute_result",
          "data": {
            "text/plain": [
              "<matplotlib.axes._subplots.AxesSubplot at 0x7fbe67ea9790>"
            ]
          },
          "metadata": {
            "tags": []
          },
          "execution_count": 294
        },
        {
          "output_type": "display_data",
          "data": {
            "image/png": "[encoded data removed]",
            "text/plain": [
              "<Figure size 432x288 with 1 Axes>"
            ]
          },
          "metadata": {
            "tags": [],
            "needs_background": "light"
          }
        }
      ]
    },
    {
      "cell_type": "code",
      "metadata": {
        "id": "qauS0N0_eDJn"
      },
      "source": [
        "#data.boxplot(column='num_critic_for_reviews')"
      ],
      "execution_count": 295,
      "outputs": []
    },
    {
      "cell_type": "code",
      "metadata": {
        "id": "iFyTK3mledDb"
      },
      "source": [
        "#data = data[data.num_critic_for_reviews<500]\n",
        "#data.boxplot(column='num_critic_for_reviews')"
      ],
      "execution_count": 296,
      "outputs": []
    },
    {
      "cell_type": "code",
      "metadata": {
        "id": "-4jDh4eMeQEC"
      },
      "source": [
        "#data.boxplot(column='num_user_for_reviews')"
      ],
      "execution_count": 297,
      "outputs": []
    },
    {
      "cell_type": "code",
      "metadata": {
        "id": "LJTCWQBpelMr"
      },
      "source": [
        "#data = data[data.num_user_for_reviews<1000]\n",
        "#data.boxplot(column='num_user_for_reviews')"
      ],
      "execution_count": 298,
      "outputs": []
    },
    {
      "cell_type": "markdown",
      "metadata": {
        "id": "RC2ZhctWRnyw"
      },
      "source": [
        "Seguiremos ahora con la búsqueda de valores nulos."
      ]
    },
    {
      "cell_type": "code",
      "metadata": {
        "id": "rCJUIA4DQg4k",
        "colab": {
          "base_uri": "https://localhost:8080/"
        },
        "outputId": "1fb82996-5101-46f8-b594-d3df1c8d39db"
      },
      "source": [
        "# Valores Nulos\n",
        "data.isna().sum()"
      ],
      "execution_count": 299,
      "outputs": [
        {
          "output_type": "execute_result",
          "data": {
            "text/plain": [
              "imdb_score                  0\n",
              "title_year                  0\n",
              "num_voted_users             0\n",
              "num_critic_for_reviews     40\n",
              "color                      15\n",
              "director_name               0\n",
              "actor_1_name                7\n",
              "actor_2_name               10\n",
              "actor_3_name               16\n",
              "movie_facebook_likes        0\n",
              "duration                   12\n",
              "gross                     603\n",
              "language                    5\n",
              "country                     1\n",
              "content_rating            253\n",
              "dtype: int64"
            ]
          },
          "metadata": {
            "tags": []
          },
          "execution_count": 299
        }
      ]
    },
    {
      "cell_type": "markdown",
      "metadata": {
        "id": "cYLxOYr2R-Ag"
      },
      "source": [
        "Dado que el atributo 'gross' tiene una gran cantidad de valores nulos (casi un 20%), decidimos eliminar esta columna por completo. Por otro lado, eliminaremos las filas que contengan datos vacíos."
      ]
    },
    {
      "cell_type": "code",
      "metadata": {
        "colab": {
          "base_uri": "https://localhost:8080/",
          "height": 299
        },
        "id": "C8oWkYKZSTnu",
        "outputId": "ab92bc38-3397-4b18-f577-1c47b1b19199"
      },
      "source": [
        "data = data.drop(['gross'], axis=1)\n",
        "data.head()"
      ],
      "execution_count": 300,
      "outputs": [
        {
          "output_type": "execute_result",
          "data": {
            "text/html": [
              "<div>\n",
              "<style scoped>\n",
              "    .dataframe tbody tr th:only-of-type {\n",
              "        vertical-align: middle;\n",
              "    }\n",
              "\n",
              "    .dataframe tbody tr th {\n",
              "        vertical-align: top;\n",
              "    }\n",
              "\n",
              "    .dataframe thead th {\n",
              "        text-align: right;\n",
              "    }\n",
              "</style>\n",
              "<table border=\"1\" class=\"dataframe\">\n",
              "  <thead>\n",
              "    <tr style=\"text-align: right;\">\n",
              "      <th></th>\n",
              "      <th>imdb_score</th>\n",
              "      <th>title_year</th>\n",
              "      <th>num_voted_users</th>\n",
              "      <th>num_critic_for_reviews</th>\n",
              "      <th>color</th>\n",
              "      <th>director_name</th>\n",
              "      <th>actor_1_name</th>\n",
              "      <th>actor_2_name</th>\n",
              "      <th>actor_3_name</th>\n",
              "      <th>movie_facebook_likes</th>\n",
              "      <th>duration</th>\n",
              "      <th>language</th>\n",
              "      <th>country</th>\n",
              "      <th>content_rating</th>\n",
              "    </tr>\n",
              "  </thead>\n",
              "  <tbody>\n",
              "    <tr>\n",
              "      <th>0</th>\n",
              "      <td>8</td>\n",
              "      <td>2009.0</td>\n",
              "      <td>886204</td>\n",
              "      <td>723.0</td>\n",
              "      <td>Color</td>\n",
              "      <td>James Cameron</td>\n",
              "      <td>CCH Pounder</td>\n",
              "      <td>Joel David Moore</td>\n",
              "      <td>Wes Studi</td>\n",
              "      <td>33000</td>\n",
              "      <td>178.0</td>\n",
              "      <td>English</td>\n",
              "      <td>USA</td>\n",
              "      <td>PG-13</td>\n",
              "    </tr>\n",
              "    <tr>\n",
              "      <th>1</th>\n",
              "      <td>7</td>\n",
              "      <td>2007.0</td>\n",
              "      <td>471220</td>\n",
              "      <td>302.0</td>\n",
              "      <td>Color</td>\n",
              "      <td>Gore Verbinski</td>\n",
              "      <td>Johnny Depp</td>\n",
              "      <td>Orlando Bloom</td>\n",
              "      <td>Jack Davenport</td>\n",
              "      <td>0</td>\n",
              "      <td>169.0</td>\n",
              "      <td>English</td>\n",
              "      <td>USA</td>\n",
              "      <td>PG-13</td>\n",
              "    </tr>\n",
              "    <tr>\n",
              "      <th>2</th>\n",
              "      <td>7</td>\n",
              "      <td>2015.0</td>\n",
              "      <td>275868</td>\n",
              "      <td>602.0</td>\n",
              "      <td>Color</td>\n",
              "      <td>Sam Mendes</td>\n",
              "      <td>Christoph Waltz</td>\n",
              "      <td>Rory Kinnear</td>\n",
              "      <td>Stephanie Sigman</td>\n",
              "      <td>85000</td>\n",
              "      <td>148.0</td>\n",
              "      <td>English</td>\n",
              "      <td>UK</td>\n",
              "      <td>PG-13</td>\n",
              "    </tr>\n",
              "    <tr>\n",
              "      <th>3</th>\n",
              "      <td>8</td>\n",
              "      <td>2012.0</td>\n",
              "      <td>1144337</td>\n",
              "      <td>813.0</td>\n",
              "      <td>Color</td>\n",
              "      <td>Christopher Nolan</td>\n",
              "      <td>Tom Hardy</td>\n",
              "      <td>Christian Bale</td>\n",
              "      <td>Joseph Gordon-Levitt</td>\n",
              "      <td>164000</td>\n",
              "      <td>164.0</td>\n",
              "      <td>English</td>\n",
              "      <td>USA</td>\n",
              "      <td>PG-13</td>\n",
              "    </tr>\n",
              "    <tr>\n",
              "      <th>5</th>\n",
              "      <td>7</td>\n",
              "      <td>2012.0</td>\n",
              "      <td>212204</td>\n",
              "      <td>462.0</td>\n",
              "      <td>Color</td>\n",
              "      <td>Andrew Stanton</td>\n",
              "      <td>Daryl Sabara</td>\n",
              "      <td>Samantha Morton</td>\n",
              "      <td>Polly Walker</td>\n",
              "      <td>24000</td>\n",
              "      <td>132.0</td>\n",
              "      <td>English</td>\n",
              "      <td>USA</td>\n",
              "      <td>PG-13</td>\n",
              "    </tr>\n",
              "  </tbody>\n",
              "</table>\n",
              "</div>"
            ],
            "text/plain": [
              "   imdb_score  title_year  num_voted_users  ...  language country content_rating\n",
              "0           8      2009.0           886204  ...   English     USA          PG-13\n",
              "1           7      2007.0           471220  ...   English     USA          PG-13\n",
              "2           7      2015.0           275868  ...   English      UK          PG-13\n",
              "3           8      2012.0          1144337  ...   English     USA          PG-13\n",
              "5           7      2012.0           212204  ...   English     USA          PG-13\n",
              "\n",
              "[5 rows x 14 columns]"
            ]
          },
          "metadata": {
            "tags": []
          },
          "execution_count": 300
        }
      ]
    },
    {
      "cell_type": "code",
      "metadata": {
        "colab": {
          "base_uri": "https://localhost:8080/"
        },
        "id": "HBLWFiKfSqo1",
        "outputId": "06f5c90b-c0ed-40f7-8ac0-009285caa3b7"
      },
      "source": [
        "data = data.dropna()\n",
        "data.isna().sum()\n",
        "print(data.shape)"
      ],
      "execution_count": 301,
      "outputs": [
        {
          "output_type": "stream",
          "text": [
            "(4316, 14)\n"
          ],
          "name": "stdout"
        }
      ]
    },
    {
      "cell_type": "markdown",
      "metadata": {
        "id": "EiLtCD-D0RwP"
      },
      "source": [
        "## Entrenamiento y Evaluación\n",
        "\n",
        "**2.** Escoja 2 modelos que hayan visto dentro del curso y entrénelos sobre los datos trabajados en la parte anterior. Recuerde aplicar buenas prácticas de entrenamiento vistas en clases y aplicadas en la tarea anterior. Evalúe los modelos en base a métricas vistas en el curso. Puede hacer gráficos o generar tablas para analizar y comparar los modelos."
      ]
    },
    {
      "cell_type": "code",
      "metadata": {
        "id": "BAPOfuGq7IKT"
      },
      "source": [
        "from sklearn.model_selection import train_test_split\n",
        "from sklearn import preprocessing\n",
        "from sklearn.svm import SVC\n",
        "from sklearn.tree import DecisionTreeClassifier\n",
        "from sklearn.metrics import accuracy_score\n",
        "from sklearn.metrics import classification_report"
      ],
      "execution_count": 302,
      "outputs": []
    },
    {
      "cell_type": "code",
      "metadata": {
        "id": "KW2qxvHKAZ3r",
        "colab": {
          "base_uri": "https://localhost:8080/"
        },
        "outputId": "70125879-e16d-457f-bf4c-80a7978f2105"
      },
      "source": [
        "# tipos de datos\n",
        "data.dtypes"
      ],
      "execution_count": 303,
      "outputs": [
        {
          "output_type": "execute_result",
          "data": {
            "text/plain": [
              "imdb_score                  int64\n",
              "title_year                float64\n",
              "num_voted_users             int64\n",
              "num_critic_for_reviews    float64\n",
              "color                      object\n",
              "director_name              object\n",
              "actor_1_name               object\n",
              "actor_2_name               object\n",
              "actor_3_name               object\n",
              "movie_facebook_likes        int64\n",
              "duration                  float64\n",
              "language                   object\n",
              "country                    object\n",
              "content_rating             object\n",
              "dtype: object"
            ]
          },
          "metadata": {
            "tags": []
          },
          "execution_count": 303
        }
      ]
    },
    {
      "cell_type": "markdown",
      "metadata": {
        "id": "oLik4kIAaYyt"
      },
      "source": [
        "Dado que tenemos muchos datos en formato de strings, procederemos a asignarles un identificador para poder usarlos correctamente:"
      ]
    },
    {
      "cell_type": "code",
      "metadata": {
        "colab": {
          "base_uri": "https://localhost:8080/",
          "height": 215
        },
        "id": "WXvAgVkUZ-CJ",
        "outputId": "dacda64c-0c34-44b4-a7f0-dfe323bd9117"
      },
      "source": [
        "# Label Encoder, que asigna un id por cada valor único en formato str\n",
        "label_encoder = preprocessing.LabelEncoder()\n",
        "\n",
        "# Usamos el label encoder en cada columna con datos no numéricos\n",
        "data.color = label_encoder.fit_transform(data.color)\n",
        "data.director_name = label_encoder.fit_transform(data.director_name)\n",
        "data.actor_1_name = label_encoder.fit_transform(data.actor_1_name)\n",
        "data.actor_2_name = label_encoder.fit_transform(data.actor_2_name)\n",
        "data.actor_3_name = label_encoder.fit_transform(data.actor_3_name)\n",
        "data.language = label_encoder.fit_transform(data.language)\n",
        "data.country = label_encoder.fit_transform(data.country)\n",
        "data.content_rating = label_encoder.fit_transform(data.content_rating)\n",
        "\n",
        "data.head()"
      ],
      "execution_count": 304,
      "outputs": [
        {
          "output_type": "execute_result",
          "data": {
            "text/html": [
              "<div>\n",
              "<style scoped>\n",
              "    .dataframe tbody tr th:only-of-type {\n",
              "        vertical-align: middle;\n",
              "    }\n",
              "\n",
              "    .dataframe tbody tr th {\n",
              "        vertical-align: top;\n",
              "    }\n",
              "\n",
              "    .dataframe thead th {\n",
              "        text-align: right;\n",
              "    }\n",
              "</style>\n",
              "<table border=\"1\" class=\"dataframe\">\n",
              "  <thead>\n",
              "    <tr style=\"text-align: right;\">\n",
              "      <th></th>\n",
              "      <th>imdb_score</th>\n",
              "      <th>title_year</th>\n",
              "      <th>num_voted_users</th>\n",
              "      <th>num_critic_for_reviews</th>\n",
              "      <th>color</th>\n",
              "      <th>director_name</th>\n",
              "      <th>actor_1_name</th>\n",
              "      <th>actor_2_name</th>\n",
              "      <th>actor_3_name</th>\n",
              "      <th>movie_facebook_likes</th>\n",
              "      <th>duration</th>\n",
              "      <th>language</th>\n",
              "      <th>country</th>\n",
              "      <th>content_rating</th>\n",
              "    </tr>\n",
              "  </thead>\n",
              "  <tbody>\n",
              "    <tr>\n",
              "      <th>0</th>\n",
              "      <td>8</td>\n",
              "      <td>2009.0</td>\n",
              "      <td>886204</td>\n",
              "      <td>723.0</td>\n",
              "      <td>1</td>\n",
              "      <td>766</td>\n",
              "      <td>212</td>\n",
              "      <td>1161</td>\n",
              "      <td>2945</td>\n",
              "      <td>33000</td>\n",
              "      <td>178.0</td>\n",
              "      <td>10</td>\n",
              "      <td>52</td>\n",
              "      <td>4</td>\n",
              "    </tr>\n",
              "    <tr>\n",
              "      <th>1</th>\n",
              "      <td>7</td>\n",
              "      <td>2007.0</td>\n",
              "      <td>471220</td>\n",
              "      <td>302.0</td>\n",
              "      <td>1</td>\n",
              "      <td>668</td>\n",
              "      <td>803</td>\n",
              "      <td>1852</td>\n",
              "      <td>1173</td>\n",
              "      <td>0</td>\n",
              "      <td>169.0</td>\n",
              "      <td>10</td>\n",
              "      <td>52</td>\n",
              "      <td>4</td>\n",
              "    </tr>\n",
              "    <tr>\n",
              "      <th>2</th>\n",
              "      <td>7</td>\n",
              "      <td>2015.0</td>\n",
              "      <td>275868</td>\n",
              "      <td>602.0</td>\n",
              "      <td>1</td>\n",
              "      <td>1709</td>\n",
              "      <td>288</td>\n",
              "      <td>2070</td>\n",
              "      <td>2682</td>\n",
              "      <td>85000</td>\n",
              "      <td>148.0</td>\n",
              "      <td>10</td>\n",
              "      <td>51</td>\n",
              "      <td>4</td>\n",
              "    </tr>\n",
              "    <tr>\n",
              "      <th>3</th>\n",
              "      <td>8</td>\n",
              "      <td>2012.0</td>\n",
              "      <td>1144337</td>\n",
              "      <td>813.0</td>\n",
              "      <td>1</td>\n",
              "      <td>320</td>\n",
              "      <td>1598</td>\n",
              "      <td>447</td>\n",
              "      <td>1487</td>\n",
              "      <td>164000</td>\n",
              "      <td>164.0</td>\n",
              "      <td>10</td>\n",
              "      <td>52</td>\n",
              "      <td>4</td>\n",
              "    </tr>\n",
              "    <tr>\n",
              "      <th>5</th>\n",
              "      <td>7</td>\n",
              "      <td>2012.0</td>\n",
              "      <td>212204</td>\n",
              "      <td>462.0</td>\n",
              "      <td>1</td>\n",
              "      <td>83</td>\n",
              "      <td>365</td>\n",
              "      <td>2122</td>\n",
              "      <td>2315</td>\n",
              "      <td>24000</td>\n",
              "      <td>132.0</td>\n",
              "      <td>10</td>\n",
              "      <td>52</td>\n",
              "      <td>4</td>\n",
              "    </tr>\n",
              "  </tbody>\n",
              "</table>\n",
              "</div>"
            ],
            "text/plain": [
              "   imdb_score  title_year  num_voted_users  ...  language  country  content_rating\n",
              "0           8      2009.0           886204  ...        10       52               4\n",
              "1           7      2007.0           471220  ...        10       52               4\n",
              "2           7      2015.0           275868  ...        10       51               4\n",
              "3           8      2012.0          1144337  ...        10       52               4\n",
              "5           7      2012.0           212204  ...        10       52               4\n",
              "\n",
              "[5 rows x 14 columns]"
            ]
          },
          "metadata": {
            "tags": []
          },
          "execution_count": 304
        }
      ]
    },
    {
      "cell_type": "code",
      "metadata": {
        "colab": {
          "base_uri": "https://localhost:8080/"
        },
        "id": "BdxmmcMNVYdL",
        "outputId": "c1504372-c9ac-470c-acba-fc88c6191171"
      },
      "source": [
        "trainig_set = data.drop(['imdb_score'], axis=1)\n",
        "\n",
        "train_X, test_X, train_imdb, test_imdb = train_test_split(trainig_set,\n",
        "                                                          data['imdb_score'],\n",
        "                                                          test_size=.33, random_state=37,\n",
        "                                                          stratify=data[\"imdb_score\"])\n",
        "\n",
        "print(f\"Training examples: {len(train_X)}, testing examples {len(test_X)}\")"
      ],
      "execution_count": 305,
      "outputs": [
        {
          "output_type": "stream",
          "text": [
            "Training examples: 2891, testing examples 1425\n"
          ],
          "name": "stdout"
        }
      ]
    },
    {
      "cell_type": "code",
      "metadata": {
        "colab": {
          "base_uri": "https://localhost:8080/"
        },
        "id": "rR3rg5UcbxPk",
        "outputId": "ecbbd058-4483-40e3-e99e-44548d4b2ac2"
      },
      "source": [
        "classifier_Tree = DecisionTreeClassifier()\n",
        "classifier_Tree.fit(train_X, train_imdb)\n",
        "\n",
        "predicciones_Tree = classifier_Tree.predict(test_X)\n",
        "accuracy_Tree = accuracy_score(test_imdb, predicciones_Tree)\n",
        "print(f\"Accuracy: {accuracy_Tree:.2%}\")"
      ],
      "execution_count": 306,
      "outputs": [
        {
          "output_type": "stream",
          "text": [
            "Accuracy: 37.68%\n"
          ],
          "name": "stdout"
        }
      ]
    },
    {
      "cell_type": "code",
      "metadata": {
        "colab": {
          "base_uri": "https://localhost:8080/"
        },
        "id": "SafweJRey2db",
        "outputId": "a1226147-64df-4455-d5ad-80b301c767da"
      },
      "source": [
        "classifier_Svc = SVC(max_iter=300000)\n",
        "classifier_Svc.fit(train_X, train_imdb)\n",
        "\n",
        "predicciones_Svc = classifier_Svc.predict(test_X)\n",
        "accuracy_Svc = accuracy_score(test_imdb, predicciones_Svc)\n",
        "print(f\"Accuracy: {accuracy_Svc:.2%}\")\n"
      ],
      "execution_count": 307,
      "outputs": [
        {
          "output_type": "stream",
          "text": [
            "Accuracy: 43.79%\n"
          ],
          "name": "stdout"
        }
      ]
    },
    {
      "cell_type": "code",
      "metadata": {
        "colab": {
          "base_uri": "https://localhost:8080/"
        },
        "id": "P0CMVh8K1COT",
        "outputId": "26261bbb-1a62-4aaf-acf8-80bb87cb5aa8"
      },
      "source": [
        "print(\"-------------------------------------------------------\")\n",
        "print(\"SVC\")\n",
        "print(classification_report(test_imdb, predicciones_Svc))\n",
        "print(\"-------------------------------------------------------\")\n",
        "print(\"Tree\")\n",
        "print(classification_report(test_imdb, predicciones_Tree))\n",
        "print(\"-------------------------------------------------------\")"
      ],
      "execution_count": 308,
      "outputs": [
        {
          "output_type": "stream",
          "text": [
            "-------------------------------------------------------\n",
            "SVC\n",
            "              precision    recall  f1-score   support\n",
            "\n",
            "           2       0.00      0.00      0.00         7\n",
            "           3       0.00      0.00      0.00        18\n",
            "           4       0.00      0.00      0.00        62\n",
            "           5       0.00      0.00      0.00       162\n",
            "           6       0.40      0.86      0.55       496\n",
            "           7       0.49      0.29      0.36       471\n",
            "           8       0.70      0.29      0.41       202\n",
            "           9       1.00      0.29      0.44         7\n",
            "\n",
            "    accuracy                           0.44      1425\n",
            "   macro avg       0.32      0.22      0.22      1425\n",
            "weighted avg       0.41      0.44      0.37      1425\n",
            "\n",
            "-------------------------------------------------------\n",
            "Tree\n",
            "              precision    recall  f1-score   support\n",
            "\n",
            "           2       0.00      0.00      0.00         7\n",
            "           3       0.07      0.06      0.06        18\n",
            "           4       0.20      0.18      0.19        62\n",
            "           5       0.21      0.22      0.21       162\n",
            "           6       0.43      0.42      0.42       496\n",
            "           7       0.40      0.41      0.41       471\n",
            "           8       0.42      0.43      0.42       202\n",
            "           9       0.67      0.29      0.40         7\n",
            "\n",
            "    accuracy                           0.38      1425\n",
            "   macro avg       0.30      0.25      0.26      1425\n",
            "weighted avg       0.38      0.38      0.38      1425\n",
            "\n",
            "-------------------------------------------------------\n"
          ],
          "name": "stdout"
        },
        {
          "output_type": "stream",
          "text": [
            "/usr/local/lib/python3.7/dist-packages/sklearn/metrics/_classification.py:1272: UndefinedMetricWarning:\n",
            "\n",
            "Precision and F-score are ill-defined and being set to 0.0 in labels with no predicted samples. Use `zero_division` parameter to control this behavior.\n",
            "\n"
          ],
          "name": "stderr"
        }
      ]
    },
    {
      "cell_type": "markdown",
      "metadata": {
        "id": "iwH4mwO26Opj"
      },
      "source": [
        "## Conclusiones\n",
        "\n",
        "**3.** Si este fuera un estudio encargado a usted por alguna empresa o cliente, basándose en los análisis que hizo anteriormente, qué conclusiones reportaría? Qué modelo propondría que fuera implementado en el producto del cliente? Por qué?"
      ]
    },
    {
      "cell_type": "markdown",
      "metadata": {
        "id": "m8bxqBlp9JCl"
      },
      "source": [
        "\n",
        "\n",
        "\n",
        ">Respuesta:\n",
        ">\n",
        ">Bajo el estudio realizado se obtuvo que incluso después de limpiar el dataset, eliminar valores nulos, eliminar atributos irrelevantes y eliminar outliers obtenemos clasificadores de bajo rendimiento.  Podemos concluir entonces que falta información, ya sea atributos no considerados o un dataset con mayor cantidad de datos. \n",
        ">\n",
        ">Propondríamos por el momento que se implemente el modelo de clasificación *support vector machine* ya que ha sido el que a presentado mayor rendimiento. No obstante, no podemos asegurar con certeza que este sea el mejor clasificador para este problema, ya que como se dijo anterior mente, todavía hace falta mas información.\n"
      ]
    }
  ]
}