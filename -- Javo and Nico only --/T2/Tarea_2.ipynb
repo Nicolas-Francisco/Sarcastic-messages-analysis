{
  "nbformat": 4,
  "nbformat_minor": 0,
  "metadata": {
    "anaconda-cloud": {},
    "colab": {
      "name": "Tarea_2.ipynb",
      "provenance": [],
      "collapsed_sections": []
    },
    "hide_input": false,
    "kernelspec": {
      "display_name": "Python 3",
      "language": "python",
      "name": "python3"
    },
    "language_info": {
      "codemirror_mode": {
        "name": "ipython",
        "version": 3
      },
      "file_extension": ".py",
      "mimetype": "text/x-python",
      "name": "python",
      "nbconvert_exporter": "python",
      "pygments_lexer": "ipython3",
      "version": "3.7.9"
    },
    "toc": {
      "base_numbering": 1,
      "nav_menu": {},
      "number_sections": true,
      "sideBar": true,
      "skip_h1_title": false,
      "title_cell": "Table of Contents",
      "title_sidebar": "Contents",
      "toc_cell": false,
      "toc_position": {},
      "toc_section_display": true,
      "toc_window_display": false
    },
    "varInspector": {
      "cols": {
        "lenName": 16,
        "lenType": 16,
        "lenVar": 40
      },
      "kernels_config": {
        "python": {
          "delete_cmd_postfix": "",
          "delete_cmd_prefix": "del ",
          "library": "var_list.py",
          "varRefreshCmd": "print(var_dic_list())"
        },
        "r": {
          "delete_cmd_postfix": ") ",
          "delete_cmd_prefix": "rm(",
          "library": "var_list.r",
          "varRefreshCmd": "cat(var_dic_list()) "
        }
      },
      "types_to_exclude": [
        "module",
        "function",
        "builtin_function_or_method",
        "instance",
        "_Feature"
      ],
      "window_display": false
    }
  },
  "cells": [
    {
      "cell_type": "markdown",
      "metadata": {
        "id": "p_XcuC2rXQWb",
        "pycharm": {}
      },
      "source": [
        "# Tarea 2: Clasificación\n",
        "\n",
        "Felipe Bravo, Bárbara Poblete, Hernan Sarmiento, Aymé Arango, Alison Fernandez, Ignacio Meza, Cinthia Mabel Sánchez, Gabriel Ramos\n",
        "\n",
        "**Abril 2021**"
      ]
    },
    {
      "cell_type": "markdown",
      "metadata": {
        "heading_collapsed": true,
        "id": "RvarrC_jXQWe",
        "pycharm": {}
      },
      "source": [
        "## ============= Declaración de compromiso ético =============\n",
        "\n",
        "Nosotros **Nicolás García Ríos** y **Javier Lavados Jillbert**, declaramos que realizamos de manera grupal los pasos de la presente actividad. También declaramos no incurrir en copia, ni compartir nuestras respuestas con otras personas ni con otros grupos. Por lo que, ratificamos que las respuestas son de nuestra propia confección y reflejan nuestro propio conocimiento.\n"
      ]
    },
    {
      "cell_type": "markdown",
      "metadata": {
        "heading_collapsed": true,
        "id": "bxEPucKhXQWg",
        "pycharm": {}
      },
      "source": [
        "# Instrucciones\n",
        "\n",
        "\n",
        "1. Trabajen en equipos de dos personas. Salvo excepciones, no se corregirá entregas con menos de dos integrantes.\n",
        "\n",
        "2. Modifique este archivo `.ipynb` agregando sus respuestas donde corresponda. \n",
        "\n",
        "3. El formato de entrega para esta actividad es un archivo html. **Genere un archivo HTML** usando jupyter (ver tutorial 2) y súbalo a U-Cursos. Basta con que uno de los integrantes haga la entrega. Si ambos hacen una entrega en U-Cursos, se revisará cualquiera de éstas."
      ]
    },
    {
      "cell_type": "markdown",
      "metadata": {
        "heading_collapsed": true,
        "id": "SMUzxXj7XQWi",
        "pycharm": {}
      },
      "source": [
        "# Estructura de la tarea\n",
        "\n",
        "Esta tarea está conformada por preguntas prácticas (donde se requiere completar código) intercaladas con preguntas de interpretación de resultados y descripción de conceptos teóricos vistos en clases. Las preguntas se dividen en 5 partes: \n",
        "\n",
        "1. Explorar los datos.\n",
        "2. Entrenar un clasificador de 3 maneras: \n",
        "    1) Entrenando/Testeando con los mismos datos,\n",
        "    2) Dividiendo el dataset en una parte para entrenar y otra para testear, y\n",
        "    3) Usando cross-validation. Veremos accuracy, precision y recall para luego analizar los resultados. \n",
        "3. Comparar clasificadores con ciertos *baselines* o clasificadores base.\n",
        "4. Seleccionar hiperparámetros.\n",
        "5. Trabajar con clases desbalanceadas."
      ]
    },
    {
      "cell_type": "markdown",
      "metadata": {
        "heading_collapsed": true,
        "id": "NKZg9pEFXQWj",
        "pycharm": {}
      },
      "source": [
        "# Parte 1: Explorar los datos"
      ]
    },
    {
      "cell_type": "markdown",
      "metadata": {
        "hidden": true,
        "id": "wjW5R_p5XQWj",
        "pycharm": {}
      },
      "source": [
        "Usaremos el **Wine Dataset**, que viene en **scikit-learn**. Ejecutaremos la siguiente línea de código para importar la librería que nos permitirá cargarlo."
      ]
    },
    {
      "cell_type": "code",
      "metadata": {
        "ExecuteTime": {
          "end_time": "2020-09-28T01:11:26.464733Z",
          "start_time": "2020-09-28T01:11:25.755057Z"
        },
        "hidden": true,
        "id": "QrBP5aiSXQWk",
        "pycharm": {}
      },
      "source": [
        "from sklearn.datasets import load_wine"
      ],
      "execution_count": null,
      "outputs": []
    },
    {
      "cell_type": "markdown",
      "metadata": {
        "heading_collapsed": true,
        "hidden": true,
        "id": "B3b92IPxXQWn",
        "pycharm": {}
      },
      "source": [
        "## Pregunta 1.1\n",
        "\n",
        "Cargue los datos e indique lo siguiente:\n",
        "* Tamaño del dataset (cantidad de instancias y atributos). \n",
        "* ¿Cuántas clases hay y cuáles son sus nombres?\n",
        "* ¿Cuántas instancias hay en cada clase?\n",
        "\n",
        "Indique en cada caso cómo obtuvo la respuesta, es decir, adjunte código."
      ]
    },
    {
      "cell_type": "code",
      "metadata": {
        "colab": {
          "base_uri": "https://localhost:8080/"
        },
        "id": "zLF5vYeaZzzO",
        "outputId": "db5288be-fa94-46e0-831a-77da897f58b6"
      },
      "source": [
        "wine = load_wine()\n",
        "x = wine.data\n",
        "y = wine.target\n",
        "\n",
        "instancias = len(x)\n",
        "atributos = len(wine.feature_names)\n",
        "clases=len(wine.target_names)\n",
        "nombreClases=wine.target_names\n",
        "\n",
        "print('> El dataset tiene ' + str(instancias) + ' instancias con ' + str(atributos) + ' atributos cada una')\n",
        "print('> Hay '+ str(clases) + ' clases, y estas son las siguientes: ')\n",
        "print(nombreClases)\n",
        "\n",
        "clase0=0\n",
        "clase1=0\n",
        "clase2=0\n",
        "for i in range(len(y)):\n",
        "  ele=y[i]\n",
        "  if ele==0:\n",
        "    clase0+=1\n",
        "  elif ele==1:\n",
        "    clase1+=1\n",
        "  else:\n",
        "    clase2+=1\n",
        "\n",
        "print('> la clase0 tiene '+ str(clase0)+ ', la clase1 tiene '+ str(clase1)+', la clase2 tiene '+str(clase2))  "
      ],
      "execution_count": null,
      "outputs": [
        {
          "output_type": "stream",
          "text": [
            "> El dataset tiene 178 instancias con 13 atributos cada una\n",
            "> Hay 3 clases, y estas son las siguientes: \n",
            "['class_0' 'class_1' 'class_2']\n",
            "> la clase0 tiene 59, la clase1 tiene 71, la clase2 tiene 48\n"
          ],
          "name": "stdout"
        }
      ]
    },
    {
      "cell_type": "markdown",
      "metadata": {
        "heading_collapsed": true,
        "hidden": true,
        "id": "AKH5aB3_XQWs",
        "pycharm": {}
      },
      "source": [
        "## Pregunta 1.2\n",
        "\n",
        "Explique:\n",
        "- ¿Qué hacen las siguientes líneas de código?\n",
        "- ¿Qué nos muestra este gráfico? \n",
        "- ¿Cuáles son las principales observaciones que puede obtener sobre los datos a partir de los gráficos?"
      ]
    },
    {
      "cell_type": "code",
      "metadata": {
        "ExecuteTime": {
          "end_time": "2020-09-28T01:11:33.557708Z",
          "start_time": "2020-09-28T01:11:26.485793Z"
        },
        "hidden": true,
        "id": "C-Gxhet_XQWt",
        "pycharm": {
          "is_executing": false
        },
        "colab": {
          "base_uri": "https://localhost:8080/",
          "height": 901
        },
        "outputId": "3bddbf6f-6e50-4713-a11c-4e334260bfda"
      },
      "source": [
        "## EJECUTAR ESTE BLOQUE\n",
        "\n",
        "import matplotlib.pyplot as plt\n",
        "import seaborn as sns; sns.set(style=\"ticks\", color_codes=True)\n",
        "import pandas as pd\n",
        "\n",
        "wine = load_wine()\n",
        "data = pd.DataFrame(data=wine['data'], columns=wine['feature_names'])\n",
        "# Aquí se crea el dataframe\n",
        "\n",
        "data['target'] = wine['target'] \n",
        "# Agregamosuna columna que contiene las clases del dataframe\n",
        "\n",
        "data['class'] = data['target'].map(lambda ind: wine['target_names'][ind]) \n",
        "# Agregamos otra columna con el nombre de las clases\n",
        "\n",
        "# Creamos un scatter matrix a partir del dataframe con los atributos alcohol, \n",
        "# ash, alcalinity_of_ash, color_intensity y hue\n",
        "g = sns.pairplot(data.iloc[:, [0,2,3,9,10]]) # Parametro kind=\"reg\" agrega una recta\n",
        "plt.show()\n",
        "\n",
        "# Este grafico muestra todas las correlaciones posibles entre los atributos seleccionados.\n",
        "# En los casos donde se compara los atributos entre ellos mismos se muestra un \n",
        "# histograma donde en el eje x estan los valores posibles y en el eje y sus frecuencias.\n",
        "\n",
        "# Principales Observaciones:\n",
        "# del grafico ash vs ash se puede notar una clara tendencia central(modo y media)\n",
        "# del grafico alcohol vs alcohol se puede notar una uniformidad de los datos y la tendencia central no es clara\n",
        "# del grafico color_intensity vs hue se puede deducir que son inversamente proporcinales\n",
        "# de los graficos  alcohol vs color_intesity y ash vs alcanility_of_ash se puede deducir que son directamente proporcinales"
      ],
      "execution_count": null,
      "outputs": [
        {
          "output_type": "display_data",
          "data": {
            "image/png": "[encoded data removed]",
            "text/plain": [
              "<Figure size 900x900 with 30 Axes>"
            ]
          },
          "metadata": {
            "tags": []
          }
        }
      ]
    },
    {
      "cell_type": "markdown",
      "metadata": {
        "id": "SJ-y64fS0v-a"
      },
      "source": [
        "El código anterior Plotea "
      ]
    },
    {
      "cell_type": "markdown",
      "metadata": {
        "heading_collapsed": true,
        "id": "JXcHtXFUXQW1",
        "pycharm": {}
      },
      "source": [
        "# Parte 2: Entrenar/testear clasificadores"
      ]
    },
    {
      "cell_type": "markdown",
      "metadata": {
        "hidden": true,
        "id": "651JYu7VXQW2",
        "pycharm": {}
      },
      "source": [
        "En esta parte useremos el clasificador **Decision Tree**. Veremos distintas formas de usarlo, y vamos a compararlas utilizando diversas métricas. "
      ]
    },
    {
      "cell_type": "markdown",
      "metadata": {
        "id": "y-GjK624Ztyv"
      },
      "source": [
        "## CLASIFICADOR 1"
      ]
    },
    {
      "cell_type": "markdown",
      "metadata": {
        "heading_collapsed": true,
        "hidden": true,
        "id": "6HRB6oDBXQW3",
        "pycharm": {}
      },
      "source": [
        "## Pregunta 2.1\n",
        "\n",
        "Usando el siguiente código, complete lo que falta para cargar los datos, entrenar y hacer una predicción empleando el clasificador. Luego, muestre las métricas de **accuracy**, **precision**, **recall** y **f1-score**."
      ]
    },
    {
      "cell_type": "code",
      "metadata": {
        "ExecuteTime": {
          "end_time": "2020-09-28T01:11:33.665446Z",
          "start_time": "2020-09-28T01:11:33.559713Z"
        },
        "hidden": true,
        "id": "TIKF6nyJXQW3",
        "pycharm": {},
        "colab": {
          "base_uri": "https://localhost:8080/"
        },
        "outputId": "01721ea3-f598-43d1-f7fb-3af97e68395c"
      },
      "source": [
        "## RESPUESTA PREGUNTA 2.1\n",
        "\n",
        "from sklearn.tree import DecisionTreeClassifier\n",
        "from sklearn.metrics import accuracy_score\n",
        "from sklearn.metrics import classification_report\n",
        "\n",
        "clf = DecisionTreeClassifier() #instanciamos un arbol de clasificacion\n",
        "\n",
        "X = wine.data      ## datos, caracteristicas o features \n",
        "y = wine.target    ## clase para cada instancia anterior\n",
        "\n",
        "clf.fit(X, y)   ## Enrenamos usando X (features), y (clase)\n",
        "y_pred=clf.predict(X) # Creamos un prediccion con respecto al mismo dataset\n",
        "\n",
        "print(classification_report(y, y_pred)) # mostramos las metricas pedidas\n"
      ],
      "execution_count": null,
      "outputs": [
        {
          "output_type": "stream",
          "text": [
            "              precision    recall  f1-score   support\n",
            "\n",
            "           0       1.00      1.00      1.00        59\n",
            "           1       1.00      1.00      1.00        71\n",
            "           2       1.00      1.00      1.00        48\n",
            "\n",
            "    accuracy                           1.00       178\n",
            "   macro avg       1.00      1.00      1.00       178\n",
            "weighted avg       1.00      1.00      1.00       178\n",
            "\n"
          ],
          "name": "stdout"
        }
      ]
    },
    {
      "cell_type": "markdown",
      "metadata": {
        "heading_collapsed": true,
        "hidden": true,
        "id": "zsnObGu-XADD"
      },
      "source": [
        "## Pregunta 2.2\n",
        "\n",
        "Explique cada una de las líneas de código de la pregunta 2.1 (omita las líneas que cargan librerías)."
      ]
    },
    {
      "cell_type": "markdown",
      "metadata": {
        "heading_collapsed": true,
        "hidden": true,
        "id": "pNEQK4DYXQW6",
        "pycharm": {}
      },
      "source": [
        "## Pregunta 2.3\n",
        "\n",
        "De acuerdo a las métricas obtenidas: \n",
        "\n",
        "1. ¿Qué opina sobre las predicciones? \n",
        "   \n",
        "   Pese a que la clasificacion es perfecta, este no necesariamente es un buen clasificador ya que se midio con respecto al mismo set de entrenamiento.\n",
        "\n",
        "2. ¿Recomendaría utilizar este clasificador en una aplicacion para clasificar vinos? ¿Por qué?\n",
        "\n",
        "  No, ya que no tenemos certeza de que fuciona correcta debido al modo en que fue testeado.\n",
        "\n",
        "3. ¿Qué problema puede identificar?\n",
        "  \n",
        "  Como ya se menciono, el problema de este modelo es que las metricas no son confiables."
      ]
    },
    {
      "cell_type": "markdown",
      "metadata": {
        "heading_collapsed": true,
        "hidden": true,
        "id": "ZfTp-Sn3XADF"
      },
      "source": [
        "## CLASIFICADOR 2"
      ]
    },
    {
      "cell_type": "markdown",
      "metadata": {
        "hidden": true,
        "id": "Z4uSWz6fXADG"
      },
      "source": [
        "Ahora lo que haremos será dividir nuestro dataset en 70% entrenar (***training set***) y 30% para testear (***testing set***). Use la función ***train_test_split()*** de *sklearn* y utilice las variables `X_train, X_test, y_train, y_test`."
      ]
    },
    {
      "cell_type": "markdown",
      "metadata": {
        "heading_collapsed": true,
        "hidden": true,
        "id": "K2O9O-2HXADG"
      },
      "source": [
        "## Pregunta 2.4\n",
        "\n",
        "Escriba el código necesario para dividir los datos, entrenar el modelo e indicar el **accuracy**, **precision** y **recall** del clasificador. \n",
        "Entrene usando el ***training set*** y pruebe sobre el ***testing set***, en base a la división 70%-30%, respectivamente \n",
        "\n",
        "**NOTA: para dividir el dataset use el parámetro `stratify=y`.**"
      ]
    },
    {
      "cell_type": "code",
      "metadata": {
        "ExecuteTime": {
          "end_time": "2020-09-28T01:11:33.683493Z",
          "start_time": "2020-09-28T01:11:33.667451Z"
        },
        "hidden": true,
        "id": "cYvg3e6nXQW9",
        "pycharm": {},
        "colab": {
          "base_uri": "https://localhost:8080/"
        },
        "outputId": "cc0a5d09-93f4-4204-ec20-29ed2b9878fe"
      },
      "source": [
        "from sklearn.model_selection import train_test_split\n",
        "\n",
        "X_train, X_test, y_train, y_test = train_test_split(X, y, test_size=.30, random_state=37, stratify=y)\n",
        "\n",
        "clf = DecisionTreeClassifier()\n",
        "clf.fit(X_train, y_train)    ## Entrenamos con features X_train y clases y_train\n",
        "\n",
        "y_pred = clf.predict(X_test)   ## Predecimos con nuevos datos (los de test X_test)\n",
        "\n",
        "print(classification_report(y_test, y_pred)) # mostramos las metricas pedidas"
      ],
      "execution_count": null,
      "outputs": [
        {
          "output_type": "stream",
          "text": [
            "              precision    recall  f1-score   support\n",
            "\n",
            "           0       0.94      0.94      0.94        18\n",
            "           1       0.91      0.95      0.93        21\n",
            "           2       1.00      0.93      0.97        15\n",
            "\n",
            "    accuracy                           0.94        54\n",
            "   macro avg       0.95      0.94      0.95        54\n",
            "weighted avg       0.95      0.94      0.94        54\n",
            "\n"
          ],
          "name": "stdout"
        }
      ]
    },
    {
      "cell_type": "markdown",
      "metadata": {
        "heading_collapsed": true,
        "hidden": true,
        "id": "ynsWofRRXADJ"
      },
      "source": [
        "## Pregunta 2.5\n",
        "\n",
        "Según el resultado obtenido en la pregunta anterior, responda lo siguiente:\n",
        "\n",
        "1. ¿Cuál clasificador tiene peores resultados? ¿Por qué?\n",
        "\n",
        "  El clasificador  que tiene los peores resultados el segundo, porque los datos de testeo son distintos a los usados para entrenar el clasificador.\n",
        "\n",
        "2. ¿Considera este clasificador mejor o peor que el anterior? ¿Por qué? \n",
        "\n",
        "  El ultimo clasificador realizado es mejor que el anterior, ya que con este ultimo nos aseguramos que tiene una presicion alta y puede ser generalizable.\n",
        "\n",
        "3. ¿Cuál de las dos formas de entrenar el clasificador prefiere? \n",
        "\n",
        "  La ultima forma por las razones ya mencionadas.\n"
      ]
    },
    {
      "cell_type": "markdown",
      "metadata": {
        "heading_collapsed": true,
        "hidden": true,
        "id": "tL6TPIutXQXD",
        "pycharm": {}
      },
      "source": [
        "## Pregunta 2.6\n",
        "\n",
        "El siguiente código genera una matriz de confusión de los resultados de clasificación de la pregunta 2.4. Ejecute el bloque completo para visualizar el gráfico. Interprete la matriz y comente sobre cada uno de los valores distintos de 0 en la matriz y describa lo que representa."
      ]
    },
    {
      "cell_type": "code",
      "metadata": {
        "ExecuteTime": {
          "end_time": "2020-09-28T01:11:33.937783Z",
          "start_time": "2020-09-28T01:11:33.685499Z"
        },
        "hidden": true,
        "id": "dQFr-d1mXADK"
      },
      "source": [
        "## EJECUTAR ESTE BLOQUE\n",
        "\n",
        "from sklearn.metrics import confusion_matrix\n",
        "from sklearn.utils.multiclass import unique_labels\n",
        "\n",
        "# Compute confusion matrix. By default is not normalized (normalize=None)\n",
        "# If necessary change 'y_pred' according to your variable name\n",
        "cm = confusion_matrix(y_test, y_pred) \n",
        "\n",
        "# Only use the labels that appear in the data\n",
        "classes = wine.target_names[unique_labels(y_test, y_pred)]\n",
        "\n",
        "df = pd.DataFrame(cm, index = classes, columns = classes)\n",
        "\n",
        "g = sns.heatmap(df, annot=True, cmap=\"Blues\")\n",
        "g.set_yticklabels(g.get_yticklabels(), rotation = 0)\n",
        "\n",
        "plt.title('Confusion matrix \\n')\n",
        "plt.xlabel('Predicted label')\n",
        "plt.ylabel('True label')\n",
        "\n",
        "plt.autoscale()"
      ],
      "execution_count": null,
      "outputs": []
    },
    {
      "cell_type": "markdown",
      "metadata": {
        "hidden": true,
        "id": "8nnZ5QTPXADM"
      },
      "source": [
        "## CLASIFICADOR 3"
      ]
    },
    {
      "cell_type": "markdown",
      "metadata": {
        "hidden": true,
        "id": "XmZSQQSJXADN"
      },
      "source": [
        "Para este clasificador utilizaremos Cross-validation. Con cross-validation, el conjunto de entrenamiento se divide en $k$ conjuntos disjuntos; se entrena sobre los datos correspondientes a $k-1$ de éstos, y se evalúa sobre el conjunto restante. Esto se repite $k$ veces, evaluando siempre sobre un conjunto distinto. Teniendo en cuenta el parámetro $k$, a éste método se le llama $k$-fold cross-validation.\n",
        "\n",
        "El código que está a continuación realizará 10-fold cross-validation usando Decision Tree sobre los datos. La forma de estimar el rendimiento del clasificador es, entre otras cosas, calculando el promedio de todos los k-folds.\n",
        "\n",
        "Además se muestra la predición sobre los datos para testear. "
      ]
    },
    {
      "cell_type": "code",
      "metadata": {
        "ExecuteTime": {
          "end_time": "2020-09-28T01:11:34.015989Z",
          "start_time": "2020-09-28T01:11:33.939789Z"
        },
        "hidden": true,
        "id": "gJyyPpzxXQXI",
        "pycharm": {}
      },
      "source": [
        "## EJECUTAR ESTE BLOQUE\n",
        "\n",
        "from sklearn.model_selection import cross_validate\n",
        "import numpy as np\n",
        "\n",
        "scoring = ['precision_macro', 'recall_macro', 'accuracy', 'f1_macro']\n",
        "cv_results = cross_validate(clf, X, y, cv = 10, scoring = scoring, return_train_score= True)\n",
        "\n",
        "print('Promedio Precision:', np.mean(cv_results['test_precision_macro']))\n",
        "print('Promedio Recall:', np.mean(cv_results['test_recall_macro']))\n",
        "print('Promedio F1-score:', np.mean(cv_results['test_f1_macro']))\n",
        "print('Promedio Accucary:', np.mean(cv_results['test_accuracy']))\n",
        "\n",
        "#Si quisieramos mostrar el resultado de cada k-fold, deberiamos quitar la \n",
        "#funcion np.mean la cual retorna el promedio. Esto mostraría una lista con el resultado de cada fold"
      ],
      "execution_count": null,
      "outputs": []
    },
    {
      "cell_type": "markdown",
      "metadata": {
        "hidden": true,
        "id": "U6_ceSH0XQXK",
        "pycharm": {}
      },
      "source": [
        "## Pregunta 2.7\n",
        "\n",
        "- ¿Qué indican los resultados obtenidos? \n",
        "\n",
        "- Compare los valores de las métricas con respecto a lo obtenido en la pregunta 2.4 y comente en qué difieren y por qué.\n",
        "\n",
        "- ¿Qué beneficios tiene emplear cross-validation?"
      ]
    },
    {
      "cell_type": "markdown",
      "metadata": {
        "heading_collapsed": true,
        "id": "LCJ9w1GfXQXL",
        "pycharm": {}
      },
      "source": [
        "# Parte 3: Comparar clasificadores"
      ]
    },
    {
      "cell_type": "markdown",
      "metadata": {
        "hidden": true,
        "id": "XqPvhC1XXADR"
      },
      "source": [
        "Una de las principales tareas en enfoques supervisados es evaluar diferentes clasificadores y encontrar el mejor rendimiento de alguno de ellos. Por ejemplo, si tenemos dos (o más) clasificadores y queremos compararlos entre sí, nos interesa responder: *¿Cuál de los clasificadores es el mejor?* \n",
        "Para responder esta pregunta, no existe una única solución. \n",
        "\n",
        "Lo que haremos a continuación será ejecutar diferentes clasificadores y compararlos en base a las métricas de Precision, Recall y F1-score."
      ]
    },
    {
      "cell_type": "markdown",
      "metadata": {
        "id": "KbremqiYyTNF"
      },
      "source": [
        "### PREGUNTA 3.1"
      ]
    },
    {
      "cell_type": "markdown",
      "metadata": {
        "hidden": true,
        "id": "c9ohYCUFXADR"
      },
      "source": [
        "\n",
        "Para realizar la evaluación de distintos clasificadores, vamos a crear la función `run_classifier()`, la cual evalúa un clasificador `clf` recibido como parámetro, un dataset `X,y` (features y target) y un número de tests llamado `num_test`. Esta función almacena y retorna los valores de precision, recall y f1-score en la variable `metrics` además de los resultados de predicción.\n",
        "\n",
        "En base a lo anterior, incluya las sentencias que ajusten el modelo junto a su correspondiente predicción sobre los datos. **No use cross-validation ni tampoco el parámetro `random_state`.**\n",
        "\n"
      ]
    },
    {
      "cell_type": "code",
      "metadata": {
        "ExecuteTime": {
          "end_time": "2020-09-28T01:11:34.028494Z",
          "start_time": "2020-09-28T01:11:34.018999Z"
        },
        "hidden": true,
        "id": "TndzyqreXADS"
      },
      "source": [
        "### COMPLETAR ESTE CÓDIGO\n",
        "\n",
        "## run_classifier recibe un clasificador y un dataset (X, y)\n",
        "## y opcionalmente la cantidad de resultados que se quiere obtener del clasificador\n",
        "\n",
        "from sklearn.metrics import f1_score, recall_score, precision_score\n",
        "from sklearn.model_selection import train_test_split\n",
        "import numpy as np\n",
        "\n",
        "def run_classifier(clf, X, y, num_tests=100):\n",
        "    metrics = {'f1-score': [], 'precision': [], 'recall': []}\n",
        "    \n",
        "    for _ in range(num_tests):\n",
        "        X_train, X_test, y_train, y_test = train_test_split(X, y, test_size=.30)\n",
        "        ### INICIO COMPLETAR ACÁ \n",
        "        \n",
        "        #### TIP: en base a los set de entrenamiento, genere la variable 'predictions' \n",
        "        #### que contiene las predicciones del modelo\n",
        "        \n",
        "        \n",
        "        ### FIN COMPLETAR ACÁ\n",
        "        \n",
        "        metrics['y_pred'] = predictions\n",
        "        metrics['f1-score'].append(f1_score(y_test, predictions)) \n",
        "        metrics['recall'].append(recall_score(y_test, predictions))\n",
        "        metrics['precision'].append(precision_score(y_test, predictions))\n",
        "    \n",
        "    return metrics"
      ],
      "execution_count": null,
      "outputs": []
    },
    {
      "cell_type": "markdown",
      "metadata": {
        "hidden": true,
        "id": "VjXFx9xIXADU"
      },
      "source": [
        "Luego de completar el código anterior, ejecute el siguiente bloque para comparar distintos clasificadores. \n",
        "Usaremos un **dataset de cáncer de mamas** para evaluar. La información del dataset se puede encontrar en el siguiente link: https://scikit-learn.org/stable/modules/generated/sklearn.datasets.load_breast_cancer.html"
      ]
    },
    {
      "cell_type": "code",
      "metadata": {
        "ExecuteTime": {
          "end_time": "2020-09-28T01:11:37.747387Z",
          "start_time": "2020-09-28T01:11:34.031505Z"
        },
        "hidden": true,
        "id": "-P2TfM7_XADU",
        "scrolled": false
      },
      "source": [
        "## ejecutar este código\n",
        "\n",
        "from sklearn.datasets import load_breast_cancer\n",
        "from sklearn.dummy import DummyClassifier\n",
        "from sklearn.tree import DecisionTreeClassifier\n",
        "from sklearn.naive_bayes import GaussianNB  # naive bayes\n",
        "from sklearn.neighbors import KNeighborsClassifier\n",
        "from sklearn.svm import SVC  # support vector machine classifier\n",
        "\n",
        "bc = load_breast_cancer()    # dataset cancer de mamas\n",
        "X = bc.data\n",
        "y = bc.target\n",
        "\n",
        "c0 = (\"Base Dummy\", DummyClassifier(strategy='stratified'))\n",
        "c1 = (\"Decision Tree\", DecisionTreeClassifier(max_depth=5))\n",
        "c2 = (\"Gaussian Naive Bayes\", GaussianNB())\n",
        "c3 = (\"KNN\", KNeighborsClassifier(n_neighbors=10))\n",
        "c4 = (\"Support Vector Machines\", SVC())\n",
        "\n",
        "classifiers = [c0, c1, c2, c3, c4]\n",
        "\n",
        "results = {}\n",
        "for name, clf in classifiers:\n",
        "    metrics = run_classifier(clf, X, y)   # hay que implementarla en el bloque anterior.\n",
        "    results[name] = metrics\n",
        "    print(\"----------------\")\n",
        "    print(\"Resultados para clasificador: \", name) \n",
        "    print(\"Precision promedio:\", np.array(metrics['precision']).mean())\n",
        "    print(\"Recall promedio:\", np.array(metrics['recall']).mean())\n",
        "    print(\"F1-score promedio:\", np.array(metrics['f1-score']).mean())\n",
        "    print(\"----------------\\n\\n\")  "
      ],
      "execution_count": null,
      "outputs": []
    },
    {
      "cell_type": "markdown",
      "metadata": {
        "id": "XHJqBEudcAv_"
      },
      "source": [
        "## Pregunta 3.2\n"
      ]
    },
    {
      "cell_type": "markdown",
      "metadata": {
        "id": "DArUyVkub9l3"
      },
      "source": [
        "Explique cómo escoge un árbol de decisión el atributo raíz.\n",
        "\n"
      ]
    },
    {
      "cell_type": "markdown",
      "metadata": {
        "id": "XwyJoIixcMbP"
      },
      "source": [
        "## Pregunta 3.3"
      ]
    },
    {
      "cell_type": "markdown",
      "metadata": {
        "id": "Y4WI4GyZcNLP"
      },
      "source": [
        "Explique el problema de optimización que resuelve una SVM lineal.\n",
        "\n"
      ]
    },
    {
      "cell_type": "markdown",
      "metadata": {
        "hidden": true,
        "id": "mcdnXXH6XADX"
      },
      "source": [
        "## Pregunta 3.4\n",
        "\n",
        "Analizando los resultados obtenidos de cada clasificador, y basándose en las métricas calculadas. ¿Cuál es el mejor clasificador? ¿Qué métricas observó para tomar esa decisión y por qué? considerando el problema que aborda. Fundamente su respuesta."
      ]
    },
    {
      "cell_type": "markdown",
      "metadata": {
        "hidden": true,
        "id": "S3IArx9qXADX"
      },
      "source": [
        "## Pregunta 3.5\n",
        "\n",
        "Un consultor en minería de datos tiene la siguiente estrategia al momento de enfrentar un problema de clasificación: probar todos los modelos posibles hasta encontrar uno que tenga cero error de entrenamiento. Comente la estrategia del consultor y proponga una estrategia alternativa."
      ]
    },
    {
      "cell_type": "markdown",
      "metadata": {
        "hidden": true,
        "id": "gUR5GMC_XADZ"
      },
      "source": [
        "## Pregunta 3.6\n",
        "\n",
        "El mismo consultor siempre usa la misma métrica para evaluar un modelo: accuracy. Comente la estrategia del consultor y proponga una estrategia alternativa."
      ]
    },
    {
      "cell_type": "markdown",
      "metadata": {
        "ExecuteTime": {
          "end_time": "2020-09-28T00:01:32.541764Z",
          "start_time": "2020-09-28T00:01:32.538758Z"
        },
        "heading_collapsed": true,
        "id": "dcgTjBD7XADZ"
      },
      "source": [
        "# Parte 4: Seleccionar hiperparámetros"
      ]
    },
    {
      "cell_type": "markdown",
      "metadata": {
        "hidden": true,
        "id": "0p7LwuvEXADa"
      },
      "source": [
        "Los hiperparámetros son parámetros que no se aprenden directamente dentro de los estimadores. En scikit-learn se pasan como argumentos al constructor de las clases, por ejemplo cuál kernel usar para Support Vector Classifier, o qué criterio para Decision Tree, etc. Es posible y recomendable buscar en el espacio de hiperparámetros la mejor alternativa.\n",
        "\n",
        "Tenga en cuenta que es común que un pequeño subconjunto de esos parámetros pueda tener un gran impacto en el rendimiento predictivo o de cálculo del modelo, mientras que otros pueden dejar sus valores predeterminados. Se recomienda leer la documentación de la clase de estimador para obtener una mejor comprensión de su comportamiento esperado."
      ]
    },
    {
      "cell_type": "markdown",
      "metadata": {
        "hidden": true,
        "id": "-XnXy9a7XADa"
      },
      "source": [
        "## GridSearchCV\n",
        "\n",
        "Una alternativa para seleccionar hiperparámetros es GridSearchCV, la cual considera exhaustivamente todas las combinaciones de parámetros. GridSearchCV recibe un *estimador*, recibe *param_grid* (un diccionario o una lista de diccionarios con los nombres de los parametros a probar como keys y una lista de los valores a probar), *scoring* una o varias funciones de puntuación (score) para evaluar cada combinación de parametros (opciones válidas: https://scikit-learn.org/stable/modules/model_evaluation.html) y *cv* una extrategia para hacer validación cruzada.\n",
        "\n",
        "El siguiente código muestra cómo seleccionar el número de vecinos y qué pesos otorgar a los vecinos en un clasificador KNN. \n",
        " \n"
      ]
    },
    {
      "cell_type": "code",
      "metadata": {
        "ExecuteTime": {
          "end_time": "2020-09-28T01:11:38.025125Z",
          "start_time": "2020-09-28T01:11:37.749394Z"
        },
        "hidden": true,
        "id": "mlzgox92XADb"
      },
      "source": [
        "from sklearn.model_selection import GridSearchCV\n",
        "from sklearn.metrics import classification_report\n",
        "\n",
        "X_train, X_test, y_train, y_test = train_test_split(X, y, test_size=.30)\n",
        "\n",
        "#Configure tuned_parameters\n",
        "tuned_parameters = {'n_neighbors': [1, 3, 5, 10], \n",
        "                    'weights': ['uniform','distance']}\n",
        "\n",
        "#set scoring metric\n",
        "score = 'precision' \n",
        "\n",
        "#Construir el clf con GridSearch\n",
        "clf = GridSearchCV(KNeighborsClassifier(), \n",
        "                   param_grid=tuned_parameters, \n",
        "                   cv=5,\n",
        "                   scoring=score)\n",
        "\n",
        "#Entrenar clf\n",
        "clf.fit(X_train, y_train)\n",
        "\n",
        "print(\"Mejor combinación de parámetros:\")\n",
        "print(clf.best_params_)\n",
        " \n",
        "y_true, y_pred = y_test, clf.predict(X_test)\n",
        "\n",
        "print(classification_report(y_true, y_pred))"
      ],
      "execution_count": null,
      "outputs": []
    },
    {
      "cell_type": "markdown",
      "metadata": {
        "hidden": true,
        "id": "BX8g3y2zXADd"
      },
      "source": [
        "## Pregunta 4.1\n",
        "\n",
        "*  a) Realice este mismo proceso para un clasificador DecisionTree y los parametros criterion=['gini','entropy'], max_depth=[2,5,10] y tomando como scoring metric 'f1'. Use cv=6\n",
        "*  b) ¿Qué puede decir de los resultados, con cuáles parámetros los obtuvo (revise que su respuesta concuerde con lo que imprime)? ¿Cuál considera que es la principal ventaja de aplicar GridSearchCV? ¿Considera que es necesario seguir explorando los parámetros?"
      ]
    },
    {
      "cell_type": "code",
      "metadata": {
        "ExecuteTime": {
          "end_time": "2020-09-28T01:11:38.300858Z",
          "start_time": "2020-09-28T01:11:38.027133Z"
        },
        "hidden": true,
        "id": "vSmxont4XADd"
      },
      "source": [
        "## RESPUESTA A PREGUNTA 4.1 a)\n",
        "\n",
        "X_train, X_test, y_train, y_test = train_test_split(X, y, test_size=.30)\n",
        "\n",
        "## COMPLETE ACÁ\n",
        "\n",
        "\n",
        "\n",
        "##### FIN COMPLETE ACÁ\n",
        "print(\"Mejor combinación de parámetros:\")\n",
        "print(clf.best_params_)\n",
        " \n",
        "y_true, y_pred = y_test, clf.predict(X_test)\n",
        "print(classification_report(y_true, y_pred))"
      ],
      "execution_count": null,
      "outputs": []
    },
    {
      "cell_type": "markdown",
      "metadata": {
        "id": "Rf4BSIjTXADq"
      },
      "source": [
        "# Parte 5: Trabajar con clases desbalanceadas"
      ]
    },
    {
      "cell_type": "markdown",
      "metadata": {
        "id": "W3fb8kQ7XADq"
      },
      "source": [
        "Para mejorar el rendimiento de un clasificador sobre clases desbalanceadas existen varias técnicas. En esta parte, veremos cómo tratar con este problema usando (sub/over) sampling de las clases.\n",
        "\n",
        "(*Nota: Para ejecutar el siguiente bloque es necesaria la librería `pandas` que viene incluida en Anaconda.*)"
      ]
    },
    {
      "cell_type": "code",
      "metadata": {
        "ExecuteTime": {
          "end_time": "2020-09-28T01:11:38.465037Z",
          "start_time": "2020-09-28T01:11:38.302866Z"
        },
        "id": "lcXqhaBzXADr"
      },
      "source": [
        "import pandas as pd\n",
        "\n",
        "# Cargamos dataset desbalanceado\n",
        "unbalanced_path = 'https://users.dcc.uchile.cl/~hsarmien/mineria/datasets/unbalanced.csv'\n",
        "data = pd.read_csv(unbalanced_path)  # abrimos el archivo csv y lo cargamos en data\n",
        "data.head()"
      ],
      "execution_count": null,
      "outputs": []
    },
    {
      "cell_type": "markdown",
      "metadata": {
        "ExecuteTime": {
          "end_time": "2020-09-28T00:36:22.116129Z",
          "start_time": "2020-09-28T00:36:22.111116Z"
        },
        "id": "QFNMUPd-XADu"
      },
      "source": [
        "Note el desbalance de las clases ejecutando el siguiente código:"
      ]
    },
    {
      "cell_type": "code",
      "metadata": {
        "ExecuteTime": {
          "end_time": "2020-09-28T01:11:38.476062Z",
          "start_time": "2020-09-28T01:11:38.467038Z"
        },
        "id": "lXrcsboyXADu",
        "outputId": "12e71b35-ccac-43f6-de3f-ab88d704cb52"
      },
      "source": [
        "print(\"Distribucion de clases original\")\n",
        "data['Class'].value_counts()"
      ],
      "execution_count": null,
      "outputs": [
        {
          "output_type": "stream",
          "text": [
            "Distribucion de clases original\n"
          ],
          "name": "stdout"
        },
        {
          "output_type": "execute_result",
          "data": {
            "text/plain": [
              "0    225\n",
              "1    126\n",
              "Name: Class, dtype: int64"
            ]
          },
          "metadata": {
            "tags": []
          },
          "execution_count": 13
        }
      ]
    },
    {
      "cell_type": "markdown",
      "metadata": {
        "id": "nlMr6-9GXADx"
      },
      "source": [
        "Antes de hacer algo para tratar el desbalance entre las clases primero debemos dividir en train-test."
      ]
    },
    {
      "cell_type": "code",
      "metadata": {
        "ExecuteTime": {
          "end_time": "2020-09-28T01:11:38.496117Z",
          "start_time": "2020-09-28T01:11:38.478068Z"
        },
        "id": "Qr7JzTG-XADy"
      },
      "source": [
        "data_train, data_test, ytrain, ytest = train_test_split(data, data['Class'], test_size=0.3, stratify=data['Class'])"
      ],
      "execution_count": null,
      "outputs": []
    },
    {
      "cell_type": "markdown",
      "metadata": {
        "id": "NOcCYt0QXAD0"
      },
      "source": [
        "Así queda la proporción de clases en el train después de dividir en train-test."
      ]
    },
    {
      "cell_type": "code",
      "metadata": {
        "ExecuteTime": {
          "end_time": "2020-09-28T01:11:38.507145Z",
          "start_time": "2020-09-28T01:11:38.499125Z"
        },
        "id": "Xzkc7FtJXAD1",
        "outputId": "bc7ed899-a49f-4b53-a771-1176d904d394"
      },
      "source": [
        "ytrain.value_counts()"
      ],
      "execution_count": null,
      "outputs": [
        {
          "output_type": "execute_result",
          "data": {
            "text/plain": [
              "0    157\n",
              "1     88\n",
              "Name: Class, dtype: int64"
            ]
          },
          "metadata": {
            "tags": []
          },
          "execution_count": 15
        }
      ]
    },
    {
      "cell_type": "markdown",
      "metadata": {
        "id": "q_X5CY14XAD3"
      },
      "source": [
        "Ahora, usando el dataset anterior, aplicaremos **oversampling** y **subsampling** al train para que queden balanceados. Ejecute el siguiente código y note ahora que las clases están balanceadas. "
      ]
    },
    {
      "cell_type": "code",
      "metadata": {
        "ExecuteTime": {
          "end_time": "2020-09-28T01:11:38.534218Z",
          "start_time": "2020-09-28T01:11:38.510154Z"
        },
        "id": "WpXH_EZkXAD4",
        "outputId": "c4e82551-890f-4830-8392-7d8f4e847057"
      },
      "source": [
        "import numpy as np\n",
        "\n",
        "print(\"Distribución de clases usando (over/sub) sampling\")\n",
        "print()\n",
        "\n",
        "data_train = data_train.reset_index(drop=True)\n",
        "\n",
        "# oversampling sobre la clase 1\n",
        "idx = np.random.choice(data_train[data_train['Class'] == 1].index, size=69)\n",
        "data_oversampled = pd.concat([data_train, data_train.iloc[idx]])\n",
        "print(\"Data oversampled on class '1'\")\n",
        "print(data_oversampled['Class'].value_counts())\n",
        "print()\n",
        "\n",
        "\n",
        "# subsampling sobre la clase 0\n",
        "idx = np.random.choice(data_train.loc[data_train.Class == 0].index, size=69, replace=False)\n",
        "data_subsampled = data_train.drop(data_train.iloc[idx].index)\n",
        "print(\"Data subsampled on class '0'\")\n",
        "print(data_subsampled['Class'].value_counts())"
      ],
      "execution_count": null,
      "outputs": [
        {
          "output_type": "stream",
          "text": [
            "Distribución de clases usando (over/sub) sampling\n",
            "\n",
            "Data oversampled on class '1'\n",
            "1    157\n",
            "0    157\n",
            "Name: Class, dtype: int64\n",
            "\n",
            "Data subsampled on class '0'\n",
            "1    88\n",
            "0    88\n",
            "Name: Class, dtype: int64\n"
          ],
          "name": "stdout"
        }
      ]
    },
    {
      "cell_type": "markdown",
      "metadata": {
        "id": "lNRoMB4bXAD6"
      },
      "source": [
        "## Pregunta 5. 1\n",
        "\n",
        "¿Por qué aplicar (sub/over) sampling de las clases sobre el conjunto de entrenamiento en lugar de aplicarlo sobre el dataset completo?"
      ]
    },
    {
      "cell_type": "markdown",
      "metadata": {
        "id": "urh4G7FhXAD6"
      },
      "source": [
        "**Nota:** *Librerías como `imblearn` son muy útiles para balancear los datos.*"
      ]
    },
    {
      "cell_type": "markdown",
      "metadata": {
        "id": "AWA7_lHxXAD7"
      },
      "source": [
        "Vamos a entrenar un árbol de decisión (`DecisionTreeClassifier`) sobre los 3 datasets por separado (**original**, con **oversampling** y con **subsampling**) y luego comparamos los resultados usando alguna métrica de evaluación.\n",
        "\n",
        "Ejecute el siguiente bloque para cargar los datos:"
      ]
    },
    {
      "cell_type": "code",
      "metadata": {
        "ExecuteTime": {
          "end_time": "2020-09-28T01:11:38.550261Z",
          "start_time": "2020-09-28T01:11:38.536222Z"
        },
        "id": "O5I5iZDoXAD7"
      },
      "source": [
        "## ejecutar este código para preparar los datos\n",
        "from sklearn.metrics import classification_report\n",
        "\n",
        "# Preparando los data frames para ser compatibles con sklearn\n",
        "\n",
        "# datos test (mismo para todos los conjuntos de entrenamiento)\n",
        "X_test = data_test[data_train.columns[:-1]] # todo hasta la penultima columna\n",
        "y_test = data_test[data_train.columns[-1]]  # la última columna\n",
        "\n",
        "# datos entrenamiento \"originales\"\n",
        "X_orig = data_train[data_train.columns[:-1]] \n",
        "y_orig = data_train[data_train.columns[-1]] \n",
        "\n",
        "# datos entrenamiento \"oversampleados\" \n",
        "X_over = data_oversampled[data_train.columns[:-1]]\n",
        "y_over = data_oversampled[data_train.columns[-1]]\n",
        "\n",
        "# datos entrenamiento \"subsampleados\"\n",
        "X_subs = data_subsampled[data_train.columns[:-1]]\n",
        "y_subs = data_subsampled[data_train.columns[-1]]"
      ],
      "execution_count": null,
      "outputs": []
    },
    {
      "cell_type": "markdown",
      "metadata": {
        "id": "3d4EzFI_XAD8"
      },
      "source": [
        "A continuación, se ejecuta el clasificador en cada uno de los tres casos, usando como datos de entrada lo del bloque anterior. Para cada caso se entrena con el dataset correspondiente y se evalúa con el conjunto de test (el mismo para los tres casos) obtenido con train_test_split sobre los datos originales. \n",
        "\n",
        "Se muestra Precision, Recall y F1-score."
      ]
    },
    {
      "cell_type": "code",
      "metadata": {
        "ExecuteTime": {
          "end_time": "2020-09-28T01:11:38.601396Z",
          "start_time": "2020-09-28T01:11:38.553269Z"
        },
        "id": "AXu3Hx77XAD9",
        "outputId": "47e6c469-710c-4b20-cd07-cf260a14563c"
      },
      "source": [
        "from sklearn.tree import DecisionTreeClassifier\n",
        "from sklearn.model_selection import train_test_split\n",
        "\n",
        "## Pasos:\n",
        "##  - instanciar el clasificador con DecisionTreeClassifier()\n",
        "##  - entrenar con fit()\n",
        "##  - hacer las predicciones\n",
        "##  - mostrar precision, recall y f1-score con classification report.\n",
        "\n",
        "print(\"ORIGINAL::::::::::\")\n",
        "clf_orig = DecisionTreeClassifier()\n",
        "clf_orig.fit(X_orig, y_orig)\n",
        "pred_orig = clf_orig.predict(X_test)\n",
        "print(classification_report(y_test, pred_orig))\n",
        "\n",
        "print(\"OVERSAMPLING::::::::::\")\n",
        "clf_over = DecisionTreeClassifier()\n",
        "clf_over.fit(X_over, y_over)\n",
        "pred_over = clf_over.predict(X_test)\n",
        "print(classification_report(y_test, pred_over))\n",
        "\n",
        "print(\"SUBSAMPLING::::::::::\")\n",
        "clf_subs = DecisionTreeClassifier()\n",
        "clf_subs.fit(X_subs, y_subs)\n",
        "pred_subs = clf_subs.predict(X_test)\n",
        "print(classification_report(y_test, pred_subs))"
      ],
      "execution_count": null,
      "outputs": [
        {
          "output_type": "stream",
          "text": [
            "ORIGINAL::::::::::\n",
            "              precision    recall  f1-score   support\n",
            "\n",
            "           0       0.92      0.96      0.94        68\n",
            "           1       0.91      0.84      0.88        38\n",
            "\n",
            "    accuracy                           0.92       106\n",
            "   macro avg       0.91      0.90      0.91       106\n",
            "weighted avg       0.92      0.92      0.91       106\n",
            "\n",
            "OVERSAMPLING::::::::::\n",
            "              precision    recall  f1-score   support\n",
            "\n",
            "           0       0.93      0.96      0.94        68\n",
            "           1       0.92      0.87      0.89        38\n",
            "\n",
            "    accuracy                           0.92       106\n",
            "   macro avg       0.92      0.91      0.92       106\n",
            "weighted avg       0.92      0.92      0.92       106\n",
            "\n",
            "SUBSAMPLING::::::::::\n",
            "              precision    recall  f1-score   support\n",
            "\n",
            "           0       0.90      0.96      0.93        68\n",
            "           1       0.91      0.82      0.86        38\n",
            "\n",
            "    accuracy                           0.91       106\n",
            "   macro avg       0.91      0.89      0.89       106\n",
            "weighted avg       0.91      0.91      0.90       106\n",
            "\n"
          ],
          "name": "stdout"
        }
      ]
    },
    {
      "cell_type": "markdown",
      "metadata": {
        "id": "5XkE5zruXAD-"
      },
      "source": [
        "## Pregunta 5.2\n",
        "\n",
        "- Observe los resultados obtenidos por clase con cada conjunto de entrenamiento, se puede observar alguna diferencia importante? \n",
        "- Indique una desventaja de usar oversampling y una desventaja de usar subsampling en clasificación."
      ]
    }
  ]
}