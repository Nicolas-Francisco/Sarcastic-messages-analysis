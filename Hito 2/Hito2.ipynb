{
  "nbformat": 4,
  "nbformat_minor": 0,
  "metadata": {
    "colab": {
      "name": "Hito2",
      "provenance": [],
      "collapsed_sections": [],
      "toc_visible": true
    },
    "kernelspec": {
      "name": "python3",
      "display_name": "Python 3"
    }
  },
  "cells": [
    {
      "cell_type": "markdown",
      "metadata": {
        "id": "PyYeB9GSbkMV"
      },
      "source": [
        "# **Análisis de mensajes sarcásticos**\n",
        "##Hito 2\n",
        "\n",
        "###Nicolás García - Javier Lavados - José Triviño - Pablo Gutiérrez - Sebastián Salinas\n"
      ]
    },
    {
      "cell_type": "markdown",
      "metadata": {
        "id": "4Im1ar2MDo06"
      },
      "source": [
        "#**Introducción**\n",
        "\n",
        "El sarcasmo es una forma de comunicación mediante la cual las personas expresan información que debe ser interpretada con el sentido contrario a su significado literal, usualmente con un fin humorístico o de burla. El sarcasmo es principalmente distinguido a través del tono de voz empleado, y depende en gran parte del contexto en el cual se utiliza. La identificación del sarcasmo en datos de texto es uno de los grandes desafíos en el procesamiento de lenguajes naturales (PLN), el cual se ocupa de la formulación e investigación de mecanismos eficaces computacionalmente para la comunicación entre personas y máquinas por medio del lenguaje natural, en contraposición a los lenguajes de programación.\n",
        "\n",
        "\n",
        "Reddit es una red social en la cual los usuarios pueden participar subiendo texto, imágenes, videos o enlaces a distintas comunidades organizadas por tema, también conocidas como “subreddits”, que cubren una gran variedad de tópicos como noticias, política, ciencia, películas, videojuegos específicos, etc. Cada post cuenta con su propia sección de comentarios, donde los usuarios pueden opinar sobre el post en cuestión.\n",
        "\n",
        "\n",
        "Una convención frecuentemente utilizada en esta red social consiste en escribir “/s” al final de un comentario si este debe ser interpretado de forma sarcástica, lo cual sirve para remover cualquier ambigüedad acerca de la naturaleza de este, efectivamente implicando que el usuario desea transmitir el sentimiento opuesto a lo comentado.\n",
        "\n",
        "\n",
        "El propósito de este estudio consiste en analizar el contenido de un [dataset de comentarios sarcásticos de Reddit](https://www.kaggle.com/danofer/sarcasm), utilizando una base de datos con 1.3 millones de comentarios marcados con la etiqueta “/s”, cada uno con el comentario padre correspondiente, contando además con el subreddit del cual fueron extraídos, otorgando así un mayor contexto acerca del tema que está siendo abordado en la conversación."
      ]
    },
    {
      "cell_type": "markdown",
      "metadata": {
        "id": "BEjELcbBEDjd"
      },
      "source": [
        "#**Motivación**\n",
        "\n",
        "El procesamiento de lenguajes naturales (abreviado PLN) es un campo de las ciencias de la computación, de la inteligencia artificial y de la lingüística que estudia las interacciones entre las computadoras y el lenguaje humano. Se ocupa de la formulación e investigación de mecanismos eficaces computacionalmente para la comunicación entre personas y máquinas por medio del lenguaje natural. Una de las principales dificultades en esta disciplina es la inherente ambigüedad presente en las lenguas naturales, tanto a nivel léxico (una palabra puede tener varios significados distintos) o estructural (construcción de árboles sintácticos). En el nivel pragmático, una oración puede no necesariamente significar lo que realmente se está diciendo, y elementos como el sarcasmo pueden alterar completamente el significado de una oración.\n",
        "\n",
        "El sarcasmo como elemento es transmitido principalmente a través del tono de voz empleado, por lo que expresarlo mediante texto puede resultar complicado para los humanos, y aún más complicado puede ser interpretarlo para una máquina. El propósito de este análisis es realizar un estudio donde se puedan encontrar patrones que permitan caracterizar un comentario sarcástico de otros que no lo son, obteniendo información importante para deducir como una máquina podría en un futuro detectar sarcasmo."
      ]
    },
    {
      "cell_type": "markdown",
      "metadata": {
        "id": "m3SQKUq4EJ-P"
      },
      "source": [
        "#**Exploración de datos - Hito 1**\n",
        "\n",
        "La exploración de datos correspondiente al Hito 1 se llevó a cabo sobre la base de datos con comentarios sarcásticos mencionada en la introducción. Lo primero que se realizó fue una revisión inicial del dataset para comprender cómo están estructurados los datos. Esto significa, entender cuantos datos son, cuantas columnas, qué describe cada columna, el tipo de datos de las columnas, entre otras cosas."
      ]
    },
    {
      "cell_type": "code",
      "metadata": {
        "colab": {
          "base_uri": "https://localhost:8080/"
        },
        "id": "cOX6Pz6JMMJP",
        "outputId": "b423c089-2ced-44e8-e19c-63a0b5e18d65"
      },
      "source": [
        "# activate R magic\n",
        "%load_ext rpy2.ipython"
      ],
      "execution_count": null,
      "outputs": [
        {
          "output_type": "stream",
          "text": [
            "The rpy2.ipython extension is already loaded. To reload it, use:\n",
            "  %reload_ext rpy2.ipython\n"
          ],
          "name": "stdout"
        }
      ]
    },
    {
      "cell_type": "code",
      "metadata": {
        "id": "6i4Opt_ZFAMg",
        "colab": {
          "base_uri": "https://localhost:8080/"
        },
        "outputId": "25d4c4cf-207f-4a06-b9d2-d47531645ded"
      },
      "source": [
        "### Importación del dataset descargado localmente\n",
        "%%R\n",
        "library(tidyverse)\n",
        "sarcasmo <- read_csv(\"train-balanced-sarcasm.csv\")\n"
      ],
      "execution_count": null,
      "outputs": [
        {
          "output_type": "stream",
          "text": [
            "\n",
            "── Column specification ────────────────────────────────────────────────────────\n",
            "cols(\n",
            "  label = col_double(),\n",
            "  comment = col_character(),\n",
            "  author = col_character(),\n",
            "  subreddit = col_character(),\n",
            "  score = col_double(),\n",
            "  ups = col_double(),\n",
            "  downs = col_double(),\n",
            "  date = col_character(),\n",
            "  created_utc = col_datetime(format = \"\"),\n",
            "  parent_comment = col_character()\n",
            ")\n",
            "\n",
            "|==================================================================| 100% 243 MB\n"
          ],
          "name": "stdout"
        }
      ]
    },
    {
      "cell_type": "markdown",
      "metadata": {
        "id": "GWw11k3eFEZm"
      },
      "source": [
        "###**Atributos del dataset**\n",
        "\n",
        "Con la función ```head``` se analizaros los primeros datos del dataset y los encabezados de cada atributo. Esto sirvió para llevar a cabo un análisis inicial y verificar que los datos fueron cargados de forma exitosa."
      ]
    },
    {
      "cell_type": "code",
      "metadata": {
        "id": "khpTiJm1FeSq",
        "colab": {
          "base_uri": "https://localhost:8080/"
        },
        "outputId": "63912f5c-9568-4a53-c3dd-83f843477cf5"
      },
      "source": [
        "%%R\n",
        "head(sarcasmo)\n"
      ],
      "execution_count": null,
      "outputs": [
        {
          "output_type": "stream",
          "text": [
            "# A tibble: 6 x 10\n",
            "  label comment     author subreddit score   ups downs date  created_utc        \n",
            "  <dbl> <chr>       <chr>  <chr>     <dbl> <dbl> <dbl> <chr> <dttm>             \n",
            "1     0 \"NC and NH… Trump… politics      2    -1    -1 2016… 2016-10-16 23:55:23\n",
            "2     0 \"You do kn… Shbsh… nba          -4    -1    -1 2016… 2016-11-01 00:24:10\n",
            "3     0 \"They were… Creep… nfl           3     3     0 2016… 2016-09-22 21:45:37\n",
            "4     0 \"This meme… icebr… BlackPeo…    -8    -1    -1 2016… 2016-10-18 21:03:47\n",
            "5     0 \"I could u… cush2… MaddenUl…     6    -1    -1 2016… 2016-12-30 17:00:13\n",
            "6     0 \"I don't p… only7… AskReddit     0     0     0 2016… 2016-09-02 10:35:08\n",
            "# … with 1 more variable: parent_comment <chr>\n"
          ],
          "name": "stdout"
        }
      ]
    },
    {
      "cell_type": "markdown",
      "metadata": {
        "id": "INxfRkEpFhKo"
      },
      "source": [
        "###**Eliminación de valores nulos**\n",
        "\n",
        "Para revisar la presencia de valores inexistentes en el dataset se utilizó la función is.na(), la cual retorna un valor de verdad dependiendo si el dato es nulo o no. Se realizó la operación suma sobre estos valores booleanos, donde un total de 0 indica que no se encontraron valores TRUE en el dataset, indicando que no hay datos inexistentes en las columnas."
      ]
    },
    {
      "cell_type": "code",
      "metadata": {
        "id": "i0-thekmGGYF",
        "colab": {
          "base_uri": "https://localhost:8080/"
        },
        "outputId": "90400df7-0fb9-4329-aa80-8043009dd2c2"
      },
      "source": [
        "%%R\n",
        "# Suma de valores NA en todas las columnas del dataset\n",
        "sum(is.na(sarcasmo$comment))\n",
        "sum(is.na(sarcasmo$author))\n",
        "sum(is.na(sarcasmo$subreddit))\n",
        "sum(is.na(sarcasmo$score))\n",
        "sum(is.na(sarcasmo$ups))\n",
        "sum(is.na(sarcasmo$downs))\n",
        "sum(is.na(sarcasmo$date))\n",
        "sum(is.na(sarcasmo$created_utc))\n",
        "sum(is.na(sarcasmo$parent_comment))\n",
        "\n",
        "\n",
        "# Mostrar existencia de filas con valores NA (notar que no son las que tienen como mentario el string '0', si no las que tienen datos NA)\n",
        "sarcasmo[sarcasmo$comment == 0,]\n"
      ],
      "execution_count": null,
      "outputs": [
        {
          "output_type": "stream",
          "text": [
            "# A tibble: 59 x 10\n",
            "   label comment author    subreddit score   ups downs date  created_utc        \n",
            "   <dbl> <chr>   <chr>     <chr>     <dbl> <dbl> <dbl> <chr> <dttm>             \n",
            " 1     0 0       Anxietyf… pokemongo     6    -1    -1 2016… 2016-12-26 00:27:13\n",
            " 2    NA <NA>    <NA>      <NA>         NA    NA    NA <NA>  NA                 \n",
            " 3    NA <NA>    <NA>      <NA>         NA    NA    NA <NA>  NA                 \n",
            " 4    NA <NA>    <NA>      <NA>         NA    NA    NA <NA>  NA                 \n",
            " 5    NA <NA>    <NA>      <NA>         NA    NA    NA <NA>  NA                 \n",
            " 6    NA <NA>    <NA>      <NA>         NA    NA    NA <NA>  NA                 \n",
            " 7    NA <NA>    <NA>      <NA>         NA    NA    NA <NA>  NA                 \n",
            " 8     0 0       sleeplyb… pcmaster…     1     1     0 2016… 2016-05-22 01:30:49\n",
            " 9    NA <NA>    <NA>      <NA>         NA    NA    NA <NA>  NA                 \n",
            "10    NA <NA>    <NA>      <NA>         NA    NA    NA <NA>  NA                 \n",
            "# … with 49 more rows, and 1 more variable: parent_comment <chr>\n"
          ],
          "name": "stdout"
        }
      ]
    },
    {
      "cell_type": "markdown",
      "metadata": {
        "id": "9bnQtQQyGKs2"
      },
      "source": [
        "Como se puede observar se encontraron valores vacíos. Por lo tanto, con el objetivo de limpiar el dataset se eliminaron las filas con valores nulos."
      ]
    },
    {
      "cell_type": "code",
      "metadata": {
        "id": "yihW5fu4GWFj",
        "colab": {
          "base_uri": "https://localhost:8080/"
        },
        "outputId": "fea4e2aa-5101-4008-ebbf-13ea28f3dfd8"
      },
      "source": [
        "%%R\n",
        "sarcasmo=sarcasmo[is.na(sarcasmo$author)==FALSE,]\n",
        "head(sarcasmo)\n"
      ],
      "execution_count": null,
      "outputs": [
        {
          "output_type": "stream",
          "text": [
            "# A tibble: 6 x 10\n",
            "  label comment     author subreddit score   ups downs date  created_utc        \n",
            "  <dbl> <chr>       <chr>  <chr>     <dbl> <dbl> <dbl> <chr> <dttm>             \n",
            "1     0 \"NC and NH… Trump… politics      2    -1    -1 2016… 2016-10-16 23:55:23\n",
            "2     0 \"You do kn… Shbsh… nba          -4    -1    -1 2016… 2016-11-01 00:24:10\n",
            "3     0 \"They were… Creep… nfl           3     3     0 2016… 2016-09-22 21:45:37\n",
            "4     0 \"This meme… icebr… BlackPeo…    -8    -1    -1 2016… 2016-10-18 21:03:47\n",
            "5     0 \"I could u… cush2… MaddenUl…     6    -1    -1 2016… 2016-12-30 17:00:13\n",
            "6     0 \"I don't p… only7… AskReddit     0     0     0 2016… 2016-09-02 10:35:08\n",
            "# … with 1 more variable: parent_comment <chr>\n"
          ],
          "name": "stdout"
        }
      ]
    },
    {
      "cell_type": "markdown",
      "metadata": {
        "id": "_BEDuRs3GYZ3"
      },
      "source": [
        "### **Dimensiones del dataset**"
      ]
    },
    {
      "cell_type": "code",
      "metadata": {
        "id": "_BxlykfodDk3",
        "colab": {
          "base_uri": "https://localhost:8080/"
        },
        "outputId": "cf11bba7-ba26-4e4e-9957-f51c3eb8c227"
      },
      "source": [
        "%%R\n",
        "dim(sarcasmo)"
      ],
      "execution_count": null,
      "outputs": [
        {
          "output_type": "stream",
          "text": [
            "[1] 1010826      10\n"
          ],
          "name": "stdout"
        }
      ]
    },
    {
      "cell_type": "markdown",
      "metadata": {
        "id": "kd0VN3NAGerg"
      },
      "source": [
        "La función ```summary``` aplica estadísticas a cada columna. En particular, indica el promedio, mediana, quantiles, máximo, mínimo, entre otros. "
      ]
    },
    {
      "cell_type": "code",
      "metadata": {
        "id": "tpd2l57dGgoZ",
        "colab": {
          "base_uri": "https://localhost:8080/"
        },
        "outputId": "ed3e7a4b-ca20-4489-bb82-7ceb909ae434"
      },
      "source": [
        "%%R\n",
        "summary(sarcasmo)\n"
      ],
      "execution_count": null,
      "outputs": [
        {
          "output_type": "stream",
          "text": [
            "     label       comment             author           subreddit        \n",
            " Min.   :0.0   Length:1010826     Length:1010826     Length:1010826    \n",
            " 1st Qu.:0.0   Class :character   Class :character   Class :character  \n",
            " Median :0.5   Mode  :character   Mode  :character   Mode  :character  \n",
            " Mean   :0.5                                                           \n",
            " 3rd Qu.:1.0                                                           \n",
            " Max.   :1.0                                                           \n",
            "     score               ups               downs             date          \n",
            " Min.   :-507.000   Min.   :-507.000   Min.   :-1.0000   Length:1010826    \n",
            " 1st Qu.:   1.000   1st Qu.:   0.000   1st Qu.: 0.0000   Class :character  \n",
            " Median :   2.000   Median :   1.000   Median : 0.0000   Mode  :character  \n",
            " Mean   :   6.886   Mean   :   5.499   Mean   :-0.1459                     \n",
            " 3rd Qu.:   4.000   3rd Qu.:   3.000   3rd Qu.: 0.0000                     \n",
            " Max.   :9070.000   Max.   :5163.000   Max.   : 0.0000                     \n",
            "  created_utc                  parent_comment    \n",
            " Min.   :2009-01-01 23:08:43   Length:1010826    \n",
            " 1st Qu.:2015-01-08 16:18:52   Class :character  \n",
            " Median :2015-11-30 20:19:20   Mode  :character  \n",
            " Mean   :2015-08-04 10:24:14                     \n",
            " 3rd Qu.:2016-07-15 13:07:50                     \n",
            " Max.   :2016-12-31 23:58:26                     \n"
          ],
          "name": "stdout"
        }
      ]
    },
    {
      "cell_type": "markdown",
      "metadata": {
        "id": "55xEyonHGkJC"
      },
      "source": [
        "## **Exploración de datos sobre los comentarios sarcásticos**\n",
        "El punto de partida para la exploración de datos fue averiguar cuales eran las palabras más recurrentes en los comentarios sarcasticos y en los comentarios padre, los cuales no contienen la etiqueta “/s”.\n",
        "\n",
        "Dicho esto, la forma más tradicional de representar texto es considerar cada palabra de cada comentario como una columna del dataset, ya que como se mencionó previamente, la idea principal es considerar si aparece o no una palabra en cierto comentario o cuántas veces aparece en él.\n",
        "\n",
        "Utilización de la librería ``tm``, la cual permite realizar _text mining_ en R:"
      ]
    },
    {
      "cell_type": "code",
      "metadata": {
        "id": "E2NZ9ma5GznX"
      },
      "source": [
        "%%R\n",
        "install.packages(\"tm\")"
      ],
      "execution_count": null,
      "outputs": []
    },
    {
      "cell_type": "code",
      "metadata": {
        "id": "tMPQcOJPPgg_"
      },
      "source": [
        "%%R\n",
        "library(tm)"
      ],
      "execution_count": null,
      "outputs": []
    },
    {
      "cell_type": "markdown",
      "metadata": {
        "id": "eWzc4lioG2aB"
      },
      "source": [
        "Se convierten los vectores de comentarios sarcasticos en unos que puedan ser leídos por ``tm``, donde habrán tantos documentos como comentarios. Luego, se crea un Corpus o colección de documentos."
      ]
    },
    {
      "cell_type": "code",
      "metadata": {
        "id": "4qprHOEiG11I"
      },
      "source": [
        "%%R\n",
        "docs <- VectorSource(sarcasmo[,c(\"comment\")])\n",
        "docs <- VCorpus(docs)\n"
      ],
      "execution_count": null,
      "outputs": []
    },
    {
      "cell_type": "markdown",
      "metadata": {
        "id": "e0tthHUOHC3I"
      },
      "source": [
        "Al ejecutar la siguiente instrucción, se puede ver de forma resumida la composición del Corpus o colección de documentos"
      ]
    },
    {
      "cell_type": "code",
      "metadata": {
        "id": "v-CCZiFAHJAo",
        "colab": {
          "base_uri": "https://localhost:8080/"
        },
        "outputId": "3a45bd05-46f6-4deb-b94e-ff407a51d306"
      },
      "source": [
        "%%R\n",
        "inspect(docs)\n"
      ],
      "execution_count": null,
      "outputs": [
        {
          "output_type": "stream",
          "text": [
            "<<VCorpus>>\n",
            "Metadata:  corpus specific: 0, document level (indexed): 0\n",
            "Content:  documents: 1\n",
            "\n",
            "$comment\n",
            "<<PlainTextDocument>>\n",
            "Metadata:  7\n",
            "Content:  chars: NA\n",
            "\n"
          ],
          "name": "stdout"
        }
      ]
    },
    {
      "cell_type": "markdown",
      "metadata": {
        "id": "FLlJ7Bl4HK6a"
      },
      "source": [
        "### **Pre-procesamiento de texto**\n",
        "En un comienzo, el contenido de cada documento de la colección contendrá mucha información que de momento no es relevante, ya que si bien existen bastantes elementos claves al momento de transmitir el sarcasmo, como los tipos de puntuación, la diferenciación entre mayúsculas y minúsculas, entre otros, para esta primera exploración solo se consideró la frecuencia de las palabras por sobre otras características. Por ello, fue necesario efectuar el pre-procesamiento y limpieza de los datos."
      ]
    },
    {
      "cell_type": "code",
      "metadata": {
        "id": "hEYLPMBrHhnT"
      },
      "source": [
        "#### Remover puntuación\n",
        "%%R\n",
        "docs <- tm_map(docs, removePunctuation)\n"
      ],
      "execution_count": null,
      "outputs": []
    },
    {
      "cell_type": "code",
      "metadata": {
        "id": "0UaaRIa3HmuD"
      },
      "source": [
        "#### Remover números\n",
        "%%R\n",
        "docs <- tm_map(docs, removeNumbers)\n",
        "\n"
      ],
      "execution_count": null,
      "outputs": []
    },
    {
      "cell_type": "code",
      "metadata": {
        "id": "7NOKVVg4HnOj"
      },
      "source": [
        "#### Convertir a minúscula\n",
        "%%R\n",
        "docs <- tm_map(docs, content_transformer(tolower))\n",
        "\n"
      ],
      "execution_count": null,
      "outputs": []
    },
    {
      "cell_type": "code",
      "metadata": {
        "id": "9VGKGAq6HojO"
      },
      "source": [
        "#### Eliminar espacios en blanco innecesarios\n",
        "%%R\n",
        "docs <- tm_map(docs, stripWhitespace)\n"
      ],
      "execution_count": null,
      "outputs": []
    },
    {
      "cell_type": "code",
      "metadata": {
        "id": "60IcQ-vdHqbQ"
      },
      "source": [
        "#### Reemplazar caracteres específicos\n",
        "%%R\n",
        "docs <- tm_map(docs, content_transformer(gsub), pattern = \"/\", replacement = \"\")\n",
        "docs <- tm_map(docs, content_transformer(gsub), pattern = '[[:digit:]]+', replacement = \"\")  # elimina cualquier digito\n"
      ],
      "execution_count": null,
      "outputs": []
    },
    {
      "cell_type": "code",
      "metadata": {
        "id": "_CZK_JfrHr4k"
      },
      "source": [
        "#### Eliminar tildes (A pesar que los comentarios están en inglés, nunca está de más prevenir)\n",
        "%%R\n",
        "docs <- tm_map(docs, content_transformer(iconv), from=\"UTF-8\",to=\"ASCII//TRANSLIT\")\n"
      ],
      "execution_count": null,
      "outputs": []
    },
    {
      "cell_type": "code",
      "metadata": {
        "id": "EBq3DoIBHtVA"
      },
      "source": [
        "#### Remover caracteres especiales no considerados por ```removePunctuation```\n",
        "%%R\n",
        "removeSpecialChars <- function(x) gsub(\"[^a-zA-Z0-9 ]\",\"\",x)\n",
        "docs <- tm_map(docs, content_transformer(removeSpecialChars))\n"
      ],
      "execution_count": null,
      "outputs": []
    },
    {
      "cell_type": "markdown",
      "metadata": {
        "id": "OEt4vNSCHxsZ"
      },
      "source": [
        "### **Matriz Documento-término**\n",
        "\n",
        "Una forma tradicional de representar los datos es mediante una matriz. La idea principal es considerar cada documento como una fila, la cual a su vez tiene tantas columnas como términos existan en el corpus completo de documento (no por documento). De esta forma, se puede saber cuáles términos se repiten entre documentos.\n",
        "\n",
        "Para esto, se utilizará la función ``DocumentTermMatrix``, la cual empleará nuestra colección completa de documentos:"
      ]
    },
    {
      "cell_type": "code",
      "metadata": {
        "id": "OtiXZPm6IqRX",
        "colab": {
          "base_uri": "https://localhost:8080/"
        },
        "outputId": "80b8a68d-c516-4240-d052-95fa37386021"
      },
      "source": [
        "%%R\n",
        "dtm <- DocumentTermMatrix(docs)\n",
        "inspect(dtm)\n"
      ],
      "execution_count": null,
      "outputs": [
        {
          "output_type": "stream",
          "text": [
            "<<DocumentTermMatrix (documents: 1, terms: 192640)>>\n",
            "Non-/sparse entries: 192640/0\n",
            "Sparsity           : 0%\n",
            "Maximal term length: 10000\n",
            "Weighting          : term frequency (tf)\n",
            "Sample             :\n",
            "    Terms\n",
            "Docs    and   are   but   for  have   its   that    the  this    you\n",
            "   1 173674 67737 78880 96672 67143 65855 140695 396234 77714 171491\n"
          ],
          "name": "stdout"
        }
      ]
    },
    {
      "cell_type": "code",
      "metadata": {
        "id": "6TtH5ZblIuHx"
      },
      "source": [
        "### Transformar la DocumentTermMatrix en una matriz \"visualizable\"\n",
        "%%R\n",
        "dtm.matrix <- as.matrix(dtm) \n"
      ],
      "execution_count": null,
      "outputs": []
    },
    {
      "cell_type": "markdown",
      "metadata": {
        "id": "Vi-aazRmIpFL"
      },
      "source": [
        "### **Términos más frecuentes presentes en los comentarios sacásticos**\n",
        "\n",
        "A continuación se hará una exploración de las palabras más frecuentes en el dataset, considerando los comentarios principales y sus comentarios padre. Para esto, se creó un dataframe con 2 columnas, una para el término y otra para la cantidad de veces que aparece en la colección completa:"
      ]
    },
    {
      "cell_type": "markdown",
      "metadata": {
        "id": "Ps66Blz2fXVm"
      },
      "source": [
        "#### **Palabras más frecuentes de los comentarios sarcásticos**"
      ]
    },
    {
      "cell_type": "code",
      "metadata": {
        "id": "xUPviO-_Izp5"
      },
      "source": [
        "%%R\n",
        "freq <- colSums(dtm.matrix)\n",
        "word_freq <- data.frame(word = names(freq), freq = freq, row.names = NULL)\n",
        "word_freq <- word_freq[order(-word_freq$freq),]\n"
      ],
      "execution_count": null,
      "outputs": []
    },
    {
      "cell_type": "code",
      "metadata": {
        "id": "VCvLPnQDI4vf"
      },
      "source": [
        "#Importación de la librería ggplot2 para graficar en R:\n",
        "%%R\n",
        "library(ggplot2)\n",
        "\n"
      ],
      "execution_count": null,
      "outputs": []
    },
    {
      "cell_type": "code",
      "metadata": {
        "id": "TgaPKg2eI66i",
        "colab": {
          "base_uri": "https://localhost:8080/",
          "height": 497
        },
        "outputId": "616ea820-025a-4b42-ffd8-7209b9f1bd69"
      },
      "source": [
        "### Graficar términos más frecuentes presentes en los comentarios sarcasticos\n",
        "%%R\n",
        "ggplot(word_freq[1:20,], aes(x = reorder(word, freq), y = freq)) +\n",
        "          geom_bar(stat = \"identity\") + \n",
        "          coord_flip()+\n",
        "          ggtitle(label = \"Top-20 palabras presentes en comentarios sarcasticos\") + xlab(\"Palabras\") + ylab(\"Frecuencia\")\n"
      ],
      "execution_count": null,
      "outputs": [
        {
          "output_type": "display_data",
          "data": {
            "image/png": "[encoded data removed]"
          },
          "metadata": {
            "tags": []
          }
        }
      ]
    },
    {
      "cell_type": "markdown",
      "metadata": {
        "id": "dsC7KWwqI1hL"
      },
      "source": [
        "Como es posible apreciar, la mayoría de estas palabras son aquellas que no entregan mayor significado a los documentos. Por ejemplo, artículos o preposiciones. Para solucionar este problema, podemos considerar una bolsa de palabras comunes llamada ``stopwords``. Por lo tanto, se eliminarán estas palabras sobre el corpus original de documentos para luego calcular la matriz nuevamente."
      ]
    },
    {
      "cell_type": "code",
      "metadata": {
        "id": "ie9rjvWfJJio"
      },
      "source": [
        "#### Remover stopwords:\n",
        "%%R\n",
        "docs <- tm_map(docs, removeWords, stopwords(\"english\"))\n"
      ],
      "execution_count": null,
      "outputs": []
    },
    {
      "cell_type": "code",
      "metadata": {
        "id": "86PAN6lxJL7S"
      },
      "source": [
        "%%R\n",
        "dtm.sw <- DocumentTermMatrix(docs)\n",
        "dtm.sw.matrix <- as.matrix(dtm.sw)\n",
        "freq.sw <- colSums(dtm.sw.matrix)\n",
        "word_freq.sw <- data.frame(word = names(freq.sw), freq = freq.sw, row.names = NULL)\n",
        "word_freq.sw <- word_freq.sw[order(-word_freq.sw$freq),]\n"
      ],
      "execution_count": null,
      "outputs": []
    },
    {
      "cell_type": "code",
      "metadata": {
        "id": "RHE46ULPJQdi",
        "colab": {
          "base_uri": "https://localhost:8080/",
          "height": 497
        },
        "outputId": "b7e96903-1048-4798-be61-3621679dc91d"
      },
      "source": [
        "#### Volver a graficar términos más frecuentes presentes en los comentarios sarcasticos, esta vez sin considerar stopwords\n",
        "\n",
        "%%R\n",
        "ggplot(word_freq.sw[1:20,], aes(x = reorder(word, freq), y = freq)) +\n",
        "          geom_bar(stat = \"identity\") + \n",
        "          coord_flip()+\n",
        "          ggtitle(label = \"Top-20 palabras presentes en comentarios sarcasticos sin considerar stopwords\")  + xlab(\"Palabras\") + ylab(\"Frecuencia\")\n"
      ],
      "execution_count": null,
      "outputs": [
        {
          "output_type": "display_data",
          "data": {
            "image/png": "[encoded data removed]"
          },
          "metadata": {
            "tags": []
          }
        }
      ]
    },
    {
      "cell_type": "markdown",
      "metadata": {
        "id": "oAu2oEsqfj8y"
      },
      "source": [
        "#### **Palabras más frecuentes de los comentarios padre**"
      ]
    },
    {
      "cell_type": "code",
      "metadata": {
        "id": "s-CMQBnHJRJ4",
        "colab": {
          "base_uri": "https://localhost:8080/"
        },
        "outputId": "11f288c6-fe4c-47ba-cf03-d18ac9ac0982"
      },
      "source": [
        "\n",
        "%%R\n",
        "docs <- VectorSource(sarcasmo[,c(\"parent_comment\")])\n",
        "docs <- VCorpus(docs)\n",
        "inspect(docs)\n"
      ],
      "execution_count": null,
      "outputs": [
        {
          "output_type": "stream",
          "text": [
            "<<VCorpus>>\n",
            "Metadata:  corpus specific: 0, document level (indexed): 0\n",
            "Content:  documents: 1\n",
            "\n",
            "$parent_comment\n",
            "<<PlainTextDocument>>\n",
            "Metadata:  7\n",
            "Content:  chars: 134796790\n",
            "\n"
          ],
          "name": "stdout"
        }
      ]
    },
    {
      "cell_type": "code",
      "metadata": {
        "id": "RnTDQxu4JUc1"
      },
      "source": [
        "### Pre-procesamiento de texto\n",
        "\n",
        "#### Remover puntuación\n",
        "%%R\n",
        "docs <- tm_map(docs, removePunctuation)\n"
      ],
      "execution_count": null,
      "outputs": []
    },
    {
      "cell_type": "code",
      "metadata": {
        "id": "ehn9muJHJWcE"
      },
      "source": [
        "####  Remover números\n",
        "%%R\n",
        "docs <- tm_map(docs, removeNumbers)\n"
      ],
      "execution_count": null,
      "outputs": []
    },
    {
      "cell_type": "code",
      "metadata": {
        "id": "RQ9OTLfNJYIV"
      },
      "source": [
        "#### Convertir a minúscula\n",
        "%%R\n",
        "docs <- tm_map(docs, content_transformer(tolower))\n"
      ],
      "execution_count": null,
      "outputs": []
    },
    {
      "cell_type": "code",
      "metadata": {
        "id": "FbCmmA30JZXl"
      },
      "source": [
        "#### Eliminar espacios en blanco innecesarios\n",
        "%%R\n",
        "docs <- tm_map(docs, stripWhitespace)\n"
      ],
      "execution_count": null,
      "outputs": []
    },
    {
      "cell_type": "code",
      "metadata": {
        "id": "Grq9sy9QJb6X"
      },
      "source": [
        "#### Reemplazar caracteres específicos\n",
        "%%R\n",
        "docs <- tm_map(docs, content_transformer(gsub), pattern = \"/\", replacement = \"\")\n",
        "docs <- tm_map(docs, content_transformer(gsub), pattern = '[[:digit:]]+', replacement = \"\")  # elimina cualquier digito\n"
      ],
      "execution_count": null,
      "outputs": []
    },
    {
      "cell_type": "code",
      "metadata": {
        "id": "kxQ9c4xfJd5i"
      },
      "source": [
        "#### Eliminar tildes\n",
        "%%R\n",
        "docs <- tm_map(docs, content_transformer(iconv), from=\"UTF-8\",to=\"ASCII//TRANSLIT\")\n"
      ],
      "execution_count": null,
      "outputs": []
    },
    {
      "cell_type": "code",
      "metadata": {
        "id": "EXC3Dz-yJgDM"
      },
      "source": [
        "#### Remover caracteres especiales no considerados por ```removePunctuation```\n",
        "%%R\n",
        "removeSpecialChars <- function(x) gsub(\"[^a-zA-Z0-9 ]\",\"\",x)\n",
        "docs <- tm_map(docs, content_transformer(removeSpecialChars))\n"
      ],
      "execution_count": null,
      "outputs": []
    },
    {
      "cell_type": "code",
      "metadata": {
        "id": "rYA0Z6tlJhZq",
        "colab": {
          "base_uri": "https://localhost:8080/"
        },
        "outputId": "a1488de4-ab86-4de9-a33b-a2ed7d797c98"
      },
      "source": [
        "### Matriz Documento-término\n",
        "%%R\n",
        "dtm <- DocumentTermMatrix(docs)\n",
        "inspect(dtm)\n"
      ],
      "execution_count": null,
      "outputs": [
        {
          "output_type": "stream",
          "text": [
            "<<DocumentTermMatrix (documents: 1, terms: 287500)>>\n",
            "Non-/sparse entries: 287500/0\n",
            "Sparsity           : 0%\n",
            "Maximal term length: 40000\n",
            "Weighting          : term frequency (tf)\n",
            "Sample             :\n",
            "    Terms\n",
            "Docs    and    are    but    for   have   that    the   this   with    you\n",
            "   1 498319 149340 146083 238426 156306 304238 945194 189168 158169 297746\n"
          ],
          "name": "stdout"
        }
      ]
    },
    {
      "cell_type": "code",
      "metadata": {
        "id": "d_6Dwi6EJjEh"
      },
      "source": [
        "### Transformar la DocumentTermMatrix en una matriz \"visualizable\"\n",
        "%%R\n",
        "dtm.matrix <- as.matrix(dtm) \n"
      ],
      "execution_count": null,
      "outputs": []
    },
    {
      "cell_type": "code",
      "metadata": {
        "id": "ahaIwt9SJkdk"
      },
      "source": [
        "#### Términos más frecuentes presentes en los comentarios padre\n",
        "%%R\n",
        "freq <- colSums(dtm.matrix)\n",
        "word_freq <- data.frame(word = names(freq), freq = freq, row.names = NULL)\n",
        "word_freq <- word_freq[order(-word_freq$freq),]\n"
      ],
      "execution_count": null,
      "outputs": []
    },
    {
      "cell_type": "code",
      "metadata": {
        "id": "1yMvCJmWJl_o",
        "colab": {
          "base_uri": "https://localhost:8080/",
          "height": 497
        },
        "outputId": "6f054436-a8ea-4e01-df29-dc44428a05a6"
      },
      "source": [
        "### Graficamos términos más frecuentes presentes en los comentarios padre\n",
        "%%R\n",
        "ggplot(word_freq[1:20,], aes(x = reorder(word, freq), y = freq)) +\n",
        "          geom_bar(stat = \"identity\") + \n",
        "          coord_flip()+\n",
        "          ggtitle(label = \"Top-20 palabras presentes en comentarios padre\") + xlab(\"Palabras\") + ylab(\"Frecuencia\")\n"
      ],
      "execution_count": null,
      "outputs": [
        {
          "output_type": "display_data",
          "data": {
            "image/png": "[encoded data removed]"
          },
          "metadata": {
            "tags": []
          }
        }
      ]
    },
    {
      "cell_type": "code",
      "metadata": {
        "id": "dLFzNauEJnd0"
      },
      "source": [
        "#### Remover stopwords:\n",
        "%%R\n",
        "docs <- tm_map(docs, removeWords, stopwords(\"english\"))\n"
      ],
      "execution_count": null,
      "outputs": []
    },
    {
      "cell_type": "code",
      "metadata": {
        "id": "QFlbh0H7JpMp"
      },
      "source": [
        "\n",
        "%%R\n",
        "dtm.sw <- DocumentTermMatrix(docs)\n",
        "dtm.sw.matrix <- as.matrix(dtm.sw)\n",
        "freq.sw <- colSums(dtm.sw.matrix)\n",
        "word_freq.sw <- data.frame(word = names(freq.sw), freq = freq.sw, row.names = NULL)\n",
        "word_freq.sw <- word_freq.sw[order(-word_freq.sw$freq),]\n"
      ],
      "execution_count": null,
      "outputs": []
    },
    {
      "cell_type": "code",
      "metadata": {
        "id": "c7LSyIkVJrBb",
        "colab": {
          "base_uri": "https://localhost:8080/",
          "height": 497
        },
        "outputId": "95fbc35b-4c49-4b97-dbe6-d7f91538a795"
      },
      "source": [
        "### Volver a graficar términos más frecuentes presentes en los comentarios padre, esta vez sin considerar stopwords\n",
        "\n",
        "%%R\n",
        "ggplot(word_freq.sw[1:20,], aes(x = reorder(word, freq), y = freq)) +\n",
        "          geom_bar(stat = \"identity\") + \n",
        "          coord_flip()+\n",
        "          ggtitle(label = \"Top-20 palabras presentes en comentarios padre sin considerar stopwords\") + xlab(\"Palabras\") + ylab(\"Frecuencia\")\n"
      ],
      "execution_count": null,
      "outputs": [
        {
          "output_type": "display_data",
          "data": {
            "image/png": "[encoded data removed]"
          },
          "metadata": {
            "tags": []
          }
        }
      ]
    },
    {
      "cell_type": "markdown",
      "metadata": {
        "id": "6rYt9bjBJwn0"
      },
      "source": [
        "Haciendo una comparación entre los graficos sin stopwords para ambos tipos de comentarios, se puede notar que las palabras más utilizadas resultan ser bastante similares (a excepción de un par, como la expresión \"yeah\", que toma más relevancia en comentarios sarcasticos), y que por el lado de las frecuencias, si bien se aprecian leves cambios en el orden, en general son similares en frecuencia para ambos tipos de comentario.\n",
        "\n",
        "Esto nos da distintas posibilidades respecto a los comentarios sarcásticos, ya que podría indicarnos que la mayoría de comentarios sarcásticos suelen mencionar las mismas palabras que contiene el comentario padre (Ya sea por énfasis, burla, etc.) o también indicar que algunos comentarios sarcásticos son respuestas de otros comentarios sarcásticos, lo cuál podría dificultar el estudio de este tipo de comentarios.\n",
        "\n",
        "A partir de esto se puede intentar buscar una correlación entre palabras en un comentario y la clase de este (si es sarcástico o no). O incluso investigar si es que existe una doble correlación, es decir, que un comentario sarcástico implique la presencia de ciertas palabras, y que se tenga lo inverso, que la presencia de ciertas palabras resulte indicativa de un comentario sarcástico. Se podría buscar la presencia de estas palabras en ambos tipos de comentarios y después entrenar un clasificador para ver si en verdad puede predecir la naturaleza del comentario.\n",
        "\n",
        "Otra conclusión que se puede hacer es sobre el uso de la puntuación y las mayúsculas. Pese a que se eliminaron puntuaciones, letras mayúsculas, y otros strings que entorpezcan el estudio de datos, notamos que gran parte de los comentarios del dataset utilizan muy frecuentemente estos strings con el fin de \"exagerar\" o \"enfatizar\" el sarcasmo de los comentarios estudiados. Es necesario realizar un estudio más exhaustivo de estos tipos de mensajes, y ver si existe una relación entre cantidad de mayúsculas y otras puntuaciones dentro de un mensaje con sarcasmo."
      ]
    },
    {
      "cell_type": "markdown",
      "metadata": {
        "id": "9IIRE0iKKSu7"
      },
      "source": [
        "## **Exploración posterior**\n",
        "\n",
        "Para el hito 1 se realizó un análisis de los comentarios sarcásticos a través del tiempo. Sin embargo, se recibió feedback por parte del cuerpo docente, y se concluyó que esta pregunta se era trivial y no podía ser respondida utilizando técnicas de minería de datos, por lo que para este hito se decidió descartar esta parte de la exploración. \n",
        "\n",
        "Durante el hito anterior también se exploraron los subreddits que presentaban mayor frecuencia dentro del dataset. Estos datos fueron utilizados para deteminar los subreddits que serían utilizados para entrenar clasificadores durante el hito actual.\n"
      ]
    },
    {
      "cell_type": "markdown",
      "metadata": {
        "id": "Vj3miJ6cgRop"
      },
      "source": [
        "### **Subreddits más recurrentes en los comentarios sarcásticos**\n",
        "Observando la columna “subreddit” es posible ver que ciertos tópicos se repiten, es por esto que una buena idea sería realizar una exploración de datos para cuantificar cuales subreddits son los más repetidos en el dataset. Es decir, cuantificar la cantidad de comentarios sarcasticos que tiene cada subreddit presente en el dataset, lo que es equivalente a encontrar los subreddits que son más propensos a tener comentarios sarcasticos.\n"
      ]
    },
    {
      "cell_type": "code",
      "metadata": {
        "id": "OMiPHwTBLZ9T",
        "colab": {
          "base_uri": "https://localhost:8080/"
        },
        "outputId": "4a4b3d23-c9d1-40f4-de96-e50959cb439f"
      },
      "source": [
        "%%R\n",
        "docs <- VectorSource(sarcasmo[,c(\"subreddit\")])\n",
        "docs <- VCorpus(docs)\n",
        "inspect(docs)\n"
      ],
      "execution_count": null,
      "outputs": [
        {
          "output_type": "stream",
          "text": [
            "<<VCorpus>>\n",
            "Metadata:  corpus specific: 0, document level (indexed): 0\n",
            "Content:  documents: 1\n",
            "\n",
            "$subreddit\n",
            "<<PlainTextDocument>>\n",
            "Metadata:  7\n",
            "Content:  chars: 9320529\n",
            "\n"
          ],
          "name": "stdout"
        }
      ]
    },
    {
      "cell_type": "code",
      "metadata": {
        "id": "zWcOcAhfLaz5",
        "colab": {
          "base_uri": "https://localhost:8080/"
        },
        "outputId": "78fed06d-9a6e-406f-d4a4-5a7f2678ef7b"
      },
      "source": [
        "### Matriz Documento-término\n",
        "\n",
        "%%R\n",
        "dtm <- DocumentTermMatrix(docs)\n",
        "inspect(dtm)\n"
      ],
      "execution_count": null,
      "outputs": [
        {
          "output_type": "stream",
          "text": [
            "<<DocumentTermMatrix (documents: 1, terms: 14876)>>\n",
            "Non-/sparse entries: 14876/0\n",
            "Sparsity           : 0%\n",
            "Maximal term length: 21\n",
            "Weighting          : term frequency (tf)\n",
            "Sample             :\n",
            "    Terms\n",
            "Docs askreddit funny leagueoflegends  news   nfl pcmasterrace  pics politics\n",
            "   1     65677 17939           21037 16891 14150        18988 16154    39496\n",
            "    Terms\n",
            "Docs todayilearned worldnews\n",
            "   1         14161     26377\n"
          ],
          "name": "stdout"
        }
      ]
    },
    {
      "cell_type": "code",
      "metadata": {
        "id": "fSyYok5wLcaN"
      },
      "source": [
        "### Transformar la DocumentTermMatrix en una matriz \"visualizable\"\n",
        "\n",
        "%%R\n",
        "dtm.matrix <- as.matrix(dtm) \n"
      ],
      "execution_count": null,
      "outputs": []
    },
    {
      "cell_type": "code",
      "metadata": {
        "id": "HhiSclW9Ld0y",
        "colab": {
          "base_uri": "https://localhost:8080/"
        },
        "outputId": "af31cbd7-3073-465c-e758-6960460ceef0"
      },
      "source": [
        "### subreddits más presentes en el dataset\n",
        "%%R\n",
        "freq <- colSums(dtm.matrix)\n",
        "subreddit_freq <- data.frame(subreddit = names(freq), freq = freq, row.names = NULL)\n",
        "subreddit_freq <- subreddit_freq[order(-subreddit_freq$freq),]\n",
        "head(subreddit_freq)\n"
      ],
      "execution_count": null,
      "outputs": [
        {
          "output_type": "stream",
          "text": [
            "            subreddit  freq\n",
            "905         askreddit 65677\n",
            "10087        politics 39496\n",
            "14568       worldnews 26377\n",
            "7267  leagueoflegends 21037\n",
            "9638     pcmasterrace 18988\n",
            "5061            funny 17939\n"
          ],
          "name": "stdout"
        }
      ]
    },
    {
      "cell_type": "code",
      "metadata": {
        "id": "FWcvh93qLfPk",
        "colab": {
          "base_uri": "https://localhost:8080/",
          "height": 497
        },
        "outputId": "12a70f00-44bc-402f-9f0f-e680b92e8c63"
      },
      "source": [
        "### Graficar subreddits más frecuentes en los comentarios sarcasticos del dataset\n",
        "%%R\n",
        "ggplot(subreddit_freq[1:20,], aes(x = reorder(subreddit, freq), y = freq)) +\n",
        "          geom_bar(stat = \"identity\") + \n",
        "          coord_flip()+\n",
        "          ggtitle(label = \"Top-20 subreddits presentes en el dataset\")  + xlab(\"Subreddit\") + ylab(\"Frecuencia\")\n"
      ],
      "execution_count": null,
      "outputs": [
        {
          "output_type": "display_data",
          "data": {
            "image/png": "[encoded data removed]"
          },
          "metadata": {
            "tags": []
          }
        }
      ]
    },
    {
      "cell_type": "markdown",
      "metadata": {
        "id": "hZXI5f6SLk-K"
      },
      "source": [
        "A partir de este análisis se puede concluir que los subreddits con mayor presencia en el dataset son bastante variados, abarcando tanto temas serios como política o noticias como temas lúdicos como League of Legends o deportes."
      ]
    },
    {
      "cell_type": "markdown",
      "metadata": {
        "id": "KyEiaFiaSCWM"
      },
      "source": [
        "### **Cantidad de caracteres por comentario sarcastico**\n",
        "\n",
        "Otra exploración que se puede realizar y que puede servier para encontrar una relación entre si un comentario es sarcastico o no, es identificar la cantidad de caracteres que posee, o dicho de otra forma, encontrar el largo del comentario, además de también conocer estadísticas sobre el largo en palabras de los comentarios, tales como el promedio, el máximo y mínimo.\n"
      ]
    },
    {
      "cell_type": "code",
      "metadata": {
        "id": "MwKEHjDiSNVV",
        "colab": {
          "base_uri": "https://localhost:8080/",
          "height": 735
        },
        "outputId": "2d7a215d-d994-4255-824b-9b0e4c344747"
      },
      "source": [
        "%%R\n",
        "Length_comment=str_length(sarcasmo$comment)\n",
        "hist(Length_comment,xlim=c(0,1000), breaks = 1000, main = \"Cantidad de caracteres por comentario sarcastico\", \n",
        "     xlab = \"Cantidad de caracteres\", ylab = \"Frecuencia\" )\n",
        "\n",
        "\n",
        "# Resumen de estadísticas del largo de los comentarios sarcasticos\n",
        "summary(Length_comment)\n",
        "\n",
        "sarcasmo[str_length(sarcasmo$comment) == 10000,]\n"
      ],
      "execution_count": null,
      "outputs": [
        {
          "output_type": "stream",
          "text": [
            "# A tibble: 56 x 10\n",
            "   label comment    author subreddit score   ups downs date  created_utc        \n",
            "   <dbl> <chr>      <chr>  <chr>     <dbl> <dbl> <dbl> <chr> <dttm>             \n",
            " 1     0 DONALD TR… Sage2… circleje…     2    -1    -1 2016… 2016-10-04 04:42:48\n",
            " 2    NA <NA>       <NA>   <NA>         NA    NA    NA <NA>  NA                 \n",
            " 3    NA <NA>       <NA>   <NA>         NA    NA    NA <NA>  NA                 \n",
            " 4    NA <NA>       <NA>   <NA>         NA    NA    NA <NA>  NA                 \n",
            " 5    NA <NA>       <NA>   <NA>         NA    NA    NA <NA>  NA                 \n",
            " 6    NA <NA>       <NA>   <NA>         NA    NA    NA <NA>  NA                 \n",
            " 7    NA <NA>       <NA>   <NA>         NA    NA    NA <NA>  NA                 \n",
            " 8    NA <NA>       <NA>   <NA>         NA    NA    NA <NA>  NA                 \n",
            " 9    NA <NA>       <NA>   <NA>         NA    NA    NA <NA>  NA                 \n",
            "10    NA <NA>       <NA>   <NA>         NA    NA    NA <NA>  NA                 \n",
            "# … with 46 more rows, and 1 more variable: parent_comment <chr>\n"
          ],
          "name": "stdout"
        },
        {
          "output_type": "display_data",
          "data": {
            "image/png": "[encoded data removed]"
          },
          "metadata": {
            "tags": []
          }
        }
      ]
    },
    {
      "cell_type": "code",
      "metadata": {
        "id": "zfz25s_9SPQu",
        "colab": {
          "base_uri": "https://localhost:8080/",
          "height": 531
        },
        "outputId": "b12cee17-3317-427f-a4dd-8408602e41aa"
      },
      "source": [
        "## Cantidad de carácteres por comentario padre\n",
        "\n",
        "%%R\n",
        "Lenght_parent=str_length(sarcasmo$parent_comment)\n",
        "hist(Lenght_parent,xlim=c(0,1000), breaks = 1000, main = \"Cantidad de caracteres por comentario padre\",\n",
        "     xlab = \"Cantidad de caracteres\", ylab = \"Frecuencia\" )\n",
        "\n",
        "# Resumen de estadísticas del largo de los comentarios padre\n",
        "summary(Lenght_parent)\n"
      ],
      "execution_count": null,
      "outputs": [
        {
          "output_type": "stream",
          "text": [
            "   Min. 1st Qu.  Median    Mean 3rd Qu.    Max. \n",
            "    1.0    42.0    75.0   133.3   144.0 40301.0 \n"
          ],
          "name": "stdout"
        },
        {
          "output_type": "display_data",
          "data": {
            "image/png": "[encoded data removed]"
          },
          "metadata": {
            "tags": []
          }
        }
      ]
    },
    {
      "cell_type": "markdown",
      "metadata": {
        "id": "flw0CSjpSSfS"
      },
      "source": [
        "Analizando las estadísticas sobre el largo de ambos tipos de comentarios se puede notar la presencia de outliers, ya que en el caso de los comentarios sarcasticos se tiene un promedio de 56,69 caracteres y una mediana de 46 caracteres, pero un máximo de 10000.\n",
        "\n",
        "Esto nos dice que existe al menos un comentario sarcastico que contiene 10.000 caracteres. Realizando la consulta adecuada se pudo observar que son tres los comentarios que alcanzan los 10000 caracteres, y uno de ellos es una secuencia que repite el nombre Donald Trump una gran cantidad de veces, llegando a generar un comentario de 10000 caracteres.\n",
        "\n",
        "Este comentario se aleja excesivamente de las medidas de tendencia central y por ende es un outlier que afecta a estadisticas que no son robustas, como el promedio. Algo similar pasa en el caso de los comentarios padres, donde se tiene un promedio de 133.4 caractes y una mediana de 75 caracteres, pero un máximo de 40301.\n",
        "\n",
        "Es por esto que con el objetivo de facilitar la visualización de los datos se realizó un zoom a los dos graficos generados, ya que debido a la presencia de outliers las escalas de los graficos quedaban muy extensas.\n",
        "\n",
        "Haciendo una compración entre los dos gráficos es posible observar que los comentarios sarcasticos se encuentran en un rango entre 0 a 400 caracteres, con una mediana de 46 caracteres. Y que los comentarios padres se encuentran en un rango entre 0 y un poco más de 1000 caracteres, con una mediana de 75 caracteres. Lo que nos dice que en general los comentarios padre son más largos que los comentarios sarcasticos. Sin embargo para ambos tipos de comentario, la mayor concentración de datos está entre los 0 a 200 caracteres."
      ]
    },
    {
      "cell_type": "markdown",
      "metadata": {
        "id": "BjYLvDtCHjav"
      },
      "source": [
        "# **Exploración de datos - Hito 2**\n",
        "\n",
        "Para realizar la exploración de datos en este hito, se obtuvo una nueva base de datos con [comentarios de *Reddit* de todo tipo](https://www.kaggle.com/smagnan/1-million-reddit-comments-from-40-subreddits). Dado que la cantidad total de comentarios es demasiado grande para poder estudiarlos a profundidad, se decidió tomar de ambos datasets (Hito 1 e Hito 2) los comentarios provenientes de los 5 subreddits con mayor cantidad de comentarios.\n",
        "\n",
        "Para poder construir nuestro nuevo dataset, se preprocesaron los datos como se indica a continuación:\n",
        "- Se Filtró del primer dataset los subrredits con más comentarios sarcásticos (hecho en Excel),\n",
        "- Se eliminaron los comentarios sarcásticos del nuevo dataset, dado que estos ya se tenían en la tabla original y se buscaba evitar duplicaciones en los datos,\n",
        "- Se eliminaron atributos que no coinciden con el nuevo dataset o que no brindan mucha información, tales como *Author*, *ups*, *downs*, *date*, *created_utc* y *parent_comment*,\n",
        "- Se juntaron e etiquetaron todos los comentarios de ambas tablas, agregando un nuevo atributo bajo el nombre de “sarcasm”, cuyo valor puede ser “yes” (si provienen del primer dataset) o “no” (si provienen del nuevo dataset), denotando si el comentario es sarcástico o no. \n",
        "\n",
        "El análisis de estos datos se llevó a cabo utilizando la librería pandas. A continuación se adjuntan las importaciones realizadas:"
      ]
    },
    {
      "cell_type": "code",
      "metadata": {
        "id": "tSPCQGv3vEC-"
      },
      "source": [
        "# Librerias principales para la exploración:\n",
        "import csv\n",
        "import pandas as pd\n",
        "import numpy as np\n",
        "\n",
        "# Clasificadores usados en la exploración:\n",
        "from sklearn.svm import SVC\n",
        "from sklearn.svm import LinearSVC  # Support Vector Machine para strings\n",
        "from sklearn.tree import DecisionTreeClassifier\n",
        "from sklearn.dummy import DummyClassifier\n",
        "from sklearn.neighbors import KNeighborsClassifier"
      ],
      "execution_count": null,
      "outputs": []
    },
    {
      "cell_type": "markdown",
      "metadata": {
        "id": "6qjx3yECb_jM"
      },
      "source": [
        "El paso inicial para comenzar el análisis de los datos fue cargar los datos correspondientes desde un documento en Excel con el comentario, el subreddit y un indicador que nos informa si el comentario es sarcástico o no."
      ]
    },
    {
      "cell_type": "code",
      "metadata": {
        "id": "k1ZJesL5zQII",
        "colab": {
          "base_uri": "https://localhost:8080/",
          "height": 191
        },
        "outputId": "da2df68b-9001-438b-c645-dc70fd6690d3"
      },
      "source": [
        "yes_or_no = pd.read_excel(\"DatosHito2.xlsx\")\n",
        "yes_or_no.head()"
      ],
      "execution_count": null,
      "outputs": [
        {
          "output_type": "execute_result",
          "data": {
            "text/html": [
              "<div>\n",
              "<style scoped>\n",
              "    .dataframe tbody tr th:only-of-type {\n",
              "        vertical-align: middle;\n",
              "    }\n",
              "\n",
              "    .dataframe tbody tr th {\n",
              "        vertical-align: top;\n",
              "    }\n",
              "\n",
              "    .dataframe thead th {\n",
              "        text-align: right;\n",
              "    }\n",
              "</style>\n",
              "<table border=\"1\" class=\"dataframe\">\n",
              "  <thead>\n",
              "    <tr style=\"text-align: right;\">\n",
              "      <th></th>\n",
              "      <th>comment</th>\n",
              "      <th>subreddit</th>\n",
              "      <th>score</th>\n",
              "      <th>sarcasm</th>\n",
              "    </tr>\n",
              "  </thead>\n",
              "  <tbody>\n",
              "    <tr>\n",
              "      <th>0</th>\n",
              "      <td>I don't pay attention to her, but as long as s...</td>\n",
              "      <td>AskReddit</td>\n",
              "      <td>0</td>\n",
              "      <td>yes</td>\n",
              "    </tr>\n",
              "    <tr>\n",
              "      <th>1</th>\n",
              "      <td>Trick or treating in general is just weird...</td>\n",
              "      <td>AskReddit</td>\n",
              "      <td>1</td>\n",
              "      <td>yes</td>\n",
              "    </tr>\n",
              "    <tr>\n",
              "      <th>2</th>\n",
              "      <td>what the fuck</td>\n",
              "      <td>AskReddit</td>\n",
              "      <td>22</td>\n",
              "      <td>yes</td>\n",
              "    </tr>\n",
              "    <tr>\n",
              "      <th>3</th>\n",
              "      <td>This would make me cry.</td>\n",
              "      <td>AskReddit</td>\n",
              "      <td>1</td>\n",
              "      <td>yes</td>\n",
              "    </tr>\n",
              "    <tr>\n",
              "      <th>4</th>\n",
              "      <td>My stuffed animal I've had since I was born.</td>\n",
              "      <td>AskReddit</td>\n",
              "      <td>1</td>\n",
              "      <td>yes</td>\n",
              "    </tr>\n",
              "  </tbody>\n",
              "</table>\n",
              "</div>"
            ],
            "text/plain": [
              "                                             comment  subreddit  score sarcasm\n",
              "0  I don't pay attention to her, but as long as s...  AskReddit      0     yes\n",
              "1      Trick or treating in general is just weird...  AskReddit      1     yes\n",
              "2                                      what the fuck  AskReddit     22     yes\n",
              "3                            This would make me cry.  AskReddit      1     yes\n",
              "4       My stuffed animal I've had since I was born.  AskReddit      1     yes"
            ]
          },
          "metadata": {
            "tags": []
          },
          "execution_count": 3
        }
      ]
    },
    {
      "cell_type": "markdown",
      "metadata": {
        "id": "bsQEglcRZOlG"
      },
      "source": [
        "Se obtiene la información relevante a partir de esta tabla."
      ]
    },
    {
      "cell_type": "code",
      "metadata": {
        "id": "Jmi_V7xDSa2Y",
        "colab": {
          "base_uri": "https://localhost:8080/"
        },
        "outputId": "c48c3d38-b8f0-462b-e867-56c4158d217b"
      },
      "source": [
        "yes_or_no.info()"
      ],
      "execution_count": null,
      "outputs": [
        {
          "output_type": "stream",
          "text": [
            "<class 'pandas.core.frame.DataFrame'>\n",
            "RangeIndex: 295218 entries, 0 to 295217\n",
            "Data columns (total 13 columns):\n",
            " #   Column       Non-Null Count   Dtype  \n",
            "---  ------       --------------   -----  \n",
            " 0   comment      295218 non-null  object \n",
            " 1   subreddit    295218 non-null  object \n",
            " 2   score        295218 non-null  int64  \n",
            " 3   sarcasm      295218 non-null  object \n",
            " 4   Llave        295218 non-null  object \n",
            " 5   Unnamed: 5   1 non-null       object \n",
            " 6   Unnamed: 6   10 non-null      object \n",
            " 7   Unnamed: 7   15 non-null      float64\n",
            " 8   Unnamed: 8   10 non-null      float64\n",
            " 9   Unnamed: 9   0 non-null       float64\n",
            " 10  Unnamed: 10  2 non-null       object \n",
            " 11  Unnamed: 11  3 non-null       float64\n",
            " 12  Unnamed: 12  2 non-null       float64\n",
            "dtypes: float64(5), int64(1), object(7)\n",
            "memory usage: 29.3+ MB\n"
          ],
          "name": "stdout"
        }
      ]
    },
    {
      "cell_type": "markdown",
      "metadata": {
        "id": "e9PpFbhBZS9O"
      },
      "source": [
        "Se obtiene el número de datos para cada subreddit en la base de datos:"
      ]
    },
    {
      "cell_type": "code",
      "metadata": {
        "colab": {
          "base_uri": "https://localhost:8080/"
        },
        "id": "Wl1ibhUrcG5F",
        "outputId": "b56b4411-734f-4ef5-882f-36b8e0fb46c1"
      },
      "source": [
        "yes_or_no[\"subreddit\"].value_counts()"
      ],
      "execution_count": null,
      "outputs": [
        {
          "output_type": "execute_result",
          "data": {
            "text/plain": [
              "AskReddit          90658\n",
              "politics           64392\n",
              "worldnews          51288\n",
              "leagueoflegends    45979\n",
              "funny              42901\n",
              "Name: subreddit, dtype: int64"
            ]
          },
          "metadata": {
            "tags": []
          },
          "execution_count": 123
        }
      ]
    },
    {
      "cell_type": "markdown",
      "metadata": {
        "id": "vIC9ALbCYA7I"
      },
      "source": [
        "Finalmente, para terminar con la carga de datos, se comparó el porcentaje de comentarios sarcásticos y no sarcásticos en los datos, obteniendo las proporciones para cada subreddit."
      ]
    },
    {
      "cell_type": "code",
      "metadata": {
        "id": "oI_mpMTjckOc",
        "colab": {
          "base_uri": "https://localhost:8080/"
        },
        "outputId": "4e10a8a0-10ac-4a36-891c-05d8a10b6f31"
      },
      "source": [
        "cantAskRedditYes=len(yes_or_no[(yes_or_no['subreddit']==\"AskReddit\")& (yes_or_no['sarcasm']==\"yes\")])\n",
        "cantAskRedditNo=len(yes_or_no[(yes_or_no['subreddit']==\"AskReddit\")& (yes_or_no['sarcasm']==\"no\")])\n",
        "\n",
        "cantFunnyYes=len(yes_or_no[(yes_or_no['subreddit']==\"funny\")& (yes_or_no['sarcasm']==\"yes\")])\n",
        "cantFunnyNo=len(yes_or_no[(yes_or_no['subreddit']==\"funny\")& (yes_or_no['sarcasm']==\"no\")])\n",
        "\n",
        "cantPoliticsYes=len(yes_or_no[(yes_or_no['subreddit']==\"politics\")& (yes_or_no['sarcasm']==\"yes\")])\n",
        "cantPoliticsNo=len(yes_or_no[(yes_or_no['subreddit']==\"politics\")& (yes_or_no['sarcasm']==\"no\")])\n",
        "\n",
        "cantLeagueOfLegendsYes=len(yes_or_no[(yes_or_no['subreddit']==\"leagueoflegends\")& (yes_or_no['sarcasm']==\"yes\")])\n",
        "cantLeagueOfLegendsNo=len(yes_or_no[(yes_or_no['subreddit']==\"leagueoflegends\")& (yes_or_no['sarcasm']==\"no\")])\n",
        "\n",
        "cantWorldNewsYes=len(yes_or_no[(yes_or_no['subreddit']==\"worldnews\")& (yes_or_no['sarcasm']==\"yes\")])\n",
        "cantWorldNewsNo=len(yes_or_no[(yes_or_no['subreddit']==\"worldnews\")& (yes_or_no['sarcasm']==\"no\")])\n",
        "\n",
        "cantAskReddit=cantAskRedditYes+cantAskRedditNo\n",
        "cantFunny=cantFunnyYes+cantFunnyNo\n",
        "cantPolitics=cantPoliticsYes+cantPoliticsNo\n",
        "cantLeagueOfLegends=cantLeagueOfLegendsYes+cantLeagueOfLegendsNo\n",
        "cantWorldNews=cantWorldNewsYes+cantWorldNewsNo\n",
        "\n",
        "print(\"Proporción comentarios sarcasticos en AskReddit: \", cantAskRedditYes/cantAskReddit)\n",
        "print(\"Proporción comentarios no sarcasticos en AskReddit: \", cantAskRedditNo/cantAskReddit)\n",
        "\n",
        "print(\"Proporción comentarios sarcasticos en funny: \", cantFunnyYes/cantFunny)\n",
        "print(\"Proporción comentarios no sarcasticos en funny: \", cantFunnyNo/cantFunny)\n",
        "\n",
        "print(\"Proporción comentarios sarcasticos en politics: \", cantPoliticsYes/cantPolitics)\n",
        "print(\"Proporción comentarios no sarcasticos en politics: \", cantPoliticsNo/cantPolitics)\n",
        "\n",
        "print(\"Proporción comentarios sarcasticos en leagueoflegends: \", cantLeagueOfLegendsYes/cantLeagueOfLegends)\n",
        "print(\"Proporción comentarios no sarcasticos en leagueoflegends: \", cantLeagueOfLegendsNo/cantLeagueOfLegends)\n",
        "\n",
        "print(\"Proporción comentarios sarcasticos en worldnews: \", cantWorldNewsYes/cantWorldNews)\n",
        "print(\"Proporción comentarios no sarcasticos en worldnews: \", cantWorldNewsNo/cantWorldNews)\n",
        "\n",
        "\n",
        "cantSarcastica=cantAskRedditYes+cantFunnyYes+cantPoliticsYes+cantLeagueOfLegendsYes+cantWorldNewsYes\n",
        "cantNotSarcastica=cantAskRedditNo+cantFunnyNo+cantPoliticsNo+cantLeagueOfLegendsNo+cantWorldNewsNo\n",
        "cantTotal=cantSarcastica+cantNotSarcastica\n",
        "\n",
        "print(\"Proporción comentarios sarcasticos en el dataset: \", cantSarcastica/cantTotal)\n",
        "print(\"Proporción comentarios no sarcasticos en el dataset: \", cantNotSarcastica/cantTotal)"
      ],
      "execution_count": null,
      "outputs": [
        {
          "output_type": "stream",
          "text": [
            "Proporción comentarios sarcasticos en AskReddit:  0.7244148337708751\n",
            "Proporción comentarios no sarcasticos en AskReddit:  0.2755851662291248\n",
            "Proporción comentarios sarcasticos en funny:  0.41814876110113985\n",
            "Proporción comentarios no sarcasticos en funny:  0.5818512388988601\n",
            "Proporción comentarios sarcasticos en politics:  0.6133215306249223\n",
            "Proporción comentarios no sarcasticos en politics:  0.38667846937507766\n",
            "Proporción comentarios sarcasticos en leagueoflegends:  0.4574697144348507\n",
            "Proporción comentarios no sarcasticos en leagueoflegends:  0.5425302855651493\n",
            "Proporción comentarios sarcasticos en worldnews:  0.5142723444080487\n",
            "Proporción comentarios no sarcasticos en worldnews:  0.48572765559195136\n",
            "Proporción comentarios sarcasticos en el dataset:  0.5775935071709719\n",
            "Proporción comentarios no sarcasticos en el dataset:  0.42240649282902804\n"
          ],
          "name": "stdout"
        }
      ]
    },
    {
      "cell_type": "markdown",
      "metadata": {
        "id": "3H0wh8mJ_pme"
      },
      "source": [
        "## **Vectorización**\n",
        "\n",
        "Un problema de la clasificación de datos sobre strings es que los clasificadores vistos hasta el momento trabajan directamente con datos numéricos y etiquetas, no con datos puramente en datos de texto. Es por esto que se decidió investigar una forma de representar numéricamente los comentarios de nuestro dataset para poder usar los modelos aprendidos, encontrando el método de la vectorización.\n",
        "\n",
        "\n",
        "El método de la vectorización se basa en separar un string en tokens, los cuales son asignados a un identificador único con el fin de representar el string como un vector de unos, si el string contiene el token y cero en caso contrario. El dataset completo vectorizado será una matriz que resuma numéricamente todos los comentarios.\n",
        "\n"
      ]
    },
    {
      "cell_type": "code",
      "metadata": {
        "id": "-7aZ7JDN0gyc"
      },
      "source": [
        "import string\n",
        "punctuation = set(string.punctuation)\n",
        "digits = set(string.digits)\n",
        "\n",
        "def tokenize(sentence):\n",
        "    tokens = []\n",
        "    for token in sentence.split():\n",
        "        new_token = []\n",
        "        #if (token not in words):\n",
        "        for character in token:\n",
        "            if (character not in punctuation) and (character not in digits) :\n",
        "                new_token.append(character.lower())\n",
        "        if new_token:\n",
        "            tokens.append(\"\".join(new_token))\n",
        "    return tokens"
      ],
      "execution_count": null,
      "outputs": []
    },
    {
      "cell_type": "code",
      "metadata": {
        "id": "PfN4KFyw89ke",
        "colab": {
          "base_uri": "https://localhost:8080/"
        },
        "outputId": "6b472700-3b42-44c6-ce80-1a5a847d58f1"
      },
      "source": [
        "#Ejemplo de tokenización.\n",
        "tokenize(\"We love data mining \\s\")"
      ],
      "execution_count": null,
      "outputs": [
        {
          "output_type": "execute_result",
          "data": {
            "text/plain": [
              "['we', 'love', 'data', 'mining', 's']"
            ]
          },
          "metadata": {
            "tags": []
          },
          "execution_count": 162
        }
      ]
    },
    {
      "cell_type": "markdown",
      "metadata": {
        "id": "ccZP_aWpaOQl"
      },
      "source": [
        "# **Preguntas y problemas**\n",
        "\n",
        "A partir de la retroalimentación obtenida del hito 1 se concluyó que las interrogantes que se tenían no podían ser respondidas a partir de los conocimientos que se tienen hasta el momento, en específico el poder determinar si el contexto influye en el desempeño de un clasificador. Para poder verificar esto sería necesario encontrar un vínculo entre un comentario padre y un comentario hijo, lo cuál no es posible verificar dado que nuestro nuevo dataset no incluye los comentarios padre. En consecuencia, se llevó a cabo una reunión para determinar los cambios a las preguntas propuestas en el Hito 1, llegando a las siguientes interrogantes:\n",
        "\n",
        "1. ¿A través de qué método se debe entrenar un clasificador para que presente un buen desempeño?\n",
        "2. ¿Qué factores influyen más en el desempeño de un clasificador? ¿El largo del comentario? ¿Palabras utilizadas? ¿Puntaje?\n",
        "3. Si se entrena un clasificador en un subreddit específico, ¿Cambia el desempeño al usar este clasificador en un subreddit distinto?\n"
      ]
    },
    {
      "cell_type": "markdown",
      "metadata": {
        "id": "wYHStfUdSGMB"
      },
      "source": [
        "# **Propuesta Experimental**\n",
        "Se agregaron datos nuevos al dataset con comentarios no sarcásticos provenientes de los 5 subreddits más populares. Estos datos fueron preprocesados y se llevó a cabo una limpieza de estos datos, como se describió en la sección anterior. Luego de realizado el preprocesamiento se incorporaron estos datos a la tabla original, generando una nueva tabla con todo tipo de comentarios y una columna que denota si el comentario es sarcástico o no.\n"
      ]
    },
    {
      "cell_type": "markdown",
      "metadata": {
        "id": "XHN5kzkneJwf"
      },
      "source": [
        "## **Pregunta 1**\n",
        "Para responder la primera pregunta:\n",
        "- Se segmentará el dataset en distintos subreddits,\n",
        "\n",
        "- Se procede a separar el dataset en grupos de training y testing para entrenar distintos clasificadores, los tipos de clasificadores utilizados para el entrenamiento serán: *Decision Tree*, *Support Vector Machine Classifier*, *Linear Support Vector Machine Classifier*, *K-Nearest Neighbours* y *Dummy Classifier*.\n",
        "\n",
        "- Después de entrenar los datos, se comparará el accuracy para determinar si el clasificador presenta un buen desempeño\n",
        "\n",
        "\n"
      ]
    },
    {
      "cell_type": "markdown",
      "metadata": {
        "id": "CUtnPaIueKE-"
      },
      "source": [
        "## **Pregunta 2**\n",
        "Para responder la segunda pregunta, se llevarán a cabo distintos experimentos:\n",
        "- Se filtrarán los comentarios bajo o sobre una cierta longitud y se llevará a cabo el entrenamiento sobre estos datos para determinar si el desempeño presenta algún cambio. Esto con el fin de verificar la importancia del largo sobre los clasificadores.\n",
        "- Analogamente, se filtrarán ciertas palabras con el mismo objetivo de determinar si el desempeño de los clasificadores se ve afectado o no. Esto con el fin de verificar la importancia de ciertas palabras clave sobre los clasificadores.\n",
        "- Se eliminarán columnas como el score para analizar si existen cambios en el desempeño del clasificador. Esto con el fin de verificar la importancia del score sobre los clasificadores."
      ]
    },
    {
      "cell_type": "markdown",
      "metadata": {
        "id": "GEfIDGh8eeqg"
      },
      "source": [
        "## **Pregunta 3**\n",
        "Para responder la tercera pregunta:\n",
        "- Se filtrará el nuevo dataset para que ahora incluya solamente los subreddits *AskReddit* y *worldnews*.\n",
        "- Se realizará una vectorización de este dataset en conjunto, debido a que si estos se vectorizaran por separado la información resultante contendría palabras que el otro subreddit no tiene. \n",
        "\n",
        "- Posterior a la vectorización, es necesario separar la información obtenida en los dos subreddits iniciales, para segmentarla en grupos de training y testing.\n",
        "\n",
        "- Se entrenan los 5 clasificadores con los datos ya separados de ambos subreddits\n",
        "\n",
        "- Se utilizarán los clasificadores previamente mencionados para testearlos con los grupos de testing del subreddit opuesto, esto es, que los clasificadores entrenados con *AskReddit* serán testeados con los datos de testing de *worldnews* y viceversa.\n",
        "\n",
        "- Luego de lo anterior, se analizarán los resultados obtenidos usando la métrica *accuaracy*."
      ]
    },
    {
      "cell_type": "markdown",
      "metadata": {
        "id": "rYA663KfixKs"
      },
      "source": [
        "# **Experimento Preliminar - Pregunta 1**\n",
        "\n",
        "Para nuestro experimento preliminar se decidió responder la primera pregunta, para la cual se deben entrenar distintos tipos de clasificadores sobre varios segmentos de la base de datos, y de esta forma determinar a través de cuál método se obtiene un mejor desempeño. Los clasificadores utilizados para realizar la comparación fueron:\n",
        "- *Decision Tree*\n",
        "- *Support Vector Machine Classifier*\n",
        "- *Linear Support Vector Machine Classifier*\n",
        "- *K-Nearest Neighbours*\n",
        "- *Dummy Classifier*\n",
        "\n",
        "El primer subrredit analizado fue el que contenía mayor cantidad de comentarios de todo tipo (*AskReddit*). A partir de los resultados obtenidos de los 4 clasificadores, pudimos concluir que el mejor clasificador para este experimento fue **Support Vector Machine Classifier (SVc)**, con un *accuracy* de aproximadamente un 80%.\n",
        "\n",
        "Es importante notar que la proporción de comentarios sarcásticos sobre la cantidad total de comentarios del subreddit *AskReddit* es bastante alta (70% aproximadamente). Es por esto que, para verificar que la calidad del clasificador con mayor desempeño no depende directamente de la proporción de comentarios sarcásticos, se decidió repetir el experimento anterior sobre un nuevo subreddit con una proporción más equilibrada de comentarios sarcásticos. El subreddit elegido para esto fue *worldnews*, el cuál es el tercer subreddit con más comentarios y que presenta una proporción de comentarios sarcásticos de aproximadamente un 50%.\n",
        "\n",
        "A partir de los resultados experimentales sobre el subreddit *worldnews*, se pudo concluir que el mejor clasificador para este tipo de problema sigue siendo **Support Vector Machine Classifier (SVc)**, con un *accuracy* prácticamente idéntico al del subreddit *AskReddit*. Cabe mencionar que las precisiones de los cuatro clasificadores usados en ambos casos fueron constantes, concluyendo que la proporción de comentarios sarcásticos sobre un subreddit no es relevante para el buen desempeño de un clasificador.\n",
        "\n",
        "\n",
        "Es importante también comentar que el clasificador Support Vector Machine Classifier (SVc) tuvo un tiempo de entrenamiento notablemente alto en comparación con su equivalente lineal. Sin embargo, el aumento de *accuracy* es muy bajo por lo que se concluyo que esta leve diferencia no justificaba el gran tiempo invertido de cómputo.\n",
        "\n",
        "\n",
        "Para la medición de calidad de los modelos se utilizo únicamente la métrica de *accuracy*, dado que para este experimento nos importa determinar que tan certera es la medición de sarcasmo, mientras que las métricas de *f1-measure*, *presicion* y *recall* son irrelevantes, debido a que  los falsos negativos y positivos no aportan información para el problema a resolver.\n",
        "\n",
        "A continuación, se deja adjunta el código utilizado para realizar este experimento:\n"
      ]
    },
    {
      "cell_type": "code",
      "metadata": {
        "id": "QBmSSn5nkSh9"
      },
      "source": [
        "from sklearn.model_selection import train_test_split\n",
        "from sklearn.feature_extraction.text import CountVectorizer"
      ],
      "execution_count": null,
      "outputs": []
    },
    {
      "cell_type": "markdown",
      "metadata": {
        "id": "WdDQ5yOPjx_F"
      },
      "source": [
        "## Clasificadores para AskReddit\n"
      ]
    },
    {
      "cell_type": "code",
      "metadata": {
        "id": "r3cljWXPLFsN",
        "colab": {
          "base_uri": "https://localhost:8080/",
          "height": 204
        },
        "outputId": "66132740-1ae7-4478-d3ac-bcfcba0faa68"
      },
      "source": [
        "\n",
        "datosAskReddit=yes_or_no[yes_or_no['subreddit']==\"AskReddit\"]\n",
        "datosAskReddit.head()\n"
      ],
      "execution_count": null,
      "outputs": [
        {
          "output_type": "execute_result",
          "data": {
            "text/html": [
              "<div>\n",
              "<style scoped>\n",
              "    .dataframe tbody tr th:only-of-type {\n",
              "        vertical-align: middle;\n",
              "    }\n",
              "\n",
              "    .dataframe tbody tr th {\n",
              "        vertical-align: top;\n",
              "    }\n",
              "\n",
              "    .dataframe thead th {\n",
              "        text-align: right;\n",
              "    }\n",
              "</style>\n",
              "<table border=\"1\" class=\"dataframe\">\n",
              "  <thead>\n",
              "    <tr style=\"text-align: right;\">\n",
              "      <th></th>\n",
              "      <th>comment</th>\n",
              "      <th>subreddit</th>\n",
              "      <th>score</th>\n",
              "      <th>sarcasm</th>\n",
              "      <th>Llave</th>\n",
              "      <th>Unnamed: 5</th>\n",
              "      <th>Unnamed: 6</th>\n",
              "      <th>Unnamed: 7</th>\n",
              "      <th>Unnamed: 8</th>\n",
              "      <th>Unnamed: 9</th>\n",
              "      <th>Unnamed: 10</th>\n",
              "      <th>Unnamed: 11</th>\n",
              "      <th>Unnamed: 12</th>\n",
              "    </tr>\n",
              "  </thead>\n",
              "  <tbody>\n",
              "    <tr>\n",
              "      <th>0</th>\n",
              "      <td>I don't pay attention to her, but as long as s...</td>\n",
              "      <td>AskReddit</td>\n",
              "      <td>0</td>\n",
              "      <td>yes</td>\n",
              "      <td>AskReddityes</td>\n",
              "      <td></td>\n",
              "      <td>AskReddityes</td>\n",
              "      <td>65674.0</td>\n",
              "      <td>0.724415</td>\n",
              "      <td>NaN</td>\n",
              "      <td>sarcasm</td>\n",
              "      <td>170516.0</td>\n",
              "      <td>0.577594</td>\n",
              "    </tr>\n",
              "    <tr>\n",
              "      <th>1</th>\n",
              "      <td>Trick or treating in general is just weird...</td>\n",
              "      <td>AskReddit</td>\n",
              "      <td>1</td>\n",
              "      <td>yes</td>\n",
              "      <td>AskReddityes</td>\n",
              "      <td>NaN</td>\n",
              "      <td>AskRedditno</td>\n",
              "      <td>24984.0</td>\n",
              "      <td>0.275585</td>\n",
              "      <td>NaN</td>\n",
              "      <td>nosarcasm</td>\n",
              "      <td>124702.0</td>\n",
              "      <td>0.422406</td>\n",
              "    </tr>\n",
              "    <tr>\n",
              "      <th>2</th>\n",
              "      <td>what the fuck</td>\n",
              "      <td>AskReddit</td>\n",
              "      <td>22</td>\n",
              "      <td>yes</td>\n",
              "      <td>AskReddityes</td>\n",
              "      <td>NaN</td>\n",
              "      <td>NaN</td>\n",
              "      <td>90658.0</td>\n",
              "      <td>NaN</td>\n",
              "      <td>NaN</td>\n",
              "      <td>NaN</td>\n",
              "      <td>295218.0</td>\n",
              "      <td>NaN</td>\n",
              "    </tr>\n",
              "    <tr>\n",
              "      <th>3</th>\n",
              "      <td>This would make me cry.</td>\n",
              "      <td>AskReddit</td>\n",
              "      <td>1</td>\n",
              "      <td>yes</td>\n",
              "      <td>AskReddityes</td>\n",
              "      <td>NaN</td>\n",
              "      <td>NaN</td>\n",
              "      <td>NaN</td>\n",
              "      <td>NaN</td>\n",
              "      <td>NaN</td>\n",
              "      <td>NaN</td>\n",
              "      <td>NaN</td>\n",
              "      <td>NaN</td>\n",
              "    </tr>\n",
              "    <tr>\n",
              "      <th>4</th>\n",
              "      <td>My stuffed animal I've had since I was born.</td>\n",
              "      <td>AskReddit</td>\n",
              "      <td>1</td>\n",
              "      <td>yes</td>\n",
              "      <td>AskReddityes</td>\n",
              "      <td>NaN</td>\n",
              "      <td>funnyyes</td>\n",
              "      <td>17939.0</td>\n",
              "      <td>0.418149</td>\n",
              "      <td>NaN</td>\n",
              "      <td>NaN</td>\n",
              "      <td>NaN</td>\n",
              "      <td>NaN</td>\n",
              "    </tr>\n",
              "  </tbody>\n",
              "</table>\n",
              "</div>"
            ],
            "text/plain": [
              "                                             comment  ... Unnamed: 12\n",
              "0  I don't pay attention to her, but as long as s...  ...    0.577594\n",
              "1      Trick or treating in general is just weird...  ...    0.422406\n",
              "2                                      what the fuck  ...         NaN\n",
              "3                            This would make me cry.  ...         NaN\n",
              "4       My stuffed animal I've had since I was born.  ...         NaN\n",
              "\n",
              "[5 rows x 13 columns]"
            ]
          },
          "metadata": {
            "tags": []
          },
          "execution_count": 132
        }
      ]
    },
    {
      "cell_type": "code",
      "metadata": {
        "id": "gk5jKAdtwF5d",
        "colab": {
          "base_uri": "https://localhost:8080/"
        },
        "outputId": "4afd8c18-cfea-469d-dfe5-e91ed215bc04"
      },
      "source": [
        "train_comment_A,test_comment_A, train_sarcasm_A, test_sarcasm_A = train_test_split(datosAskReddit[\"comment\"], \n",
        "                                                                    datosAskReddit[\"sarcasm\"],\n",
        "                                                                    test_size=.33, random_state=37,\n",
        "                                                                    stratify=datosAskReddit[\"sarcasm\"])\n",
        "\n",
        "print(f\"Training examples: {len(train_comment_A)}, testing examples {len(test_comment_A)}\")\n"
      ],
      "execution_count": null,
      "outputs": [
        {
          "output_type": "stream",
          "text": [
            "Training examples: 60740, testing examples 29918\n"
          ],
          "name": "stdout"
        }
      ]
    },
    {
      "cell_type": "code",
      "metadata": {
        "id": "tTE1NIZ5cmZL",
        "colab": {
          "base_uri": "https://localhost:8080/"
        },
        "outputId": "252ec22e-04de-4b84-c549-8665b5b44f29"
      },
      "source": [
        "real_vectorizer = CountVectorizer(tokenizer = tokenize, binary=True)\n",
        "train_X_A = real_vectorizer.fit_transform(train_comment_A)\n",
        "test_X_A = real_vectorizer.transform(test_comment_A)\n",
        "train_X_A.shape"
      ],
      "execution_count": null,
      "outputs": [
        {
          "output_type": "execute_result",
          "data": {
            "text/plain": [
              "(60740, 39822)"
            ]
          },
          "metadata": {
            "tags": []
          },
          "execution_count": 134
        }
      ]
    },
    {
      "cell_type": "markdown",
      "metadata": {
        "id": "V1TqRuadavKI"
      },
      "source": [
        "###Usando Árbol de decisión"
      ]
    },
    {
      "cell_type": "code",
      "metadata": {
        "id": "aCFMpCooYZYY",
        "colab": {
          "base_uri": "https://localhost:8080/"
        },
        "outputId": "71ff14b3-25cd-415a-b1b6-b991a7d395bf"
      },
      "source": [
        "classifier_Tree_Ask = DecisionTreeClassifier()\n",
        "classifier_Tree_Ask.fit(train_X_A, train_sarcasm_A)"
      ],
      "execution_count": null,
      "outputs": [
        {
          "output_type": "execute_result",
          "data": {
            "text/plain": [
              "DecisionTreeClassifier(ccp_alpha=0.0, class_weight=None, criterion='gini',\n",
              "                       max_depth=None, max_features=None, max_leaf_nodes=None,\n",
              "                       min_impurity_decrease=0.0, min_impurity_split=None,\n",
              "                       min_samples_leaf=1, min_samples_split=2,\n",
              "                       min_weight_fraction_leaf=0.0, presort='deprecated',\n",
              "                       random_state=None, splitter='best')"
            ]
          },
          "metadata": {
            "tags": []
          },
          "execution_count": 135
        }
      ]
    },
    {
      "cell_type": "code",
      "metadata": {
        "id": "Z39iEx8Ta49W",
        "colab": {
          "base_uri": "https://localhost:8080/"
        },
        "outputId": "9b6cebd3-6c8c-4e06-e680-bb4e244f04c4"
      },
      "source": [
        "from sklearn.metrics import accuracy_score\n",
        "predicciones_Tree_Ask = classifier_Tree_Ask.predict(test_X_A)\n",
        "accuracy_Tree_Ask = accuracy_score(test_sarcasm_A, predicciones_Tree_Ask)\n",
        "print(f\"Accuracy: {accuracy_Tree_Ask:.4%}\")"
      ],
      "execution_count": null,
      "outputs": [
        {
          "output_type": "stream",
          "text": [
            "Accuracy: 76.1214%\n"
          ],
          "name": "stdout"
        }
      ]
    },
    {
      "cell_type": "markdown",
      "metadata": {
        "id": "uyge99qF8XQ2"
      },
      "source": [
        "###Usando SVC"
      ]
    },
    {
      "cell_type": "code",
      "metadata": {
        "colab": {
          "base_uri": "https://localhost:8080/"
        },
        "id": "qbcXhK_c8Xb-",
        "outputId": "1264c5aa-01da-42d9-b6e4-4701f3a744e8"
      },
      "source": [
        "\n",
        "classifier_Svc_Ask = SVC(max_iter=300000)\n",
        "classifier_Svc_Ask.fit(train_X_A, train_sarcasm_A)"
      ],
      "execution_count": null,
      "outputs": [
        {
          "output_type": "execute_result",
          "data": {
            "text/plain": [
              "SVC(C=1.0, break_ties=False, cache_size=200, class_weight=None, coef0=0.0,\n",
              "    decision_function_shape='ovr', degree=3, gamma='scale', kernel='rbf',\n",
              "    max_iter=300000, probability=False, random_state=None, shrinking=True,\n",
              "    tol=0.001, verbose=False)"
            ]
          },
          "metadata": {
            "tags": []
          },
          "execution_count": 167
        }
      ]
    },
    {
      "cell_type": "code",
      "metadata": {
        "colab": {
          "base_uri": "https://localhost:8080/"
        },
        "id": "w1hbtRPs8Xl6",
        "outputId": "b8df2d24-9c3f-4ff7-be21-53bf09e12d74"
      },
      "source": [
        "from sklearn.metrics import accuracy_score\n",
        "predicciones_Svc_Ask = classifier_Svc_Ask.predict(test_X_A)\n",
        "accuracy_Svc_Ask = accuracy_score(test_sarcasm_A, predicciones_Svc_Ask)\n",
        "print(f\"Accuracy: {accuracy_Svc_Ask:.4%}\")"
      ],
      "execution_count": null,
      "outputs": [
        {
          "output_type": "stream",
          "text": [
            "Accuracy: 82.3317%\n"
          ],
          "name": "stdout"
        }
      ]
    },
    {
      "cell_type": "markdown",
      "metadata": {
        "id": "fSGmOZgcqunv"
      },
      "source": [
        "###Usando linearSvc"
      ]
    },
    {
      "cell_type": "code",
      "metadata": {
        "colab": {
          "base_uri": "https://localhost:8080/"
        },
        "id": "0cU-VbdYrJys",
        "outputId": "928892ea-fa26-445d-9fd4-d4827e1083e9"
      },
      "source": [
        "classifier_LSvc_Ask = LinearSVC(max_iter=300000)\n",
        "classifier_LSvc_Ask.fit(train_X_A, train_sarcasm_A)"
      ],
      "execution_count": null,
      "outputs": [
        {
          "output_type": "execute_result",
          "data": {
            "text/plain": [
              "LinearSVC(C=1.0, class_weight=None, dual=True, fit_intercept=True,\n",
              "          intercept_scaling=1, loss='squared_hinge', max_iter=300000,\n",
              "          multi_class='ovr', penalty='l2', random_state=None, tol=0.0001,\n",
              "          verbose=0)"
            ]
          },
          "metadata": {
            "tags": []
          },
          "execution_count": 137
        }
      ]
    },
    {
      "cell_type": "code",
      "metadata": {
        "colab": {
          "base_uri": "https://localhost:8080/"
        },
        "id": "Y-aFcZDbrTtx",
        "outputId": "82c6fc49-5880-461b-f12e-9e2364652d1b"
      },
      "source": [
        "from sklearn.metrics import accuracy_score\n",
        "predicciones_LSvc_Ask = classifier_LSvc_Ask.predict(test_X_A)\n",
        "accuracy_LSvc_Ask = accuracy_score(test_sarcasm_A, predicciones_LSvc_Ask)\n",
        "print(f\"Accuracy: {accuracy_LSvc_Ask:.4%}\")"
      ],
      "execution_count": null,
      "outputs": [
        {
          "output_type": "stream",
          "text": [
            "Accuracy: 80.3764%\n"
          ],
          "name": "stdout"
        }
      ]
    },
    {
      "cell_type": "markdown",
      "metadata": {
        "id": "K4_z6O8Myw0B"
      },
      "source": [
        "###Usando K-vecinos"
      ]
    },
    {
      "cell_type": "code",
      "metadata": {
        "colab": {
          "base_uri": "https://localhost:8080/"
        },
        "id": "9FKhkjlfy0fW",
        "outputId": "7ae9cc3d-1f3d-41cc-bafc-385ca7ee4745"
      },
      "source": [
        "classifier_KNN_Ask = KNeighborsClassifier(n_neighbors=10)\n",
        "classifier_KNN_Ask.fit(train_X_A, train_sarcasm_A)"
      ],
      "execution_count": null,
      "outputs": [
        {
          "output_type": "execute_result",
          "data": {
            "text/plain": [
              "KNeighborsClassifier(algorithm='auto', leaf_size=30, metric='minkowski',\n",
              "                     metric_params=None, n_jobs=None, n_neighbors=10, p=2,\n",
              "                     weights='uniform')"
            ]
          },
          "metadata": {
            "tags": []
          },
          "execution_count": 139
        }
      ]
    },
    {
      "cell_type": "code",
      "metadata": {
        "colab": {
          "base_uri": "https://localhost:8080/"
        },
        "id": "KlXMntnJy0pB",
        "outputId": "9f61bd2b-13f7-43ba-987b-8d6c69b6c174"
      },
      "source": [
        "from sklearn.metrics import accuracy_score\n",
        "predicciones_KNN_Ask = classifier_KNN_Ask.predict(test_X_A)\n",
        "accuracy_KNN_Ask = accuracy_score(test_sarcasm_A, predicciones_KNN_Ask)\n",
        "print(f\"Accuracy: {accuracy_KNN_Ask:.4%}\")"
      ],
      "execution_count": null,
      "outputs": [
        {
          "output_type": "stream",
          "text": [
            "Accuracy: 73.8051%\n"
          ],
          "name": "stdout"
        }
      ]
    },
    {
      "cell_type": "markdown",
      "metadata": {
        "id": "LCKPW0noy5mW"
      },
      "source": [
        "### Usando Dummy"
      ]
    },
    {
      "cell_type": "code",
      "metadata": {
        "id": "5nq8sHipy50g"
      },
      "source": [
        "classifier_DummyClassifier_Ask =DummyClassifier()\n",
        "classifier_DummyClassifier_Ask.fit(train_X_A, train_sarcasm_A)"
      ],
      "execution_count": null,
      "outputs": []
    },
    {
      "cell_type": "code",
      "metadata": {
        "colab": {
          "base_uri": "https://localhost:8080/"
        },
        "id": "3qWKBIH7y587",
        "outputId": "cbc9ed42-a5f2-4b60-be20-0916f3c75118"
      },
      "source": [
        "from sklearn.metrics import accuracy_score\n",
        "predicciones_DummyClassifier_Ask = classifier_DummyClassifier_Ask.predict(test_X_A)\n",
        "accuracy_DummyClassifier_Ask = accuracy_score(test_sarcasm_A,predicciones_DummyClassifier_Ask)\n",
        "print(f\"Accuracy: {accuracy_DummyClassifier_Ask:.4%}\")"
      ],
      "execution_count": null,
      "outputs": [
        {
          "output_type": "stream",
          "text": [
            "Accuracy: 59.8202%\n"
          ],
          "name": "stdout"
        }
      ]
    },
    {
      "cell_type": "markdown",
      "metadata": {
        "id": "uYKEhnV7sdHv"
      },
      "source": [
        "## Clasificadores para worldnews\n"
      ]
    },
    {
      "cell_type": "code",
      "metadata": {
        "colab": {
          "base_uri": "https://localhost:8080/",
          "height": 204
        },
        "id": "KX4k9wAosdHw",
        "outputId": "5bf450f9-ffd4-4c0b-d2b4-fdb6f58a81e6"
      },
      "source": [
        "\n",
        "datosWorld=yes_or_no[yes_or_no['subreddit']==\"worldnews\"]\n",
        "datosWorld.head()\n"
      ],
      "execution_count": null,
      "outputs": [
        {
          "output_type": "execute_result",
          "data": {
            "text/html": [
              "<div>\n",
              "<style scoped>\n",
              "    .dataframe tbody tr th:only-of-type {\n",
              "        vertical-align: middle;\n",
              "    }\n",
              "\n",
              "    .dataframe tbody tr th {\n",
              "        vertical-align: top;\n",
              "    }\n",
              "\n",
              "    .dataframe thead th {\n",
              "        text-align: right;\n",
              "    }\n",
              "</style>\n",
              "<table border=\"1\" class=\"dataframe\">\n",
              "  <thead>\n",
              "    <tr style=\"text-align: right;\">\n",
              "      <th></th>\n",
              "      <th>comment</th>\n",
              "      <th>subreddit</th>\n",
              "      <th>score</th>\n",
              "      <th>sarcasm</th>\n",
              "      <th>Llave</th>\n",
              "      <th>Unnamed: 5</th>\n",
              "      <th>Unnamed: 6</th>\n",
              "      <th>Unnamed: 7</th>\n",
              "      <th>Unnamed: 8</th>\n",
              "      <th>Unnamed: 9</th>\n",
              "      <th>Unnamed: 10</th>\n",
              "      <th>Unnamed: 11</th>\n",
              "      <th>Unnamed: 12</th>\n",
              "    </tr>\n",
              "  </thead>\n",
              "  <tbody>\n",
              "    <tr>\n",
              "      <th>144140</th>\n",
              "      <td>all of which is irrelevant to whether or not A...</td>\n",
              "      <td>worldnews</td>\n",
              "      <td>1</td>\n",
              "      <td>yes</td>\n",
              "      <td>worldnewsyes</td>\n",
              "      <td>NaN</td>\n",
              "      <td>NaN</td>\n",
              "      <td>NaN</td>\n",
              "      <td>NaN</td>\n",
              "      <td>NaN</td>\n",
              "      <td>NaN</td>\n",
              "      <td>NaN</td>\n",
              "      <td>NaN</td>\n",
              "    </tr>\n",
              "    <tr>\n",
              "      <th>144141</th>\n",
              "      <td>The fact we are arming \"rebels\" linked to AQ i...</td>\n",
              "      <td>worldnews</td>\n",
              "      <td>-1</td>\n",
              "      <td>yes</td>\n",
              "      <td>worldnewsyes</td>\n",
              "      <td>NaN</td>\n",
              "      <td>NaN</td>\n",
              "      <td>NaN</td>\n",
              "      <td>NaN</td>\n",
              "      <td>NaN</td>\n",
              "      <td>NaN</td>\n",
              "      <td>NaN</td>\n",
              "      <td>NaN</td>\n",
              "    </tr>\n",
              "    <tr>\n",
              "      <th>144142</th>\n",
              "      <td>Whilst knowing that what they were doing was i...</td>\n",
              "      <td>worldnews</td>\n",
              "      <td>1</td>\n",
              "      <td>yes</td>\n",
              "      <td>worldnewsyes</td>\n",
              "      <td>NaN</td>\n",
              "      <td>NaN</td>\n",
              "      <td>NaN</td>\n",
              "      <td>NaN</td>\n",
              "      <td>NaN</td>\n",
              "      <td>NaN</td>\n",
              "      <td>NaN</td>\n",
              "      <td>NaN</td>\n",
              "    </tr>\n",
              "    <tr>\n",
              "      <th>144143</th>\n",
              "      <td>If she's already agreed to step down, isn't th...</td>\n",
              "      <td>worldnews</td>\n",
              "      <td>2</td>\n",
              "      <td>yes</td>\n",
              "      <td>worldnewsyes</td>\n",
              "      <td>NaN</td>\n",
              "      <td>NaN</td>\n",
              "      <td>NaN</td>\n",
              "      <td>NaN</td>\n",
              "      <td>NaN</td>\n",
              "      <td>NaN</td>\n",
              "      <td>NaN</td>\n",
              "      <td>NaN</td>\n",
              "    </tr>\n",
              "    <tr>\n",
              "      <th>144144</th>\n",
              "      <td>Were those who boycotted South Africa and only...</td>\n",
              "      <td>worldnews</td>\n",
              "      <td>1</td>\n",
              "      <td>yes</td>\n",
              "      <td>worldnewsyes</td>\n",
              "      <td>NaN</td>\n",
              "      <td>NaN</td>\n",
              "      <td>NaN</td>\n",
              "      <td>NaN</td>\n",
              "      <td>NaN</td>\n",
              "      <td>NaN</td>\n",
              "      <td>NaN</td>\n",
              "      <td>NaN</td>\n",
              "    </tr>\n",
              "  </tbody>\n",
              "</table>\n",
              "</div>"
            ],
            "text/plain": [
              "                                                  comment  ... Unnamed: 12\n",
              "144140  all of which is irrelevant to whether or not A...  ...         NaN\n",
              "144141  The fact we are arming \"rebels\" linked to AQ i...  ...         NaN\n",
              "144142  Whilst knowing that what they were doing was i...  ...         NaN\n",
              "144143  If she's already agreed to step down, isn't th...  ...         NaN\n",
              "144144  Were those who boycotted South Africa and only...  ...         NaN\n",
              "\n",
              "[5 rows x 13 columns]"
            ]
          },
          "metadata": {
            "tags": []
          },
          "execution_count": 143
        }
      ]
    },
    {
      "cell_type": "code",
      "metadata": {
        "colab": {
          "base_uri": "https://localhost:8080/"
        },
        "id": "E658E-6bsdHx",
        "outputId": "98a48932-cfdf-4972-aee5-e21e3cf9118f"
      },
      "source": [
        "train_comment_W,test_comment_W, train_sarcasm_W, test_sarcasm_W = train_test_split(datosWorld[\"comment\"], \n",
        "                                                                    datosWorld[\"sarcasm\"],\n",
        "                                                                    test_size=.33, random_state=37,\n",
        "                                                                    stratify=datosWorld[\"sarcasm\"])\n",
        "\n",
        "print(f\"Training examples: {len(train_comment_W)}, testing examples {len(test_comment_W)}\")\n"
      ],
      "execution_count": null,
      "outputs": [
        {
          "output_type": "stream",
          "text": [
            "Training examples: 34362, testing examples 16926\n"
          ],
          "name": "stdout"
        }
      ]
    },
    {
      "cell_type": "code",
      "metadata": {
        "colab": {
          "base_uri": "https://localhost:8080/"
        },
        "id": "qCAbeh1KsdHy",
        "outputId": "c9ae7bbe-d243-4e63-dad1-5fc3f475cf79"
      },
      "source": [
        "real_vectorizer = CountVectorizer(tokenizer = tokenize, binary=True)\n",
        "\n",
        "train_X_W = real_vectorizer.fit_transform(train_comment_W)\n",
        "test_X_W = real_vectorizer.transform(test_comment_W)\n",
        "\n",
        "train_X_W.shape"
      ],
      "execution_count": null,
      "outputs": [
        {
          "output_type": "execute_result",
          "data": {
            "text/plain": [
              "(34362, 35032)"
            ]
          },
          "metadata": {
            "tags": []
          },
          "execution_count": 145
        }
      ]
    },
    {
      "cell_type": "markdown",
      "metadata": {
        "id": "B6YRcR44sdHy"
      },
      "source": [
        "###Usando Arbol de decision"
      ]
    },
    {
      "cell_type": "code",
      "metadata": {
        "colab": {
          "base_uri": "https://localhost:8080/"
        },
        "id": "WQFZ3_tisdHy",
        "outputId": "23f0692d-3f3c-4ef4-b4fd-d7c3fb3eae74"
      },
      "source": [
        "classifier_Tree_W = DecisionTreeClassifier()\n",
        "classifier_Tree_W.fit(train_X_W, train_sarcasm_W)"
      ],
      "execution_count": null,
      "outputs": [
        {
          "output_type": "execute_result",
          "data": {
            "text/plain": [
              "DecisionTreeClassifier(ccp_alpha=0.0, class_weight=None, criterion='gini',\n",
              "                       max_depth=None, max_features=None, max_leaf_nodes=None,\n",
              "                       min_impurity_decrease=0.0, min_impurity_split=None,\n",
              "                       min_samples_leaf=1, min_samples_split=2,\n",
              "                       min_weight_fraction_leaf=0.0, presort='deprecated',\n",
              "                       random_state=None, splitter='best')"
            ]
          },
          "metadata": {
            "tags": []
          },
          "execution_count": 146
        }
      ]
    },
    {
      "cell_type": "code",
      "metadata": {
        "colab": {
          "base_uri": "https://localhost:8080/"
        },
        "id": "W4pMpkTusdHz",
        "outputId": "d60b66b7-d75d-4dbc-e824-4016bc1dd572"
      },
      "source": [
        "from sklearn.metrics import accuracy_score\n",
        "predicciones_Tree_W = classifier_Tree_W.predict(test_X_W)\n",
        "accuracy_Tree_W = accuracy_score(test_sarcasm_W, predicciones_Tree_W)\n",
        "print(f\"Accuracy: {accuracy_Tree_W:.4%}\")"
      ],
      "execution_count": null,
      "outputs": [
        {
          "output_type": "stream",
          "text": [
            "Accuracy: 71.0977%\n"
          ],
          "name": "stdout"
        }
      ]
    },
    {
      "cell_type": "markdown",
      "metadata": {
        "id": "pX5ThMev9C6s"
      },
      "source": [
        "###Usando SVC"
      ]
    },
    {
      "cell_type": "code",
      "metadata": {
        "colab": {
          "base_uri": "https://localhost:8080/"
        },
        "id": "NtIf0Cbx9DFD",
        "outputId": "658ff0fc-8845-4fc6-98ca-7b3c646f7bf4"
      },
      "source": [
        "classifier_Svc_W = SVC(max_iter=300000)\n",
        "classifier_Svc_W.fit(train_X_W, train_sarcasm_W)"
      ],
      "execution_count": null,
      "outputs": [
        {
          "output_type": "execute_result",
          "data": {
            "text/plain": [
              "SVC(C=1.0, break_ties=False, cache_size=200, class_weight=None, coef0=0.0,\n",
              "    decision_function_shape='ovr', degree=3, gamma='scale', kernel='rbf',\n",
              "    max_iter=300000, probability=False, random_state=None, shrinking=True,\n",
              "    tol=0.001, verbose=False)"
            ]
          },
          "metadata": {
            "tags": []
          },
          "execution_count": 169
        }
      ]
    },
    {
      "cell_type": "code",
      "metadata": {
        "colab": {
          "base_uri": "https://localhost:8080/"
        },
        "id": "zh3lBx5z9DIh",
        "outputId": "dcc5af3d-14f6-4b24-afb0-4c7cd40c68a5"
      },
      "source": [
        "from sklearn.metrics import accuracy_score\n",
        "predicciones_Svc_W = classifier_Svc_W.predict(test_X_W)\n",
        "accuracy_Svc_W = accuracy_score(test_sarcasm_W, predicciones_Svc_W)\n",
        "print(f\"Accuracy: {accuracy_Svc_W:.4%}\")"
      ],
      "execution_count": null,
      "outputs": [
        {
          "output_type": "stream",
          "text": [
            "Accuracy: 80.6215%\n"
          ],
          "name": "stdout"
        }
      ]
    },
    {
      "cell_type": "markdown",
      "metadata": {
        "id": "scb4tK_AsdHz"
      },
      "source": [
        "###Usando linearSvc"
      ]
    },
    {
      "cell_type": "code",
      "metadata": {
        "colab": {
          "base_uri": "https://localhost:8080/"
        },
        "id": "ufjn1d0JsdHz",
        "outputId": "eca7564e-e785-48cb-cbe7-8c1e0a045577"
      },
      "source": [
        "classifier_LSvc_W = LinearSVC(max_iter=300000)\n",
        "classifier_LSvc_W.fit(train_X_W, train_sarcasm_W)"
      ],
      "execution_count": null,
      "outputs": [
        {
          "output_type": "execute_result",
          "data": {
            "text/plain": [
              "LinearSVC(C=1.0, class_weight=None, dual=True, fit_intercept=True,\n",
              "          intercept_scaling=1, loss='squared_hinge', max_iter=300000,\n",
              "          multi_class='ovr', penalty='l2', random_state=None, tol=0.0001,\n",
              "          verbose=0)"
            ]
          },
          "metadata": {
            "tags": []
          },
          "execution_count": 157
        }
      ]
    },
    {
      "cell_type": "code",
      "metadata": {
        "colab": {
          "base_uri": "https://localhost:8080/"
        },
        "id": "TaWqqZ2ysdHz",
        "outputId": "d0b8e491-a844-43bb-dc50-598b90030987"
      },
      "source": [
        "from sklearn.metrics import accuracy_score\n",
        "predicciones_LSvc_W = classifier_LSvc_W.predict(test_X_W)\n",
        "accuracy_LSvc_W = accuracy_score(test_sarcasm_W, predicciones_LSvc_W)\n",
        "print(f\"Accuracy: {accuracy_LSvc_W:.4%}\")"
      ],
      "execution_count": null,
      "outputs": [
        {
          "output_type": "stream",
          "text": [
            "Accuracy: 79.2804%\n"
          ],
          "name": "stdout"
        }
      ]
    },
    {
      "cell_type": "markdown",
      "metadata": {
        "id": "retuyqwC0qki"
      },
      "source": [
        "###Usando K-vecinos"
      ]
    },
    {
      "cell_type": "code",
      "metadata": {
        "colab": {
          "base_uri": "https://localhost:8080/"
        },
        "id": "EwC8yjOT0qlA",
        "outputId": "a2a57767-902a-4124-b7c9-7197cf5171df"
      },
      "source": [
        "classifier_KNN_W = KNeighborsClassifier(n_neighbors=10)\n",
        "classifier_KNN_W.fit(train_X_W, train_sarcasm_W)"
      ],
      "execution_count": null,
      "outputs": [
        {
          "output_type": "execute_result",
          "data": {
            "text/plain": [
              "KNeighborsClassifier(algorithm='auto', leaf_size=30, metric='minkowski',\n",
              "                     metric_params=None, n_jobs=None, n_neighbors=10, p=2,\n",
              "                     weights='uniform')"
            ]
          },
          "metadata": {
            "tags": []
          },
          "execution_count": 150
        }
      ]
    },
    {
      "cell_type": "code",
      "metadata": {
        "colab": {
          "base_uri": "https://localhost:8080/"
        },
        "id": "9J32jvFf0qlC",
        "outputId": "74e2e24a-df46-4ed5-d048-fee3002b7f4a"
      },
      "source": [
        "from sklearn.metrics import accuracy_score\n",
        "predicciones_KNN_W = classifier_KNN_W.predict(test_X_W)\n",
        "accuracy_KNN_W = accuracy_score(test_sarcasm_W, predicciones_KNN_W)\n",
        "print(f\"Accuracy: {accuracy_KNN_W:.4%}\")"
      ],
      "execution_count": null,
      "outputs": [
        {
          "output_type": "stream",
          "text": [
            "Accuracy: 57.8400%\n"
          ],
          "name": "stdout"
        }
      ]
    },
    {
      "cell_type": "markdown",
      "metadata": {
        "id": "gEE2achd0qlD"
      },
      "source": [
        "### Usando Dummy"
      ]
    },
    {
      "cell_type": "code",
      "metadata": {
        "id": "1qDl0IbH0qlE"
      },
      "source": [
        "classifier_DummyClassifier_W = DummyClassifier()\n",
        "classifier_DummyClassifier_W.fit(train_X_W, train_sarcasm_W)"
      ],
      "execution_count": null,
      "outputs": []
    },
    {
      "cell_type": "code",
      "metadata": {
        "colab": {
          "base_uri": "https://localhost:8080/"
        },
        "id": "12xfSkO20qlE",
        "outputId": "c44f6049-bc89-4050-cacb-e70fdd67bf88"
      },
      "source": [
        "from sklearn.metrics import accuracy_score\n",
        "predicciones_DummyClassifier_W = classifier_DummyClassifier_Ask.predict(test_X_W)\n",
        "accuracy_DummyClassifier_W = accuracy_score(test_sarcasm_W,predicciones_DummyClassifier_W)\n",
        "print(f\"Accuracy: {accuracy_DummyClassifier_W:.4%}\")"
      ],
      "execution_count": null,
      "outputs": [
        {
          "output_type": "stream",
          "text": [
            "Accuracy: 50.8330%\n"
          ],
          "name": "stdout"
        }
      ]
    },
    {
      "cell_type": "markdown",
      "metadata": {
        "id": "5qqAJJ0kKPTo"
      },
      "source": [
        "#Aportes individuales\n",
        "- Nicolás García: Exploración del nuevo dataset y redacción del informe (predicciones y conclusiones)\n",
        "- Javier Lavados: Reducción y unión de los dataset, exploración del nuevo dataset (entrenamiento de modelos)\n",
        "- José Triviño: Redacción del informe y del ppt.\n",
        "- Pablo Gutiérrez: Investigación y búsqueda del nuevo dataset, además de redacción del informe.\n",
        "- Sebastián Salinas: Investigación sobre vectorización y del clasificador *linearSVC*, exploración del nuevo dataset (vectorización del dataset)\n"
      ]
    }
  ]
}