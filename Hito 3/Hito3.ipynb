{
  "nbformat": 4,
  "nbformat_minor": 0,
  "metadata": {
    "colab": {
      "name": "Hito3.ipynb",
      "provenance": [],
      "collapsed_sections": [],
      "toc_visible": true
    },
    "kernelspec": {
      "name": "python3",
      "display_name": "Python 3"
    }
  },
  "cells": [
    {
      "cell_type": "markdown",
      "metadata": {
        "id": "PyYeB9GSbkMV"
      },
      "source": [
        "# **Análisis de mensajes sarcásticos**\n",
        "#Hito 3\n",
        "\n",
        "###Nicolás García - Javier Lavados - José Triviño - Pablo Gutiérrez - Sebastián Salinas\n"
      ]
    },
    {
      "cell_type": "markdown",
      "metadata": {
        "id": "4Im1ar2MDo06"
      },
      "source": [
        "# **Introducción**\n",
        "\n",
        "El sarcasmo es una forma de comunicación mediante la cual las personas expresan información que debe ser interpretada con el sentido contrario a su significado literal, usualmente con un fin humorístico o de burla. El sarcasmo es principalmente distinguido a través del tono de voz empleado, y depende en gran parte del contexto en el cual se utiliza. La identificación del sarcasmo en datos de texto es uno de los grandes desafíos en el procesamiento de lenguajes naturales (PLN), el cual se ocupa de la formulación e investigación de mecanismos eficaces computacionalmente para la comunicación entre personas y máquinas por medio del lenguaje natural, en contraposición a los lenguajes de programación.\n",
        "\n",
        "\n",
        "Reddit es una red social en la cual los usuarios pueden participar subiendo texto, imágenes, videos o enlaces a distintas comunidades organizadas por tema, también conocidas como “subreddits”, que cubren una gran variedad de tópicos como noticias, política, ciencia, películas, videojuegos específicos, etc. Cada post cuenta con su propia sección de comentarios, donde los usuarios pueden opinar sobre el post en cuestión.\n",
        "\n",
        "\n",
        "Una convención frecuentemente utilizada en esta red social consiste en escribir “/s” al final de un comentario si este debe ser interpretado de forma sarcástica, lo cual sirve para remover cualquier ambigüedad acerca de la naturaleza de este, efectivamente implicando que el usuario desea transmitir el sentimiento opuesto a lo comentado.\n",
        "\n",
        "\n",
        "El propósito inicial de este estudio consistió en analizar el contenido de un [dataset de comentarios sarcásticos de Reddit](https://www.kaggle.com/danofer/sarcasm), utilizando una base de datos con 1.3 millones de comentarios marcados con la etiqueta “/s”, cada uno con el comentario padre correspondiente, contando además con el subreddit del cual fueron extraídos, otorgando así un mayor contexto acerca del tema que está siendo abordado en la conversación. Posteriormente se incorporaron nuevos datos provenientes del mismo sitio correspondientes a comentarios no sarcásticos, los cuales permitieron tener una mayor cantidad de ejemplos que permitieran el entrenamiento de un clasificador."
      ]
    },
    {
      "cell_type": "markdown",
      "metadata": {
        "id": "BEjELcbBEDjd"
      },
      "source": [
        "# **Motivación**\n",
        "\n",
        "El procesamiento de lenguajes naturales (abreviado PLN) es un campo de las ciencias de la computación, de la inteligencia artificial y de la lingüística que estudia las interacciones entre las computadoras y el lenguaje humano. Se ocupa de la formulación e investigación de mecanismos eficaces computacionalmente para la comunicación entre personas y máquinas por medio del lenguaje natural. Una de las principales dificultades en esta disciplina es la inherente ambigüedad presente en las lenguas naturales, tanto a nivel léxico (una palabra puede tener varios significados distintos) o estructural (construcción de árboles sintácticos). En el nivel pragmático, una oración puede no necesariamente significar lo que realmente se está diciendo, y elementos como el sarcasmo pueden alterar completamente el significado de una oración.\n",
        "\n",
        "El sarcasmo como elemento es transmitido principalmente a través del tono de voz empleado, por lo que expresarlo mediante texto puede resultar complicado para los humanos, y aún más complicado puede ser interpretarlo para una máquina. El propósito de este análisis es realizar un estudio donde se puedan encontrar patrones que permitan caracterizar un comentario sarcástico de otros que no lo son, obteniendo información importante para deducir como una máquina podría en un futuro detectar sarcasmo."
      ]
    },
    {
      "cell_type": "markdown",
      "metadata": {
        "id": "m3SQKUq4EJ-P"
      },
      "source": [
        "# **Exploración de datos**"
      ]
    },
    {
      "cell_type": "markdown",
      "metadata": {
        "id": "H60M44RxbQcs"
      },
      "source": [
        "## **Dataset inicial**\n",
        "\n",
        "La exploración de datos inicial se llevó a cabo sobre una base de datos con comentarios sarcásticos obtenida desde Kaggle, la cual fue mencionada en la introducción. Lo primero que se realizó fue una revisión inicial del dataset para comprender cómo están estructurados los datos. Esto significa, entender cuantos datos son, cuantas columnas, qué describe cada columna, el tipo de datos de las columnas, entre otras cosas."
      ]
    },
    {
      "cell_type": "code",
      "metadata": {
        "id": "cOX6Pz6JMMJP"
      },
      "source": [
        "# Activate R magic:\n",
        "%load_ext rpy2.ipython"
      ],
      "execution_count": null,
      "outputs": []
    },
    {
      "cell_type": "code",
      "metadata": {
        "id": "6i4Opt_ZFAMg",
        "colab": {
          "base_uri": "https://localhost:8080/"
        },
        "outputId": "4a601878-0310-49b0-e180-477cfbc8aac3"
      },
      "source": [
        "# Importación del dataset descargado localmente:\n",
        "%%R\n",
        "library(tidyverse)\n",
        "sarcasmo <- read_csv(\"train-balanced-sarcasm.csv\")"
      ],
      "execution_count": null,
      "outputs": [
        {
          "output_type": "stream",
          "text": [
            "\n",
            "── Column specification ────────────────────────────────────────────────────────\n",
            "cols(\n",
            "  label = col_double(),\n",
            "  comment = col_character(),\n",
            "  author = col_character(),\n",
            "  subreddit = col_character(),\n",
            "  score = col_double(),\n",
            "  ups = col_double(),\n",
            "  downs = col_double(),\n",
            "  date = col_character(),\n",
            "  created_utc = col_datetime(format = \"\"),\n",
            "  parent_comment = col_character()\n",
            ")\n",
            "\n",
            "|==================================================================| 100% 243 MB\n"
          ],
          "name": "stdout"
        }
      ]
    },
    {
      "cell_type": "markdown",
      "metadata": {
        "id": "GWw11k3eFEZm"
      },
      "source": [
        "### **Atributos del dataset**\n",
        "\n",
        "Con la función ```head``` se analizaron los primeros datos del dataset y los encabezados de cada atributo. Esto sirvió para llevar a cabo un análisis inicial y verificar que los datos fueron cargados de forma exitosa."
      ]
    },
    {
      "cell_type": "code",
      "metadata": {
        "id": "khpTiJm1FeSq",
        "colab": {
          "base_uri": "https://localhost:8080/"
        },
        "outputId": "63912f5c-9568-4a53-c3dd-83f843477cf5"
      },
      "source": [
        "%%R\n",
        "head(sarcasmo)"
      ],
      "execution_count": null,
      "outputs": [
        {
          "output_type": "stream",
          "text": [
            "# A tibble: 6 x 10\n",
            "  label comment     author subreddit score   ups downs date  created_utc        \n",
            "  <dbl> <chr>       <chr>  <chr>     <dbl> <dbl> <dbl> <chr> <dttm>             \n",
            "1     0 \"NC and NH… Trump… politics      2    -1    -1 2016… 2016-10-16 23:55:23\n",
            "2     0 \"You do kn… Shbsh… nba          -4    -1    -1 2016… 2016-11-01 00:24:10\n",
            "3     0 \"They were… Creep… nfl           3     3     0 2016… 2016-09-22 21:45:37\n",
            "4     0 \"This meme… icebr… BlackPeo…    -8    -1    -1 2016… 2016-10-18 21:03:47\n",
            "5     0 \"I could u… cush2… MaddenUl…     6    -1    -1 2016… 2016-12-30 17:00:13\n",
            "6     0 \"I don't p… only7… AskReddit     0     0     0 2016… 2016-09-02 10:35:08\n",
            "# … with 1 more variable: parent_comment <chr>\n"
          ],
          "name": "stdout"
        }
      ]
    },
    {
      "cell_type": "markdown",
      "metadata": {
        "id": "INxfRkEpFhKo"
      },
      "source": [
        "### **Eliminación de valores nulos**\n",
        "\n",
        "Para revisar la presencia de valores inexistentes en el dataset se utilizó la función is.na(), la cual retorna un valor de verdad dependiendo si el dato es nulo o no. Se realizó la operación suma sobre estos valores booleanos, donde un total de 0 indica que no se encontraron valores TRUE en el dataset, indicando que no hay datos inexistentes en las columnas."
      ]
    },
    {
      "cell_type": "code",
      "metadata": {
        "id": "i0-thekmGGYF",
        "colab": {
          "base_uri": "https://localhost:8080/"
        },
        "outputId": "90400df7-0fb9-4329-aa80-8043009dd2c2"
      },
      "source": [
        "%%R\n",
        "# Suma de valores NA en todas las columnas del dataset:\n",
        "sum(is.na(sarcasmo$comment))\n",
        "sum(is.na(sarcasmo$author))\n",
        "sum(is.na(sarcasmo$subreddit))\n",
        "sum(is.na(sarcasmo$score))\n",
        "sum(is.na(sarcasmo$ups))\n",
        "sum(is.na(sarcasmo$downs))\n",
        "sum(is.na(sarcasmo$date))\n",
        "sum(is.na(sarcasmo$created_utc))\n",
        "sum(is.na(sarcasmo$parent_comment))\n",
        "\n",
        "# Mostrar existencia de filas con valores NA \n",
        "# (notar que no son las que tienen como mentario el string '0', si no las que tienen datos NA):\n",
        "sarcasmo[sarcasmo$comment == 0,]"
      ],
      "execution_count": null,
      "outputs": [
        {
          "output_type": "stream",
          "text": [
            "# A tibble: 59 x 10\n",
            "   label comment author    subreddit score   ups downs date  created_utc        \n",
            "   <dbl> <chr>   <chr>     <chr>     <dbl> <dbl> <dbl> <chr> <dttm>             \n",
            " 1     0 0       Anxietyf… pokemongo     6    -1    -1 2016… 2016-12-26 00:27:13\n",
            " 2    NA <NA>    <NA>      <NA>         NA    NA    NA <NA>  NA                 \n",
            " 3    NA <NA>    <NA>      <NA>         NA    NA    NA <NA>  NA                 \n",
            " 4    NA <NA>    <NA>      <NA>         NA    NA    NA <NA>  NA                 \n",
            " 5    NA <NA>    <NA>      <NA>         NA    NA    NA <NA>  NA                 \n",
            " 6    NA <NA>    <NA>      <NA>         NA    NA    NA <NA>  NA                 \n",
            " 7    NA <NA>    <NA>      <NA>         NA    NA    NA <NA>  NA                 \n",
            " 8     0 0       sleeplyb… pcmaster…     1     1     0 2016… 2016-05-22 01:30:49\n",
            " 9    NA <NA>    <NA>      <NA>         NA    NA    NA <NA>  NA                 \n",
            "10    NA <NA>    <NA>      <NA>         NA    NA    NA <NA>  NA                 \n",
            "# … with 49 more rows, and 1 more variable: parent_comment <chr>\n"
          ],
          "name": "stdout"
        }
      ]
    },
    {
      "cell_type": "markdown",
      "metadata": {
        "id": "9bnQtQQyGKs2"
      },
      "source": [
        "Como se puede observar se encontraron valores vacíos. Por lo tanto, con el objetivo de limpiar el dataset se eliminaron las filas con valores nulos."
      ]
    },
    {
      "cell_type": "code",
      "metadata": {
        "id": "yihW5fu4GWFj",
        "colab": {
          "base_uri": "https://localhost:8080/"
        },
        "outputId": "fea4e2aa-5101-4008-ebbf-13ea28f3dfd8"
      },
      "source": [
        "%%R\n",
        "sarcasmo=sarcasmo[is.na(sarcasmo$author)==FALSE,]\n",
        "head(sarcasmo)"
      ],
      "execution_count": null,
      "outputs": [
        {
          "output_type": "stream",
          "text": [
            "# A tibble: 6 x 10\n",
            "  label comment     author subreddit score   ups downs date  created_utc        \n",
            "  <dbl> <chr>       <chr>  <chr>     <dbl> <dbl> <dbl> <chr> <dttm>             \n",
            "1     0 \"NC and NH… Trump… politics      2    -1    -1 2016… 2016-10-16 23:55:23\n",
            "2     0 \"You do kn… Shbsh… nba          -4    -1    -1 2016… 2016-11-01 00:24:10\n",
            "3     0 \"They were… Creep… nfl           3     3     0 2016… 2016-09-22 21:45:37\n",
            "4     0 \"This meme… icebr… BlackPeo…    -8    -1    -1 2016… 2016-10-18 21:03:47\n",
            "5     0 \"I could u… cush2… MaddenUl…     6    -1    -1 2016… 2016-12-30 17:00:13\n",
            "6     0 \"I don't p… only7… AskReddit     0     0     0 2016… 2016-09-02 10:35:08\n",
            "# … with 1 more variable: parent_comment <chr>\n"
          ],
          "name": "stdout"
        }
      ]
    },
    {
      "cell_type": "markdown",
      "metadata": {
        "id": "_BEDuRs3GYZ3"
      },
      "source": [
        "### **Dimensiones y métricas del dataset**"
      ]
    },
    {
      "cell_type": "code",
      "metadata": {
        "id": "_BxlykfodDk3",
        "colab": {
          "base_uri": "https://localhost:8080/"
        },
        "outputId": "cf11bba7-ba26-4e4e-9957-f51c3eb8c227"
      },
      "source": [
        "%%R\n",
        "dim(sarcasmo)"
      ],
      "execution_count": null,
      "outputs": [
        {
          "output_type": "stream",
          "text": [
            "[1] 1010826      10\n"
          ],
          "name": "stdout"
        }
      ]
    },
    {
      "cell_type": "markdown",
      "metadata": {
        "id": "kd0VN3NAGerg"
      },
      "source": [
        "La función ```summary``` aplica estadísticas a cada columna. En particular, indica el promedio, mediana, cuantiles, máximo, mínimo, entre otros. "
      ]
    },
    {
      "cell_type": "code",
      "metadata": {
        "id": "tpd2l57dGgoZ",
        "colab": {
          "base_uri": "https://localhost:8080/"
        },
        "outputId": "ed3e7a4b-ca20-4489-bb82-7ceb909ae434"
      },
      "source": [
        "%%R\n",
        "summary(sarcasmo)"
      ],
      "execution_count": null,
      "outputs": [
        {
          "output_type": "stream",
          "text": [
            "     label       comment             author           subreddit        \n",
            " Min.   :0.0   Length:1010826     Length:1010826     Length:1010826    \n",
            " 1st Qu.:0.0   Class :character   Class :character   Class :character  \n",
            " Median :0.5   Mode  :character   Mode  :character   Mode  :character  \n",
            " Mean   :0.5                                                           \n",
            " 3rd Qu.:1.0                                                           \n",
            " Max.   :1.0                                                           \n",
            "     score               ups               downs             date          \n",
            " Min.   :-507.000   Min.   :-507.000   Min.   :-1.0000   Length:1010826    \n",
            " 1st Qu.:   1.000   1st Qu.:   0.000   1st Qu.: 0.0000   Class :character  \n",
            " Median :   2.000   Median :   1.000   Median : 0.0000   Mode  :character  \n",
            " Mean   :   6.886   Mean   :   5.499   Mean   :-0.1459                     \n",
            " 3rd Qu.:   4.000   3rd Qu.:   3.000   3rd Qu.: 0.0000                     \n",
            " Max.   :9070.000   Max.   :5163.000   Max.   : 0.0000                     \n",
            "  created_utc                  parent_comment    \n",
            " Min.   :2009-01-01 23:08:43   Length:1010826    \n",
            " 1st Qu.:2015-01-08 16:18:52   Class :character  \n",
            " Median :2015-11-30 20:19:20   Mode  :character  \n",
            " Mean   :2015-08-04 10:24:14                     \n",
            " 3rd Qu.:2016-07-15 13:07:50                     \n",
            " Max.   :2016-12-31 23:58:26                     \n"
          ],
          "name": "stdout"
        }
      ]
    },
    {
      "cell_type": "markdown",
      "metadata": {
        "id": "55xEyonHGkJC"
      },
      "source": [
        "### **Exploración de datos sobre los comentarios sarcásticos**\n",
        "Una de las componentes más importantes de esta exploración de datos fue averiguar cuales eran las palabras más recurrentes en los comentarios sarcásticos y en los comentarios padre, los cuales no contienen la etiqueta “/s”.\n",
        "\n",
        "Dicho esto, la forma más tradicional de representar texto es considerar cada palabra de cada comentario como una columna del dataset, ya que como se mencionó previamente, la idea principal es considerar si aparece o no una palabra en cierto comentario o cuántas veces aparece en él.\n",
        "\n",
        "Para esto se utilizó la librería ``tm``, la cual permite realizar _text mining_ en R:"
      ]
    },
    {
      "cell_type": "code",
      "metadata": {
        "id": "E2NZ9ma5GznX"
      },
      "source": [
        "%%R\n",
        "install.packages(\"tm\")"
      ],
      "execution_count": null,
      "outputs": []
    },
    {
      "cell_type": "code",
      "metadata": {
        "id": "tMPQcOJPPgg_"
      },
      "source": [
        "%%R\n",
        "library(tm)"
      ],
      "execution_count": null,
      "outputs": []
    },
    {
      "cell_type": "markdown",
      "metadata": {
        "id": "eWzc4lioG2aB"
      },
      "source": [
        "Se convierten los vectores de comentarios sarcasticos en unos que puedan ser leídos por ``tm``, donde habrán tantos documentos como comentarios. Luego, se crea un Corpus o colección de documentos."
      ]
    },
    {
      "cell_type": "code",
      "metadata": {
        "id": "4qprHOEiG11I"
      },
      "source": [
        "%%R\n",
        "docs <- VectorSource(sarcasmo[,c(\"comment\")])\n",
        "docs <- VCorpus(docs)"
      ],
      "execution_count": null,
      "outputs": []
    },
    {
      "cell_type": "markdown",
      "metadata": {
        "id": "e0tthHUOHC3I"
      },
      "source": [
        "Al ejecutar la siguiente instrucción, se puede ver de forma resumida la composición del Corpus o colección de documentos"
      ]
    },
    {
      "cell_type": "code",
      "metadata": {
        "id": "v-CCZiFAHJAo",
        "colab": {
          "base_uri": "https://localhost:8080/"
        },
        "outputId": "3a45bd05-46f6-4deb-b94e-ff407a51d306"
      },
      "source": [
        "%%R\n",
        "inspect(docs)"
      ],
      "execution_count": null,
      "outputs": [
        {
          "output_type": "stream",
          "text": [
            "<<VCorpus>>\n",
            "Metadata:  corpus specific: 0, document level (indexed): 0\n",
            "Content:  documents: 1\n",
            "\n",
            "$comment\n",
            "<<PlainTextDocument>>\n",
            "Metadata:  7\n",
            "Content:  chars: NA\n",
            "\n"
          ],
          "name": "stdout"
        }
      ]
    },
    {
      "cell_type": "markdown",
      "metadata": {
        "id": "FLlJ7Bl4HK6a"
      },
      "source": [
        "#### **Pre-procesamiento de texto**\n",
        "En un comienzo, el contenido de cada documento de la colección contendrá mucha información que de momento no es relevante, ya que si bien existen bastantes elementos claves al momento de transmitir el sarcasmo, como los tipos de puntuación, la diferenciación entre mayúsculas y minúsculas, entre otros, para esta primera exploración solo se consideró la frecuencia de las palabras por sobre otras características. Por ello, fue necesario efectuar un pre-procesamiento y limpieza de los datos."
      ]
    },
    {
      "cell_type": "code",
      "metadata": {
        "id": "hEYLPMBrHhnT"
      },
      "source": [
        "# Remover puntuación:\n",
        "%%R\n",
        "docs <- tm_map(docs, removePunctuation)"
      ],
      "execution_count": null,
      "outputs": []
    },
    {
      "cell_type": "code",
      "metadata": {
        "id": "0UaaRIa3HmuD"
      },
      "source": [
        "# Remover números:\n",
        "%%R\n",
        "docs <- tm_map(docs, removeNumbers)"
      ],
      "execution_count": null,
      "outputs": []
    },
    {
      "cell_type": "code",
      "metadata": {
        "id": "7NOKVVg4HnOj"
      },
      "source": [
        "# Convertir a minúscula:\n",
        "%%R\n",
        "docs <- tm_map(docs, content_transformer(tolower))"
      ],
      "execution_count": null,
      "outputs": []
    },
    {
      "cell_type": "code",
      "metadata": {
        "id": "9VGKGAq6HojO"
      },
      "source": [
        "# Eliminar espacios en blanco innecesarios:\n",
        "%%R\n",
        "docs <- tm_map(docs, stripWhitespace)"
      ],
      "execution_count": null,
      "outputs": []
    },
    {
      "cell_type": "code",
      "metadata": {
        "id": "60IcQ-vdHqbQ"
      },
      "source": [
        "# Reemplazar caracteres específicos:\n",
        "%%R\n",
        "docs <- tm_map(docs, content_transformer(gsub), pattern = \"/\", replacement = \"\")\n",
        "docs <- tm_map(docs, content_transformer(gsub), pattern = '[[:digit:]]+', replacement = \"\")  # elimina cualquier digito"
      ],
      "execution_count": null,
      "outputs": []
    },
    {
      "cell_type": "code",
      "metadata": {
        "id": "_CZK_JfrHr4k"
      },
      "source": [
        "# Eliminar tildes (A pesar que los comentarios están en inglés, nunca está de más prevenir):\n",
        "%%R\n",
        "docs <- tm_map(docs, content_transformer(iconv), from=\"UTF-8\",to=\"ASCII//TRANSLIT\")"
      ],
      "execution_count": null,
      "outputs": []
    },
    {
      "cell_type": "code",
      "metadata": {
        "id": "EBq3DoIBHtVA"
      },
      "source": [
        "# Remover caracteres especiales no considerados por \"removePunctuation\":\n",
        "%%R\n",
        "removeSpecialChars <- function(x) gsub(\"[^a-zA-Z0-9 ]\",\"\",x)\n",
        "docs <- tm_map(docs, content_transformer(removeSpecialChars))"
      ],
      "execution_count": null,
      "outputs": []
    },
    {
      "cell_type": "markdown",
      "metadata": {
        "id": "OEt4vNSCHxsZ"
      },
      "source": [
        "#### **Matriz Documento-término**\n",
        "\n",
        "Una forma tradicional de representar los datos es mediante una matriz. La idea principal es considerar cada documento como una fila, la cual a su vez tiene tantas columnas como términos existan en el corpus completo de documento (no por documento). De esta forma, se puede saber cuáles términos se repiten entre documentos.\n",
        "\n",
        "Para esto, se utilizará la función ``DocumentTermMatrix``, la cual empleará nuestra colección completa de documentos:"
      ]
    },
    {
      "cell_type": "code",
      "metadata": {
        "id": "OtiXZPm6IqRX",
        "colab": {
          "base_uri": "https://localhost:8080/"
        },
        "outputId": "80b8a68d-c516-4240-d052-95fa37386021"
      },
      "source": [
        "%%R\n",
        "dtm <- DocumentTermMatrix(docs)\n",
        "inspect(dtm)"
      ],
      "execution_count": null,
      "outputs": [
        {
          "output_type": "stream",
          "text": [
            "<<DocumentTermMatrix (documents: 1, terms: 192640)>>\n",
            "Non-/sparse entries: 192640/0\n",
            "Sparsity           : 0%\n",
            "Maximal term length: 10000\n",
            "Weighting          : term frequency (tf)\n",
            "Sample             :\n",
            "    Terms\n",
            "Docs    and   are   but   for  have   its   that    the  this    you\n",
            "   1 173674 67737 78880 96672 67143 65855 140695 396234 77714 171491\n"
          ],
          "name": "stdout"
        }
      ]
    },
    {
      "cell_type": "code",
      "metadata": {
        "id": "6TtH5ZblIuHx"
      },
      "source": [
        "# Transformar la DocumentTermMatrix en una matriz \"visualizable\":\n",
        "%%R\n",
        "dtm.matrix <- as.matrix(dtm) "
      ],
      "execution_count": null,
      "outputs": []
    },
    {
      "cell_type": "markdown",
      "metadata": {
        "id": "Vi-aazRmIpFL"
      },
      "source": [
        "#### **Términos más frecuentes presentes en los comentarios sacásticos**\n",
        "\n",
        "A continuación se hará una exploración de las palabras más frecuentes en el dataset, considerando los comentarios principales y sus comentarios padre. Para esto, se creó un dataframe con 2 columnas, una para el término y otra para la cantidad de veces que aparece en la colección completa:"
      ]
    },
    {
      "cell_type": "markdown",
      "metadata": {
        "id": "Ps66Blz2fXVm"
      },
      "source": [
        "##### **Palabras más frecuentes de los comentarios sarcásticos**"
      ]
    },
    {
      "cell_type": "code",
      "metadata": {
        "id": "xUPviO-_Izp5"
      },
      "source": [
        "%%R\n",
        "freq <- colSums(dtm.matrix)\n",
        "word_freq <- data.frame(word = names(freq), freq = freq, row.names = NULL)\n",
        "word_freq <- word_freq[order(-word_freq$freq),]"
      ],
      "execution_count": null,
      "outputs": []
    },
    {
      "cell_type": "code",
      "metadata": {
        "id": "VCvLPnQDI4vf"
      },
      "source": [
        "# Importación de la librería ggplot2 para graficar en R:\n",
        "%%R\n",
        "library(ggplot2)"
      ],
      "execution_count": null,
      "outputs": []
    },
    {
      "cell_type": "code",
      "metadata": {
        "id": "TgaPKg2eI66i",
        "colab": {
          "base_uri": "https://localhost:8080/",
          "height": 497
        },
        "outputId": "616ea820-025a-4b42-ffd8-7209b9f1bd69"
      },
      "source": [
        "# Graficar términos más frecuentes presentes en los comentarios sarcásticos:\n",
        "%%R\n",
        "ggplot(word_freq[1:20,], aes(x = reorder(word, freq), y = freq)) +\n",
        "          geom_bar(stat = \"identity\") + \n",
        "          coord_flip()+\n",
        "          ggtitle(label = \"Top-20 palabras presentes en comentarios sarcasticos\") + xlab(\"Palabras\") + ylab(\"Frecuencia\")\n"
      ],
      "execution_count": null,
      "outputs": [
        {
          "output_type": "display_data",
          "data": {
            "image/png": "[encoded data removed]"
          },
          "metadata": {
            "tags": []
          }
        }
      ]
    },
    {
      "cell_type": "markdown",
      "metadata": {
        "id": "dsC7KWwqI1hL"
      },
      "source": [
        "Como es posible apreciar, la mayoría de estas palabras son aquellas que no entregan mayor significado a los documentos. Por ejemplo, artículos o preposiciones. Para solucionar este problema, podemos considerar una bolsa de palabras comunes llamada ``stopwords``. Por lo tanto, se eliminarán estas palabras sobre el corpus original de documentos para luego calcular la matriz nuevamente."
      ]
    },
    {
      "cell_type": "code",
      "metadata": {
        "id": "ie9rjvWfJJio"
      },
      "source": [
        "# Remover stopwords:\n",
        "%%R\n",
        "docs <- tm_map(docs, removeWords, stopwords(\"english\"))"
      ],
      "execution_count": null,
      "outputs": []
    },
    {
      "cell_type": "code",
      "metadata": {
        "id": "86PAN6lxJL7S"
      },
      "source": [
        "%%R\n",
        "dtm.sw <- DocumentTermMatrix(docs)\n",
        "dtm.sw.matrix <- as.matrix(dtm.sw)\n",
        "freq.sw <- colSums(dtm.sw.matrix)\n",
        "word_freq.sw <- data.frame(word = names(freq.sw), freq = freq.sw, row.names = NULL)\n",
        "word_freq.sw <- word_freq.sw[order(-word_freq.sw$freq),]"
      ],
      "execution_count": null,
      "outputs": []
    },
    {
      "cell_type": "code",
      "metadata": {
        "id": "RHE46ULPJQdi",
        "colab": {
          "base_uri": "https://localhost:8080/",
          "height": 497
        },
        "outputId": "b7e96903-1048-4798-be61-3621679dc91d"
      },
      "source": [
        "# Volver a graficar términos más frecuentes presentes en los comentarios sarcásticos, esta vez sin considerar stopwords:\n",
        "%%R\n",
        "ggplot(word_freq.sw[1:20,], aes(x = reorder(word, freq), y = freq)) +\n",
        "          geom_bar(stat = \"identity\") + \n",
        "          coord_flip()+\n",
        "          ggtitle(label = \"Top-20 palabras presentes en comentarios sarcasticos sin considerar stopwords\")  + xlab(\"Palabras\") + ylab(\"Frecuencia\")\n"
      ],
      "execution_count": null,
      "outputs": [
        {
          "output_type": "display_data",
          "data": {
            "image/png": "[encoded data removed]"
          },
          "metadata": {
            "tags": []
          }
        }
      ]
    },
    {
      "cell_type": "markdown",
      "metadata": {
        "id": "oAu2oEsqfj8y"
      },
      "source": [
        "##### **Palabras más frecuentes de los comentarios padre**"
      ]
    },
    {
      "cell_type": "code",
      "metadata": {
        "id": "s-CMQBnHJRJ4",
        "colab": {
          "base_uri": "https://localhost:8080/"
        },
        "outputId": "11f288c6-fe4c-47ba-cf03-d18ac9ac0982"
      },
      "source": [
        "%%R\n",
        "docs <- VectorSource(sarcasmo[,c(\"parent_comment\")])\n",
        "docs <- VCorpus(docs)\n",
        "inspect(docs)"
      ],
      "execution_count": null,
      "outputs": [
        {
          "output_type": "stream",
          "text": [
            "<<VCorpus>>\n",
            "Metadata:  corpus specific: 0, document level (indexed): 0\n",
            "Content:  documents: 1\n",
            "\n",
            "$parent_comment\n",
            "<<PlainTextDocument>>\n",
            "Metadata:  7\n",
            "Content:  chars: 134796790\n",
            "\n"
          ],
          "name": "stdout"
        }
      ]
    },
    {
      "cell_type": "code",
      "metadata": {
        "id": "RnTDQxu4JUc1"
      },
      "source": [
        "# Pre-procesamiento de texto:\n",
        "\n",
        "# Remover puntuación:\n",
        "%%R\n",
        "docs <- tm_map(docs, removePunctuation)\n"
      ],
      "execution_count": null,
      "outputs": []
    },
    {
      "cell_type": "code",
      "metadata": {
        "id": "ehn9muJHJWcE"
      },
      "source": [
        "# Remover números:\n",
        "%%R\n",
        "docs <- tm_map(docs, removeNumbers)\n"
      ],
      "execution_count": null,
      "outputs": []
    },
    {
      "cell_type": "code",
      "metadata": {
        "id": "RQ9OTLfNJYIV"
      },
      "source": [
        "# Convertir a minúscula:\n",
        "%%R\n",
        "docs <- tm_map(docs, content_transformer(tolower))\n"
      ],
      "execution_count": null,
      "outputs": []
    },
    {
      "cell_type": "code",
      "metadata": {
        "id": "FbCmmA30JZXl"
      },
      "source": [
        "# Eliminar espacios en blanco innecesarios:\n",
        "%%R\n",
        "docs <- tm_map(docs, stripWhitespace)\n"
      ],
      "execution_count": null,
      "outputs": []
    },
    {
      "cell_type": "code",
      "metadata": {
        "id": "Grq9sy9QJb6X"
      },
      "source": [
        "# Reemplazar caracteres específicos:\n",
        "%%R\n",
        "docs <- tm_map(docs, content_transformer(gsub), pattern = \"/\", replacement = \"\")\n",
        "docs <- tm_map(docs, content_transformer(gsub), pattern = '[[:digit:]]+', replacement = \"\")  # elimina cualquier digito\n"
      ],
      "execution_count": null,
      "outputs": []
    },
    {
      "cell_type": "code",
      "metadata": {
        "id": "kxQ9c4xfJd5i"
      },
      "source": [
        "# Eliminar tildes:\n",
        "%%R\n",
        "docs <- tm_map(docs, content_transformer(iconv), from=\"UTF-8\",to=\"ASCII//TRANSLIT\")\n"
      ],
      "execution_count": null,
      "outputs": []
    },
    {
      "cell_type": "code",
      "metadata": {
        "id": "EXC3Dz-yJgDM"
      },
      "source": [
        "# Remover caracteres especiales no considerados por \"removePunctuation\":\n",
        "%%R\n",
        "removeSpecialChars <- function(x) gsub(\"[^a-zA-Z0-9 ]\",\"\",x)\n",
        "docs <- tm_map(docs, content_transformer(removeSpecialChars))\n"
      ],
      "execution_count": null,
      "outputs": []
    },
    {
      "cell_type": "code",
      "metadata": {
        "id": "rYA0Z6tlJhZq",
        "colab": {
          "base_uri": "https://localhost:8080/"
        },
        "outputId": "a1488de4-ab86-4de9-a33b-a2ed7d797c98"
      },
      "source": [
        "# Matriz Documento-término:\n",
        "%%R\n",
        "dtm <- DocumentTermMatrix(docs)\n",
        "inspect(dtm)\n"
      ],
      "execution_count": null,
      "outputs": [
        {
          "output_type": "stream",
          "text": [
            "<<DocumentTermMatrix (documents: 1, terms: 287500)>>\n",
            "Non-/sparse entries: 287500/0\n",
            "Sparsity           : 0%\n",
            "Maximal term length: 40000\n",
            "Weighting          : term frequency (tf)\n",
            "Sample             :\n",
            "    Terms\n",
            "Docs    and    are    but    for   have   that    the   this   with    you\n",
            "   1 498319 149340 146083 238426 156306 304238 945194 189168 158169 297746\n"
          ],
          "name": "stdout"
        }
      ]
    },
    {
      "cell_type": "code",
      "metadata": {
        "id": "d_6Dwi6EJjEh"
      },
      "source": [
        "# Transformar la DocumentTermMatrix en una matriz \"visualizable\":\n",
        "%%R\n",
        "dtm.matrix <- as.matrix(dtm) "
      ],
      "execution_count": null,
      "outputs": []
    },
    {
      "cell_type": "code",
      "metadata": {
        "id": "ahaIwt9SJkdk"
      },
      "source": [
        "# Términos más frecuentes presentes en los comentarios padre:\n",
        "%%R\n",
        "freq <- colSums(dtm.matrix)\n",
        "word_freq <- data.frame(word = names(freq), freq = freq, row.names = NULL)\n",
        "word_freq <- word_freq[order(-word_freq$freq),]"
      ],
      "execution_count": null,
      "outputs": []
    },
    {
      "cell_type": "code",
      "metadata": {
        "id": "1yMvCJmWJl_o",
        "colab": {
          "base_uri": "https://localhost:8080/",
          "height": 497
        },
        "outputId": "6f054436-a8ea-4e01-df29-dc44428a05a6"
      },
      "source": [
        "# Graficamos términos más frecuentes presentes en los comentarios padre:\n",
        "%%R\n",
        "ggplot(word_freq[1:20,], aes(x = reorder(word, freq), y = freq)) +\n",
        "          geom_bar(stat = \"identity\") + \n",
        "          coord_flip()+\n",
        "          ggtitle(label = \"Top-20 palabras presentes en comentarios padre\") + xlab(\"Palabras\") + ylab(\"Frecuencia\")"
      ],
      "execution_count": null,
      "outputs": [
        {
          "output_type": "display_data",
          "data": {
            "image/png": "[encoded data removed]"
          },
          "metadata": {
            "tags": []
          }
        }
      ]
    },
    {
      "cell_type": "code",
      "metadata": {
        "id": "dLFzNauEJnd0"
      },
      "source": [
        "# Remover stopwords:\n",
        "%%R\n",
        "docs <- tm_map(docs, removeWords, stopwords(\"english\"))"
      ],
      "execution_count": null,
      "outputs": []
    },
    {
      "cell_type": "code",
      "metadata": {
        "id": "QFlbh0H7JpMp"
      },
      "source": [
        "%%R\n",
        "dtm.sw <- DocumentTermMatrix(docs)\n",
        "dtm.sw.matrix <- as.matrix(dtm.sw)\n",
        "freq.sw <- colSums(dtm.sw.matrix)\n",
        "word_freq.sw <- data.frame(word = names(freq.sw), freq = freq.sw, row.names = NULL)\n",
        "word_freq.sw <- word_freq.sw[order(-word_freq.sw$freq),]"
      ],
      "execution_count": null,
      "outputs": []
    },
    {
      "cell_type": "code",
      "metadata": {
        "id": "c7LSyIkVJrBb",
        "colab": {
          "base_uri": "https://localhost:8080/",
          "height": 497
        },
        "outputId": "95fbc35b-4c49-4b97-dbe6-d7f91538a795"
      },
      "source": [
        "# Volver a graficar términos más frecuentes presentes en los comentarios padre, esta vez sin considerar stopwords:\n",
        "%%R\n",
        "ggplot(word_freq.sw[1:20,], aes(x = reorder(word, freq), y = freq)) +\n",
        "          geom_bar(stat = \"identity\") + \n",
        "          coord_flip()+\n",
        "          ggtitle(label = \"Top-20 palabras presentes en comentarios padre sin considerar stopwords\") + xlab(\"Palabras\") + ylab(\"Frecuencia\")\n"
      ],
      "execution_count": null,
      "outputs": [
        {
          "output_type": "display_data",
          "data": {
            "image/png": "[encoded data removed]"
          },
          "metadata": {
            "tags": []
          }
        }
      ]
    },
    {
      "cell_type": "markdown",
      "metadata": {
        "id": "6rYt9bjBJwn0"
      },
      "source": [
        "Haciendo una comparación entre los graficos sin stopwords para ambos tipos de comentarios, se puede notar que las palabras más utilizadas resultan ser bastante similares (a excepción de un par, como la expresión \"yeah\", que toma más relevancia en comentarios sarcasticos), y que por el lado de las frecuencias, si bien se aprecian leves cambios en el orden, en general son similares en frecuencia para ambos tipos de comentario.\n",
        "\n",
        "Esto nos da distintas posibilidades respecto a los comentarios sarcásticos, ya que podría indicarnos que la mayoría de comentarios sarcásticos suelen mencionar las mismas palabras que contiene el comentario padre (Ya sea por énfasis, burla, etc.) o también indicar que algunos comentarios sarcásticos son respuestas de otros comentarios sarcásticos, lo cuál podría dificultar el estudio de este tipo de comentarios.\n",
        "\n",
        "A partir de esto se puede intentar buscar una correlación entre palabras en un comentario y la clase de este (si es sarcástico o no). O incluso investigar si es que existe una doble correlación, es decir, que un comentario sarcástico implique la presencia de ciertas palabras, y que se tenga lo inverso, que la presencia de ciertas palabras resulte indicativa de un comentario sarcástico. Se podría buscar la presencia de estas palabras en ambos tipos de comentarios y después entrenar un clasificador para ver si en verdad puede predecir la naturaleza del comentario.\n",
        "\n",
        "Otra conclusión que se puede hacer es sobre el uso de la puntuación y las mayúsculas. Pese a que se eliminaron puntuaciones, letras mayúsculas, y otros strings que entorpezcan el estudio de datos, notamos que gran parte de los comentarios del dataset utilizan muy frecuentemente estos strings con el fin de \"exagerar\" o \"enfatizar\" el sarcasmo de los comentarios estudiados. Es necesario realizar un estudio más exhaustivo de estos tipos de mensajes, y ver si existe una relación entre cantidad de mayúsculas y otras puntuaciones dentro de un mensaje con sarcasmo."
      ]
    },
    {
      "cell_type": "markdown",
      "metadata": {
        "id": "9IIRE0iKKSu7"
      },
      "source": [
        "### **Exploración posterior**\n",
        "\n",
        "Para el Hito 1 se realizó un análisis de los comentarios sarcásticos a través del tiempo. Sin embargo, se recibió feedback por parte del cuerpo docente, y se concluyó que esta pregunta era trivial y no podía ser respondida utilizando técnicas de minería de datos, por lo que para los hitos posteriores se decidió descartar esta parte de la exploración. \n",
        "\n",
        "Durante los hitos anteriores también se exploraron los subreddits que presentaban mayor frecuencia dentro del dataset. Estos datos fueron utilizados para deteminar los subreddits que serían utilizados para entrenar clasificadores durante los hitos siguientes.\n"
      ]
    },
    {
      "cell_type": "markdown",
      "metadata": {
        "id": "Vj3miJ6cgRop"
      },
      "source": [
        "#### **Subreddits más recurrentes en los comentarios sarcásticos**\n",
        "Observando la columna “subreddit” es posible ver que ciertos tópicos se repiten. Es por esto que se decidió realizar una exploración de datos para cuantificar cuales subreddits son los más repetidos en el dataset. Es decir, contar la cantidad de comentarios sarcásticos que tiene cada subreddit presente en el dataset, lo que es equivalente a encontrar los subreddits que son más propensos a tener comentarios sarcasticos.\n"
      ]
    },
    {
      "cell_type": "code",
      "metadata": {
        "id": "OMiPHwTBLZ9T",
        "colab": {
          "base_uri": "https://localhost:8080/"
        },
        "outputId": "4a4b3d23-c9d1-40f4-de96-e50959cb439f"
      },
      "source": [
        "%%R\n",
        "docs <- VectorSource(sarcasmo[,c(\"subreddit\")])\n",
        "docs <- VCorpus(docs)\n",
        "inspect(docs)"
      ],
      "execution_count": null,
      "outputs": [
        {
          "output_type": "stream",
          "text": [
            "<<VCorpus>>\n",
            "Metadata:  corpus specific: 0, document level (indexed): 0\n",
            "Content:  documents: 1\n",
            "\n",
            "$subreddit\n",
            "<<PlainTextDocument>>\n",
            "Metadata:  7\n",
            "Content:  chars: 9320529\n",
            "\n"
          ],
          "name": "stdout"
        }
      ]
    },
    {
      "cell_type": "code",
      "metadata": {
        "id": "zWcOcAhfLaz5",
        "colab": {
          "base_uri": "https://localhost:8080/"
        },
        "outputId": "78fed06d-9a6e-406f-d4a4-5a7f2678ef7b"
      },
      "source": [
        "# Matriz Documento-término:\n",
        "%%R\n",
        "dtm <- DocumentTermMatrix(docs)\n",
        "inspect(dtm)"
      ],
      "execution_count": null,
      "outputs": [
        {
          "output_type": "stream",
          "text": [
            "<<DocumentTermMatrix (documents: 1, terms: 14876)>>\n",
            "Non-/sparse entries: 14876/0\n",
            "Sparsity           : 0%\n",
            "Maximal term length: 21\n",
            "Weighting          : term frequency (tf)\n",
            "Sample             :\n",
            "    Terms\n",
            "Docs askreddit funny leagueoflegends  news   nfl pcmasterrace  pics politics\n",
            "   1     65677 17939           21037 16891 14150        18988 16154    39496\n",
            "    Terms\n",
            "Docs todayilearned worldnews\n",
            "   1         14161     26377\n"
          ],
          "name": "stdout"
        }
      ]
    },
    {
      "cell_type": "code",
      "metadata": {
        "id": "fSyYok5wLcaN"
      },
      "source": [
        "# Transformar la DocumentTermMatrix en una matriz \"visualizable\":\n",
        "%%R\n",
        "dtm.matrix <- as.matrix(dtm) "
      ],
      "execution_count": null,
      "outputs": []
    },
    {
      "cell_type": "code",
      "metadata": {
        "id": "HhiSclW9Ld0y",
        "colab": {
          "base_uri": "https://localhost:8080/"
        },
        "outputId": "af31cbd7-3073-465c-e758-6960460ceef0"
      },
      "source": [
        "# Subreddits más presentes en el dataset:\n",
        "%%R\n",
        "freq <- colSums(dtm.matrix)\n",
        "subreddit_freq <- data.frame(subreddit = names(freq), freq = freq, row.names = NULL)\n",
        "subreddit_freq <- subreddit_freq[order(-subreddit_freq$freq),]\n",
        "head(subreddit_freq)"
      ],
      "execution_count": null,
      "outputs": [
        {
          "output_type": "stream",
          "text": [
            "            subreddit  freq\n",
            "905         askreddit 65677\n",
            "10087        politics 39496\n",
            "14568       worldnews 26377\n",
            "7267  leagueoflegends 21037\n",
            "9638     pcmasterrace 18988\n",
            "5061            funny 17939\n"
          ],
          "name": "stdout"
        }
      ]
    },
    {
      "cell_type": "code",
      "metadata": {
        "id": "FWcvh93qLfPk",
        "colab": {
          "base_uri": "https://localhost:8080/",
          "height": 497
        },
        "outputId": "12a70f00-44bc-402f-9f0f-e680b92e8c63"
      },
      "source": [
        "# Graficar subreddits más frecuentes en los comentarios sarcasticos del dataset:\n",
        "%%R\n",
        "ggplot(subreddit_freq[1:20,], aes(x = reorder(subreddit, freq), y = freq)) +\n",
        "          geom_bar(stat = \"identity\") + \n",
        "          coord_flip()+\n",
        "          ggtitle(label = \"Top-20 subreddits presentes en el dataset\")  + xlab(\"Subreddit\") + ylab(\"Frecuencia\")"
      ],
      "execution_count": null,
      "outputs": [
        {
          "output_type": "display_data",
          "data": {
            "image/png": "[encoded data removed]"
          },
          "metadata": {
            "tags": []
          }
        }
      ]
    },
    {
      "cell_type": "markdown",
      "metadata": {
        "id": "hZXI5f6SLk-K"
      },
      "source": [
        "A partir de este análisis se puede concluir que los subreddits con mayor presencia en el dataset son bastante variados, abarcando tanto temas serios como política o noticias como temas lúdicos como el videojuego \"League of Legends\" o deportes."
      ]
    },
    {
      "cell_type": "markdown",
      "metadata": {
        "id": "KyEiaFiaSCWM"
      },
      "source": [
        "#### **Cantidad de caracteres por comentario sarcástico**\n",
        "\n",
        "Otra exploración que se puede realizar y que puede servir para encontrar una relación entre si un comentario es sarcastico o no, es identificar la cantidad de caracteres que posee, o dicho de otra forma, encontrar el largo del comentario, además de también conocer estadísticas sobre el largo en palabras de los comentarios, tales como el promedio, el máximo y mínimo.\n"
      ]
    },
    {
      "cell_type": "code",
      "metadata": {
        "id": "MwKEHjDiSNVV",
        "colab": {
          "base_uri": "https://localhost:8080/",
          "height": 735
        },
        "outputId": "2d7a215d-d994-4255-824b-9b0e4c344747"
      },
      "source": [
        "%%R\n",
        "length_comment = str_length(sarcasmo$comment)\n",
        "hist(length_comment,xlim=c(0,1000), breaks = 1000, main = \"Cantidad de caracteres por comentario sarcastico\", \n",
        "     xlab = \"Cantidad de caracteres\", ylab = \"Frecuencia\" )\n",
        "\n",
        "# Resumen de estadísticas del largo de los comentarios sarcásticos:\n",
        "summary(length_comment)\n",
        "\n",
        "sarcasmo[str_length(sarcasmo$comment) == 10000,]\n"
      ],
      "execution_count": null,
      "outputs": [
        {
          "output_type": "stream",
          "text": [
            "# A tibble: 56 x 10\n",
            "   label comment    author subreddit score   ups downs date  created_utc        \n",
            "   <dbl> <chr>      <chr>  <chr>     <dbl> <dbl> <dbl> <chr> <dttm>             \n",
            " 1     0 DONALD TR… Sage2… circleje…     2    -1    -1 2016… 2016-10-04 04:42:48\n",
            " 2    NA <NA>       <NA>   <NA>         NA    NA    NA <NA>  NA                 \n",
            " 3    NA <NA>       <NA>   <NA>         NA    NA    NA <NA>  NA                 \n",
            " 4    NA <NA>       <NA>   <NA>         NA    NA    NA <NA>  NA                 \n",
            " 5    NA <NA>       <NA>   <NA>         NA    NA    NA <NA>  NA                 \n",
            " 6    NA <NA>       <NA>   <NA>         NA    NA    NA <NA>  NA                 \n",
            " 7    NA <NA>       <NA>   <NA>         NA    NA    NA <NA>  NA                 \n",
            " 8    NA <NA>       <NA>   <NA>         NA    NA    NA <NA>  NA                 \n",
            " 9    NA <NA>       <NA>   <NA>         NA    NA    NA <NA>  NA                 \n",
            "10    NA <NA>       <NA>   <NA>         NA    NA    NA <NA>  NA                 \n",
            "# … with 46 more rows, and 1 more variable: parent_comment <chr>\n"
          ],
          "name": "stdout"
        },
        {
          "output_type": "display_data",
          "data": {
            "image/png": "[encoded data removed]"
          },
          "metadata": {
            "tags": []
          }
        }
      ]
    },
    {
      "cell_type": "code",
      "metadata": {
        "id": "zfz25s_9SPQu",
        "colab": {
          "base_uri": "https://localhost:8080/",
          "height": 531
        },
        "outputId": "b12cee17-3317-427f-a4dd-8408602e41aa"
      },
      "source": [
        "# Cantidad de caracteres por comentario padre:\n",
        "%%R\n",
        "length_parent = str_length(sarcasmo$parent_comment)\n",
        "hist(length_parent,xlim=c(0,1000), breaks = 1000, main = \"Cantidad de caracteres por comentario padre\",\n",
        "     xlab = \"Cantidad de caracteres\", ylab = \"Frecuencia\" )\n",
        "\n",
        "# Resumen de estadísticas del largo de los comentarios padre:\n",
        "summary(length_parent)"
      ],
      "execution_count": null,
      "outputs": [
        {
          "output_type": "stream",
          "text": [
            "   Min. 1st Qu.  Median    Mean 3rd Qu.    Max. \n",
            "    1.0    42.0    75.0   133.3   144.0 40301.0 \n"
          ],
          "name": "stdout"
        },
        {
          "output_type": "display_data",
          "data": {
            "image/png": "[encoded data removed]"
          },
          "metadata": {
            "tags": []
          }
        }
      ]
    },
    {
      "cell_type": "markdown",
      "metadata": {
        "id": "flw0CSjpSSfS"
      },
      "source": [
        "Analizando las estadísticas sobre el largo de ambos tipos de comentarios se puede notar la presencia de outliers, ya que en el caso de los comentarios sarcasticos se tiene un promedio de 56,69 caracteres y una mediana de 46 caracteres, pero un máximo de 10000.\n",
        "\n",
        "Esto nos dice que existe al menos un comentario sarcastico que contiene 10000 caracteres. Realizando la consulta adecuada se pudo observar que son tres los comentarios que alcanzan los 10000 caracteres, y uno de ellos es una secuencia que repite el nombre Donald Trump una gran cantidad de veces, llegando a generar un comentario de 10000 caracteres.\n",
        "\n",
        "Este comentario se aleja excesivamente de las medidas de tendencia central y por ende es un outlier que afecta a estadisticas que no son robustas, como el promedio. Algo similar pasa en el caso de los comentarios padres, donde se tiene un promedio de 133.4 caractes y una mediana de 75 caracteres, pero un máximo de 40301.\n",
        "\n",
        "Es por esto que con el objetivo de facilitar la visualización de los datos se realizó un zoom a los dos graficos generados, ya que debido a la presencia de outliers las escalas de los graficos quedaban muy extensas.\n",
        "\n",
        "Haciendo una compración entre los dos gráficos es posible observar que los comentarios sarcasticos se encuentran en un rango entre 0 a 400 caracteres, con una mediana de 46 caracteres. Y que los comentarios padres se encuentran en un rango entre 0 y un poco más de 1000 caracteres, con una mediana de 75 caracteres. Lo que nos dice que en general los comentarios padre son más largos que los comentarios sarcasticos. Sin embargo para ambos tipos de comentario, la mayor concentración de datos está entre los 0 a 200 caracteres."
      ]
    },
    {
      "cell_type": "markdown",
      "metadata": {
        "id": "BjYLvDtCHjav"
      },
      "source": [
        "## **Dataset comentarios no sarcásticos**\n",
        "\n",
        "Para el Hito 2 se decidió incorporar una nueva base de datos con [comentarios de *Reddit* de todo tipo](https://www.kaggle.com/smagnan/1-million-reddit-comments-from-40-subreddits), con la finalidad de incluir comentarios no sarcásticos y de esta forma tener una mayor cantidad de comentarios que puedan ser contrastados con aquellos que contienen el substring \"/s\". Dado que la cantidad total de comentarios es demasiado grande para poder estudiarlos a profundidad, se decidió tomar de ambos datasets (Hito 1 e Hito 2) los comentarios provenientes de los 5 subreddits con mayor cantidad de comentarios, y juntarlos en un único dataset que los reúna.\n",
        "\n",
        "De ahora en adelante se mencionará cada uno de estos 5 subreddits con su notación utilizada dentro de Reddit, la cual es la siguiente: **\"r/X\"**. Donde \"r/\" indica que estamos hablando de un subreddit especifico y \"X\" indica cual es el nombre de dicho subreddit. A manera de ejemplo al mencionar el subreddit **\"AskReddit\"** diremos **\"r/AskReddit\"**.\n",
        "\n",
        "Para poder construir nuestro nuevo dataset, se preprocesaron los datos como se indica a continuación:\n",
        "1. Se filtró del primer dataset (Hito 1) los subreddits con más comentarios sarcásticos utilizando filtros de Excel, lo cuál redujo considerablemente la cantidad de comentarios a estudiar.\n",
        "2. Se filtró del segundo dataset (Hito 2) los subreddits con más comentarios de todo tipo utilizando filtros de Excel.\n",
        "3. Se escogieron los 5 subreddits comunes con más comentarios de ambos datasets, los cuales son *r/AskReddit*, *r/funny*, *r/politics*, *r/leagueoflegends* y *r/worldnews*.\n",
        "4. Se eliminaron los comentarios sarcásticos del nuevo dataset (Hito 2), dado que buscamos solamente comentarios no sarcásticos para evitar duplicaciones en los datos. Para esto, utilizando filtros de Excel, se eliminaron todos los comentarios que contenían el string \"/s\". Este proceso no necesariamente puede eliminar todos los comentarios sarcásticos presentes en el dataset, ya que pueden existir comentarios sarcásticos que no contengan el string \"/s\". Sin embargo, se decidió considerar estos casos como ruido dentro del dataset, asumiendo que los comentarios de este tipo son una minoría con respecto al número total de comentarios.\n",
        "5. Se eliminaron atributos que no coinciden con el nuevo dataset o que no brindan mucha información, tales como *Author*, *ups*, *downs*, *date*, *created_utc* y *parent_comment*.\n",
        "6. Se juntaron y etiquetaron todos los comentarios de ambas tablas en Excel, agregando un nuevo atributo bajo el nombre de *“sarcasm”*, cuyo valor puede ser *“yes”* (si provienen del primer dataset) o *“no”* (si provienen del nuevo dataset), denotando si el comentario es sarcástico o no."
      ]
    },
    {
      "cell_type": "markdown",
      "metadata": {
        "id": "-wOF8V8RHbxU"
      },
      "source": [
        "### **Exploración de Datos: Comentarios no sarcásticos**\n",
        "\n",
        "Dado que el fin de este proyecto es el análisis y estudio de comentarios sarcásticos, no se realizará una exploración exhaustiva del nuevo dataset debido a que ya obtuvimos la información relevante con respecto a los comentarios sarcásticos en la primera exploración. A continuación se muestra la información básica de nuestro dataset final, incluyendo la proporcion de comentarios sarcásticos y no sarcásticos:"
      ]
    },
    {
      "cell_type": "code",
      "metadata": {
        "id": "tSPCQGv3vEC-"
      },
      "source": [
        "# Librerias principales para la exploración:\n",
        "import csv\n",
        "import pandas as pd\n",
        "import numpy as np\n",
        "\n",
        "# Clasificadores usados en la exploración:\n",
        "from sklearn.svm import SVC\n",
        "from sklearn.svm import LinearSVC  # Support Vector Machine para strings\n",
        "from sklearn.tree import DecisionTreeClassifier\n",
        "from sklearn.dummy import DummyClassifier\n",
        "from sklearn.neighbors import KNeighborsClassifier"
      ],
      "execution_count": null,
      "outputs": []
    },
    {
      "cell_type": "markdown",
      "metadata": {
        "id": "6qjx3yECb_jM"
      },
      "source": [
        "El paso inicial para comenzar el análisis de los nuevos datos fue cargar los datos correspondientes desde un documento en Excel con el comentario, el subreddit y un indicador que nos informa si el comentario es sarcástico o no."
      ]
    },
    {
      "cell_type": "code",
      "metadata": {
        "id": "k1ZJesL5zQII",
        "colab": {
          "base_uri": "https://localhost:8080/",
          "height": 204
        },
        "outputId": "57196163-172f-4e36-e815-e5c7f3fa719b"
      },
      "source": [
        "yes_or_no = pd.read_excel(\"DatosHito2.xlsx\")\n",
        "yes_or_no.head()"
      ],
      "execution_count": null,
      "outputs": [
        {
          "output_type": "execute_result",
          "data": {
            "text/html": [
              "<div>\n",
              "<style scoped>\n",
              "    .dataframe tbody tr th:only-of-type {\n",
              "        vertical-align: middle;\n",
              "    }\n",
              "\n",
              "    .dataframe tbody tr th {\n",
              "        vertical-align: top;\n",
              "    }\n",
              "\n",
              "    .dataframe thead th {\n",
              "        text-align: right;\n",
              "    }\n",
              "</style>\n",
              "<table border=\"1\" class=\"dataframe\">\n",
              "  <thead>\n",
              "    <tr style=\"text-align: right;\">\n",
              "      <th></th>\n",
              "      <th>comment</th>\n",
              "      <th>subreddit</th>\n",
              "      <th>score</th>\n",
              "      <th>sarcasm</th>\n",
              "    </tr>\n",
              "  </thead>\n",
              "  <tbody>\n",
              "    <tr>\n",
              "      <th>0</th>\n",
              "      <td>I don't pay attention to her, but as long as s...</td>\n",
              "      <td>AskReddit</td>\n",
              "      <td>0</td>\n",
              "      <td>yes</td>\n",
              "    </tr>\n",
              "    <tr>\n",
              "      <th>1</th>\n",
              "      <td>Trick or treating in general is just weird...</td>\n",
              "      <td>AskReddit</td>\n",
              "      <td>1</td>\n",
              "      <td>yes</td>\n",
              "    </tr>\n",
              "    <tr>\n",
              "      <th>2</th>\n",
              "      <td>what the fuck</td>\n",
              "      <td>AskReddit</td>\n",
              "      <td>22</td>\n",
              "      <td>yes</td>\n",
              "    </tr>\n",
              "    <tr>\n",
              "      <th>3</th>\n",
              "      <td>This would make me cry.</td>\n",
              "      <td>AskReddit</td>\n",
              "      <td>1</td>\n",
              "      <td>yes</td>\n",
              "    </tr>\n",
              "    <tr>\n",
              "      <th>4</th>\n",
              "      <td>My stuffed animal I've had since I was born.</td>\n",
              "      <td>AskReddit</td>\n",
              "      <td>1</td>\n",
              "      <td>yes</td>\n",
              "    </tr>\n",
              "  </tbody>\n",
              "</table>\n",
              "</div>"
            ],
            "text/plain": [
              "                                             comment  subreddit  score sarcasm\n",
              "0  I don't pay attention to her, but as long as s...  AskReddit      0     yes\n",
              "1      Trick or treating in general is just weird...  AskReddit      1     yes\n",
              "2                                      what the fuck  AskReddit     22     yes\n",
              "3                            This would make me cry.  AskReddit      1     yes\n",
              "4       My stuffed animal I've had since I was born.  AskReddit      1     yes"
            ]
          },
          "metadata": {
            "tags": []
          },
          "execution_count": 5
        }
      ]
    },
    {
      "cell_type": "markdown",
      "metadata": {
        "id": "bsQEglcRZOlG"
      },
      "source": [
        "Se obtiene la información relevante a partir de esta tabla."
      ]
    },
    {
      "cell_type": "code",
      "metadata": {
        "id": "Jmi_V7xDSa2Y",
        "colab": {
          "base_uri": "https://localhost:8080/"
        },
        "outputId": "9b69ac1a-9ecd-4b0c-d9ab-fff2929c7961"
      },
      "source": [
        "yes_or_no.info()"
      ],
      "execution_count": null,
      "outputs": [
        {
          "output_type": "stream",
          "text": [
            "<class 'pandas.core.frame.DataFrame'>\n",
            "RangeIndex: 295218 entries, 0 to 295217\n",
            "Data columns (total 4 columns):\n",
            " #   Column     Non-Null Count   Dtype \n",
            "---  ------     --------------   ----- \n",
            " 0   comment    295218 non-null  object\n",
            " 1   subreddit  295218 non-null  object\n",
            " 2   score      295218 non-null  int64 \n",
            " 3   sarcasm    295218 non-null  object\n",
            "dtypes: int64(1), object(3)\n",
            "memory usage: 9.0+ MB\n"
          ],
          "name": "stdout"
        }
      ]
    },
    {
      "cell_type": "markdown",
      "metadata": {
        "id": "e9PpFbhBZS9O"
      },
      "source": [
        "Se obtiene el número de datos para cada subreddit en la base de datos:"
      ]
    },
    {
      "cell_type": "code",
      "metadata": {
        "id": "Wl1ibhUrcG5F",
        "colab": {
          "base_uri": "https://localhost:8080/"
        },
        "outputId": "2d0a0733-f2df-4905-aa39-17d4a76fba67"
      },
      "source": [
        "yes_or_no[\"subreddit\"].value_counts()"
      ],
      "execution_count": null,
      "outputs": [
        {
          "output_type": "execute_result",
          "data": {
            "text/plain": [
              "AskReddit          90658\n",
              "politics           64392\n",
              "worldnews          51288\n",
              "leagueoflegends    45979\n",
              "funny              42901\n",
              "Name: subreddit, dtype: int64"
            ]
          },
          "metadata": {
            "tags": []
          },
          "execution_count": 7
        }
      ]
    },
    {
      "cell_type": "markdown",
      "metadata": {
        "id": "vIC9ALbCYA7I"
      },
      "source": [
        "Finalmente, para terminar con la carga de datos, se comparó el porcentaje de comentarios sarcásticos y no sarcásticos en los datos, obteniendo las proporciones para cada subreddit."
      ]
    },
    {
      "cell_type": "code",
      "metadata": {
        "id": "oI_mpMTjckOc",
        "colab": {
          "base_uri": "https://localhost:8080/"
        },
        "outputId": "c1b6b983-35ff-4abe-d132-740dbd402734"
      },
      "source": [
        "cantAskRedditYes=len(yes_or_no[(yes_or_no['subreddit']==\"AskReddit\")& (yes_or_no['sarcasm']==\"yes\")])\n",
        "cantAskRedditNo=len(yes_or_no[(yes_or_no['subreddit']==\"AskReddit\")& (yes_or_no['sarcasm']==\"no\")])\n",
        "\n",
        "cantFunnyYes=len(yes_or_no[(yes_or_no['subreddit']==\"funny\")& (yes_or_no['sarcasm']==\"yes\")])\n",
        "cantFunnyNo=len(yes_or_no[(yes_or_no['subreddit']==\"funny\")& (yes_or_no['sarcasm']==\"no\")])\n",
        "\n",
        "cantPoliticsYes=len(yes_or_no[(yes_or_no['subreddit']==\"politics\")& (yes_or_no['sarcasm']==\"yes\")])\n",
        "cantPoliticsNo=len(yes_or_no[(yes_or_no['subreddit']==\"politics\")& (yes_or_no['sarcasm']==\"no\")])\n",
        "\n",
        "cantLeagueOfLegendsYes=len(yes_or_no[(yes_or_no['subreddit']==\"leagueoflegends\")& (yes_or_no['sarcasm']==\"yes\")])\n",
        "cantLeagueOfLegendsNo=len(yes_or_no[(yes_or_no['subreddit']==\"leagueoflegends\")& (yes_or_no['sarcasm']==\"no\")])\n",
        "\n",
        "cantWorldNewsYes=len(yes_or_no[(yes_or_no['subreddit']==\"worldnews\")& (yes_or_no['sarcasm']==\"yes\")])\n",
        "cantWorldNewsNo=len(yes_or_no[(yes_or_no['subreddit']==\"worldnews\")& (yes_or_no['sarcasm']==\"no\")])\n",
        "\n",
        "cantAskReddit=cantAskRedditYes+cantAskRedditNo\n",
        "cantFunny=cantFunnyYes+cantFunnyNo\n",
        "cantPolitics=cantPoliticsYes+cantPoliticsNo\n",
        "cantLeagueOfLegends=cantLeagueOfLegendsYes+cantLeagueOfLegendsNo\n",
        "cantWorldNews=cantWorldNewsYes+cantWorldNewsNo\n",
        "\n",
        "print(\"Proporción comentarios sarcasticos en AskReddit: \", cantAskRedditYes/cantAskReddit)\n",
        "print(\"Proporción comentarios no sarcasticos en AskReddit: \", cantAskRedditNo/cantAskReddit)\n",
        "\n",
        "print(\"Proporción comentarios sarcasticos en funny: \", cantFunnyYes/cantFunny)\n",
        "print(\"Proporción comentarios no sarcasticos en funny: \", cantFunnyNo/cantFunny)\n",
        "\n",
        "print(\"Proporción comentarios sarcasticos en politics: \", cantPoliticsYes/cantPolitics)\n",
        "print(\"Proporción comentarios no sarcasticos en politics: \", cantPoliticsNo/cantPolitics)\n",
        "\n",
        "print(\"Proporción comentarios sarcasticos en leagueoflegends: \", cantLeagueOfLegendsYes/cantLeagueOfLegends)\n",
        "print(\"Proporción comentarios no sarcasticos en leagueoflegends: \", cantLeagueOfLegendsNo/cantLeagueOfLegends)\n",
        "\n",
        "print(\"Proporción comentarios sarcasticos en worldnews: \", cantWorldNewsYes/cantWorldNews)\n",
        "print(\"Proporción comentarios no sarcasticos en worldnews: \", cantWorldNewsNo/cantWorldNews)\n",
        "\n",
        "\n",
        "cantSarcastica=cantAskRedditYes+cantFunnyYes+cantPoliticsYes+cantLeagueOfLegendsYes+cantWorldNewsYes\n",
        "cantNotSarcastica=cantAskRedditNo+cantFunnyNo+cantPoliticsNo+cantLeagueOfLegendsNo+cantWorldNewsNo\n",
        "cantTotal=cantSarcastica+cantNotSarcastica\n",
        "\n",
        "print(\"Proporción comentarios sarcasticos en el dataset: \", cantSarcastica/cantTotal)\n",
        "print(\"Proporción comentarios no sarcasticos en el dataset: \", cantNotSarcastica/cantTotal)"
      ],
      "execution_count": null,
      "outputs": [
        {
          "output_type": "stream",
          "text": [
            "Proporción comentarios sarcasticos en AskReddit:  0.7244148337708751\n",
            "Proporción comentarios no sarcasticos en AskReddit:  0.2755851662291248\n",
            "Proporción comentarios sarcasticos en funny:  0.41814876110113985\n",
            "Proporción comentarios no sarcasticos en funny:  0.5818512388988601\n",
            "Proporción comentarios sarcasticos en politics:  0.6133215306249223\n",
            "Proporción comentarios no sarcasticos en politics:  0.38667846937507766\n",
            "Proporción comentarios sarcasticos en leagueoflegends:  0.4574697144348507\n",
            "Proporción comentarios no sarcasticos en leagueoflegends:  0.5425302855651493\n",
            "Proporción comentarios sarcasticos en worldnews:  0.5142723444080487\n",
            "Proporción comentarios no sarcasticos en worldnews:  0.48572765559195136\n",
            "Proporción comentarios sarcasticos en el dataset:  0.5775935071709719\n",
            "Proporción comentarios no sarcasticos en el dataset:  0.42240649282902804\n"
          ],
          "name": "stdout"
        }
      ]
    },
    {
      "cell_type": "markdown",
      "metadata": {
        "id": "8fkSgprweJoV"
      },
      "source": [
        "# **Tratamiento de Datos de Texto**\n",
        "\n",
        "Uno de los problemas iniciales de este proyecto fué el cómo trabajar los datos de texto, dado que gran parte de lo aprendido a lo largo del curso de Minería de Datos como clasificadores o clusters vistos hasta el momento trabajan directamente con datos numéricos y etiquetas. Es por esto que se decidió investigar una forma de representar numéricamente los comentarios de nuestro dataset para poder usar los modelos aprendidos, encontrando dos métodos que se utilizarán para la propuesta experimental.\n"
      ]
    },
    {
      "cell_type": "markdown",
      "metadata": {
        "id": "3H0wh8mJ_pme"
      },
      "source": [
        "## **Vectorización de datos de Texto**\n",
        "\n",
        "Uno de los métodos de tratamiento de datos de texto es el método de la vectorización. Este se basa en separar un string en tokens, los cuales son asignados a un identificador único, con el fin de representar el string como un vector de unos si el string contiene cierto token y cero en caso contrario. El dataset completo vectorizado será una matriz que resuma numéricamente todos los comentarios, el cuál tendrá un tamaño igual a la cantidad de elementos del dataset por la cantidad de tokens únicos.\n",
        "\n"
      ]
    },
    {
      "cell_type": "markdown",
      "metadata": {
        "id": "1AwPk96UG_3p"
      },
      "source": [
        "### **Tokenización**\n",
        "Tal como se mencionó anteriormente, lo primero que debemos realizar para vectorizar datos de texto es la tokenización. Este proceso es simple y no requiere de gran procesamiento de datos, dado que basta recorrer el string una única vez e ir añadiendo a un arreglo la serie de palabras que pasen algún filtro, a continuación mostraremos un ejemplo fácil de tokenización de texto:\n"
      ]
    },
    {
      "cell_type": "code",
      "metadata": {
        "id": "-7aZ7JDN0gyc",
        "colab": {
          "base_uri": "https://localhost:8080/"
        },
        "outputId": "a51e0a95-79b1-4d4c-d456-9d68d57fddc3"
      },
      "source": [
        "import string\n",
        "\n",
        "punctuation = set(string.punctuation)\n",
        "digits = set(string.digits)\n",
        "\n",
        "def tokenize(sentence):\n",
        "    tokens = []\n",
        "    for token in sentence.split():\n",
        "        new_token = []\n",
        "        #if (token not in words):\n",
        "        for character in token:\n",
        "            if (character not in punctuation) and (character not in digits) :\n",
        "                new_token.append(character.lower())\n",
        "        if new_token:\n",
        "            tokens.append(\"\".join(new_token))\n",
        "    return tokens\n",
        "    \n",
        "# Ejemplo de tokenización\n",
        "tokenize(\"We love data mining\")"
      ],
      "execution_count": null,
      "outputs": [
        {
          "output_type": "execute_result",
          "data": {
            "text/plain": [
              "['we', 'love', 'data', 'mining']"
            ]
          },
          "metadata": {
            "tags": []
          },
          "execution_count": 8
        }
      ]
    },
    {
      "cell_type": "markdown",
      "metadata": {
        "id": "-RIgVGMHTwi4"
      },
      "source": [
        "### **Vectorización**\n",
        "\n",
        "Ya obtenido un dataset tokenizado podemos proceder a la creación de los vectores de frecuencia. Estos se crean a partir de los tokens únicos de todos los elementos del dataset, creando así una matriz llena de números que resumen la totalidad del dataset en datos numéricos.\n",
        "\n",
        "La librería que se ocupará para poder crear estas matrices será ``sklearn.feature_extraction.text``, la cuál con la función:\n",
        "\n",
        "``\n",
        "real_vectorizer = CountVectorizer(tokenizer = tokenize, binary=True)\n",
        "``\n",
        "\n",
        "Podremos ser capaces de trabajar con nuestro dataset y poder responder a las interrogantes propuestas para este estudio.\n",
        "\n",
        "La siguiente imagen es una visualización de un ejemplo de vectorizar tres elementos de texto *document*:"
      ]
    },
    {
      "cell_type": "markdown",
      "metadata": {
        "id": "80vOZm3HH64r"
      },
      "source": [
        "\n",
        "![image.png](data:image/png;base64,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)"
      ]
    },
    {
      "cell_type": "markdown",
      "metadata": {
        "id": "zTvNrfdaMr_P"
      },
      "source": [
        "## **Framework sentence-transformers**\n",
        "\n",
        "Otra opción de tratado de datos de texto es el \n",
        "[framework sentence-transformers](https://github.com/UKPLab/sentence-transformers). Este framework, diseñado para el trabajo de datos como imágenes y texto, provee una gran cantidad de métodos para la minería de datos como clasificación, clustering, paraphrase-mining, entre otros. Pese a que este facilita el pre-tratamiento de datos de texto, no está diseñado para trabajar con grandes volúmenes de información.\n",
        "\n",
        "Para instalar este framework es necesario correr lo siguiente en la consola:\n",
        "\n",
        "``!pip install sentence-transformers\n",
        "``\n",
        "\n",
        "Donde ocuparemos el método de transformación de sentencias:\n",
        "\n",
        "``from sentence_transformers import SentenceTransformer``"
      ]
    },
    {
      "cell_type": "markdown",
      "metadata": {
        "id": "ccZP_aWpaOQl"
      },
      "source": [
        "# **Preguntas y problemas**\n",
        "\n",
        "Las preguntas a responder sufrieron modificaciones a lo largo de los hitos anteriores, dado que algunas de estas preguntas eran consideradas triviales y podían ser respondidas sin utilizar técnicas de minería de datos. La propuesta inicial consistía en responder las siguientes preguntas:\n",
        "\n",
        "1. ¿Qué tan necesario es el contexto? ¿Es necesaria la presencia del comentario padre?\n",
        "2. ¿En qué subreddits el uso de sarcasmo es proporcionalmente mayor?\n",
        "3. ¿Es posible entrenar un clasificador?\n",
        "\n",
        "Todas estas preguntas fueron modificadas para el Hito 2, ya sea porque no eran suficientemente complejas o no podían ser respondidas con los conocimentos adquiridos hasta el momento. Para el segundo hito, las interrogantes planteadas fueron la siguientes:\n",
        "\n",
        "1. ¿Qué factores influyen más en el desempeño de un clasificador? ¿Largo del comentario, palabras utilizadas, puntaje?\n",
        "2. Si se entrena un clasificador en un subreddit específico, ¿Cambia el desempeño al evaluarlo en otro subreddit?\n",
        "3. ¿A través de qué método se debe entrenar un clasificador para que presente un buen desempeño?\n",
        "\n",
        "Bajo sugerencia del equipo docente se modificó la redacción de algunas de estas preguntas para abarcar conceptos más generales, y además se agregaron preguntas que permitieran la implementación de clustering para ser respondidas. De esta forma, para el Hito 3 se llegó a las siguientes interrogantes por responder:\n",
        "\n",
        "1. ¿Es posible predecir si un mensaje es sarcástico a partir de su contenido? ¿Cuál es la mejor forma de predecir esto?\n",
        "2. ¿El patrón de sarcasmo es constante entre un dominio y otro? ¿Influye el tópico en discusión al momento de detectar el sarcasmo?\n",
        "3. ¿Existe alguna otra característica a través de la cual se puedan clasificar los comentarios además del sarcasmo?"
      ]
    },
    {
      "cell_type": "markdown",
      "metadata": {
        "id": "wYHStfUdSGMB"
      },
      "source": [
        "# **Propuesta Experimental**\n",
        "\n",
        "Ya habiendo explorado nuestro dataset, encontrado los métodos de tratamiento de texto, y formulado nuestras preguntas podemos generar una propuesta experimental para el estudio y análisis de comentarios sarcásticos. Las propuestas experimentales para cada pregunta son:\n"
      ]
    },
    {
      "cell_type": "markdown",
      "metadata": {
        "id": "XHN5kzkneJwf"
      },
      "source": [
        "## **Pregunta 1 -** *¿Es posible predecir si un mensaje es sarcástico a partir de su contenido? ¿Cuál es la mejor forma de predecir esto?*\n",
        "\n",
        "Como se desea **predecir** el valor de sarcasmo dado el contenido de un comentario, es necesario trabajar con los datos de cada comentario con el fin de crear un **clasificador**. Para esta pregunta, se asumirá que el subreddit (**dominio**) es relevante para la clasificación:\n",
        "\n",
        "- Se trabajarán los comentarios utilizando la *vectorización de datos de texto* mencionada en su respectiva sección, con el fin de trabajar con una gran cantidad de comentarios.\n",
        "- Se segmentará el dataset en los distintos subreddits del dataset (por la premisa de la pregunta).\n",
        "- Se procede a separar, por cada subreddit elegido para la clasificación, en grupos de training y testing para entrenar los distintos clasificadores. Los tipos de clasificadores que se utilizarán para el entrenamiento serán: *Decision Tree*, *Support Vector Machine Classifier*, *Linear Support Vector Machine Classifier*, *K-Nearest Neighbours* y *Dummy Classifier*.\n",
        "- Después de entrenar los datos, se compararán las métricas de medición de cladificadores para determinar si los clasificadores presentan un buen desempeño, y de ser así, cuál presenta el mejor desempeño.\n",
        "\n",
        "\n"
      ]
    },
    {
      "cell_type": "markdown",
      "metadata": {
        "id": "CUtnPaIueKE-"
      },
      "source": [
        "## **Pregunta 2 -** *¿El patrón de sarcasmo es constante entre un dominio y otro? ¿Influye el tópico en discusión al momento de detectar el sarcasmo?*\n",
        "\n",
        "Ya teniendo nuestros clasificadores entrenados, podemos proceder a cuestionar la premisa de la pregunta anterior: *¿Es realmente importante el dominio para los clasificadores de sarcasmo?*.\n",
        "\n",
        "Si se diera el caso de que no, entonces los patrones de sarcasmo son constantes y se mantendrían sin importar el subreddit de donde provienen los comentarios sarcásticos, y los clasificadores tendrían similares resultados sin importar el subreddit de origen de los comentarios. En caso contrario, se tendría que cada tópico influye en el desempeño de los clasificadores de sarcasmo, y un clasificador entrenado en un dominio $A$ tendría un mal desempeño en un dominio $B$.\n",
        "\n",
        "Dado lo anterior, se podrían resolver las interrogantes propuestas como sigue:\n",
        "\n",
        "- Dado el mejor clasificador resultante de la pregunta 1, se procederá a entrenar 5 clasificadores con cada subreddit como grupo de entrenamiento.\n",
        "- Para la fase de entrenamiento de los clasificadores se utilizará nuevamente el método de vectorización, por lo que se vectorizarán todos los datos de training en forma conjunta para luego separlos y proceder a entrenar los clasificadores ya mencionados.\n",
        "- Posteriormente se evaluará el desempeño de cada clasificador entrenado con los datos de cada dominio, y se graficarán los resultados en una matriz de accuracy.\n",
        "- Con los datos anteriores se podrá determinar si el dominio afecta al patrón de sarcasmo."
      ]
    },
    {
      "cell_type": "markdown",
      "metadata": {
        "id": "GEfIDGh8eeqg"
      },
      "source": [
        "## **Pregunta 3 -** *¿Existe alguna otra característica a través de la cual se puedan clasificar los comentarios además del sarcasmo?*\n",
        "\n",
        "A partir de los resultados de la pregunta anterior, se podría intentar visualizar de qué forma se distribuyen los comentarios a partir de sus características. Para subreddits donde la validación cruzada arroje un alto accuracy, se puede asumir que los patrones de sarcasmo serán similares, por lo que al hacer clustering para visualizar la distribución de estos se deberían tener pocos clusters. Por otra parte, para un par de subreddits con bajo accuracy al momento de realizar la validación cruzada, se deberían obtener muchos clusters disjuntos, ya que los patrones presentes en un subreddit no necesariamente coincidirán con los patrones presentes en el otro.\n",
        "\n",
        "Dado esto, se propone resolver esta interrogante de la siguiente forma:\n",
        "\n",
        "- Del experimento anterior, se buscarán los pares de subreddits que presenten el mejor y el peor desempeño en la validación cruzada.\n",
        "- Para cada par de subreddits se uniran las listas de comentarios en una gran tabla. De esta forma se tendran dos tablas, cada una con comentarios provenientes de dos subreddits. Una de estas tendrá comentarios de dos subreddits con un patrón de sarcasmo similar, mientras que la otra tendrá los comentarios de los subreddits con el patrón de sarcasmo más distinto.\n",
        "- Para cada tabla se utilizará *agglomerative clustering* con el fin de poder visualizar las similitudes entre los comentarios.\n",
        "- Se utilizará el método de *ward* para graficar los clusters obtenidos. Se generará un dendograma y a partir de este se podrá visualizar el número de clusters obtenidos.\n",
        "- Para una mayor facilidad en la generación de los gráficos mencionados, todo lo anterior se realizará utilizando el [framework sentence-transformers](https://github.com/UKPLab/sentence-transformers)."
      ]
    },
    {
      "cell_type": "markdown",
      "metadata": {
        "id": "rYA663KfixKs"
      },
      "source": [
        "# **Experimento 1: Entrenamiento de clasificadores**\n",
        "\n",
        "Para el primer experimento se decidió entrenar distintos tipos de clasificadores sobre varios segmentos de la base de datos, y de esta forma determinar a través de cuál método se obtiene un mejor desempeño. Los clasificadores utilizados para realizar la comparación fueron:\n",
        "\n",
        "- Decision Tree\n",
        "- Support Vector Machine Classifier\n",
        "- Linear Support Vector Machine Classifier\n",
        "- K-Nearest Neighbours\n",
        "- Dummy Classifier\n",
        "\n",
        "El primer subrredit analizado fue el que contenía la mayor cantidad de comentarios de todo tipo (*r/AskReddit*). Es importante notar que en este subreddit la proporción de comentarios sarcásticos es bastante alta en comparación con la cantidad de comentarios no sarcásticos (70% aproximadamente). Es por esto que, con el fin de verificar que la calidad del clasificador no dependiera de la cantidad de comentarios sarcásticos en el dataset, se decidió llevar a cabo el experimento también sobre un subreddit con una cantidad más balanceada de comentarios sarcásticos y no sarcásticos. El subreddit elegido para esto fue *r/worldnews*, el cuál presenta la tercera cantidad más alta de comentarios y que presenta una proporción de comentarios sarcásticos de aproximadamente un 50%.\n",
        "\n",
        "A continuación se adjunta el código utilizado para realizar este experimento:\n"
      ]
    },
    {
      "cell_type": "code",
      "metadata": {
        "id": "QBmSSn5nkSh9"
      },
      "source": [
        "# importaciones iniciales\n",
        "\n",
        "from sklearn.feature_extraction.text import CountVectorizer\n",
        "from sklearn.metrics import accuracy_score, classification_report\n",
        "from sklearn.model_selection import train_test_split"
      ],
      "execution_count": null,
      "outputs": []
    },
    {
      "cell_type": "markdown",
      "metadata": {
        "id": "WdDQ5yOPjx_F"
      },
      "source": [
        "## **Clasificadores para r/AskReddit**\n"
      ]
    },
    {
      "cell_type": "code",
      "metadata": {
        "id": "r3cljWXPLFsN",
        "colab": {
          "base_uri": "https://localhost:8080/",
          "height": 204
        },
        "outputId": "525b6b49-d528-4a82-f257-ee53aa42b878"
      },
      "source": [
        "datosAskReddit=yes_or_no[yes_or_no['subreddit']==\"AskReddit\"]\n",
        "datosAskReddit.head()"
      ],
      "execution_count": null,
      "outputs": [
        {
          "output_type": "execute_result",
          "data": {
            "text/html": [
              "<div>\n",
              "<style scoped>\n",
              "    .dataframe tbody tr th:only-of-type {\n",
              "        vertical-align: middle;\n",
              "    }\n",
              "\n",
              "    .dataframe tbody tr th {\n",
              "        vertical-align: top;\n",
              "    }\n",
              "\n",
              "    .dataframe thead th {\n",
              "        text-align: right;\n",
              "    }\n",
              "</style>\n",
              "<table border=\"1\" class=\"dataframe\">\n",
              "  <thead>\n",
              "    <tr style=\"text-align: right;\">\n",
              "      <th></th>\n",
              "      <th>comment</th>\n",
              "      <th>subreddit</th>\n",
              "      <th>score</th>\n",
              "      <th>sarcasm</th>\n",
              "    </tr>\n",
              "  </thead>\n",
              "  <tbody>\n",
              "    <tr>\n",
              "      <th>0</th>\n",
              "      <td>I don't pay attention to her, but as long as s...</td>\n",
              "      <td>AskReddit</td>\n",
              "      <td>0</td>\n",
              "      <td>yes</td>\n",
              "    </tr>\n",
              "    <tr>\n",
              "      <th>1</th>\n",
              "      <td>Trick or treating in general is just weird...</td>\n",
              "      <td>AskReddit</td>\n",
              "      <td>1</td>\n",
              "      <td>yes</td>\n",
              "    </tr>\n",
              "    <tr>\n",
              "      <th>2</th>\n",
              "      <td>what the fuck</td>\n",
              "      <td>AskReddit</td>\n",
              "      <td>22</td>\n",
              "      <td>yes</td>\n",
              "    </tr>\n",
              "    <tr>\n",
              "      <th>3</th>\n",
              "      <td>This would make me cry.</td>\n",
              "      <td>AskReddit</td>\n",
              "      <td>1</td>\n",
              "      <td>yes</td>\n",
              "    </tr>\n",
              "    <tr>\n",
              "      <th>4</th>\n",
              "      <td>My stuffed animal I've had since I was born.</td>\n",
              "      <td>AskReddit</td>\n",
              "      <td>1</td>\n",
              "      <td>yes</td>\n",
              "    </tr>\n",
              "  </tbody>\n",
              "</table>\n",
              "</div>"
            ],
            "text/plain": [
              "                                             comment  subreddit  score sarcasm\n",
              "0  I don't pay attention to her, but as long as s...  AskReddit      0     yes\n",
              "1      Trick or treating in general is just weird...  AskReddit      1     yes\n",
              "2                                      what the fuck  AskReddit     22     yes\n",
              "3                            This would make me cry.  AskReddit      1     yes\n",
              "4       My stuffed animal I've had since I was born.  AskReddit      1     yes"
            ]
          },
          "metadata": {
            "tags": []
          },
          "execution_count": 10
        }
      ]
    },
    {
      "cell_type": "code",
      "metadata": {
        "id": "gk5jKAdtwF5d",
        "colab": {
          "base_uri": "https://localhost:8080/"
        },
        "outputId": "174baaab-bce1-4151-b381-e93741bcf033"
      },
      "source": [
        "train_comment_A,test_comment_A, train_sarcasm_A, test_sarcasm_A = train_test_split(datosAskReddit[\"comment\"], \n",
        "                                                                    datosAskReddit[\"sarcasm\"],\n",
        "                                                                    test_size=.33, random_state=37,\n",
        "                                                                    stratify=datosAskReddit[\"sarcasm\"])\n",
        "\n",
        "print(f\"Training examples: {len(train_comment_A)}, testing examples {len(test_comment_A)}\")"
      ],
      "execution_count": null,
      "outputs": [
        {
          "output_type": "stream",
          "text": [
            "Training examples: 60740, testing examples 29918\n"
          ],
          "name": "stdout"
        }
      ]
    },
    {
      "cell_type": "code",
      "metadata": {
        "id": "tTE1NIZ5cmZL",
        "colab": {
          "base_uri": "https://localhost:8080/"
        },
        "outputId": "79a9becf-c868-4ca5-ac79-42672148ad20"
      },
      "source": [
        "real_vectorizer = CountVectorizer(tokenizer = tokenize, binary=True)\n",
        "train_X_A = real_vectorizer.fit_transform(train_comment_A)\n",
        "test_X_A = real_vectorizer.transform(test_comment_A)\n",
        "train_X_A.shape"
      ],
      "execution_count": null,
      "outputs": [
        {
          "output_type": "execute_result",
          "data": {
            "text/plain": [
              "(60740, 39822)"
            ]
          },
          "metadata": {
            "tags": []
          },
          "execution_count": 12
        }
      ]
    },
    {
      "cell_type": "markdown",
      "metadata": {
        "id": "V1TqRuadavKI"
      },
      "source": [
        "### **Usando Decision Tree**"
      ]
    },
    {
      "cell_type": "code",
      "metadata": {
        "id": "aCFMpCooYZYY",
        "colab": {
          "base_uri": "https://localhost:8080/"
        },
        "outputId": "facaeefc-10e6-4a2c-a007-bedaf2574f34"
      },
      "source": [
        "classifier_Tree_Ask = DecisionTreeClassifier()\n",
        "classifier_Tree_Ask.fit(train_X_A, train_sarcasm_A)"
      ],
      "execution_count": null,
      "outputs": [
        {
          "output_type": "execute_result",
          "data": {
            "text/plain": [
              "DecisionTreeClassifier(ccp_alpha=0.0, class_weight=None, criterion='gini',\n",
              "                       max_depth=None, max_features=None, max_leaf_nodes=None,\n",
              "                       min_impurity_decrease=0.0, min_impurity_split=None,\n",
              "                       min_samples_leaf=1, min_samples_split=2,\n",
              "                       min_weight_fraction_leaf=0.0, presort='deprecated',\n",
              "                       random_state=None, splitter='best')"
            ]
          },
          "metadata": {
            "tags": []
          },
          "execution_count": 13
        }
      ]
    },
    {
      "cell_type": "code",
      "metadata": {
        "id": "Z39iEx8Ta49W",
        "colab": {
          "base_uri": "https://localhost:8080/"
        },
        "outputId": "b4db41f3-964a-439a-b917-84def4fa1441"
      },
      "source": [
        "predicciones_Tree_Ask = classifier_Tree_Ask.predict(test_X_A)\n",
        "print(classification_report(test_sarcasm_A, predicciones_Tree_Ask))"
      ],
      "execution_count": null,
      "outputs": [
        {
          "output_type": "stream",
          "text": [
            "              precision    recall  f1-score   support\n",
            "\n",
            "          no       0.59      0.45      0.51      8245\n",
            "         yes       0.81      0.88      0.84     21673\n",
            "\n",
            "    accuracy                           0.76     29918\n",
            "   macro avg       0.70      0.66      0.68     29918\n",
            "weighted avg       0.75      0.76      0.75     29918\n",
            "\n"
          ],
          "name": "stdout"
        }
      ]
    },
    {
      "cell_type": "markdown",
      "metadata": {
        "id": "uyge99qF8XQ2"
      },
      "source": [
        "### **Usando SVC**"
      ]
    },
    {
      "cell_type": "code",
      "metadata": {
        "id": "qbcXhK_c8Xb-",
        "colab": {
          "base_uri": "https://localhost:8080/"
        },
        "outputId": "12493da1-cd31-48e3-c953-e8283718d894"
      },
      "source": [
        "classifier_Svc_Ask = SVC(max_iter=300000)\n",
        "classifier_Svc_Ask.fit(train_X_A, train_sarcasm_A)"
      ],
      "execution_count": null,
      "outputs": [
        {
          "output_type": "execute_result",
          "data": {
            "text/plain": [
              "SVC(C=1.0, break_ties=False, cache_size=200, class_weight=None, coef0=0.0,\n",
              "    decision_function_shape='ovr', degree=3, gamma='scale', kernel='rbf',\n",
              "    max_iter=300000, probability=False, random_state=None, shrinking=True,\n",
              "    tol=0.001, verbose=False)"
            ]
          },
          "metadata": {
            "tags": []
          },
          "execution_count": 32
        }
      ]
    },
    {
      "cell_type": "code",
      "metadata": {
        "id": "w1hbtRPs8Xl6",
        "colab": {
          "base_uri": "https://localhost:8080/"
        },
        "outputId": "ec86dc14-510d-487e-c09d-5f177a15b281"
      },
      "source": [
        "predicciones_Svc_Ask = classifier_Svc_Ask.predict(test_X_A)\n",
        "print(classification_report(test_sarcasm_A, predicciones_Svc_Ask))"
      ],
      "execution_count": null,
      "outputs": [
        {
          "output_type": "stream",
          "text": [
            "              precision    recall  f1-score   support\n",
            "\n",
            "          no       0.88      0.42      0.56      8245\n",
            "         yes       0.81      0.98      0.89     21673\n",
            "\n",
            "    accuracy                           0.82     29918\n",
            "   macro avg       0.85      0.70      0.73     29918\n",
            "weighted avg       0.83      0.82      0.80     29918\n",
            "\n"
          ],
          "name": "stdout"
        }
      ]
    },
    {
      "cell_type": "markdown",
      "metadata": {
        "id": "fSGmOZgcqunv"
      },
      "source": [
        "### **Usando LinearSvc**"
      ]
    },
    {
      "cell_type": "code",
      "metadata": {
        "id": "0cU-VbdYrJys",
        "colab": {
          "base_uri": "https://localhost:8080/"
        },
        "outputId": "d680a2ed-407f-40a3-bf51-ed9ba16951d7"
      },
      "source": [
        "classifier_LSvc_Ask = LinearSVC(max_iter=300000)\n",
        "classifier_LSvc_Ask.fit(train_X_A, train_sarcasm_A)"
      ],
      "execution_count": null,
      "outputs": [
        {
          "output_type": "execute_result",
          "data": {
            "text/plain": [
              "LinearSVC(C=1.0, class_weight=None, dual=True, fit_intercept=True,\n",
              "          intercept_scaling=1, loss='squared_hinge', max_iter=300000,\n",
              "          multi_class='ovr', penalty='l2', random_state=None, tol=0.0001,\n",
              "          verbose=0)"
            ]
          },
          "metadata": {
            "tags": []
          },
          "execution_count": 15
        }
      ]
    },
    {
      "cell_type": "code",
      "metadata": {
        "id": "Y-aFcZDbrTtx",
        "colab": {
          "base_uri": "https://localhost:8080/"
        },
        "outputId": "32a21a75-49bd-4290-c957-bf60c9123375"
      },
      "source": [
        "predicciones_LSvc_Ask = classifier_LSvc_Ask.predict(test_X_A)\n",
        "print(classification_report(test_sarcasm_A, predicciones_LSvc_Ask))"
      ],
      "execution_count": null,
      "outputs": [
        {
          "output_type": "stream",
          "text": [
            "              precision    recall  f1-score   support\n",
            "\n",
            "          no       0.69      0.52      0.60      8245\n",
            "         yes       0.83      0.91      0.87     21673\n",
            "\n",
            "    accuracy                           0.80     29918\n",
            "   macro avg       0.76      0.72      0.73     29918\n",
            "weighted avg       0.79      0.80      0.79     29918\n",
            "\n"
          ],
          "name": "stdout"
        }
      ]
    },
    {
      "cell_type": "markdown",
      "metadata": {
        "id": "K4_z6O8Myw0B"
      },
      "source": [
        "### **Usando KNN**"
      ]
    },
    {
      "cell_type": "code",
      "metadata": {
        "id": "9FKhkjlfy0fW",
        "colab": {
          "base_uri": "https://localhost:8080/"
        },
        "outputId": "3efee07a-e72f-4a24-aabb-0ee8f4191f43"
      },
      "source": [
        "classifier_KNN_Ask = KNeighborsClassifier(n_neighbors=10)\n",
        "classifier_KNN_Ask.fit(train_X_A, train_sarcasm_A)"
      ],
      "execution_count": null,
      "outputs": [
        {
          "output_type": "execute_result",
          "data": {
            "text/plain": [
              "KNeighborsClassifier(algorithm='auto', leaf_size=30, metric='minkowski',\n",
              "                     metric_params=None, n_jobs=None, n_neighbors=10, p=2,\n",
              "                     weights='uniform')"
            ]
          },
          "metadata": {
            "tags": []
          },
          "execution_count": 17
        }
      ]
    },
    {
      "cell_type": "code",
      "metadata": {
        "id": "KlXMntnJy0pB",
        "colab": {
          "base_uri": "https://localhost:8080/"
        },
        "outputId": "e3bddb1b-bc08-4562-c7d3-6a9c6d9a8642"
      },
      "source": [
        "predicciones_KNN_Ask = classifier_KNN_Ask.predict(test_X_A)\n",
        "print(classification_report(test_sarcasm_A, predicciones_KNN_Ask))"
      ],
      "execution_count": null,
      "outputs": [
        {
          "output_type": "stream",
          "text": [
            "              precision    recall  f1-score   support\n",
            "\n",
            "          no       0.91      0.05      0.10      8245\n",
            "         yes       0.74      1.00      0.85     21673\n",
            "\n",
            "    accuracy                           0.74     29918\n",
            "   macro avg       0.82      0.53      0.48     29918\n",
            "weighted avg       0.78      0.74      0.64     29918\n",
            "\n"
          ],
          "name": "stdout"
        }
      ]
    },
    {
      "cell_type": "markdown",
      "metadata": {
        "id": "LCKPW0noy5mW"
      },
      "source": [
        "### **Usando Dummy**"
      ]
    },
    {
      "cell_type": "code",
      "metadata": {
        "id": "5nq8sHipy50g",
        "colab": {
          "base_uri": "https://localhost:8080/"
        },
        "outputId": "2c6341fb-eeda-46ea-df2b-43550ea4d9d3"
      },
      "source": [
        "classifier_DummyClassifier_Ask =DummyClassifier()\n",
        "classifier_DummyClassifier_Ask.fit(train_X_A, train_sarcasm_A)"
      ],
      "execution_count": null,
      "outputs": [
        {
          "output_type": "stream",
          "text": [
            "/usr/local/lib/python3.7/dist-packages/sklearn/dummy.py:132: FutureWarning: The default value of strategy will change from stratified to prior in 0.24.\n",
            "  \"stratified to prior in 0.24.\", FutureWarning)\n"
          ],
          "name": "stderr"
        },
        {
          "output_type": "execute_result",
          "data": {
            "text/plain": [
              "DummyClassifier(constant=None, random_state=None, strategy='warn')"
            ]
          },
          "metadata": {
            "tags": []
          },
          "execution_count": 19
        }
      ]
    },
    {
      "cell_type": "code",
      "metadata": {
        "id": "3qWKBIH7y587",
        "colab": {
          "base_uri": "https://localhost:8080/"
        },
        "outputId": "967e3fe4-be6a-49f4-8681-150b83ab8342"
      },
      "source": [
        "predicciones_DummyClassifier_Ask = classifier_DummyClassifier_Ask.predict(test_X_A)\n",
        "print(classification_report(test_sarcasm_A, predicciones_DummyClassifier_Ask))"
      ],
      "execution_count": null,
      "outputs": [
        {
          "output_type": "stream",
          "text": [
            "              precision    recall  f1-score   support\n",
            "\n",
            "          no       0.28      0.28      0.28      8245\n",
            "         yes       0.73      0.72      0.72     21673\n",
            "\n",
            "    accuracy                           0.60     29918\n",
            "   macro avg       0.50      0.50      0.50     29918\n",
            "weighted avg       0.60      0.60      0.60     29918\n",
            "\n"
          ],
          "name": "stdout"
        }
      ]
    },
    {
      "cell_type": "markdown",
      "metadata": {
        "id": "uYKEhnV7sdHv"
      },
      "source": [
        "## **Clasificadores para r/worldnews**\n"
      ]
    },
    {
      "cell_type": "code",
      "metadata": {
        "colab": {
          "base_uri": "https://localhost:8080/",
          "height": 204
        },
        "id": "KX4k9wAosdHw",
        "outputId": "7560da02-0128-4edb-e447-4694245ab1b9"
      },
      "source": [
        "datosWorld=yes_or_no[yes_or_no['subreddit']==\"worldnews\"]\n",
        "datosWorld.head()"
      ],
      "execution_count": null,
      "outputs": [
        {
          "output_type": "execute_result",
          "data": {
            "text/html": [
              "<div>\n",
              "<style scoped>\n",
              "    .dataframe tbody tr th:only-of-type {\n",
              "        vertical-align: middle;\n",
              "    }\n",
              "\n",
              "    .dataframe tbody tr th {\n",
              "        vertical-align: top;\n",
              "    }\n",
              "\n",
              "    .dataframe thead th {\n",
              "        text-align: right;\n",
              "    }\n",
              "</style>\n",
              "<table border=\"1\" class=\"dataframe\">\n",
              "  <thead>\n",
              "    <tr style=\"text-align: right;\">\n",
              "      <th></th>\n",
              "      <th>comment</th>\n",
              "      <th>subreddit</th>\n",
              "      <th>score</th>\n",
              "      <th>sarcasm</th>\n",
              "    </tr>\n",
              "  </thead>\n",
              "  <tbody>\n",
              "    <tr>\n",
              "      <th>144140</th>\n",
              "      <td>all of which is irrelevant to whether or not A...</td>\n",
              "      <td>worldnews</td>\n",
              "      <td>1</td>\n",
              "      <td>yes</td>\n",
              "    </tr>\n",
              "    <tr>\n",
              "      <th>144141</th>\n",
              "      <td>The fact we are arming \"rebels\" linked to AQ i...</td>\n",
              "      <td>worldnews</td>\n",
              "      <td>-1</td>\n",
              "      <td>yes</td>\n",
              "    </tr>\n",
              "    <tr>\n",
              "      <th>144142</th>\n",
              "      <td>Whilst knowing that what they were doing was i...</td>\n",
              "      <td>worldnews</td>\n",
              "      <td>1</td>\n",
              "      <td>yes</td>\n",
              "    </tr>\n",
              "    <tr>\n",
              "      <th>144143</th>\n",
              "      <td>If she's already agreed to step down, isn't th...</td>\n",
              "      <td>worldnews</td>\n",
              "      <td>2</td>\n",
              "      <td>yes</td>\n",
              "    </tr>\n",
              "    <tr>\n",
              "      <th>144144</th>\n",
              "      <td>Were those who boycotted South Africa and only...</td>\n",
              "      <td>worldnews</td>\n",
              "      <td>1</td>\n",
              "      <td>yes</td>\n",
              "    </tr>\n",
              "  </tbody>\n",
              "</table>\n",
              "</div>"
            ],
            "text/plain": [
              "                                                  comment  ... sarcasm\n",
              "144140  all of which is irrelevant to whether or not A...  ...     yes\n",
              "144141  The fact we are arming \"rebels\" linked to AQ i...  ...     yes\n",
              "144142  Whilst knowing that what they were doing was i...  ...     yes\n",
              "144143  If she's already agreed to step down, isn't th...  ...     yes\n",
              "144144  Were those who boycotted South Africa and only...  ...     yes\n",
              "\n",
              "[5 rows x 4 columns]"
            ]
          },
          "metadata": {
            "tags": []
          },
          "execution_count": 21
        }
      ]
    },
    {
      "cell_type": "code",
      "metadata": {
        "colab": {
          "base_uri": "https://localhost:8080/"
        },
        "id": "E658E-6bsdHx",
        "outputId": "075ea857-f204-4c7c-c5e9-10c3bb57ddfc"
      },
      "source": [
        "train_comment_W,test_comment_W, train_sarcasm_W, test_sarcasm_W = train_test_split(datosWorld[\"comment\"], \n",
        "                                                                    datosWorld[\"sarcasm\"],\n",
        "                                                                    test_size=.33, random_state=37,\n",
        "                                                                    stratify=datosWorld[\"sarcasm\"])\n",
        "\n",
        "print(f\"Training examples: {len(train_comment_W)}, testing examples {len(test_comment_W)}\")"
      ],
      "execution_count": null,
      "outputs": [
        {
          "output_type": "stream",
          "text": [
            "Training examples: 34362, testing examples 16926\n"
          ],
          "name": "stdout"
        }
      ]
    },
    {
      "cell_type": "code",
      "metadata": {
        "colab": {
          "base_uri": "https://localhost:8080/"
        },
        "id": "qCAbeh1KsdHy",
        "outputId": "d6aaee23-102a-451d-f938-78220658dd9f"
      },
      "source": [
        "real_vectorizer = CountVectorizer(tokenizer = tokenize, binary=True)\n",
        "\n",
        "train_X_W = real_vectorizer.fit_transform(train_comment_W)\n",
        "test_X_W = real_vectorizer.transform(test_comment_W)\n",
        "\n",
        "train_X_W.shape"
      ],
      "execution_count": null,
      "outputs": [
        {
          "output_type": "execute_result",
          "data": {
            "text/plain": [
              "(34362, 35032)"
            ]
          },
          "metadata": {
            "tags": []
          },
          "execution_count": 23
        }
      ]
    },
    {
      "cell_type": "markdown",
      "metadata": {
        "id": "B6YRcR44sdHy"
      },
      "source": [
        "### **Usando Decision Tree**"
      ]
    },
    {
      "cell_type": "code",
      "metadata": {
        "colab": {
          "base_uri": "https://localhost:8080/"
        },
        "id": "WQFZ3_tisdHy",
        "outputId": "afd0bab2-e7c6-4609-fb52-d742d3de5521"
      },
      "source": [
        "classifier_Tree_W = DecisionTreeClassifier()\n",
        "classifier_Tree_W.fit(train_X_W, train_sarcasm_W)"
      ],
      "execution_count": null,
      "outputs": [
        {
          "output_type": "execute_result",
          "data": {
            "text/plain": [
              "DecisionTreeClassifier(ccp_alpha=0.0, class_weight=None, criterion='gini',\n",
              "                       max_depth=None, max_features=None, max_leaf_nodes=None,\n",
              "                       min_impurity_decrease=0.0, min_impurity_split=None,\n",
              "                       min_samples_leaf=1, min_samples_split=2,\n",
              "                       min_weight_fraction_leaf=0.0, presort='deprecated',\n",
              "                       random_state=None, splitter='best')"
            ]
          },
          "metadata": {
            "tags": []
          },
          "execution_count": 24
        }
      ]
    },
    {
      "cell_type": "code",
      "metadata": {
        "colab": {
          "base_uri": "https://localhost:8080/"
        },
        "id": "W4pMpkTusdHz",
        "outputId": "42feb584-8c46-4a6d-833c-e7c5878c0026"
      },
      "source": [
        "predicciones_Tree_W = classifier_Tree_W.predict(test_X_W)\n",
        "print(classification_report(test_sarcasm_W, predicciones_Tree_W))"
      ],
      "execution_count": null,
      "outputs": [
        {
          "output_type": "stream",
          "text": [
            "              precision    recall  f1-score   support\n",
            "\n",
            "          no       0.72      0.67      0.69      8221\n",
            "         yes       0.71      0.76      0.73      8705\n",
            "\n",
            "    accuracy                           0.71     16926\n",
            "   macro avg       0.71      0.71      0.71     16926\n",
            "weighted avg       0.71      0.71      0.71     16926\n",
            "\n"
          ],
          "name": "stdout"
        }
      ]
    },
    {
      "cell_type": "markdown",
      "metadata": {
        "id": "pX5ThMev9C6s"
      },
      "source": [
        "### **Usando SVC**"
      ]
    },
    {
      "cell_type": "code",
      "metadata": {
        "id": "NtIf0Cbx9DFD",
        "colab": {
          "base_uri": "https://localhost:8080/"
        },
        "outputId": "75d664fa-05b8-462f-b458-ea3dd547d384"
      },
      "source": [
        "classifier_Svc_W = SVC(max_iter=300000)\n",
        "classifier_Svc_W.fit(train_X_W, train_sarcasm_W)"
      ],
      "execution_count": null,
      "outputs": [
        {
          "output_type": "execute_result",
          "data": {
            "text/plain": [
              "SVC(C=1.0, break_ties=False, cache_size=200, class_weight=None, coef0=0.0,\n",
              "    decision_function_shape='ovr', degree=3, gamma='scale', kernel='rbf',\n",
              "    max_iter=300000, probability=False, random_state=None, shrinking=True,\n",
              "    tol=0.001, verbose=False)"
            ]
          },
          "metadata": {
            "tags": []
          },
          "execution_count": 34
        }
      ]
    },
    {
      "cell_type": "code",
      "metadata": {
        "id": "zh3lBx5z9DIh",
        "colab": {
          "base_uri": "https://localhost:8080/"
        },
        "outputId": "ae09cdbd-71e1-4ef8-c6c0-52705bf6a4ac"
      },
      "source": [
        "predicciones_Svc_W = classifier_Svc_W.predict(test_X_W)\n",
        "print(classification_report(test_sarcasm_W, predicciones_Svc_W))"
      ],
      "execution_count": null,
      "outputs": [
        {
          "output_type": "stream",
          "text": [
            "              precision    recall  f1-score   support\n",
            "\n",
            "          no       0.88      0.69      0.78      8221\n",
            "         yes       0.76      0.91      0.83      8705\n",
            "\n",
            "    accuracy                           0.81     16926\n",
            "   macro avg       0.82      0.80      0.80     16926\n",
            "weighted avg       0.82      0.81      0.80     16926\n",
            "\n"
          ],
          "name": "stdout"
        }
      ]
    },
    {
      "cell_type": "markdown",
      "metadata": {
        "id": "scb4tK_AsdHz"
      },
      "source": [
        "### **Usando LinearSvc**"
      ]
    },
    {
      "cell_type": "code",
      "metadata": {
        "id": "ufjn1d0JsdHz",
        "colab": {
          "base_uri": "https://localhost:8080/"
        },
        "outputId": "e87a349f-c296-4b85-f7fb-b13fe29f0cb9"
      },
      "source": [
        "classifier_LSvc_W = LinearSVC(max_iter=300000)\n",
        "classifier_LSvc_W.fit(train_X_W, train_sarcasm_W)"
      ],
      "execution_count": null,
      "outputs": [
        {
          "output_type": "execute_result",
          "data": {
            "text/plain": [
              "LinearSVC(C=1.0, class_weight=None, dual=True, fit_intercept=True,\n",
              "          intercept_scaling=1, loss='squared_hinge', max_iter=300000,\n",
              "          multi_class='ovr', penalty='l2', random_state=None, tol=0.0001,\n",
              "          verbose=0)"
            ]
          },
          "metadata": {
            "tags": []
          },
          "execution_count": 26
        }
      ]
    },
    {
      "cell_type": "code",
      "metadata": {
        "id": "TaWqqZ2ysdHz",
        "colab": {
          "base_uri": "https://localhost:8080/"
        },
        "outputId": "726aecba-b926-4456-fae7-a20a93f9e6f8"
      },
      "source": [
        "predicciones_LSvc_W = classifier_LSvc_W.predict(test_X_W)\n",
        "print(classification_report(test_sarcasm_W, predicciones_LSvc_W))"
      ],
      "execution_count": null,
      "outputs": [
        {
          "output_type": "stream",
          "text": [
            "              precision    recall  f1-score   support\n",
            "\n",
            "          no       0.81      0.74      0.78      8221\n",
            "         yes       0.78      0.84      0.81      8705\n",
            "\n",
            "    accuracy                           0.79     16926\n",
            "   macro avg       0.79      0.79      0.79     16926\n",
            "weighted avg       0.79      0.79      0.79     16926\n",
            "\n"
          ],
          "name": "stdout"
        }
      ]
    },
    {
      "cell_type": "markdown",
      "metadata": {
        "id": "retuyqwC0qki"
      },
      "source": [
        "### **Usando KNN**"
      ]
    },
    {
      "cell_type": "code",
      "metadata": {
        "id": "EwC8yjOT0qlA",
        "colab": {
          "base_uri": "https://localhost:8080/"
        },
        "outputId": "ecb9a686-c5e3-4120-ed97-b931431d7f17"
      },
      "source": [
        "classifier_KNN_W = KNeighborsClassifier(n_neighbors=10)\n",
        "classifier_KNN_W.fit(train_X_W, train_sarcasm_W)"
      ],
      "execution_count": null,
      "outputs": [
        {
          "output_type": "execute_result",
          "data": {
            "text/plain": [
              "KNeighborsClassifier(algorithm='auto', leaf_size=30, metric='minkowski',\n",
              "                     metric_params=None, n_jobs=None, n_neighbors=10, p=2,\n",
              "                     weights='uniform')"
            ]
          },
          "metadata": {
            "tags": []
          },
          "execution_count": 28
        }
      ]
    },
    {
      "cell_type": "code",
      "metadata": {
        "id": "9J32jvFf0qlC",
        "colab": {
          "base_uri": "https://localhost:8080/"
        },
        "outputId": "d80d7f9b-316a-4e65-ce8a-7b4c9a812556"
      },
      "source": [
        "predicciones_KNN_W = classifier_KNN_W.predict(test_X_W)\n",
        "print(classification_report(test_sarcasm_W, predicciones_KNN_W))"
      ],
      "execution_count": null,
      "outputs": [
        {
          "output_type": "stream",
          "text": [
            "              precision    recall  f1-score   support\n",
            "\n",
            "          no       0.94      0.14      0.25      8221\n",
            "         yes       0.55      0.99      0.71      8705\n",
            "\n",
            "    accuracy                           0.58     16926\n",
            "   macro avg       0.74      0.57      0.48     16926\n",
            "weighted avg       0.74      0.58      0.48     16926\n",
            "\n"
          ],
          "name": "stdout"
        }
      ]
    },
    {
      "cell_type": "markdown",
      "metadata": {
        "id": "gEE2achd0qlD"
      },
      "source": [
        "### **Usando Dummy**"
      ]
    },
    {
      "cell_type": "code",
      "metadata": {
        "id": "1qDl0IbH0qlE",
        "colab": {
          "base_uri": "https://localhost:8080/"
        },
        "outputId": "7a6fd6db-31de-48ba-f84c-f2eec37d11cb"
      },
      "source": [
        "classifier_DummyClassifier_W = DummyClassifier()\n",
        "classifier_DummyClassifier_W.fit(train_X_W, train_sarcasm_W)"
      ],
      "execution_count": null,
      "outputs": [
        {
          "output_type": "stream",
          "text": [
            "/usr/local/lib/python3.7/dist-packages/sklearn/dummy.py:132: FutureWarning: The default value of strategy will change from stratified to prior in 0.24.\n",
            "  \"stratified to prior in 0.24.\", FutureWarning)\n"
          ],
          "name": "stderr"
        },
        {
          "output_type": "execute_result",
          "data": {
            "text/plain": [
              "DummyClassifier(constant=None, random_state=None, strategy='warn')"
            ]
          },
          "metadata": {
            "tags": []
          },
          "execution_count": 30
        }
      ]
    },
    {
      "cell_type": "code",
      "metadata": {
        "id": "12xfSkO20qlE",
        "colab": {
          "base_uri": "https://localhost:8080/"
        },
        "outputId": "0b618903-6e6c-4f62-d170-2347105b9771"
      },
      "source": [
        "predicciones_DummyClassifier_W = classifier_DummyClassifier_W.predict(test_X_W)\n",
        "print(classification_report(test_sarcasm_W, predicciones_DummyClassifier_W))"
      ],
      "execution_count": null,
      "outputs": [
        {
          "output_type": "stream",
          "text": [
            "              precision    recall  f1-score   support\n",
            "\n",
            "          no       0.48      0.48      0.48      8221\n",
            "         yes       0.51      0.51      0.51      8705\n",
            "\n",
            "    accuracy                           0.50     16926\n",
            "   macro avg       0.50      0.50      0.50     16926\n",
            "weighted avg       0.50      0.50      0.50     16926\n",
            "\n"
          ],
          "name": "stdout"
        }
      ]
    },
    {
      "cell_type": "markdown",
      "metadata": {
        "id": "pTCVS7tOMCxW"
      },
      "source": [
        "## **Conclusiones Experimento 1**\n",
        "\n",
        "A partir de los resultados obtenidos de los 5 clasificadores aplicados en ambos subreddits, se puede concluir que el mejor clasificador para este experimento es el **Support Vector Machine Classifier (SVc)**. \n",
        "\n",
        "Para el clasificador entrenado sobre el subreddit **r/askreddit**, se obtuvieron las siguientes métricas:\n",
        "\n",
        "*   Precision: 0.81\n",
        "*   Recall: 0.98\n",
        "*   F1-score: 0.89 (mayor valor)\n",
        "*   Accuracy: 0.82 (mayor valor)\n",
        "\n",
        "\n",
        "Como se puede notar, este clasificador presentó el *F1-score* y el *accuracy* más alto de entre todos los otros clasificadores, mientras que el precision y el recall sólo fueron superados en desempeño por el **LinearSVC** y el **KNN**, respectivamente. Es decir, a pesar de no presentar el mayor valor en *precision* y *recall* sigue encontrándose dentro de los valores más altos. \n",
        "\n",
        "Para el clasificador entrenado sobre **r/worldnews** se obtuvieron las siguientes métricas:\n",
        "\n",
        "*   Precision: 0.76\n",
        "*   Recall: 0.91\n",
        "*   F1-score: 0.83 (mayor valor)\n",
        "*   Accuracy: 0.81 (mayor valor)\n",
        "\n",
        "\n",
        "Nuevamente se tiene que el **SVC** presenta el mejor *F1-score* y *accuracy*, siendo superado en *precision* y *recall* por el **LinearSVC** y el **KNN**, de manera similar al clasificador anterior. \n",
        "\n",
        "Por otro lado, los clasificadores **KNN** y en especial **Dummy** obtuvieron los peores desempeños al predecir comentarios sarcásticos. En el caso del clasificador **Dummy** esto podría deberse a que su algoritmo se basa en la probabilidad y distribución de la clase que se quiere predecir, lo cuál explicaría su bajo desempeño en el subreddit **r/worldnews**, que contiene la cantidad más balanceada de comentarios sarcásticos y no sarcásticos.\n",
        " \n",
        "Es importante también comentar que el clasificador **Support Vector Machine Classifier (SVc)** tuvo un tiempo de entrenamiento notablemente alto en comparación con su equivalente lineal **Linear Support Vector Machine Classifier (LinnearSVc)**, el cuál obtuvo un desempeño bastante similar. Sin embargo, el aumento de *accuracy* es muy bajo, concluyendo que esta leve diferencia no justifica el gran tiempo invertido de cómputo para su entrenamiento."
      ]
    },
    {
      "cell_type": "markdown",
      "metadata": {
        "id": "Xf-7vSZ0Iazc"
      },
      "source": [
        "# **Experimento 2: Validación Cruzada**\n",
        "\n",
        "A partir de los resultados obtenidos en el experimento anterior, se tiene que el tipo de clasificador que presenta el mejor desempeño con un tiempo razonable de entrenameinto es el *Linear Support Vector Machine Classifier*. Dado esto, se procede a entrenar un clasificador para cada subredit con este mismo método, para posteriormente probar cada clasificador con los datos de todos los demás subreddits."
      ]
    },
    {
      "cell_type": "code",
      "metadata": {
        "id": "CAElJ6GW5ApA"
      },
      "source": [
        "# Se obtienen datos correspondientes a cada subreddit:\n",
        "\n",
        "datosPolitics = yes_or_no[yes_or_no['subreddit']==\"politics\"]\n",
        "datosWorldNews = yes_or_no[yes_or_no['subreddit']==\"worldnews\"]\n",
        "datosAskReddit = yes_or_no[yes_or_no['subreddit']==\"AskReddit\"]\n",
        "datosLOL = yes_or_no[yes_or_no['subreddit']==\"leagueoflegends\"]\n",
        "datosFunny = yes_or_no[yes_or_no['subreddit']==\"funny\"]"
      ],
      "execution_count": null,
      "outputs": []
    },
    {
      "cell_type": "markdown",
      "metadata": {
        "id": "twKU_vocbisb"
      },
      "source": [
        "## **Particiones de training y testing**\n"
      ]
    },
    {
      "cell_type": "code",
      "metadata": {
        "colab": {
          "base_uri": "https://localhost:8080/"
        },
        "id": "KRBhp-7bbWcF",
        "outputId": "a564a144-b20a-429c-b8ae-f15f383b3f26"
      },
      "source": [
        "# Partición para r/politics:\n",
        "train_comment_P,test_comment_P, train_sarcasm_P, test_sarcasm_P = train_test_split(datosPolitics[\"comment\"], \n",
        "                                                                    datosPolitics[\"sarcasm\"],\n",
        "                                                                    test_size=.33, random_state=37,\n",
        "                                                                    stratify=datosPolitics[\"sarcasm\"])\n",
        "\n",
        "print(f\"Training examples: {len(train_comment_P)}, testing examples {len(test_comment_P)}\")"
      ],
      "execution_count": null,
      "outputs": [
        {
          "output_type": "stream",
          "text": [
            "Training examples: 43142, testing examples 21250\n"
          ],
          "name": "stdout"
        }
      ]
    },
    {
      "cell_type": "code",
      "metadata": {
        "colab": {
          "base_uri": "https://localhost:8080/"
        },
        "id": "5a6xJHONE9Fg",
        "outputId": "f94fe550-07e6-4bbf-9c70-fe9e2abb6cfc"
      },
      "source": [
        "# Partición para r/worldnews:\n",
        "train_comment_W,test_comment_W, train_sarcasm_W, test_sarcasm_W = train_test_split(datosWorldNews[\"comment\"], \n",
        "                                                                    datosWorldNews[\"sarcasm\"],\n",
        "                                                                    test_size=.33, random_state=37,\n",
        "                                                                    stratify=datosWorldNews[\"sarcasm\"])\n",
        "\n",
        "print(f\"Training examples: {len(train_comment_W)}, testing examples {len(test_comment_W)}\")"
      ],
      "execution_count": null,
      "outputs": [
        {
          "output_type": "stream",
          "text": [
            "Training examples: 34362, testing examples 16926\n"
          ],
          "name": "stdout"
        }
      ]
    },
    {
      "cell_type": "code",
      "metadata": {
        "colab": {
          "base_uri": "https://localhost:8080/"
        },
        "id": "FqrjMfQDbYQ1",
        "outputId": "46eb7cd7-20bf-4255-dcd6-76925d0960c4"
      },
      "source": [
        "# Partición para r/AskReddit:\n",
        "train_comment_A,test_comment_A, train_sarcasm_A, test_sarcasm_A = train_test_split(datosAskReddit[\"comment\"], \n",
        "                                                                    datosAskReddit[\"sarcasm\"],\n",
        "                                                                    test_size=.33, random_state=37,\n",
        "                                                                    stratify=datosAskReddit[\"sarcasm\"])\n",
        "\n",
        "print(f\"Training examples: {len(train_comment_A)}, testing examples {len(test_comment_A)}\")"
      ],
      "execution_count": null,
      "outputs": [
        {
          "output_type": "stream",
          "text": [
            "Training examples: 60740, testing examples 29918\n"
          ],
          "name": "stdout"
        }
      ]
    },
    {
      "cell_type": "code",
      "metadata": {
        "colab": {
          "base_uri": "https://localhost:8080/"
        },
        "id": "i5wR0cvlbX9a",
        "outputId": "785e8f8c-a347-466f-c02a-141d46baa6ca"
      },
      "source": [
        "# Partición para r/leagueoflegends:\n",
        "train_comment_L,test_comment_L, train_sarcasm_L, test_sarcasm_L = train_test_split(datosLOL[\"comment\"], \n",
        "                                                                    datosLOL[\"sarcasm\"],\n",
        "                                                                    test_size=.33, random_state=37,\n",
        "                                                                    stratify=datosLOL[\"sarcasm\"])\n",
        "\n",
        "print(f\"Training examples: {len(train_comment_L)}, testing examples {len(test_comment_L)}\")"
      ],
      "execution_count": null,
      "outputs": [
        {
          "output_type": "stream",
          "text": [
            "Training examples: 30805, testing examples 15174\n"
          ],
          "name": "stdout"
        }
      ]
    },
    {
      "cell_type": "code",
      "metadata": {
        "colab": {
          "base_uri": "https://localhost:8080/"
        },
        "id": "99xORySMbYHP",
        "outputId": "5ccd817f-e138-4c28-f927-8ddd381d22bd"
      },
      "source": [
        "# Partición para r/funny:\n",
        "train_comment_F,test_comment_F, train_sarcasm_F, test_sarcasm_F = train_test_split(datosFunny[\"comment\"], \n",
        "                                                                    datosFunny[\"sarcasm\"],\n",
        "                                                                    test_size=.33, random_state=37,\n",
        "                                                                    stratify=datosFunny[\"sarcasm\"])\n",
        "\n",
        "print(f\"Training examples: {len(train_comment_F)}, testing examples {len(test_comment_F)}\")"
      ],
      "execution_count": null,
      "outputs": [
        {
          "output_type": "stream",
          "text": [
            "Training examples: 28743, testing examples 14158\n"
          ],
          "name": "stdout"
        }
      ]
    },
    {
      "cell_type": "markdown",
      "metadata": {
        "id": "FxoVQ5FPb0Y7"
      },
      "source": [
        "## **Tamaños de las particiones de cada subreddit**"
      ]
    },
    {
      "cell_type": "code",
      "metadata": {
        "colab": {
          "base_uri": "https://localhost:8080/"
        },
        "id": "8zD341gnb88j",
        "outputId": "e4fc9983-4be1-4cb1-f897-1464a28e4814"
      },
      "source": [
        "# Tamaño de r/politics:\n",
        "tamaño_P = train_comment_P.shape[0]\n",
        "tamaño_P2 = test_comment_P.shape[0]\n",
        "\n",
        "tamaño_P"
      ],
      "execution_count": null,
      "outputs": [
        {
          "output_type": "execute_result",
          "data": {
            "text/plain": [
              "43142"
            ]
          },
          "metadata": {
            "tags": []
          },
          "execution_count": 39
        }
      ]
    },
    {
      "cell_type": "code",
      "metadata": {
        "colab": {
          "base_uri": "https://localhost:8080/"
        },
        "id": "roS3GOAKb2lE",
        "outputId": "7971a778-aa08-4148-8dbd-f6d622bb6c8b"
      },
      "source": [
        "# Tamaño de r/worldnews:\n",
        "tamaño_W = train_comment_W.shape[0]\n",
        "tamaño_W2 = test_comment_W.shape[0]\n",
        "\n",
        "tamaño_W"
      ],
      "execution_count": null,
      "outputs": [
        {
          "output_type": "execute_result",
          "data": {
            "text/plain": [
              "34362"
            ]
          },
          "metadata": {
            "tags": []
          },
          "execution_count": 40
        }
      ]
    },
    {
      "cell_type": "code",
      "metadata": {
        "colab": {
          "base_uri": "https://localhost:8080/"
        },
        "id": "jMxAHykKcGPe",
        "outputId": "61e9f1ae-eb58-4523-a753-a361277b3a11"
      },
      "source": [
        "# Tamaño de r/AskReddit\n",
        "tamaño_A = train_comment_A.shape[0]\n",
        "tamaño_A2 = test_comment_A.shape[0]\n",
        "\n",
        "tamaño_A"
      ],
      "execution_count": null,
      "outputs": [
        {
          "output_type": "execute_result",
          "data": {
            "text/plain": [
              "60740"
            ]
          },
          "metadata": {
            "tags": []
          },
          "execution_count": 41
        }
      ]
    },
    {
      "cell_type": "code",
      "metadata": {
        "colab": {
          "base_uri": "https://localhost:8080/"
        },
        "id": "dyKEU4wQcAE7",
        "outputId": "687f0fc3-5e31-462b-e4e9-0d9b08c5e93f"
      },
      "source": [
        "# Tamaño de r/leagueoflegends:\n",
        "tamaño_L = train_comment_L.shape[0]\n",
        "tamaño_L2 = test_comment_L.shape[0]\n",
        "\n",
        "tamaño_L"
      ],
      "execution_count": null,
      "outputs": [
        {
          "output_type": "execute_result",
          "data": {
            "text/plain": [
              "30805"
            ]
          },
          "metadata": {
            "tags": []
          },
          "execution_count": 42
        }
      ]
    },
    {
      "cell_type": "code",
      "metadata": {
        "colab": {
          "base_uri": "https://localhost:8080/"
        },
        "id": "vJ3ro2CacDoT",
        "outputId": "163473eb-e2bc-4d20-ccfc-724aa2130be9"
      },
      "source": [
        "# Tamaño de r/funny:\n",
        "tamaño_F = train_comment_F.shape[0]\n",
        "tamaño_F2 = test_comment_F.shape[0]\n",
        "\n",
        "tamaño_F"
      ],
      "execution_count": null,
      "outputs": [
        {
          "output_type": "execute_result",
          "data": {
            "text/plain": [
              "28743"
            ]
          },
          "metadata": {
            "tags": []
          },
          "execution_count": 43
        }
      ]
    },
    {
      "cell_type": "markdown",
      "metadata": {
        "id": "N7A-C7TrcN2_"
      },
      "source": [
        "## **Fusión de los grupos de training y vectorización**\n",
        "\n",
        "Recordemos que el método de Vectorización crea una matriz de valores dependiendo de los tokens únicos de los elementos del dataset. Eso lleva a que vectorizaciones de grupos distintos de un mismo dataset no necesariamente sean compatibles, ya que pueden existir palabras en un grupo del dataset que no existen en el otro y viceversa, haciendo inútil una vectorización y un entrenamiento sobre distintos grupos de vectorización.\n",
        "\n",
        "Por lo explicado anteriormente, es necesario concatenar todas las particiones de training y generar una única matriz de vectorización, para evitar errores de ínice y de tokens inexistentes entre grupos de entrenamiento."
      ]
    },
    {
      "cell_type": "code",
      "metadata": {
        "id": "glA2cBbvcOIN"
      },
      "source": [
        "real_vectorizer = CountVectorizer(tokenizer = tokenize, binary=True)\n",
        "training_partition = pd.concat([train_comment_P,train_comment_W,train_comment_A,train_comment_L,train_comment_F])\n",
        "trains_x_PWALF=real_vectorizer.fit_transform(training_partition)\n",
        "\n",
        "testing_partition = pd.concat([test_comment_P,test_comment_W,test_comment_A,test_comment_L,test_comment_F])\n",
        "tests_x_PWALF = real_vectorizer.transform(testing_partition)"
      ],
      "execution_count": null,
      "outputs": []
    },
    {
      "cell_type": "markdown",
      "metadata": {
        "id": "MCbnZqRDcrgC"
      },
      "source": [
        "## **Segmentación de los grupos de training y testing**\n",
        "\n",
        "Ya habiendo vectorizado todos los datos de training y testing, podemos proceder a separarlos por subreddit para su posterior entrenamiento y evaluación. Es importante precisar que el órden de los datos antes y después de la vectorización se conserva, por lo que esta segmentación resulta trivial."
      ]
    },
    {
      "cell_type": "code",
      "metadata": {
        "colab": {
          "base_uri": "https://localhost:8080/"
        },
        "id": "HFQCBRWuctMD",
        "outputId": "ae0426a9-eafe-4d5a-d8b9-1a4b183e11a4"
      },
      "source": [
        "train_X_P = trains_x_PWALF[0:tamaño_P,:]\n",
        "train_X_W = trains_x_PWALF[tamaño_P:tamaño_P + tamaño_W,:]\n",
        "train_X_A = trains_x_PWALF[tamaño_P + tamaño_W:tamaño_P + tamaño_W+ tamaño_A,:]\n",
        "train_X_L = trains_x_PWALF[tamaño_P + tamaño_W + tamaño_A:tamaño_P + tamaño_W+ tamaño_A + tamaño_L,:]\n",
        "train_X_F = trains_x_PWALF[tamaño_P + tamaño_W + tamaño_A + tamaño_L:tamaño_P + tamaño_W + tamaño_A + tamaño_L + tamaño_F,:]\n",
        "print(train_X_P.shape)\n",
        "print(train_X_W.shape)\n",
        "print(train_X_A.shape)\n",
        "print(train_X_L.shape)\n",
        "print(train_X_F.shape)"
      ],
      "execution_count": null,
      "outputs": [
        {
          "output_type": "stream",
          "text": [
            "(43142, 84326)\n",
            "(34362, 84326)\n",
            "(60740, 84326)\n",
            "(30805, 84326)\n",
            "(28743, 84326)\n"
          ],
          "name": "stdout"
        }
      ]
    },
    {
      "cell_type": "code",
      "metadata": {
        "colab": {
          "base_uri": "https://localhost:8080/"
        },
        "id": "_U8TM5XTcw-J",
        "outputId": "202b9df5-6eef-4c71-bec9-5c67d19301d0"
      },
      "source": [
        "test_X_P = tests_x_PWALF[0:tamaño_P2,:]\n",
        "test_X_W = tests_x_PWALF[tamaño_P2:tamaño_P2 + tamaño_W2,:]\n",
        "test_X_A = tests_x_PWALF[tamaño_P2 + tamaño_W2:tamaño_P2 + tamaño_W2 + tamaño_A2,:]\n",
        "test_X_L = tests_x_PWALF[tamaño_P2 + tamaño_W2 + tamaño_A2:tamaño_P2 + tamaño_W2 + tamaño_A2 + tamaño_L2,:]\n",
        "test_X_F = tests_x_PWALF[tamaño_P2 + tamaño_W2 + tamaño_A2 + tamaño_L2:tamaño_P2 + tamaño_W2 + tamaño_A2 + tamaño_L2 + tamaño_F2,:]\n",
        "print(test_X_P.shape)\n",
        "print(test_X_W.shape)\n",
        "print(test_X_A.shape)\n",
        "print(test_X_L.shape)\n",
        "print(test_X_F.shape)"
      ],
      "execution_count": null,
      "outputs": [
        {
          "output_type": "stream",
          "text": [
            "(21250, 84326)\n",
            "(16926, 84326)\n",
            "(29918, 84326)\n",
            "(15174, 84326)\n",
            "(14158, 84326)\n"
          ],
          "name": "stdout"
        }
      ]
    },
    {
      "cell_type": "markdown",
      "metadata": {
        "id": "eIyLcgsEc0Q0"
      },
      "source": [
        "## **Entrenamiento de clasificadores**\n",
        "\n",
        "Ya separados correctamente los datos de training, basta proceder a entrenar nuestros clasificadores utilizando el *Linear Support Vector Machine Classifier*."
      ]
    },
    {
      "cell_type": "code",
      "metadata": {
        "id": "kX4Hw9qRVXxL",
        "colab": {
          "base_uri": "https://localhost:8080/"
        },
        "outputId": "e0c4c14b-88f9-4f27-8e70-1d24a217266c"
      },
      "source": [
        "# Accuracy de cada clasificador entrenado con los datos del subreddit correspondiente:\n",
        "\n",
        "train_X = [train_X_P,train_X_W, train_X_A,train_X_L, train_X_F]\n",
        "train_sarcasm = [train_sarcasm_P, train_sarcasm_W, train_sarcasm_A,train_sarcasm_L, train_sarcasm_F]\n",
        "test_X = [test_X_P,test_X_W, test_X_A,test_X_L, test_X_F]\n",
        "test_sarcasm = [test_sarcasm_P,test_sarcasm_W, test_sarcasm_A,test_sarcasm_L, test_sarcasm_F]\n",
        "names = [\"r/politics\",\"r/worldnews\",\"r/AskReddit\",\"r/leagueoflegends\",\"r/funny\"]\n",
        "\n",
        "classifier_LinearSVC = []\n",
        "\n",
        "for i in range(5):\n",
        "  classifier_LSVC = LinearSVC(max_iter=300000)\n",
        "  classifier_LSVC.fit(train_X[i], train_sarcasm[i])\n",
        "  classifier_LinearSVC.append(classifier_LSVC)\n",
        "  predicciones_LSVC = classifier_LSVC.predict(test_X[i])\n",
        "  accuracy_LSVC = accuracy_score(test_sarcasm[i], predicciones_LSVC)\n",
        "  print(f\"Accuracy de {names[i]}: {accuracy_LSVC:.4%}\")"
      ],
      "execution_count": null,
      "outputs": [
        {
          "output_type": "stream",
          "text": [
            "Accuracy de politics: 81.8871%\n",
            "Accuracy de worldnews: 79.2804%\n",
            "Accuracy de askreddit: 80.3764%\n",
            "Accuracy de leagueoflegends: 76.5915%\n",
            "Accuracy de funny: 68.6326%\n"
          ],
          "name": "stdout"
        }
      ]
    },
    {
      "cell_type": "markdown",
      "metadata": {
        "id": "cTdgJ2Iop5cZ"
      },
      "source": [
        "## **Testing por cada subreddit**\n",
        "\n",
        "Ya obtenidos nuestros 5 clasificadores, basta testearlos con los datos de todos los subreddits y observar los resultados."
      ]
    },
    {
      "cell_type": "code",
      "metadata": {
        "id": "CV9yNlJQW96l",
        "colab": {
          "base_uri": "https://localhost:8080/"
        },
        "outputId": "573aaaa4-c5fa-4e95-e9d6-7735c0a46808"
      },
      "source": [
        "# Accuracy de cada clasificador evaluado con datos de testing de cada subreddit:\n",
        "\n",
        "accuracy_matrix = [[0,0,0,0,0],[0,0,0,0,0],[0,0,0,0,0],[0,0,0,0,0],[0,0,0,0,0]]\n",
        "\n",
        "for i in range(5):\n",
        "  for j in range(5):\n",
        "    predicciones_LSVC = classifier_LinearSVC[i].predict(test_X[j])\n",
        "    accuracy_LSVC = accuracy_score(test_sarcasm[j], predicciones_LSVC)\n",
        "    accuracy_matrix[i][j]=accuracy_LSVC\n",
        "    print(f\"Accuracy de {names[i]} con datos de {names[j]}: {accuracy_LSVC:.4%}\")"
      ],
      "execution_count": null,
      "outputs": [
        {
          "output_type": "stream",
          "text": [
            "Accuracy de politics con datos de politics: 81.8871%\n",
            "Accuracy de politics con datos de worldnews: 73.8272%\n",
            "Accuracy de politics con datos de askreddit: 76.2685%\n",
            "Accuracy de politics con datos de leagueoflegends: 62.3039%\n",
            "Accuracy de politics con datos de funny: 58.3345%\n",
            "Accuracy de worldnews con datos de politics: 75.8588%\n",
            "Accuracy de worldnews con datos de worldnews: 79.2804%\n",
            "Accuracy de worldnews con datos de askreddit: 73.4575%\n",
            "Accuracy de worldnews con datos de leagueoflegends: 64.3469%\n",
            "Accuracy de worldnews con datos de funny: 59.9520%\n",
            "Accuracy de askreddit con datos de politics: 74.0941%\n",
            "Accuracy de askreddit con datos de worldnews: 69.4139%\n",
            "Accuracy de askreddit con datos de askreddit: 80.3764%\n",
            "Accuracy de askreddit con datos de leagueoflegends: 62.1326%\n",
            "Accuracy de askreddit con datos de funny: 58.1156%\n",
            "Accuracy de leagueoflegends con datos de politics: 70.3059%\n",
            "Accuracy de leagueoflegends con datos de worldnews: 69.8925%\n",
            "Accuracy de leagueoflegends con datos de askreddit: 71.7628%\n",
            "Accuracy de leagueoflegends con datos de leagueoflegends: 76.5915%\n",
            "Accuracy de leagueoflegends con datos de funny: 61.1315%\n",
            "Accuracy de funny con datos de politics: 67.8400%\n",
            "Accuracy de funny con datos de worldnews: 67.0920%\n",
            "Accuracy de funny con datos de askreddit: 66.4683%\n",
            "Accuracy de funny con datos de leagueoflegends: 64.6830%\n",
            "Accuracy de funny con datos de funny: 68.6326%\n"
          ],
          "name": "stdout"
        }
      ]
    },
    {
      "cell_type": "code",
      "metadata": {
        "colab": {
          "base_uri": "https://localhost:8080/"
        },
        "id": "uc0Xl3zPjRCK",
        "outputId": "1abe6115-9d63-4b29-a12c-414d95f84eea"
      },
      "source": [
        "# Matriz de valores de accuracy\n",
        "accuracy_matrix"
      ],
      "execution_count": null,
      "outputs": [
        {
          "output_type": "execute_result",
          "data": {
            "text/plain": [
              "[[0.8188705882352941,\n",
              "  0.7382724802079641,\n",
              "  0.7626846714352564,\n",
              "  0.6230394095162779,\n",
              "  0.5833451052408533],\n",
              " [0.7585882352941177,\n",
              "  0.792803970223325,\n",
              "  0.7345745036432917,\n",
              "  0.6434690918676684,\n",
              "  0.5995197061731883],\n",
              " [0.7409411764705882,\n",
              "  0.6941391941391941,\n",
              "  0.8037636205628719,\n",
              "  0.6213259522868064,\n",
              "  0.5811555304421528],\n",
              " [0.7030588235294117,\n",
              "  0.6989247311827957,\n",
              "  0.7176281837021191,\n",
              "  0.7659153815737446,\n",
              "  0.6113151575081226],\n",
              " [0.6784,\n",
              "  0.6709204773720903,\n",
              "  0.6646834681462664,\n",
              "  0.6468301041254778,\n",
              "  0.6863257522248906]]"
            ]
          },
          "metadata": {
            "tags": []
          },
          "execution_count": 50
        }
      ]
    },
    {
      "cell_type": "code",
      "metadata": {
        "colab": {
          "base_uri": "https://localhost:8080/",
          "height": 372
        },
        "id": "_S4cvAgsk8bc",
        "outputId": "a5d64eef-bbad-4305-a812-2a2cede0d340"
      },
      "source": [
        "# Grafico de matriz de accuracies:\n",
        "\n",
        "import matplotlib.pyplot as plt\n",
        "import matplotlib.gridspec as gridspec\n",
        "\n",
        "labels = ['r/politics','r/worldnews','r/AskReddit','r/leagueoflegends','r/funny']\n",
        "title = 'Matriz de desempeño clasificador-testing'\n",
        "\n",
        "fig, ax = plt.subplots(1,1)\n",
        "plt.imshow(accuracy_matrix, cmap=\"cividis\")\n",
        "plt.colorbar()\n",
        "plt.title(title, fontsize=18)\n",
        "plt.xlabel('Subreddits de testing')\n",
        "plt.ylabel('Subreddits de los clasificadores')\n",
        "ax.set_xticks([0,1,2,3,4])\n",
        "ax.set_yticks([0,1,2,3,4])\n",
        "ax.set_xticklabels(labels)\n",
        "plt.xticks(rotation=90)\n",
        "ax.set_yticklabels(labels)\n",
        "plt.show()"
      ],
      "execution_count": null,
      "outputs": [
        {
          "output_type": "display_data",
          "data": {
            "image/png": "[encoded data removed]",
            "text/plain": [
              "<Figure size 432x288 with 2 Axes>"
            ]
          },
          "metadata": {
            "tags": [],
            "needs_background": "light"
          }
        }
      ]
    },
    {
      "cell_type": "markdown",
      "metadata": {
        "id": "TatTKhSyN0t3"
      },
      "source": [
        "## **Conclusiones Experimento 2**"
      ]
    },
    {
      "cell_type": "markdown",
      "metadata": {
        "id": "EnM3on0Ag9Gc"
      },
      "source": [
        "Como se puede evidenciar en el gráfico obtenido en la sección anterior, la diagonal puede distinguirse y presenta un color mucho más claro que las celdas adyacentes. Esto muestra que los clasificadores entrenados con los datos de un subreddit en específico siempre tienen un mejor desempeño al ser evaluados con datos provenientes de este mismo subreddit.\n",
        "\n",
        "A pesar de esto, se puede evidenciar una atenuación del color a medida que se va bajando en la diagonal. Esto no se debe al azar, ya que en el gráfico los subreddits fueron ordenados bajo un criterio específico: la seriedad del tema abordado. Al principio del gráfico se consideraron subreddits en los cuales se discuten temas serios, como **r/politics** y **r/worldnews**, mientras que al final se ubican los subreddits con temas más relacionados al ocio, como **r/funny** y **r/leagueoflegends**. **r/AskReddit** se ubicó al centro ya que las discusiones presentes en este subreddit abarcan desde conversaciones serias hasta temas más distendidos, por lo que se consideró el mejor candidato para ocupar el punto medio.\n",
        "\n",
        "De esta forma, se puede ver que los clasificadores presentan mejor desempeño en los subreddits serios, mientras que el accuracy disminuye a medida que disminuye la seriedad del tema abordado. Esto puede deberse a varios factores, uno de estos es que en los subreddits serios, un comentario sarcástico o en tono de broma debe ser remarcado como tal para evitar confusiones al momento de discutir un tema, mientras que en un subreddit menos serio donde el diálogo entre los usuarios tiende a ser en tono de broma, no es necesario estar constantemente demarcando el uso de sarcasmo con una \"/s\", por lo que pueden tenerse comentarios sarcásticos o humorísticos sin una etiqueta que los identifiquen como tales, introduciendo ruido en los datos y empeorando el desempeño del clasificador.\n",
        "\n",
        "Con respecto a los datos obtenidos a partir de la validación cruzada, el mejor desempeño al momento de probar clasificadores con datos externos al subreddit de entrenamiento se obtuvo al evaluar comentarios extraidos de **r/AskReddit** en el clasificador entrenado con comentarios de **r/politics**, con un accuracy de un 76.26%.\n",
        "\n",
        "Por el contrario, el peor desempeño al validar de forma cruzada se encontró al evaluar comentarios obtenidos desde **r/funny** en el clasificador entrenado con datos de **r/AskReddit**. En este caso, el accuracy obtenido fue de un 58.11%, el valor más bajo obtenido en este experimento.\n",
        "\n",
        "Claramente se puede distinguir un cuadrado presente en la esquina superior izquierda del gráfico, correspondiente a la validación cruzada llevada a cabo con los tres subreddits más serios: **r/politics**, **r/worldnews** y **r/askreddit**. Este alto desempeño puede explicarse ya que en estos tres subreddits se abarcan temas similares, por lo que el patrón de sarcasmo no debería presentar mayores variaciones entre ellos. \n",
        "\n",
        "Finalmente, se puede notar que la matriz no presenta simetría, ya que las validaciones cruzadas de la parte superior derecha presentan peor desempeño que las de la parte inferior izquierda. Esto puede interpretarse como que como que los clasificadores entrenados con comentarios de subreddits serios no detectan bien los comentarios sarcásticos de subreddits más informales. Sin embargo, no se tiene el caso inverso, ya que los clasificadores entrenados con comentarios de subreddits menos serios logran detectar de cierta forma el patrón de sarcasmo de los subreddits serios. Esto puede deberse a que en los subreddits poco serios existe una mayor variedad de temas abordados, por lo que el patrón de sarcasmo es menos propenso a overfitting y logra abarcar una mayor cantidad de tipos de comentarios sarcásticos.\n"
      ]
    },
    {
      "cell_type": "markdown",
      "metadata": {
        "id": "uJ2lWou4IgMJ"
      },
      "source": [
        "# **Experimento 3: Clustering**\n",
        "\n",
        "A raíz de la parte anterior se puede evidenciar que los datos de **r/AskReddit** y **r/politics** presentan bastante sinergia entre si, concluyéndose que el patrón de sarcasmo es similar en ambos subreddits. Por otra parte, el patrón de sarcasmo presenta mayores diferencias entre los subreddits **r/funny** y **r/AskReddit**. Teniendo estos datos, se busca corroborar qué tanto difiere el patrón de sarcasmo para explicar esta discrepancia en los resultados obtenidos.\n",
        "\n",
        "Para responder a esta interrogante se empleará el clustering, con el fin de poder visualizar de qué forma se agrupan los comentarios de los subreddits obtenidos. Para los dos primeros, se espera obtener pocos clusters que reflejen la similitud en los patrones de sarcasmo en ambos subreddits, mientras que para el segundo par, se espera encontrar una mayor dispersión entre los datos, y por consiguiente un mayor número de clusters."
      ]
    },
    {
      "cell_type": "code",
      "metadata": {
        "id": "25HizBzN4sfh"
      },
      "source": [
        "# Install the library using pip\n",
        "!pip install sentence-transformers"
      ],
      "execution_count": null,
      "outputs": []
    },
    {
      "cell_type": "code",
      "metadata": {
        "id": "tiAQvHgD4UGy"
      },
      "source": [
        "from sklearn.model_selection import train_test_split"
      ],
      "execution_count": null,
      "outputs": []
    },
    {
      "cell_type": "markdown",
      "metadata": {
        "id": "GiDOuN482iYW"
      },
      "source": [
        "## **Dendograma para r/AskReddit + r/politics**\n",
        "\n",
        "Primero se hará clustering con los comentarios obtenidos desde r/AskReddit y r/politics. Como en el experimento 2 se comprobó que el patrón de sarcasmo es bastante similar entre estos dos subreddits, se espera que al hacer clustering con los comentarios se obtenga un bajo número de clusters.\n",
        "\n",
        "Debido a que el número de comentarios es muy elevado y el proceso de clustering es computacionalmente caro, se decidió utilizar solamente una muestra del 10% de los datos de cada subreddit. Para esto se dividieron los datasets de forma similar al proceso de división en grupos de training y testing, para de esta forma conservar la proporción de comentarios sarcásticos y no sarcásticos. "
      ]
    },
    {
      "cell_type": "code",
      "metadata": {
        "id": "3F3ikBNj2hmU"
      },
      "source": [
        "politicsComments=yes_or_no[yes_or_no['subreddit']==\"politics\"]\n",
        "askRedditComments=yes_or_no[yes_or_no['subreddit']==\"AskReddit\"]"
      ],
      "execution_count": null,
      "outputs": []
    },
    {
      "cell_type": "code",
      "metadata": {
        "id": "FDgkQm3l2Vq9",
        "colab": {
          "base_uri": "https://localhost:8080/"
        },
        "outputId": "dc684260-7ce8-4051-9cd4-474a5654afa0"
      },
      "source": [
        "train_comment_P,test_comment_P, train_sarcasm_P, test_sarcasm_P = train_test_split(politicsComments[\"comment\"], \n",
        "                                                                    politicsComments[\"sarcasm\"],\n",
        "                                                                    test_size=.90, random_state=37,\n",
        "                                                                    stratify=politicsComments[\"sarcasm\"])\n",
        "\n",
        "print(f\"Training examples: {len(train_comment_P)}, testing examples {len(test_comment_P)}\")"
      ],
      "execution_count": null,
      "outputs": [
        {
          "output_type": "stream",
          "text": [
            "Training examples: 6439, testing examples 57953\n"
          ],
          "name": "stdout"
        }
      ]
    },
    {
      "cell_type": "code",
      "metadata": {
        "colab": {
          "base_uri": "https://localhost:8080/"
        },
        "id": "bHpF6xse26aX",
        "outputId": "9060e551-a59f-4cb8-9c43-fdddf4163953"
      },
      "source": [
        "train_comment_A,test_comment_A, train_sarcasm_A, test_sarcasm_A = train_test_split(askRedditComments[\"comment\"], \n",
        "                                                                    askRedditComments[\"sarcasm\"],\n",
        "                                                                    test_size=.90, random_state=37,\n",
        "                                                                    stratify=askRedditComments[\"sarcasm\"])\n",
        "\n",
        "print(f\"Training examples: {len(train_comment_A)}, testing examples {len(test_comment_A)}\")"
      ],
      "execution_count": null,
      "outputs": [
        {
          "output_type": "stream",
          "text": [
            "Training examples: 9065, testing examples 81593\n"
          ],
          "name": "stdout"
        }
      ]
    },
    {
      "cell_type": "code",
      "metadata": {
        "colab": {
          "base_uri": "https://localhost:8080/"
        },
        "id": "AJi_MC4C2_LA",
        "outputId": "d743e588-cc45-4342-e159-78087b74ff94"
      },
      "source": [
        "comments = np.concatenate((train_comment_P,train_comment_A),axis=None)\n",
        "print(comments.size)\n",
        "print(comments)"
      ],
      "execution_count": null,
      "outputs": [
        {
          "output_type": "stream",
          "text": [
            "15504\n",
            "['Which law is it that requires you to release your tax returns again?'\n",
            " \"That's thing thing to say if you're from Hawaii... what's the Kenyan way?\"\n",
            " 'SCOTUS would have him deported.' ...\n",
            " \"fuck all your ex's friends, then have a threesome with their parents\"\n",
            " \"So wouldn't folding allow carbon to penetrate the surface?\"\n",
            " \"It still is and I'm surprised it still regularly gets posts on the 1st 3 pages of all despite being a super dead meme format.\"]\n"
          ],
          "name": "stdout"
        }
      ]
    },
    {
      "cell_type": "code",
      "metadata": {
        "id": "I5kHtFo33Ntj"
      },
      "source": [
        "from sentence_transformers import SentenceTransformer\n",
        "from sklearn.cluster import AgglomerativeClustering\n",
        "import numpy as np\n",
        "model = SentenceTransformer('paraphrase-MiniLM-L6-v2')\n",
        "embedder = SentenceTransformer('paraphrase-MiniLM-L6-v2')\n",
        "\n",
        "# Corpus with example sentences\n",
        "corpus = comments\n",
        "corpus_embeddings =  model.encode(corpus, batch_size=64, show_progress_bar=True, convert_to_tensor=True)\n",
        "# Normalize the embeddings to unit length\n",
        "corpus_embeddings = corpus_embeddings /  np.linalg.norm(corpus_embeddings, axis=1, keepdims=True)\n",
        "\n",
        "# Perform kmean clustering\n",
        "clustering_model = AgglomerativeClustering(n_clusters=None, distance_threshold=1.5)\n",
        "clustering_model.fit(corpus_embeddings)\n",
        "cluster_assignment = clustering_model.labels_\n",
        "\n",
        "clustered_sentences = {}\n",
        "for sentence_id, cluster_id in enumerate(cluster_assignment):\n",
        "    if cluster_id not in clustered_sentences:\n",
        "        clustered_sentences[cluster_id] = []\n",
        "\n",
        "    clustered_sentences[cluster_id].append(corpus[sentence_id])\n",
        "\n",
        "for i, cluster in clustered_sentences.items():\n",
        "    print(\"Cluster \", i+1)\n",
        "    print(cluster)\n",
        "    print(\"\")"
      ],
      "execution_count": null,
      "outputs": []
    },
    {
      "cell_type": "code",
      "metadata": {
        "colab": {
          "base_uri": "https://localhost:8080/",
          "height": 287
        },
        "id": "RRw-4J9Z3Tv4",
        "outputId": "0781497c-fd43-4fcd-c881-2a1d2ce628c0"
      },
      "source": [
        "from scipy.cluster.hierarchy import dendrogram, linkage\n",
        "from sklearn.cluster import AgglomerativeClustering\n",
        "import matplotlib.pyplot as plt\n",
        "ward = linkage(corpus_embeddings, method=\"ward\")\n",
        "dendrogram(ward)\n",
        "plt.title(\"Linkage: Ward\")\n",
        "plt.show()"
      ],
      "execution_count": null,
      "outputs": [
        {
          "output_type": "display_data",
          "data": {
            "image/png": "[encoded data removed]",
            "text/plain": [
              "<Figure size 432x288 with 1 Axes>"
            ]
          },
          "metadata": {
            "tags": [],
            "needs_background": "light"
          }
        }
      ]
    },
    {
      "cell_type": "markdown",
      "metadata": {
        "id": "Wu0wQkYnA0QQ"
      },
      "source": [
        "Como se puede evidenciar en el gráfico, el número de clusters obtenidos en las primeras ramificaciones del dendograma es bajo. Además, se puede observar que si se realiza un corte a la altura de 15 se obtienen 2 clusters."
      ]
    },
    {
      "cell_type": "markdown",
      "metadata": {
        "id": "HLIx-N6V3ZsY"
      },
      "source": [
        "## **Dendograma para r/AskReddit + r/funny**\n",
        "\n",
        "Como estos dos subreddits presentaron bajo accuracy al momento de hacer la validación cruzada, se espera que el número de clusters obtenidos sea elevado, ya que se espera que exista mayor diversidad con los patrones de sarcasmo.\n",
        "\n"
      ]
    },
    {
      "cell_type": "code",
      "metadata": {
        "id": "XRlmkh3E3cqd"
      },
      "source": [
        "funnyComments=yes_or_no[yes_or_no['subreddit']==\"funny\"]\n",
        "askRedditComments=yes_or_no[yes_or_no['subreddit']==\"AskReddit\"]"
      ],
      "execution_count": null,
      "outputs": []
    },
    {
      "cell_type": "code",
      "metadata": {
        "colab": {
          "base_uri": "https://localhost:8080/"
        },
        "id": "4XQ4v64i3cys",
        "outputId": "8c60f43e-b499-4de8-f1f4-d698f7941652"
      },
      "source": [
        "train_comment_F,test_comment_F, train_sarcasm_F, test_sarcasm_F = train_test_split(funnyComments[\"comment\"], \n",
        "                                                                    funnyComments[\"sarcasm\"],\n",
        "                                                                    test_size=.90, random_state=37,\n",
        "                                                                    stratify=funnyComments[\"sarcasm\"])\n",
        "\n",
        "print(f\"Training examples: {len(train_comment_F)}, testing examples {len(test_comment_F)}\")"
      ],
      "execution_count": null,
      "outputs": [
        {
          "output_type": "stream",
          "text": [
            "Training examples: 4290, testing examples 38611\n"
          ],
          "name": "stdout"
        }
      ]
    },
    {
      "cell_type": "code",
      "metadata": {
        "colab": {
          "base_uri": "https://localhost:8080/"
        },
        "id": "CA7VWD_i3c7F",
        "outputId": "c8e899ba-098f-43e7-d5df-da2af49eaaea"
      },
      "source": [
        "train_comment_A,test_comment_A, train_sarcasm_A, test_sarcasm_A = train_test_split(askRedditComments[\"comment\"], \n",
        "                                                                    askRedditComments[\"sarcasm\"],\n",
        "                                                                    test_size=.90, random_state=37,\n",
        "                                                                    stratify=askRedditComments[\"sarcasm\"])\n",
        "\n",
        "print(f\"Training examples: {len(train_comment_A)}, testing examples {len(test_comment_A)}\")"
      ],
      "execution_count": null,
      "outputs": [
        {
          "output_type": "stream",
          "text": [
            "Training examples: 9065, testing examples 81593\n"
          ],
          "name": "stdout"
        }
      ]
    },
    {
      "cell_type": "code",
      "metadata": {
        "colab": {
          "base_uri": "https://localhost:8080/"
        },
        "id": "Nsx-D1Tx3dDc",
        "outputId": "a1a6f514-c4ca-43a8-d9d0-d24f27148b27"
      },
      "source": [
        "comments = np.concatenate((train_comment_F,train_comment_A),axis=None)\n",
        "print(comments.size)\n",
        "print(comments)"
      ],
      "execution_count": null,
      "outputs": [
        {
          "output_type": "stream",
          "text": [
            "13355\n",
            "[\"He's already a lovely tenor.\"\n",
            " 'Mine is actually a very dark red, reminiscent of purple'\n",
            " 'Just like there is a huge underground market for alcohol' ...\n",
            " \"fuck all your ex's friends, then have a threesome with their parents\"\n",
            " \"So wouldn't folding allow carbon to penetrate the surface?\"\n",
            " \"It still is and I'm surprised it still regularly gets posts on the 1st 3 pages of all despite being a super dead meme format.\"]\n"
          ],
          "name": "stdout"
        }
      ]
    },
    {
      "cell_type": "code",
      "metadata": {
        "id": "RJrJ4v5g3dI6"
      },
      "source": [
        "from sentence_transformers import SentenceTransformer\n",
        "from sklearn.cluster import AgglomerativeClustering\n",
        "import numpy as np\n",
        "model = SentenceTransformer('paraphrase-MiniLM-L6-v2')\n",
        "embedder = SentenceTransformer('paraphrase-MiniLM-L6-v2')\n",
        "\n",
        "# Corpus with example sentences\n",
        "corpus = comments\n",
        "corpus_embeddings =  model.encode(corpus, batch_size=64, show_progress_bar=True, convert_to_tensor=True)\n",
        "# Normalize the embeddings to unit length\n",
        "corpus_embeddings = corpus_embeddings /  np.linalg.norm(corpus_embeddings, axis=1, keepdims=True)\n",
        "\n",
        "# Perform kmean clustering\n",
        "clustering_model = AgglomerativeClustering(n_clusters=None, distance_threshold=1.5)\n",
        "clustering_model.fit(corpus_embeddings)\n",
        "cluster_assignment = clustering_model.labels_\n",
        "\n",
        "clustered_sentences = {}\n",
        "for sentence_id, cluster_id in enumerate(cluster_assignment):\n",
        "    if cluster_id not in clustered_sentences:\n",
        "        clustered_sentences[cluster_id] = []\n",
        "\n",
        "    clustered_sentences[cluster_id].append(corpus[sentence_id])\n",
        "\n",
        "for i, cluster in clustered_sentences.items():\n",
        "    print(\"Cluster \", i+1)\n",
        "    print(cluster)\n",
        "    print(\"\")"
      ],
      "execution_count": null,
      "outputs": []
    },
    {
      "cell_type": "code",
      "metadata": {
        "colab": {
          "base_uri": "https://localhost:8080/",
          "height": 287
        },
        "id": "9xFblrJm3_qq",
        "outputId": "e7a4a5ff-6b05-4374-a9c7-4803d6660e36"
      },
      "source": [
        "from scipy.cluster.hierarchy import dendrogram, linkage\n",
        "from sklearn.cluster import AgglomerativeClustering\n",
        "import matplotlib.pyplot as plt\n",
        "ward = linkage(corpus_embeddings, method=\"ward\")\n",
        "dendrogram(ward)\n",
        "plt.title(\"Linkage: Ward\")\n",
        "plt.show()"
      ],
      "execution_count": null,
      "outputs": [
        {
          "output_type": "display_data",
          "data": {
            "image/png": "[encoded data removed]",
            "text/plain": [
              "<Figure size 432x288 with 1 Axes>"
            ]
          },
          "metadata": {
            "tags": [],
            "needs_background": "light"
          }
        }
      ]
    },
    {
      "cell_type": "markdown",
      "metadata": {
        "id": "S-VaMaVOBezo"
      },
      "source": [
        "Como se puede ver en el gráfico, existen bastantes clusters distintos. La forma del gráfico contrasta bastante con la obtenida en el gráfico anterior, evidenciando la mayor variedad de patrones en los comentarios analizados."
      ]
    },
    {
      "cell_type": "markdown",
      "metadata": {
        "id": "jbdj4WuRN-6c"
      },
      "source": [
        "## **Conclusiones Experimento 3**\n",
        "\n",
        "Tal como se había previsto en la propuesta experimental y de las conclusiones del experimento 2, los gráficos muestran una notable dispersión de clusters entre subreddits con menos sinergia, mientras que la unión de distintos subreddits con mayor sinergia apreciada en el desempeño cruzado de clasificadores genera menos clusters.\n",
        "\n",
        "Observando el primer dendograma con los subreddits **r/AskReddit** y **r/politics** podemos ver claramente dos patrones marcados y con practicamente nada de ruido. Esto reafirma la idea de que dos subreddits relativamente *serios* preservan los mismos patrones de sarcasmo, lo cuál explicaría que sus clasificadores tengan desempeños tan altos incluso cuando sus datos son cruzados. \n",
        "\n",
        "Por otro lado, al observar el segundo dendograma con los subreddits **r/AskReddit** y **r/funny** se aprecia una gran cantidad de clusters, lo cuál podría indicar que **r/funny** tiene patrones disjuntos a los del subreddit **r/AskReddit**, o que **r/funny** aprecia un gran abanico de patrones de sarcasmo (por la diversidad de comentarios humorísticos presentes en este) en comparacipon a los de **r/AskReddit**. En cualquier caso, esto explicaría el porque el clasificador entrenado en los datos del subreddit **r/AskReddit** tiene un desempeño tan bajo en los datos de testing de **r/funny**.\n",
        "\n"
      ]
    },
    {
      "cell_type": "markdown",
      "metadata": {
        "id": "yjtD9sTK-Dk6"
      },
      "source": [
        "# **Conclusiones finales**\n",
        "\n",
        "Una de las principales conclusiones que se pueden extraer de este proyecto es que efectivamente es posible entrenar clasificadores que detecten el sarcasmo si se posee una base de datos previamente etiquetada, donde el mejor método encontrado es el clasificador **Support Vector Machine**. Lo anterior nos puede dar una idea de la distribución que podrían tomar los comentarios sarcásticos respecto a los no sarcásticos, dado que la técnica utilizada por **SVC** consta en encontrar un hiperplano que divida el dataset.\n",
        "\n",
        "Por otro lado, también se puede concluir que los patrones de sarcasmo no son globales y dependen mucho del contexto en el que son empleados. En concreto, a partir de los resultados se extrae que el sarcasmo es mucho mas fácil de detectar en contextos de discusión seria, como subreddits donde se hablan temas de actualidad y politica, lo cuál podría indicar que los patrones de sarcasmo contrastan bastante en los diálogos formales en comparación a los que no.\n",
        "\n",
        "Finalmente, a lo largo de este proyecto pudimos darnos cuenta de la dificultad y complejidad computacional que requiere la minería de datos de texto. Pese a que logramos encontrar formas de poder trabajar en text-mining, nos topamos con dificultades técnicas en memoria y tiempo de ejecución, o con dificultades de visualización de los datos obtenidos debido a la gran dimensionalidad de los datos. "
      ]
    },
    {
      "cell_type": "markdown",
      "metadata": {
        "id": "c-YGU8zsAJCo"
      },
      "source": [
        "# **Planificación futura**\n",
        "\n",
        "Uno de los objetivos propuestos inicialmente y que por dificultades de tiempo no se pudo implementar fue el entrenamiento de los clasificadores bajo otros parámetros de los comentarios que no involucren la vectorización del texto. Específicamente, existen bastantes componentes en los comentarios que en este caso fueron ignoradas, como el uso de mayúsulcas o de puntuación, las cuales pueden influir en si este puede ser percibido como un comentario sarcástico o no. \n",
        "\n",
        "Otra de las propuestas de mejora a este proyecto es encontrar mejores maneras de entrenar un clasificador basado en texto, mediante la implementación de librerías que permitan un trabajo más eficiente y que permitan un mejor entendimiento del proceso que se está llevando a cabo.\n",
        "\n",
        "Por otro lado, una idea que se propuso al inicio del semestre y no fue llevada a cabo debido a la falta de conocimientos fue el uso de los comentarios padre presentes en el dataset. Originalmente se deseaba determinar si saber el comentario al que se hacía respuesta (el comentario padre) podía ser utilizado para mejorar el desempeño del clasificador, pero dado que no se tenían las herramientas para determinar esto se decidió descartar la idea, por lo que finalmente la presencia de los comentarios padre en el dataset inicial no pudo ser aprovechada."
      ]
    },
    {
      "cell_type": "markdown",
      "metadata": {
        "id": "5qqAJJ0kKPTo"
      },
      "source": [
        "# **Aportes individuales**\n",
        "\n",
        "- Nicolás García: Elaboración de informe, Conclusiones de los experimentos 1, 2 y 3, Conclusiones finales.\n",
        "- Javier Lavados: Realización de experimentos 1, 2 y 3.\n",
        "- José Triviño: Elaboración de informe, Elaboración de presentación, Conclusiones de los experimentos 1, 2 y 3, Conclusiones finales.\n",
        "- Pablo Gutiérrez: Elaboración de informe, Visualización y Conclusiones de experimento 2.\n",
        "- Sebastián Salinas: Realización de experimentos 2 y 3, implementación de librerías externas."
      ]
    }
  ]
}